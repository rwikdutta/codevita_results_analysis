{
 "cells": [
  {
   "cell_type": "code",
   "execution_count": 30,
   "metadata": {
    "collapsed": true
   },
   "outputs": [],
   "source": [
    "import pandas as pd\n",
    "from six.moves import urllib\n",
    "%qtconsole"
   ]
  },
  {
   "cell_type": "code",
   "execution_count": 2,
   "metadata": {
    "collapsed": true
   },
   "outputs": [],
   "source": [
    "from bs4 import BeautifulSoup"
   ]
  },
  {
   "cell_type": "code",
   "execution_count": 23,
   "metadata": {
    "collapsed": true
   },
   "outputs": [],
   "source": [
    "url=r'http://www.programminggeek.in/2016/08/tcs-codevita-2016-round-1-result.html'\n",
    "csv_save_path=r'/mnt/ECFC8291FC8255AC/Datasets/Codevita Results/Codevita_2k16_round1_scrapped.csv'"
   ]
  },
  {
   "cell_type": "code",
   "execution_count": 4,
   "metadata": {
    "collapsed": true
   },
   "outputs": [],
   "source": [
    "html_pg=urllib.request.urlopen(url).read()"
   ]
  },
  {
   "cell_type": "code",
   "execution_count": 5,
   "metadata": {},
   "outputs": [
    {
     "name": "stderr",
     "output_type": "stream",
     "text": [
      "/home/rwikdutta/anaconda3/lib/python3.6/site-packages/bs4/__init__.py:181: UserWarning: No parser was explicitly specified, so I'm using the best available HTML parser for this system (\"lxml\"). This usually isn't a problem, but if you run this code on another system, or in a different virtual environment, it may use a different parser and behave differently.\n",
      "\n",
      "The code that caused this warning is on line 193 of the file /home/rwikdutta/anaconda3/lib/python3.6/runpy.py. To get rid of this warning, change code that looks like this:\n",
      "\n",
      " BeautifulSoup([your markup])\n",
      "\n",
      "to this:\n",
      "\n",
      " BeautifulSoup([your markup], \"lxml\")\n",
      "\n",
      "  markup_type=markup_type))\n"
     ]
    }
   ],
   "source": [
    "soup_wrapper=BeautifulSoup(html_pg)"
   ]
  },
  {
   "cell_type": "code",
   "execution_count": 6,
   "metadata": {
    "collapsed": true
   },
   "outputs": [],
   "source": [
    "soup_wrapper_table_body=soup_wrapper.find(id='post-body-1057866455376367824').tbody"
   ]
  },
  {
   "cell_type": "code",
   "execution_count": 7,
   "metadata": {},
   "outputs": [
    {
     "data": {
      "text/plain": [
       "False"
      ]
     },
     "execution_count": 7,
     "metadata": {},
     "output_type": "execute_result"
    }
   ],
   "source": [
    "soup_wrapper_table_body==None"
   ]
  },
  {
   "cell_type": "code",
   "execution_count": 8,
   "metadata": {},
   "outputs": [
    {
     "data": {
      "text/plain": [
       "'<tbody>\\n <tr class=\"active\">\\n  <td>\\n   1\\n  </td>\\n  <td>\\n   kgeccoders11\\n  </td>\\n  <td>\\n   Soumik Sarkar &amp; Subham Das\\n  </td>\\n  <td>\\n   Kolkata\\n  </td>\\n  <td>\\n   Kalyani Govt. Engg. College, WB\\n  </td>\\n </tr>\\n <tr class=\"success\">\\n  <td>\\n   2\\n  </td>\\n  <td>\\n   CrazyDot\\n  </td>\\n  <td>\\n   Gagan Kumar &amp; Shifona Garg\\n  </td>\\n  <td>\\n   Kolkata\\n  </td>\\n  <td>\\n   IIT \\xad PATNA\\n  </td>\\n </tr>\\n <tr class=\"info\">\\n  <td>\\n   3\\n  </td>\\n  <td>\\n   RRecursion\\n  </td>\\n  <td>\\n   Priyanjit Dey &amp; Sayantan '"
      ]
     },
     "execution_count": 8,
     "metadata": {},
     "output_type": "execute_result"
    }
   ],
   "source": [
    "soup_wrapper_table_body.prettify()[:500]"
   ]
  },
  {
   "cell_type": "code",
   "execution_count": 9,
   "metadata": {
    "collapsed": true
   },
   "outputs": [],
   "source": [
    "#Initializing lists for each columns\n",
    "ranks=[]\n",
    "team_name=[]\n",
    "user_name=[]\n",
    "tcs_region=[]\n",
    "college_name=[]\n"
   ]
  },
  {
   "cell_type": "code",
   "execution_count": 10,
   "metadata": {},
   "outputs": [],
   "source": [
    "for row in soup_wrapper_table_body.findAll('tr'):\n",
    "    cells=row.findAll('td')\n",
    "    if len(cells)==5: #Sanity Check\n",
    "        ranks.append(cells[0].find(text=True))\n",
    "        team_name.append(cells[1].find(text=True))\n",
    "        user_name.append(cells[2].find(text=True))\n",
    "        tcs_region.append(cells[3].find(text=True))\n",
    "        college_name.append(cells[4].find(text=True))\n",
    "    else:\n",
    "        raise IndexError(cells)"
   ]
  },
  {
   "cell_type": "code",
   "execution_count": 11,
   "metadata": {},
   "outputs": [
    {
     "data": {
      "text/plain": [
       "[4150, 4150, 4150, 4150, 4150]"
      ]
     },
     "execution_count": 11,
     "metadata": {},
     "output_type": "execute_result"
    }
   ],
   "source": [
    "[len(ranks),len(team_name),len(user_name),len(tcs_region),len(college_name)]"
   ]
  },
  {
   "cell_type": "code",
   "execution_count": 12,
   "metadata": {
    "collapsed": true
   },
   "outputs": [],
   "source": [
    "df_table=pd.DataFrame({'ranks':ranks,'team_name':team_name,'user_name':user_name,'tcs_region':tcs_region,'college_name':college_name})"
   ]
  },
  {
   "cell_type": "code",
   "execution_count": 13,
   "metadata": {},
   "outputs": [
    {
     "data": {
      "text/html": [
       "<div>\n",
       "<table border=\"1\" class=\"dataframe\">\n",
       "  <thead>\n",
       "    <tr style=\"text-align: right;\">\n",
       "      <th></th>\n",
       "      <th>college_name</th>\n",
       "      <th>ranks</th>\n",
       "      <th>tcs_region</th>\n",
       "      <th>team_name</th>\n",
       "      <th>user_name</th>\n",
       "    </tr>\n",
       "  </thead>\n",
       "  <tbody>\n",
       "    <tr>\n",
       "      <th>count</th>\n",
       "      <td>4133</td>\n",
       "      <td>4149</td>\n",
       "      <td>4150</td>\n",
       "      <td>4150</td>\n",
       "      <td>4150</td>\n",
       "    </tr>\n",
       "    <tr>\n",
       "      <th>unique</th>\n",
       "      <td>786</td>\n",
       "      <td>4149</td>\n",
       "      <td>131</td>\n",
       "      <td>4144</td>\n",
       "      <td>4150</td>\n",
       "    </tr>\n",
       "    <tr>\n",
       "      <th>top</th>\n",
       "      <td>Institute of Engg</td>\n",
       "      <td>3004</td>\n",
       "      <td>Kolkata</td>\n",
       "      <td>Team</td>\n",
       "      <td>Prakhar Srivastava &amp; Mahendra Maurya</td>\n",
       "    </tr>\n",
       "    <tr>\n",
       "      <th>freq</th>\n",
       "      <td>91</td>\n",
       "      <td>1</td>\n",
       "      <td>686</td>\n",
       "      <td>5</td>\n",
       "      <td>1</td>\n",
       "    </tr>\n",
       "  </tbody>\n",
       "</table>\n",
       "</div>"
      ],
      "text/plain": [
       "             college_name ranks tcs_region team_name  \\\n",
       "count                4133  4149       4150      4150   \n",
       "unique                786  4149        131      4144   \n",
       "top     Institute of Engg  3004    Kolkata      Team   \n",
       "freq                   91     1        686         5   \n",
       "\n",
       "                                   user_name  \n",
       "count                                   4150  \n",
       "unique                                  4150  \n",
       "top     Prakhar Srivastava & Mahendra Maurya  \n",
       "freq                                       1  "
      ]
     },
     "execution_count": 13,
     "metadata": {},
     "output_type": "execute_result"
    }
   ],
   "source": [
    "df_table.describe()"
   ]
  },
  {
   "cell_type": "markdown",
   "metadata": {},
   "source": [
    "Missing values in ranks and college name..."
   ]
  },
  {
   "cell_type": "code",
   "execution_count": 17,
   "metadata": {},
   "outputs": [
    {
     "data": {
      "text/html": [
       "<div>\n",
       "<table border=\"1\" class=\"dataframe\">\n",
       "  <thead>\n",
       "    <tr style=\"text-align: right;\">\n",
       "      <th></th>\n",
       "      <th>college_name</th>\n",
       "      <th>ranks</th>\n",
       "      <th>tcs_region</th>\n",
       "      <th>team_name</th>\n",
       "      <th>user_name</th>\n",
       "    </tr>\n",
       "  </thead>\n",
       "  <tbody>\n",
       "    <tr>\n",
       "      <th>318</th>\n",
       "      <td>None</td>\n",
       "      <td>319</td>\n",
       "      <td>Delhi</td>\n",
       "      <td>manas</td>\n",
       "      <td>Manish Sharma &amp; Ashwini Sharma</td>\n",
       "    </tr>\n",
       "    <tr>\n",
       "      <th>615</th>\n",
       "      <td>None</td>\n",
       "      <td>616</td>\n",
       "      <td>Kolkata</td>\n",
       "      <td>Millenium Falcon</td>\n",
       "      <td>Ronit Ray &amp; Shalini Guha</td>\n",
       "    </tr>\n",
       "    <tr>\n",
       "      <th>1197</th>\n",
       "      <td>None</td>\n",
       "      <td>1198</td>\n",
       "      <td>Hyderabad</td>\n",
       "      <td>Code Chefers</td>\n",
       "      <td>Munnangi Priyanka &amp; Kavitha Mupparaju</td>\n",
       "    </tr>\n",
       "    <tr>\n",
       "      <th>1427</th>\n",
       "      <td>None</td>\n",
       "      <td>1428</td>\n",
       "      <td>Ahmedabad</td>\n",
       "      <td>The 2Geeks</td>\n",
       "      <td>Drashti Buch &amp; Heli Patel</td>\n",
       "    </tr>\n",
       "    <tr>\n",
       "      <th>1516</th>\n",
       "      <td>None</td>\n",
       "      <td>1517</td>\n",
       "      <td>Trivandrum</td>\n",
       "      <td>nambeeshan</td>\n",
       "      <td>Muhammedfavas Ck &amp; Bovas K</td>\n",
       "    </tr>\n",
       "    <tr>\n",
       "      <th>1710</th>\n",
       "      <td>None</td>\n",
       "      <td>1711</td>\n",
       "      <td>Ahmedabad</td>\n",
       "      <td>shetansneha</td>\n",
       "      <td>Mevada Girishbhai &amp; Vasani Navinbhai</td>\n",
       "    </tr>\n",
       "    <tr>\n",
       "      <th>1723</th>\n",
       "      <td>None</td>\n",
       "      <td>1724</td>\n",
       "      <td>Ahmedabad</td>\n",
       "      <td>CodeBurns</td>\n",
       "      <td>Hitarth Doctor &amp; Nilay Ankleshwaria</td>\n",
       "    </tr>\n",
       "    <tr>\n",
       "      <th>1808</th>\n",
       "      <td>None</td>\n",
       "      <td>1809</td>\n",
       "      <td>Hyderabad</td>\n",
       "      <td>Lights</td>\n",
       "      <td>Out Amit &amp; Prasannakumar Boddupalli</td>\n",
       "    </tr>\n",
       "    <tr>\n",
       "      <th>1951</th>\n",
       "      <td>None</td>\n",
       "      <td>1952</td>\n",
       "      <td>RVR</td>\n",
       "      <td>triamphants</td>\n",
       "      <td>Narayanaraju Sarikonda &amp; Anisetty Hyderabad</td>\n",
       "    </tr>\n",
       "    <tr>\n",
       "      <th>2195</th>\n",
       "      <td>None</td>\n",
       "      <td>2196</td>\n",
       "      <td>Ahmedabad</td>\n",
       "      <td>vitacrackers10</td>\n",
       "      <td>Parth Patel &amp; Neel Popat</td>\n",
       "    </tr>\n",
       "    <tr>\n",
       "      <th>2225</th>\n",
       "      <td>None</td>\n",
       "      <td>2226</td>\n",
       "      <td>Kolkata</td>\n",
       "      <td>ANONYMOUS123</td>\n",
       "      <td>Soumyarup Routh &amp; Swapnil Mukhopadhyay</td>\n",
       "    </tr>\n",
       "    <tr>\n",
       "      <th>2246</th>\n",
       "      <td>None</td>\n",
       "      <td>2247</td>\n",
       "      <td>Lucknow</td>\n",
       "      <td>ultron4lead</td>\n",
       "      <td>Vaibhav Singh &amp; Saurabh Vishwakarma</td>\n",
       "    </tr>\n",
       "    <tr>\n",
       "      <th>2649</th>\n",
       "      <td>None</td>\n",
       "      <td>2650</td>\n",
       "      <td>Trivandrum</td>\n",
       "      <td>ALCODERO</td>\n",
       "      <td>Alan John &amp; Ros Pattara</td>\n",
       "    </tr>\n",
       "    <tr>\n",
       "      <th>2650</th>\n",
       "      <td>None</td>\n",
       "      <td>2651</td>\n",
       "      <td>Ahmedabad</td>\n",
       "      <td>CODEMK</td>\n",
       "      <td>Kaumil Trivedi &amp; Mit Shah</td>\n",
       "    </tr>\n",
       "    <tr>\n",
       "      <th>3240</th>\n",
       "      <td>None</td>\n",
       "      <td>3241</td>\n",
       "      <td>Ahmedabad</td>\n",
       "      <td>tnt101</td>\n",
       "      <td>Vyas Dipak &amp; Koshti Dipakbhai</td>\n",
       "    </tr>\n",
       "    <tr>\n",
       "      <th>3467</th>\n",
       "      <td>None</td>\n",
       "      <td>3468</td>\n",
       "      <td>TECHNOLOGY</td>\n",
       "      <td>innovative thinking</td>\n",
       "      <td>Sukanya Narravula &amp; Ammineni Hyderabad</td>\n",
       "    </tr>\n",
       "    <tr>\n",
       "      <th>3694</th>\n",
       "      <td>None</td>\n",
       "      <td>3695</td>\n",
       "      <td>Trivandrum</td>\n",
       "      <td>TeamVS62</td>\n",
       "      <td>Vivek Mohan &amp; Shajil K</td>\n",
       "    </tr>\n",
       "  </tbody>\n",
       "</table>\n",
       "</div>"
      ],
      "text/plain": [
       "     college_name ranks  tcs_region            team_name  \\\n",
       "318          None   319       Delhi                manas   \n",
       "615          None   616     Kolkata     Millenium Falcon   \n",
       "1197         None  1198   Hyderabad         Code Chefers   \n",
       "1427         None  1428   Ahmedabad           The 2Geeks   \n",
       "1516         None  1517  Trivandrum           nambeeshan   \n",
       "1710         None  1711   Ahmedabad          shetansneha   \n",
       "1723         None  1724   Ahmedabad            CodeBurns   \n",
       "1808         None  1809   Hyderabad               Lights   \n",
       "1951         None  1952         RVR          triamphants   \n",
       "2195         None  2196   Ahmedabad       vitacrackers10   \n",
       "2225         None  2226     Kolkata         ANONYMOUS123   \n",
       "2246         None  2247     Lucknow          ultron4lead   \n",
       "2649         None  2650  Trivandrum             ALCODERO   \n",
       "2650         None  2651   Ahmedabad               CODEMK   \n",
       "3240         None  3241   Ahmedabad               tnt101   \n",
       "3467         None  3468  TECHNOLOGY  innovative thinking   \n",
       "3694         None  3695  Trivandrum             TeamVS62   \n",
       "\n",
       "                                        user_name  \n",
       "318                Manish Sharma & Ashwini Sharma  \n",
       "615                      Ronit Ray & Shalini Guha  \n",
       "1197        Munnangi Priyanka & Kavitha Mupparaju  \n",
       "1427                    Drashti Buch & Heli Patel  \n",
       "1516                   Muhammedfavas Ck & Bovas K  \n",
       "1710         Mevada Girishbhai & Vasani Navinbhai  \n",
       "1723          Hitarth Doctor & Nilay Ankleshwaria  \n",
       "1808          Out Amit & Prasannakumar Boddupalli  \n",
       "1951  Narayanaraju Sarikonda & Anisetty Hyderabad  \n",
       "2195                     Parth Patel & Neel Popat  \n",
       "2225       Soumyarup Routh & Swapnil Mukhopadhyay  \n",
       "2246          Vaibhav Singh & Saurabh Vishwakarma  \n",
       "2649                      Alan John & Ros Pattara  \n",
       "2650                    Kaumil Trivedi & Mit Shah  \n",
       "3240                Vyas Dipak & Koshti Dipakbhai  \n",
       "3467       Sukanya Narravula & Ammineni Hyderabad  \n",
       "3694                       Vivek Mohan & Shajil K  "
      ]
     },
     "execution_count": 17,
     "metadata": {},
     "output_type": "execute_result"
    }
   ],
   "source": [
    "df_table[pd.isnull(df_table.college_name)]"
   ]
  },
  {
   "cell_type": "code",
   "execution_count": 18,
   "metadata": {},
   "outputs": [
    {
     "data": {
      "text/html": [
       "<div>\n",
       "<table border=\"1\" class=\"dataframe\">\n",
       "  <thead>\n",
       "    <tr style=\"text-align: right;\">\n",
       "      <th></th>\n",
       "      <th>college_name</th>\n",
       "      <th>ranks</th>\n",
       "      <th>tcs_region</th>\n",
       "      <th>team_name</th>\n",
       "      <th>user_name</th>\n",
       "    </tr>\n",
       "  </thead>\n",
       "  <tbody>\n",
       "    <tr>\n",
       "      <th>3377</th>\n",
       "      <td>SASTRA University</td>\n",
       "      <td>None</td>\n",
       "      <td>Chennai</td>\n",
       "      <td>3378 Tweak It Vijay Saayi R</td>\n",
       "      <td>&amp; Siva P</td>\n",
       "    </tr>\n",
       "  </tbody>\n",
       "</table>\n",
       "</div>"
      ],
      "text/plain": [
       "           college_name ranks tcs_region                    team_name  \\\n",
       "3377  SASTRA University  None    Chennai  3378 Tweak It Vijay Saayi R   \n",
       "\n",
       "     user_name  \n",
       "3377  & Siva P  "
      ]
     },
     "execution_count": 18,
     "metadata": {},
     "output_type": "execute_result"
    }
   ],
   "source": [
    "df_table[pd.isnull(df_table.ranks)]"
   ]
  },
  {
   "cell_type": "markdown",
   "metadata": {},
   "source": [
    "On checking the original url, it can be seen that this particular row has the rank wrongly embedded in the team name column...and also a part of the username is embedded in the team name column"
   ]
  },
  {
   "cell_type": "code",
   "execution_count": 19,
   "metadata": {
    "collapsed": true
   },
   "outputs": [],
   "source": [
    "df_table.ranks.loc[3377]=3378"
   ]
  },
  {
   "cell_type": "code",
   "execution_count": 20,
   "metadata": {
    "collapsed": true
   },
   "outputs": [],
   "source": [
    "df_table.team_name.loc[3377]='Tweak It'"
   ]
  },
  {
   "cell_type": "code",
   "execution_count": 21,
   "metadata": {
    "collapsed": true
   },
   "outputs": [],
   "source": [
    "df_table.user_name.loc[3377]='Vijay Saayi R & Siva P'"
   ]
  },
  {
   "cell_type": "code",
   "execution_count": 22,
   "metadata": {},
   "outputs": [
    {
     "data": {
      "text/plain": [
       "college_name         SASTRA University\n",
       "ranks                             3378\n",
       "tcs_region                     Chennai\n",
       "team_name                     Tweak It\n",
       "user_name       Vijay Saayi R & Siva P\n",
       "Name: 3377, dtype: object"
      ]
     },
     "execution_count": 22,
     "metadata": {},
     "output_type": "execute_result"
    }
   ],
   "source": [
    "df_table.loc[3377]"
   ]
  },
  {
   "cell_type": "code",
   "execution_count": 29,
   "metadata": {},
   "outputs": [
    {
     "data": {
      "text/plain": [
       "Kolkata           686\n",
       "Delhi             677\n",
       "Hyderabad         634\n",
       "Mumbai            605\n",
       "Ahmedabad         349\n",
       "Chennai           326\n",
       "Lucknow           259\n",
       "Pune              175\n",
       "Trivandrum        160\n",
       "Bangalore          54\n",
       "Manakula           15\n",
       "Indian              8\n",
       "V.S.B.              7\n",
       "DEENBANDHU          7\n",
       "Institute           5\n",
       "RMK                 5\n",
       "RGUKT               5\n",
       "YMCA                4\n",
       "National            4\n",
       "Haldia              4\n",
       "K.RAMAKRISHNAN      4\n",
       "Cochin              4\n",
       "Meerut              4\n",
       "Fr.                 4\n",
       "SRI                 3\n",
       "Krishna             3\n",
       "Gandhi              3\n",
       "CVR                 3\n",
       "JMIT                3\n",
       "Meenakshi           3\n",
       "Dept                3\n",
       "NETAJI              3\n",
       "Army                3\n",
       "Arya                2\n",
       "Ganesh              2\n",
       "Sri                 2\n",
       "FACULTY             2\n",
       "Maharishi           2\n",
       "G                   2\n",
       "Madan               2\n",
       "VNR                 2\n",
       "Poornima            2\n",
       "Gokaraju            2\n",
       "Bhilai              2\n",
       "Zakir               2\n",
       "Rajalakshmi         2\n",
       "Central             2\n",
       "Techno              2\n",
       "BITS                2\n",
       "IIIT,               2\n",
       "K.                  2\n",
       "Federal             2\n",
       "Anil                2\n",
       "V                   1\n",
       "Oriental            1\n",
       "Bapuji              1\n",
       "Lovely              1\n",
       "Amrita              1\n",
       "K.S.Institute       1\n",
       "Siddaganga          1\n",
       "institution         1\n",
       "GITAM               1\n",
       "Arunai              1\n",
       "Datta               1\n",
       "D.                  1\n",
       "Coimbatore          1\n",
       "Birla               1\n",
       "Dharamsinh          1\n",
       "Ramrao              1\n",
       "Punjabi             1\n",
       "Kamaraj             1\n",
       "Dr.                 1\n",
       "VISHNU              1\n",
       "Biju                1\n",
       "Vel                 1\n",
       "Manav               1\n",
       "Jaipur              1\n",
       "Thiagarajar         1\n",
       "NBKR                1\n",
       "Pondicherry         1\n",
       "Walchand            1\n",
       "Chitkara            1\n",
       "Gayatri             1\n",
       "Don                 1\n",
       "Ambedkar            1\n",
       "JSS                 1\n",
       "Vardhaman           1\n",
       "Bharath             1\n",
       "Bundelkhand         1\n",
       "Rajiv               1\n",
       "Jawaharlal          1\n",
       "Mahatma             1\n",
       "B.M.S.              1\n",
       "College             1\n",
       "Birsa               1\n",
       "Thadomal            1\n",
       "Punjab              1\n",
       "Koneru              1\n",
       "MAR                 1\n",
       "Sree                1\n",
       "J.                  1\n",
       "GNDU,               1\n",
       "SIDDHARTH           1\n",
       "KCG                 1\n",
       "Vivekananda         1\n",
       "Valliammai          1\n",
       "Velammal            1\n",
       "Sahyadri            1\n",
       "Other               1\n",
       "RVR                 1\n",
       "VELAMMAL            1\n",
       "Chaitanya           1\n",
       "Karpagam            1\n",
       "NRI                 1\n",
       "Kakatiya            1\n",
       "ABES                1\n",
       "MANAKULA            1\n",
       "Shri                1\n",
       "SRM                 1\n",
       "COE                 1\n",
       "Ajay                1\n",
       "K.S.R               1\n",
       "Prof.               1\n",
       "vasireddy           1\n",
       "VIT                 1\n",
       "School              1\n",
       "Gudlavalleru        1\n",
       "TECHNOLOGY          1\n",
       "Malnad              1\n",
       "PSG                 1\n",
       "KLN                 1\n",
       "Name: tcs_region, dtype: int64"
      ]
     },
     "execution_count": 29,
     "metadata": {},
     "output_type": "execute_result"
    }
   ],
   "source": [
    "pd.set_option('display.max_rows',200)\n",
    "df_table.tcs_region.value_counts()"
   ]
  },
  {
   "cell_type": "code",
   "execution_count": 24,
   "metadata": {
    "collapsed": true
   },
   "outputs": [],
   "source": [
    "df_table.to_csv(csv_save_path)"
   ]
  },
  {
   "cell_type": "code",
   "execution_count": 28,
   "metadata": {},
   "outputs": [
    {
     "data": {
      "text/html": [
       "<div>\n",
       "<table border=\"1\" class=\"dataframe\">\n",
       "  <thead>\n",
       "    <tr style=\"text-align: right;\">\n",
       "      <th></th>\n",
       "      <th>college_name</th>\n",
       "      <th>ranks</th>\n",
       "      <th>tcs_region</th>\n",
       "      <th>team_name</th>\n",
       "      <th>user_name</th>\n",
       "    </tr>\n",
       "  </thead>\n",
       "  <tbody>\n",
       "    <tr>\n",
       "      <th>366</th>\n",
       "      <td>Instt of Technology, Haldia ­ W.B.</td>\n",
       "      <td>367</td>\n",
       "      <td>Haldia</td>\n",
       "      <td>CodingGurus</td>\n",
       "      <td>Debargha Bhattacharjee &amp; Hariom Kolkata</td>\n",
       "    </tr>\n",
       "    <tr>\n",
       "      <th>1227</th>\n",
       "      <td>Instt of Technology, Haldia ­ W.B.</td>\n",
       "      <td>1228</td>\n",
       "      <td>Haldia</td>\n",
       "      <td>CalmCoders</td>\n",
       "      <td>Himanshu &amp; Uttam Kolkata</td>\n",
       "    </tr>\n",
       "    <tr>\n",
       "      <th>1887</th>\n",
       "      <td>Instt of Technology, Haldia ­ W.B.</td>\n",
       "      <td>1888</td>\n",
       "      <td>Haldia</td>\n",
       "      <td>AngryFool</td>\n",
       "      <td>Md Khan &amp; Nityansh Kolkata</td>\n",
       "    </tr>\n",
       "    <tr>\n",
       "      <th>1993</th>\n",
       "      <td>Instt of Technology, Haldia ­ W.B.</td>\n",
       "      <td>1994</td>\n",
       "      <td>Haldia</td>\n",
       "      <td>base coder</td>\n",
       "      <td>Anita Kumari &amp; Aditi Kolkata</td>\n",
       "    </tr>\n",
       "  </tbody>\n",
       "</table>\n",
       "</div>"
      ],
      "text/plain": [
       "                            college_name ranks tcs_region    team_name  \\\n",
       "366   Instt of Technology, Haldia ­ W.B.   367     Haldia  CodingGurus   \n",
       "1227  Instt of Technology, Haldia ­ W.B.  1228     Haldia   CalmCoders   \n",
       "1887  Instt of Technology, Haldia ­ W.B.  1888     Haldia    AngryFool   \n",
       "1993  Instt of Technology, Haldia ­ W.B.  1994     Haldia   base coder   \n",
       "\n",
       "                                    user_name  \n",
       "366   Debargha Bhattacharjee & Hariom Kolkata  \n",
       "1227                 Himanshu & Uttam Kolkata  \n",
       "1887               Md Khan & Nityansh Kolkata  \n",
       "1993             Anita Kumari & Aditi Kolkata  "
      ]
     },
     "execution_count": 28,
     "metadata": {},
     "output_type": "execute_result"
    }
   ],
   "source": [
    "df_table[df_table.tcs_region=='Haldia']"
   ]
  },
  {
   "cell_type": "code",
   "execution_count": null,
   "metadata": {
    "collapsed": true
   },
   "outputs": [],
   "source": []
  }
 ],
 "metadata": {
  "kernelspec": {
   "display_name": "Python 3",
   "language": "python",
   "name": "python3"
  },
  "language_info": {
   "codemirror_mode": {
    "name": "ipython",
    "version": 3
   },
   "file_extension": ".py",
   "mimetype": "text/x-python",
   "name": "python",
   "nbconvert_exporter": "python",
   "pygments_lexer": "ipython3",
   "version": "3.6.0"
  }
 },
 "nbformat": 4,
 "nbformat_minor": 2
}
