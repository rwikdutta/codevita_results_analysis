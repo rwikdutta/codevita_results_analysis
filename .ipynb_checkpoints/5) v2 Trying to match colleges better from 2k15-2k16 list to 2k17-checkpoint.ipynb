{
 "cells": [
  {
   "cell_type": "code",
   "execution_count": 1,
   "metadata": {
    "collapsed": true
   },
   "outputs": [],
   "source": [
    "import pandas as pd\n",
    "import numpy as np\n",
    "#%qtconsole\n",
    "import platform\n",
    "import matplotlib.pyplot as plt\n",
    "%matplotlib inline"
   ]
  },
  {
   "cell_type": "code",
   "execution_count": 2,
   "metadata": {
    "collapsed": true
   },
   "outputs": [],
   "source": [
    "def return_file_path(base_url,file_name,file_seperator,intermediate_folder=''):\n",
    "    if not intermediate_folder=='':\n",
    "        intermediate_folder=intermediate_folder+file_seperator\n",
    "    return '{}{}{}'.format(base_url,intermediate_folder,file_name)"
   ]
  },
  {
   "cell_type": "code",
   "execution_count": 3,
   "metadata": {
    "collapsed": true
   },
   "outputs": [],
   "source": [
    "if platform.system()=='Linux':\n",
    "    base_url=r'/mnt/ECFC8291FC8255AC/Datasets/Codevita Results/'\n",
    "    file_seperator='/'\n",
    "else:\n",
    "    file_seperator='\\\\'\n",
    "    base_url='F:\\\\Datasets\\\\Codevita Results\\\\'\n",
    "intermediate_folder=''"
   ]
  },
  {
   "cell_type": "code",
   "execution_count": 4,
   "metadata": {
    "collapsed": true
   },
   "outputs": [],
   "source": [
    "college_prev=pd.read_excel('./college_combined_2k15_2k16.xlsx')\n",
    "college_prev=college_prev.rename(columns={'college_name_modified_normalized':'college_name_normalized',\n",
    "                                          'coll_name_mod_norm_wo_common_words':'coll_name_norm_wo_common_words',\n",
    "                                         'coll_name_mod_norm_wo_common_words_v2':'coll_name_norm_wo_common_words_v2'})"
   ]
  },
  {
   "cell_type": "code",
   "execution_count": 5,
   "metadata": {},
   "outputs": [
    {
     "data": {
      "text/html": [
       "<div>\n",
       "<style>\n",
       "    .dataframe thead tr:only-child th {\n",
       "        text-align: right;\n",
       "    }\n",
       "\n",
       "    .dataframe thead th {\n",
       "        text-align: left;\n",
       "    }\n",
       "\n",
       "    .dataframe tbody tr th {\n",
       "        vertical-align: top;\n",
       "    }\n",
       "</style>\n",
       "<table border=\"1\" class=\"dataframe\">\n",
       "  <thead>\n",
       "    <tr style=\"text-align: right;\">\n",
       "      <th></th>\n",
       "      <th>college_name</th>\n",
       "      <th>tcs_region</th>\n",
       "      <th>mod_index</th>\n",
       "      <th>coll_name_case_independent</th>\n",
       "      <th>college_name_normalized</th>\n",
       "      <th>coll_name_norm_wo_common_words</th>\n",
       "      <th>coll_name_norm_wo_common_words_v2</th>\n",
       "      <th>master_mod_index</th>\n",
       "    </tr>\n",
       "  </thead>\n",
       "  <tbody>\n",
       "    <tr>\n",
       "      <th>0</th>\n",
       "      <td>Srm Engineering College., Kattankulathur</td>\n",
       "      <td>Chennai</td>\n",
       "      <td>2k15_0</td>\n",
       "      <td>srm engineering college., kattankulathur</td>\n",
       "      <td>srm engineering college kattankulathur</td>\n",
       "      <td>srm kattankulathur</td>\n",
       "      <td>srm kattankulathur</td>\n",
       "      <td>2k15_0</td>\n",
       "    </tr>\n",
       "    <tr>\n",
       "      <th>1</th>\n",
       "      <td>Army Institute of Technology,Pune University, ...</td>\n",
       "      <td>Pune</td>\n",
       "      <td>2k15_1</td>\n",
       "      <td>army institute of technology,pune university, ...</td>\n",
       "      <td>army institute of technology pune university pune</td>\n",
       "      <td>army pune pune</td>\n",
       "      <td>army pune pune</td>\n",
       "      <td>2k15_1</td>\n",
       "    </tr>\n",
       "    <tr>\n",
       "      <th>2</th>\n",
       "      <td>Osmania University, Hyderabad</td>\n",
       "      <td>Hyderabad</td>\n",
       "      <td>2k15_2</td>\n",
       "      <td>osmania university, hyderabad</td>\n",
       "      <td>osmania university hyderabad</td>\n",
       "      <td>osmania hyderabad</td>\n",
       "      <td>osmania hyderabad</td>\n",
       "      <td>2k15_2</td>\n",
       "    </tr>\n",
       "    <tr>\n",
       "      <th>3</th>\n",
       "      <td>Medicaps Inst of Tech &amp; Management, Indore</td>\n",
       "      <td>Mumbai</td>\n",
       "      <td>2k15_3</td>\n",
       "      <td>medicaps inst of tech &amp; management, indore</td>\n",
       "      <td>medicaps inst of tech management indore</td>\n",
       "      <td>medicaps tech indore</td>\n",
       "      <td>medicaps tech indore</td>\n",
       "      <td>2k15_3</td>\n",
       "    </tr>\n",
       "    <tr>\n",
       "      <th>4</th>\n",
       "      <td>Ramrao Adik Institute of Technology,Nerul</td>\n",
       "      <td>Mumbai</td>\n",
       "      <td>2k15_4</td>\n",
       "      <td>ramrao adik institute of technology,nerul</td>\n",
       "      <td>ramrao adik institute of technology nerul</td>\n",
       "      <td>ramrao adik nerul</td>\n",
       "      <td>ramrao adik nerul</td>\n",
       "      <td>2k15_4</td>\n",
       "    </tr>\n",
       "  </tbody>\n",
       "</table>\n",
       "</div>"
      ],
      "text/plain": [
       "                                        college_name tcs_region mod_index  \\\n",
       "0           Srm Engineering College., Kattankulathur    Chennai    2k15_0   \n",
       "1  Army Institute of Technology,Pune University, ...       Pune    2k15_1   \n",
       "2                      Osmania University, Hyderabad  Hyderabad    2k15_2   \n",
       "3         Medicaps Inst of Tech & Management, Indore     Mumbai    2k15_3   \n",
       "4          Ramrao Adik Institute of Technology,Nerul     Mumbai    2k15_4   \n",
       "\n",
       "                          coll_name_case_independent  \\\n",
       "0           srm engineering college., kattankulathur   \n",
       "1  army institute of technology,pune university, ...   \n",
       "2                      osmania university, hyderabad   \n",
       "3         medicaps inst of tech & management, indore   \n",
       "4          ramrao adik institute of technology,nerul   \n",
       "\n",
       "                             college_name_normalized  \\\n",
       "0             srm engineering college kattankulathur   \n",
       "1  army institute of technology pune university pune   \n",
       "2                       osmania university hyderabad   \n",
       "3            medicaps inst of tech management indore   \n",
       "4          ramrao adik institute of technology nerul   \n",
       "\n",
       "  coll_name_norm_wo_common_words coll_name_norm_wo_common_words_v2  \\\n",
       "0             srm kattankulathur                srm kattankulathur   \n",
       "1                 army pune pune                    army pune pune   \n",
       "2              osmania hyderabad                 osmania hyderabad   \n",
       "3           medicaps tech indore              medicaps tech indore   \n",
       "4              ramrao adik nerul                 ramrao adik nerul   \n",
       "\n",
       "  master_mod_index  \n",
       "0           2k15_0  \n",
       "1           2k15_1  \n",
       "2           2k15_2  \n",
       "3           2k15_3  \n",
       "4           2k15_4  "
      ]
     },
     "execution_count": 5,
     "metadata": {},
     "output_type": "execute_result"
    }
   ],
   "source": [
    "college_prev.head()"
   ]
  },
  {
   "cell_type": "code",
   "execution_count": 6,
   "metadata": {
    "collapsed": true
   },
   "outputs": [],
   "source": [
    "college_2k17=pd.read_csv(return_file_path(base_url,'codevita_2k17_scrapped.csv',file_seperator))"
   ]
  },
  {
   "cell_type": "code",
   "execution_count": 7,
   "metadata": {},
   "outputs": [
    {
     "data": {
      "text/html": [
       "<div>\n",
       "<style>\n",
       "    .dataframe thead tr:only-child th {\n",
       "        text-align: right;\n",
       "    }\n",
       "\n",
       "    .dataframe thead th {\n",
       "        text-align: left;\n",
       "    }\n",
       "\n",
       "    .dataframe tbody tr th {\n",
       "        vertical-align: top;\n",
       "    }\n",
       "</style>\n",
       "<table border=\"1\" class=\"dataframe\">\n",
       "  <thead>\n",
       "    <tr style=\"text-align: right;\">\n",
       "      <th></th>\n",
       "      <th>Unnamed: 0</th>\n",
       "      <th>college_name</th>\n",
       "      <th>problems_solved</th>\n",
       "      <th>round1_rank</th>\n",
       "      <th>user_name</th>\n",
       "      <th>zonal_name</th>\n",
       "      <th>zonal_rank</th>\n",
       "    </tr>\n",
       "  </thead>\n",
       "  <tbody>\n",
       "    <tr>\n",
       "      <th>0</th>\n",
       "      <td>0</td>\n",
       "      <td>Dhirubhai Ambani Inst of Information &amp; Communi...</td>\n",
       "      <td>6</td>\n",
       "      <td>1</td>\n",
       "      <td>MOHIB MANVA</td>\n",
       "      <td>zone1</td>\n",
       "      <td>1</td>\n",
       "    </tr>\n",
       "    <tr>\n",
       "      <th>1</th>\n",
       "      <td>1</td>\n",
       "      <td>Dhirubhai Ambani Inst of Information &amp; Communi...</td>\n",
       "      <td>6</td>\n",
       "      <td>2</td>\n",
       "      <td>SAGAR SAVALIYA</td>\n",
       "      <td>zone1</td>\n",
       "      <td>2</td>\n",
       "    </tr>\n",
       "    <tr>\n",
       "      <th>2</th>\n",
       "      <td>2</td>\n",
       "      <td>Indian Institute Of Technology, Hyderabad</td>\n",
       "      <td>6</td>\n",
       "      <td>3</td>\n",
       "      <td>VINOD DEVANABOINA</td>\n",
       "      <td>zone2</td>\n",
       "      <td>1</td>\n",
       "    </tr>\n",
       "    <tr>\n",
       "      <th>3</th>\n",
       "      <td>3</td>\n",
       "      <td>School of IT, Guru Gobind Indraprastha Univ, D...</td>\n",
       "      <td>6</td>\n",
       "      <td>4</td>\n",
       "      <td>VIKRAM PANWAR</td>\n",
       "      <td>zone3</td>\n",
       "      <td>1</td>\n",
       "    </tr>\n",
       "    <tr>\n",
       "      <th>4</th>\n",
       "      <td>4</td>\n",
       "      <td>IIT - PATNA</td>\n",
       "      <td>5</td>\n",
       "      <td>5</td>\n",
       "      <td>GAGAN KUMAR</td>\n",
       "      <td>zone3</td>\n",
       "      <td>2</td>\n",
       "    </tr>\n",
       "  </tbody>\n",
       "</table>\n",
       "</div>"
      ],
      "text/plain": [
       "   Unnamed: 0                                       college_name  \\\n",
       "0           0  Dhirubhai Ambani Inst of Information & Communi...   \n",
       "1           1  Dhirubhai Ambani Inst of Information & Communi...   \n",
       "2           2          Indian Institute Of Technology, Hyderabad   \n",
       "3           3  School of IT, Guru Gobind Indraprastha Univ, D...   \n",
       "4           4                                        IIT - PATNA   \n",
       "\n",
       "   problems_solved  round1_rank          user_name zonal_name  zonal_rank  \n",
       "0                6            1        MOHIB MANVA      zone1           1  \n",
       "1                6            2     SAGAR SAVALIYA      zone1           2  \n",
       "2                6            3  VINOD DEVANABOINA      zone2           1  \n",
       "3                6            4      VIKRAM PANWAR      zone3           1  \n",
       "4                5            5        GAGAN KUMAR      zone3           2  "
      ]
     },
     "execution_count": 7,
     "metadata": {},
     "output_type": "execute_result"
    }
   ],
   "source": [
    "college_2k17.head()"
   ]
  },
  {
   "cell_type": "code",
   "execution_count": 8,
   "metadata": {},
   "outputs": [
    {
     "name": "stdout",
     "output_type": "stream",
     "text": [
      "(2382, 7)\n"
     ]
    },
    {
     "data": {
      "text/plain": [
       "Unnamed: 0         2382\n",
       "college_name       2382\n",
       "problems_solved    2382\n",
       "round1_rank        2382\n",
       "user_name          2382\n",
       "zonal_name         2382\n",
       "zonal_rank         2382\n",
       "dtype: int64"
      ]
     },
     "execution_count": 8,
     "metadata": {},
     "output_type": "execute_result"
    }
   ],
   "source": [
    "print(college_2k17.shape)\n",
    "college_2k17.notnull().sum()"
   ]
  },
  {
   "cell_type": "code",
   "execution_count": 9,
   "metadata": {
    "collapsed": true
   },
   "outputs": [],
   "source": [
    "college_2k17=college_2k17.rename(columns={'zonal_name':'tcs_region'})"
   ]
  },
  {
   "cell_type": "code",
   "execution_count": 10,
   "metadata": {},
   "outputs": [
    {
     "data": {
      "text/plain": [
       "499"
      ]
     },
     "execution_count": 10,
     "metadata": {},
     "output_type": "execute_result"
    }
   ],
   "source": [
    "college_2k17_list=pd.DataFrame(college_2k17,columns=['college_name','tcs_region'])\n",
    "college_2k17_list=college_2k17_list\n",
    "college_2k17_list.college_name.unique().shape[0]"
   ]
  },
  {
   "cell_type": "code",
   "execution_count": 11,
   "metadata": {},
   "outputs": [
    {
     "name": "stdout",
     "output_type": "stream",
     "text": [
      "(499, 2)\n"
     ]
    },
    {
     "data": {
      "text/html": [
       "<div>\n",
       "<style>\n",
       "    .dataframe thead tr:only-child th {\n",
       "        text-align: right;\n",
       "    }\n",
       "\n",
       "    .dataframe thead th {\n",
       "        text-align: left;\n",
       "    }\n",
       "\n",
       "    .dataframe tbody tr th {\n",
       "        vertical-align: top;\n",
       "    }\n",
       "</style>\n",
       "<table border=\"1\" class=\"dataframe\">\n",
       "  <thead>\n",
       "    <tr style=\"text-align: right;\">\n",
       "      <th></th>\n",
       "      <th>college_name</th>\n",
       "      <th>tcs_region</th>\n",
       "    </tr>\n",
       "  </thead>\n",
       "  <tbody>\n",
       "    <tr>\n",
       "      <th>0</th>\n",
       "      <td>A D Patel Institute of Technology, Anand</td>\n",
       "      <td>zone1</td>\n",
       "    </tr>\n",
       "    <tr>\n",
       "      <th>1</th>\n",
       "      <td>A Veeriya Vandayar Memorial Sri Pushpam Colleg...</td>\n",
       "      <td>zone2</td>\n",
       "    </tr>\n",
       "    <tr>\n",
       "      <th>2</th>\n",
       "      <td>ABES Engineering College, Delhi</td>\n",
       "      <td>zone3</td>\n",
       "    </tr>\n",
       "    <tr>\n",
       "      <th>3</th>\n",
       "      <td>ABV Indian Institute of Information Technology...</td>\n",
       "      <td>zone3</td>\n",
       "    </tr>\n",
       "    <tr>\n",
       "      <th>4</th>\n",
       "      <td>ADITYA ENGINEERING COLLEGE, KAKINADA</td>\n",
       "      <td>zone2</td>\n",
       "    </tr>\n",
       "  </tbody>\n",
       "</table>\n",
       "</div>"
      ],
      "text/plain": [
       "                                        college_name tcs_region\n",
       "0           A D Patel Institute of Technology, Anand      zone1\n",
       "1  A Veeriya Vandayar Memorial Sri Pushpam Colleg...      zone2\n",
       "2                    ABES Engineering College, Delhi      zone3\n",
       "3  ABV Indian Institute of Information Technology...      zone3\n",
       "4               ADITYA ENGINEERING COLLEGE, KAKINADA      zone2"
      ]
     },
     "execution_count": 11,
     "metadata": {},
     "output_type": "execute_result"
    }
   ],
   "source": [
    "college_2k17_list=college_2k17_list.groupby('college_name',as_index=False).first()\n",
    "print(college_2k17_list.shape)\n",
    "college_2k17_list.head()"
   ]
  },
  {
   "cell_type": "code",
   "execution_count": 12,
   "metadata": {
    "collapsed": true
   },
   "outputs": [],
   "source": [
    "college_2k17_list['index']=college_2k17_list.index\n",
    "college_2k17_list['mod_index']=college_2k17_list['index'].apply(lambda x:'2k17_'+str(x))\n",
    "college_2k17_list=college_2k17_list.drop('index',axis=1)"
   ]
  },
  {
   "cell_type": "code",
   "execution_count": 13,
   "metadata": {},
   "outputs": [
    {
     "data": {
      "text/html": [
       "<div>\n",
       "<style>\n",
       "    .dataframe thead tr:only-child th {\n",
       "        text-align: right;\n",
       "    }\n",
       "\n",
       "    .dataframe thead th {\n",
       "        text-align: left;\n",
       "    }\n",
       "\n",
       "    .dataframe tbody tr th {\n",
       "        vertical-align: top;\n",
       "    }\n",
       "</style>\n",
       "<table border=\"1\" class=\"dataframe\">\n",
       "  <thead>\n",
       "    <tr style=\"text-align: right;\">\n",
       "      <th></th>\n",
       "      <th>college_name</th>\n",
       "      <th>tcs_region</th>\n",
       "      <th>mod_index</th>\n",
       "    </tr>\n",
       "  </thead>\n",
       "  <tbody>\n",
       "    <tr>\n",
       "      <th>0</th>\n",
       "      <td>A D Patel Institute of Technology, Anand</td>\n",
       "      <td>zone1</td>\n",
       "      <td>2k17_0</td>\n",
       "    </tr>\n",
       "    <tr>\n",
       "      <th>1</th>\n",
       "      <td>A Veeriya Vandayar Memorial Sri Pushpam Colleg...</td>\n",
       "      <td>zone2</td>\n",
       "      <td>2k17_1</td>\n",
       "    </tr>\n",
       "    <tr>\n",
       "      <th>2</th>\n",
       "      <td>ABES Engineering College, Delhi</td>\n",
       "      <td>zone3</td>\n",
       "      <td>2k17_2</td>\n",
       "    </tr>\n",
       "    <tr>\n",
       "      <th>3</th>\n",
       "      <td>ABV Indian Institute of Information Technology...</td>\n",
       "      <td>zone3</td>\n",
       "      <td>2k17_3</td>\n",
       "    </tr>\n",
       "    <tr>\n",
       "      <th>4</th>\n",
       "      <td>ADITYA ENGINEERING COLLEGE, KAKINADA</td>\n",
       "      <td>zone2</td>\n",
       "      <td>2k17_4</td>\n",
       "    </tr>\n",
       "  </tbody>\n",
       "</table>\n",
       "</div>"
      ],
      "text/plain": [
       "                                        college_name tcs_region mod_index\n",
       "0           A D Patel Institute of Technology, Anand      zone1    2k17_0\n",
       "1  A Veeriya Vandayar Memorial Sri Pushpam Colleg...      zone2    2k17_1\n",
       "2                    ABES Engineering College, Delhi      zone3    2k17_2\n",
       "3  ABV Indian Institute of Information Technology...      zone3    2k17_3\n",
       "4               ADITYA ENGINEERING COLLEGE, KAKINADA      zone2    2k17_4"
      ]
     },
     "execution_count": 13,
     "metadata": {},
     "output_type": "execute_result"
    }
   ],
   "source": [
    "college_2k17_list.head()"
   ]
  },
  {
   "cell_type": "markdown",
   "metadata": {},
   "source": [
    "Using string matching normalized to check the common entries between colleges in 2k15 and 2k16"
   ]
  },
  {
   "cell_type": "code",
   "execution_count": 14,
   "metadata": {
    "collapsed": true
   },
   "outputs": [],
   "source": [
    "from nltk.tokenize import RegexpTokenizer\n",
    "tokenizer = RegexpTokenizer(r'\\w+')"
   ]
  },
  {
   "cell_type": "code",
   "execution_count": 15,
   "metadata": {
    "collapsed": true
   },
   "outputs": [],
   "source": [
    "def modify_college_names_apply(x):\n",
    "    return ' '.join(tokenizer.tokenize(x.lower()))\n",
    "college_2k17_list['college_name_normalized']=college_2k17_list.college_name.apply(modify_college_names_apply)"
   ]
  },
  {
   "cell_type": "code",
   "execution_count": 16,
   "metadata": {},
   "outputs": [
    {
     "data": {
      "text/html": [
       "<div>\n",
       "<style>\n",
       "    .dataframe thead tr:only-child th {\n",
       "        text-align: right;\n",
       "    }\n",
       "\n",
       "    .dataframe thead th {\n",
       "        text-align: left;\n",
       "    }\n",
       "\n",
       "    .dataframe tbody tr th {\n",
       "        vertical-align: top;\n",
       "    }\n",
       "</style>\n",
       "<table border=\"1\" class=\"dataframe\">\n",
       "  <thead>\n",
       "    <tr style=\"text-align: right;\">\n",
       "      <th></th>\n",
       "      <th>college_name</th>\n",
       "      <th>tcs_region</th>\n",
       "      <th>mod_index</th>\n",
       "      <th>college_name_normalized</th>\n",
       "    </tr>\n",
       "  </thead>\n",
       "  <tbody>\n",
       "    <tr>\n",
       "      <th>0</th>\n",
       "      <td>A D Patel Institute of Technology, Anand</td>\n",
       "      <td>zone1</td>\n",
       "      <td>2k17_0</td>\n",
       "      <td>a d patel institute of technology anand</td>\n",
       "    </tr>\n",
       "    <tr>\n",
       "      <th>1</th>\n",
       "      <td>A Veeriya Vandayar Memorial Sri Pushpam Colleg...</td>\n",
       "      <td>zone2</td>\n",
       "      <td>2k17_1</td>\n",
       "      <td>a veeriya vandayar memorial sri pushpam colleg...</td>\n",
       "    </tr>\n",
       "    <tr>\n",
       "      <th>2</th>\n",
       "      <td>ABES Engineering College, Delhi</td>\n",
       "      <td>zone3</td>\n",
       "      <td>2k17_2</td>\n",
       "      <td>abes engineering college delhi</td>\n",
       "    </tr>\n",
       "    <tr>\n",
       "      <th>3</th>\n",
       "      <td>ABV Indian Institute of Information Technology...</td>\n",
       "      <td>zone3</td>\n",
       "      <td>2k17_3</td>\n",
       "      <td>abv indian institute of information technology...</td>\n",
       "    </tr>\n",
       "    <tr>\n",
       "      <th>4</th>\n",
       "      <td>ADITYA ENGINEERING COLLEGE, KAKINADA</td>\n",
       "      <td>zone2</td>\n",
       "      <td>2k17_4</td>\n",
       "      <td>aditya engineering college kakinada</td>\n",
       "    </tr>\n",
       "  </tbody>\n",
       "</table>\n",
       "</div>"
      ],
      "text/plain": [
       "                                        college_name tcs_region mod_index  \\\n",
       "0           A D Patel Institute of Technology, Anand      zone1    2k17_0   \n",
       "1  A Veeriya Vandayar Memorial Sri Pushpam Colleg...      zone2    2k17_1   \n",
       "2                    ABES Engineering College, Delhi      zone3    2k17_2   \n",
       "3  ABV Indian Institute of Information Technology...      zone3    2k17_3   \n",
       "4               ADITYA ENGINEERING COLLEGE, KAKINADA      zone2    2k17_4   \n",
       "\n",
       "                             college_name_normalized  \n",
       "0            a d patel institute of technology anand  \n",
       "1  a veeriya vandayar memorial sri pushpam colleg...  \n",
       "2                     abes engineering college delhi  \n",
       "3  abv indian institute of information technology...  \n",
       "4                aditya engineering college kakinada  "
      ]
     },
     "execution_count": 16,
     "metadata": {},
     "output_type": "execute_result"
    }
   ],
   "source": [
    "college_2k17_list.head()"
   ]
  },
  {
   "cell_type": "code",
   "execution_count": 17,
   "metadata": {},
   "outputs": [
    {
     "name": "stdout",
     "output_type": "stream",
     "text": [
      "(499, 4)\n"
     ]
    },
    {
     "data": {
      "text/plain": [
       "college_name               499\n",
       "tcs_region                 499\n",
       "mod_index                  499\n",
       "college_name_normalized    499\n",
       "dtype: int64"
      ]
     },
     "execution_count": 17,
     "metadata": {},
     "output_type": "execute_result"
    }
   ],
   "source": [
    "print(college_2k17_list.shape)\n",
    "college_2k17_list.notnull().sum() #Ensuring that the newly formed column doesnt have any null values"
   ]
  },
  {
   "cell_type": "code",
   "execution_count": 18,
   "metadata": {},
   "outputs": [
    {
     "name": "stdout",
     "output_type": "stream",
     "text": [
      "366\n"
     ]
    },
    {
     "data": {
      "text/plain": [
       "73.34669338677354"
      ]
     },
     "execution_count": 18,
     "metadata": {},
     "output_type": "execute_result"
    }
   ],
   "source": [
    "print(sum(college_2k17_list.college_name_normalized.isin(college_prev.college_name_normalized)))\n",
    "366/499*100"
   ]
  },
  {
   "cell_type": "code",
   "execution_count": 19,
   "metadata": {
    "collapsed": true
   },
   "outputs": [],
   "source": [
    "college_list_normalized_matches=pd.merge(college_prev,college_2k17_list,on='college_name_normalized',suffixes=('_prev','_2k17'))"
   ]
  },
  {
   "cell_type": "code",
   "execution_count": 20,
   "metadata": {},
   "outputs": [
    {
     "data": {
      "text/html": [
       "<div>\n",
       "<style>\n",
       "    .dataframe thead tr:only-child th {\n",
       "        text-align: right;\n",
       "    }\n",
       "\n",
       "    .dataframe thead th {\n",
       "        text-align: left;\n",
       "    }\n",
       "\n",
       "    .dataframe tbody tr th {\n",
       "        vertical-align: top;\n",
       "    }\n",
       "</style>\n",
       "<table border=\"1\" class=\"dataframe\">\n",
       "  <thead>\n",
       "    <tr style=\"text-align: right;\">\n",
       "      <th></th>\n",
       "      <th>college_name_prev</th>\n",
       "      <th>tcs_region_prev</th>\n",
       "      <th>mod_index_prev</th>\n",
       "      <th>coll_name_case_independent</th>\n",
       "      <th>college_name_normalized</th>\n",
       "      <th>coll_name_norm_wo_common_words</th>\n",
       "      <th>coll_name_norm_wo_common_words_v2</th>\n",
       "      <th>master_mod_index</th>\n",
       "      <th>college_name_2k17</th>\n",
       "      <th>tcs_region_2k17</th>\n",
       "      <th>mod_index_2k17</th>\n",
       "    </tr>\n",
       "  </thead>\n",
       "  <tbody>\n",
       "    <tr>\n",
       "      <th>0</th>\n",
       "      <td>Srm Engineering College., Kattankulathur</td>\n",
       "      <td>Chennai</td>\n",
       "      <td>2k15_0</td>\n",
       "      <td>srm engineering college., kattankulathur</td>\n",
       "      <td>srm engineering college kattankulathur</td>\n",
       "      <td>srm kattankulathur</td>\n",
       "      <td>srm kattankulathur</td>\n",
       "      <td>2k15_0</td>\n",
       "      <td>Srm Engineering College., Kattankulathur</td>\n",
       "      <td>zone3</td>\n",
       "      <td>2k17_420</td>\n",
       "    </tr>\n",
       "    <tr>\n",
       "      <th>1</th>\n",
       "      <td>Srm Engineering College., Kattankulathur</td>\n",
       "      <td>Chennai</td>\n",
       "      <td>2k16_143</td>\n",
       "      <td>srm engineering college., kattankulathur</td>\n",
       "      <td>srm engineering college kattankulathur</td>\n",
       "      <td>srm kattankulathur</td>\n",
       "      <td>srm kattankulathur</td>\n",
       "      <td>2k15_0</td>\n",
       "      <td>Srm Engineering College., Kattankulathur</td>\n",
       "      <td>zone3</td>\n",
       "      <td>2k17_420</td>\n",
       "    </tr>\n",
       "    <tr>\n",
       "      <th>2</th>\n",
       "      <td>Army Institute of Technology,Pune University, ...</td>\n",
       "      <td>Pune</td>\n",
       "      <td>2k15_1</td>\n",
       "      <td>army institute of technology,pune university, ...</td>\n",
       "      <td>army institute of technology pune university pune</td>\n",
       "      <td>army pune pune</td>\n",
       "      <td>army pune pune</td>\n",
       "      <td>2k15_1</td>\n",
       "      <td>Army Institute of Technology,Pune University, ...</td>\n",
       "      <td>zone2</td>\n",
       "      <td>2k17_24</td>\n",
       "    </tr>\n",
       "    <tr>\n",
       "      <th>3</th>\n",
       "      <td>Army Institute of Technology,Pune University, ...</td>\n",
       "      <td>Pune</td>\n",
       "      <td>2k16_51</td>\n",
       "      <td>army institute of technology,pune university, ...</td>\n",
       "      <td>army institute of technology pune university pune</td>\n",
       "      <td>army pune pune</td>\n",
       "      <td>army pune pune</td>\n",
       "      <td>2k15_1</td>\n",
       "      <td>Army Institute of Technology,Pune University, ...</td>\n",
       "      <td>zone2</td>\n",
       "      <td>2k17_24</td>\n",
       "    </tr>\n",
       "    <tr>\n",
       "      <th>4</th>\n",
       "      <td>Ramrao Adik Institute of Technology,Nerul</td>\n",
       "      <td>Mumbai</td>\n",
       "      <td>2k15_4</td>\n",
       "      <td>ramrao adik institute of technology,nerul</td>\n",
       "      <td>ramrao adik institute of technology nerul</td>\n",
       "      <td>ramrao adik nerul</td>\n",
       "      <td>ramrao adik nerul</td>\n",
       "      <td>2k15_4</td>\n",
       "      <td>Ramrao Adik Institute of Technology,Nerul</td>\n",
       "      <td>zone3</td>\n",
       "      <td>2k17_361</td>\n",
       "    </tr>\n",
       "  </tbody>\n",
       "</table>\n",
       "</div>"
      ],
      "text/plain": [
       "                                   college_name_prev tcs_region_prev  \\\n",
       "0           Srm Engineering College., Kattankulathur         Chennai   \n",
       "1           Srm Engineering College., Kattankulathur         Chennai   \n",
       "2  Army Institute of Technology,Pune University, ...            Pune   \n",
       "3  Army Institute of Technology,Pune University, ...            Pune   \n",
       "4          Ramrao Adik Institute of Technology,Nerul          Mumbai   \n",
       "\n",
       "  mod_index_prev                         coll_name_case_independent  \\\n",
       "0         2k15_0           srm engineering college., kattankulathur   \n",
       "1       2k16_143           srm engineering college., kattankulathur   \n",
       "2         2k15_1  army institute of technology,pune university, ...   \n",
       "3        2k16_51  army institute of technology,pune university, ...   \n",
       "4         2k15_4          ramrao adik institute of technology,nerul   \n",
       "\n",
       "                             college_name_normalized  \\\n",
       "0             srm engineering college kattankulathur   \n",
       "1             srm engineering college kattankulathur   \n",
       "2  army institute of technology pune university pune   \n",
       "3  army institute of technology pune university pune   \n",
       "4          ramrao adik institute of technology nerul   \n",
       "\n",
       "  coll_name_norm_wo_common_words coll_name_norm_wo_common_words_v2  \\\n",
       "0             srm kattankulathur                srm kattankulathur   \n",
       "1             srm kattankulathur                srm kattankulathur   \n",
       "2                 army pune pune                    army pune pune   \n",
       "3                 army pune pune                    army pune pune   \n",
       "4              ramrao adik nerul                 ramrao adik nerul   \n",
       "\n",
       "  master_mod_index                                  college_name_2k17  \\\n",
       "0           2k15_0           Srm Engineering College., Kattankulathur   \n",
       "1           2k15_0           Srm Engineering College., Kattankulathur   \n",
       "2           2k15_1  Army Institute of Technology,Pune University, ...   \n",
       "3           2k15_1  Army Institute of Technology,Pune University, ...   \n",
       "4           2k15_4          Ramrao Adik Institute of Technology,Nerul   \n",
       "\n",
       "  tcs_region_2k17 mod_index_2k17  \n",
       "0           zone3       2k17_420  \n",
       "1           zone3       2k17_420  \n",
       "2           zone2        2k17_24  \n",
       "3           zone2        2k17_24  \n",
       "4           zone3       2k17_361  "
      ]
     },
     "execution_count": 20,
     "metadata": {},
     "output_type": "execute_result"
    }
   ],
   "source": [
    "college_list_normalized_matches.head()"
   ]
  },
  {
   "cell_type": "code",
   "execution_count": 21,
   "metadata": {
    "collapsed": true
   },
   "outputs": [],
   "source": [
    "def find(dic,index):\n",
    "    return dic[index]\n",
    "def union(dic,index1,index2):\n",
    "    root1=find(dic,index1)\n",
    "    root2=find(dic,index2)\n",
    "    for key,value in dic.items():\n",
    "        if value==root2:\n",
    "            #print('Changed key {} from {} to {}'.format(key,value,root1))\n",
    "            dic[key]=root1"
   ]
  },
  {
   "cell_type": "code",
   "execution_count": 22,
   "metadata": {},
   "outputs": [
    {
     "data": {
      "text/plain": [
       "1732"
      ]
     },
     "execution_count": 22,
     "metadata": {},
     "output_type": "execute_result"
    }
   ],
   "source": [
    "match_dict={}\n",
    "for _,row in college_prev.iterrows():\n",
    "    match_dict[row['mod_index']]=row['master_mod_index']\n",
    "for _,row in college_2k17_list.iterrows():\n",
    "    match_dict[row['mod_index']]=row['mod_index']\n",
    "len(match_dict.keys())"
   ]
  },
  {
   "cell_type": "code",
   "execution_count": 23,
   "metadata": {
    "collapsed": true
   },
   "outputs": [],
   "source": [
    "for _,row in college_list_normalized_matches.iterrows():\n",
    "    union(match_dict,row['mod_index_prev'],row['mod_index_2k17'])"
   ]
  },
  {
   "cell_type": "code",
   "execution_count": 24,
   "metadata": {},
   "outputs": [
    {
     "data": {
      "text/plain": [
       "'2k15_1'"
      ]
     },
     "execution_count": 24,
     "metadata": {},
     "output_type": "execute_result"
    }
   ],
   "source": [
    "match_dict['2k17_24'] #Sanity Check"
   ]
  },
  {
   "cell_type": "code",
   "execution_count": 25,
   "metadata": {
    "collapsed": true
   },
   "outputs": [],
   "source": [
    "common_words=['of','college','technology','engineering','institute','university','engg',\n",
    "              'and','inst','univ','management','group','for','information','school']\n",
    "def modify_college_names_wo_common_words_apply(x):\n",
    "    global common_words\n",
    "    words=tokenizer.tokenize(x)\n",
    "    modified_words=[]\n",
    "    for word in words:\n",
    "        if word not in common_words:\n",
    "            modified_words.append(word)\n",
    "    return ' '.join(modified_words)\n",
    "college_2k17_list['coll_name_norm_wo_common_words']=college_2k17_list.college_name_normalized.apply(modify_college_names_wo_common_words_apply)"
   ]
  },
  {
   "cell_type": "code",
   "execution_count": 26,
   "metadata": {},
   "outputs": [
    {
     "name": "stdout",
     "output_type": "stream",
     "text": [
      "1\n"
     ]
    },
    {
     "data": {
      "text/html": [
       "<div>\n",
       "<style>\n",
       "    .dataframe thead tr:only-child th {\n",
       "        text-align: right;\n",
       "    }\n",
       "\n",
       "    .dataframe thead th {\n",
       "        text-align: left;\n",
       "    }\n",
       "\n",
       "    .dataframe tbody tr th {\n",
       "        vertical-align: top;\n",
       "    }\n",
       "</style>\n",
       "<table border=\"1\" class=\"dataframe\">\n",
       "  <thead>\n",
       "    <tr style=\"text-align: right;\">\n",
       "      <th></th>\n",
       "      <th>college_name</th>\n",
       "      <th>tcs_region</th>\n",
       "      <th>mod_index</th>\n",
       "      <th>college_name_normalized</th>\n",
       "      <th>coll_name_norm_wo_common_words</th>\n",
       "    </tr>\n",
       "  </thead>\n",
       "  <tbody>\n",
       "    <tr>\n",
       "      <th>206</th>\n",
       "      <td>Institute of Engineering and Management</td>\n",
       "      <td>zone3</td>\n",
       "      <td>2k17_206</td>\n",
       "      <td>institute of engineering and management</td>\n",
       "      <td></td>\n",
       "    </tr>\n",
       "  </tbody>\n",
       "</table>\n",
       "</div>"
      ],
      "text/plain": [
       "                                college_name tcs_region mod_index  \\\n",
       "206  Institute of Engineering and Management      zone3  2k17_206   \n",
       "\n",
       "                     college_name_normalized coll_name_norm_wo_common_words  \n",
       "206  institute of engineering and management                                 "
      ]
     },
     "execution_count": 26,
     "metadata": {},
     "output_type": "execute_result"
    }
   ],
   "source": [
    "print(sum(college_2k17_list.coll_name_norm_wo_common_words==''))\n",
    "college_2k17_list[college_2k17_list.coll_name_norm_wo_common_words=='']"
   ]
  },
  {
   "cell_type": "code",
   "execution_count": 27,
   "metadata": {
    "collapsed": true
   },
   "outputs": [],
   "source": [
    "college_2k17_list['coll_name_norm_wo_common_words_v2']=college_2k17_list.coll_name_norm_wo_common_words\n",
    "college_2k17_list.loc[206,'coll_name_norm_wo_common_words_v2']='kolkata iem'"
   ]
  },
  {
   "cell_type": "code",
   "execution_count": 28,
   "metadata": {},
   "outputs": [
    {
     "data": {
      "text/plain": [
       "372"
      ]
     },
     "execution_count": 28,
     "metadata": {},
     "output_type": "execute_result"
    }
   ],
   "source": [
    "sum(college_2k17_list.coll_name_norm_wo_common_words_v2.isin(college_prev.coll_name_norm_wo_common_words_v2))"
   ]
  },
  {
   "cell_type": "code",
   "execution_count": 29,
   "metadata": {},
   "outputs": [
    {
     "data": {
      "text/plain": [
       "array(['2k17_190', '2k17_292', '2k17_324', '2k17_354', '2k17_378',\n",
       "       '2k17_379', '2k17_386', '2k17_442', '2k17_83'], dtype=object)"
      ]
     },
     "execution_count": 29,
     "metadata": {},
     "output_type": "execute_result"
    }
   ],
   "source": [
    "index_wo_common_words_matches=college_2k17_list[college_2k17_list.coll_name_norm_wo_common_words_v2.isin(college_prev.coll_name_norm_wo_common_words_v2)]['mod_index']\n",
    "index_prev_matches_till_normalization=college_list_normalized_matches.mod_index_2k17.unique()\n",
    "index_new_matches=np.setdiff1d(index_wo_common_words_matches,index_prev_matches_till_normalization)\n",
    "mismatch_diff=np.setdiff1d(index_prev_matches_till_normalization,index_wo_common_words_matches)\n",
    "index_new_matches"
   ]
  },
  {
   "cell_type": "code",
   "execution_count": 30,
   "metadata": {
    "scrolled": true
   },
   "outputs": [
    {
     "name": "stdout",
     "output_type": "stream",
     "text": [
      "(11, 13)\n"
     ]
    },
    {
     "data": {
      "text/html": [
       "<div>\n",
       "<style>\n",
       "    .dataframe thead tr:only-child th {\n",
       "        text-align: right;\n",
       "    }\n",
       "\n",
       "    .dataframe thead th {\n",
       "        text-align: left;\n",
       "    }\n",
       "\n",
       "    .dataframe tbody tr th {\n",
       "        vertical-align: top;\n",
       "    }\n",
       "</style>\n",
       "<table border=\"1\" class=\"dataframe\">\n",
       "  <thead>\n",
       "    <tr style=\"text-align: right;\">\n",
       "      <th></th>\n",
       "      <th>college_name_2k17</th>\n",
       "      <th>tcs_region_2k17</th>\n",
       "      <th>mod_index_2k17</th>\n",
       "      <th>college_name_normalized_2k17</th>\n",
       "      <th>coll_name_norm_wo_common_words_2k17</th>\n",
       "      <th>coll_name_norm_wo_common_words_v2</th>\n",
       "      <th>college_name_prev</th>\n",
       "      <th>tcs_region_prev</th>\n",
       "      <th>mod_index_prev</th>\n",
       "      <th>coll_name_case_independent</th>\n",
       "      <th>college_name_normalized_prev</th>\n",
       "      <th>coll_name_norm_wo_common_words_prev</th>\n",
       "      <th>master_mod_index</th>\n",
       "    </tr>\n",
       "  </thead>\n",
       "  <tbody>\n",
       "    <tr>\n",
       "      <th>0</th>\n",
       "      <td>Darshan College</td>\n",
       "      <td>zone1</td>\n",
       "      <td>2k17_83</td>\n",
       "      <td>darshan college</td>\n",
       "      <td>darshan</td>\n",
       "      <td>darshan</td>\n",
       "      <td>DARSHAN INSTITUTE OF ENGINEERING AND TECHNOLOGY</td>\n",
       "      <td>Ahmedabad</td>\n",
       "      <td>2k16_628</td>\n",
       "      <td>darshan institute of engineering and technology</td>\n",
       "      <td>darshan institute of engineering and technology</td>\n",
       "      <td>darshan</td>\n",
       "      <td>2k16_628</td>\n",
       "    </tr>\n",
       "    <tr>\n",
       "      <th>1</th>\n",
       "      <td>Indian Institute of Information Technology,</td>\n",
       "      <td>zone3</td>\n",
       "      <td>2k17_190</td>\n",
       "      <td>indian institute of information technology</td>\n",
       "      <td>indian</td>\n",
       "      <td>indian</td>\n",
       "      <td>Indian Institute of Technology</td>\n",
       "      <td>Kolkata</td>\n",
       "      <td>2k16_514</td>\n",
       "      <td>indian institute of technology</td>\n",
       "      <td>indian institute of technology</td>\n",
       "      <td>indian</td>\n",
       "      <td>2k16_514</td>\n",
       "    </tr>\n",
       "    <tr>\n",
       "      <th>2</th>\n",
       "      <td>Marwadi Education Foundation</td>\n",
       "      <td>zone1</td>\n",
       "      <td>2k17_292</td>\n",
       "      <td>marwadi education foundation</td>\n",
       "      <td>marwadi education foundation</td>\n",
       "      <td>marwadi education foundation</td>\n",
       "      <td>Marwadi Education Foundation Group Of Institute</td>\n",
       "      <td>Ahmedabad</td>\n",
       "      <td>2k16_645</td>\n",
       "      <td>marwadi education foundation group of institute</td>\n",
       "      <td>marwadi education foundation group of institute</td>\n",
       "      <td>marwadi education foundation</td>\n",
       "      <td>2k15_512</td>\n",
       "    </tr>\n",
       "    <tr>\n",
       "      <th>3</th>\n",
       "      <td>PARUL INSTITUTE OF TECHNOLOGY</td>\n",
       "      <td>zone1</td>\n",
       "      <td>2k17_324</td>\n",
       "      <td>parul institute of technology</td>\n",
       "      <td>parul</td>\n",
       "      <td>parul</td>\n",
       "      <td>Parul Institute of Engineering</td>\n",
       "      <td>Ahmedabad</td>\n",
       "      <td>2k16_315</td>\n",
       "      <td>parul institute of engineering</td>\n",
       "      <td>parul institute of engineering</td>\n",
       "      <td>parul</td>\n",
       "      <td>2k16_315</td>\n",
       "    </tr>\n",
       "    <tr>\n",
       "      <th>4</th>\n",
       "      <td>Rajalakshmi Engineering College</td>\n",
       "      <td>zone3</td>\n",
       "      <td>2k17_354</td>\n",
       "      <td>rajalakshmi engineering college</td>\n",
       "      <td>rajalakshmi</td>\n",
       "      <td>rajalakshmi</td>\n",
       "      <td>Rajalakshmi Engg. College</td>\n",
       "      <td>Chennai</td>\n",
       "      <td>2k15_195</td>\n",
       "      <td>rajalakshmi engg. college</td>\n",
       "      <td>rajalakshmi engg college</td>\n",
       "      <td>rajalakshmi</td>\n",
       "      <td>2k15_195</td>\n",
       "    </tr>\n",
       "    <tr>\n",
       "      <th>5</th>\n",
       "      <td>Rajalakshmi Engineering College</td>\n",
       "      <td>zone3</td>\n",
       "      <td>2k17_354</td>\n",
       "      <td>rajalakshmi engineering college</td>\n",
       "      <td>rajalakshmi</td>\n",
       "      <td>rajalakshmi</td>\n",
       "      <td>Rajalakshmi Engg. College</td>\n",
       "      <td>Chennai</td>\n",
       "      <td>2k16_87</td>\n",
       "      <td>rajalakshmi engg. college</td>\n",
       "      <td>rajalakshmi engg college</td>\n",
       "      <td>rajalakshmi</td>\n",
       "      <td>2k15_195</td>\n",
       "    </tr>\n",
       "    <tr>\n",
       "      <th>6</th>\n",
       "      <td>SRI VASAVI INSTITUTE OF ENGINEERING &amp; TECHNOLOGY</td>\n",
       "      <td>zone2</td>\n",
       "      <td>2k17_378</td>\n",
       "      <td>sri vasavi institute of engineering technology</td>\n",
       "      <td>sri vasavi</td>\n",
       "      <td>sri vasavi</td>\n",
       "      <td>SRI VASAVI INSTITUTE OF ENGINEERING</td>\n",
       "      <td>Hyderabad</td>\n",
       "      <td>2k16_211</td>\n",
       "      <td>sri vasavi institute of engineering</td>\n",
       "      <td>sri vasavi institute of engineering</td>\n",
       "      <td>sri vasavi</td>\n",
       "      <td>2k16_211</td>\n",
       "    </tr>\n",
       "    <tr>\n",
       "      <th>7</th>\n",
       "      <td>SRI VASAVI INSTITUTE OF ENGINEERING AND TECHNO...</td>\n",
       "      <td>zone2</td>\n",
       "      <td>2k17_379</td>\n",
       "      <td>sri vasavi institute of engineering and techno...</td>\n",
       "      <td>sri vasavi</td>\n",
       "      <td>sri vasavi</td>\n",
       "      <td>SRI VASAVI INSTITUTE OF ENGINEERING</td>\n",
       "      <td>Hyderabad</td>\n",
       "      <td>2k16_211</td>\n",
       "      <td>sri vasavi institute of engineering</td>\n",
       "      <td>sri vasavi institute of engineering</td>\n",
       "      <td>sri vasavi</td>\n",
       "      <td>2k16_211</td>\n",
       "    </tr>\n",
       "    <tr>\n",
       "      <th>8</th>\n",
       "      <td>Sardar Patel Institute of Technology</td>\n",
       "      <td>zone3</td>\n",
       "      <td>2k17_386</td>\n",
       "      <td>sardar patel institute of technology</td>\n",
       "      <td>sardar patel</td>\n",
       "      <td>sardar patel</td>\n",
       "      <td>SARDAR PATEL COLLEGE OF INFORMATION TECHNOLOGY</td>\n",
       "      <td>Mumbai</td>\n",
       "      <td>2k15_236</td>\n",
       "      <td>sardar patel college of information technology</td>\n",
       "      <td>sardar patel college of information technology</td>\n",
       "      <td>sardar patel</td>\n",
       "      <td>2k15_236</td>\n",
       "    </tr>\n",
       "    <tr>\n",
       "      <th>9</th>\n",
       "      <td>Sardar Patel Institute of Technology</td>\n",
       "      <td>zone3</td>\n",
       "      <td>2k17_386</td>\n",
       "      <td>sardar patel institute of technology</td>\n",
       "      <td>sardar patel</td>\n",
       "      <td>sardar patel</td>\n",
       "      <td>SARDAR PATEL COLLEGE OF INFORMATION TECHNOLOGY</td>\n",
       "      <td>Mumbai</td>\n",
       "      <td>2k16_129</td>\n",
       "      <td>sardar patel college of information technology</td>\n",
       "      <td>sardar patel college of information technology</td>\n",
       "      <td>sardar patel</td>\n",
       "      <td>2k15_236</td>\n",
       "    </tr>\n",
       "    <tr>\n",
       "      <th>10</th>\n",
       "      <td>University of Engineering &amp; Management, Jaipur</td>\n",
       "      <td>zone3</td>\n",
       "      <td>2k17_442</td>\n",
       "      <td>university of engineering management jaipur</td>\n",
       "      <td>jaipur</td>\n",
       "      <td>jaipur</td>\n",
       "      <td>Jaipur Engineering College</td>\n",
       "      <td>Delhi</td>\n",
       "      <td>2k16_76</td>\n",
       "      <td>jaipur engineering college</td>\n",
       "      <td>jaipur engineering college</td>\n",
       "      <td>jaipur</td>\n",
       "      <td>2k16_76</td>\n",
       "    </tr>\n",
       "  </tbody>\n",
       "</table>\n",
       "</div>"
      ],
      "text/plain": [
       "                                    college_name_2k17 tcs_region_2k17  \\\n",
       "0                                     Darshan College           zone1   \n",
       "1         Indian Institute of Information Technology,           zone3   \n",
       "2                        Marwadi Education Foundation           zone1   \n",
       "3                       PARUL INSTITUTE OF TECHNOLOGY           zone1   \n",
       "4                     Rajalakshmi Engineering College           zone3   \n",
       "5                     Rajalakshmi Engineering College           zone3   \n",
       "6    SRI VASAVI INSTITUTE OF ENGINEERING & TECHNOLOGY           zone2   \n",
       "7   SRI VASAVI INSTITUTE OF ENGINEERING AND TECHNO...           zone2   \n",
       "8                Sardar Patel Institute of Technology           zone3   \n",
       "9                Sardar Patel Institute of Technology           zone3   \n",
       "10     University of Engineering & Management, Jaipur           zone3   \n",
       "\n",
       "   mod_index_2k17                       college_name_normalized_2k17  \\\n",
       "0         2k17_83                                    darshan college   \n",
       "1        2k17_190         indian institute of information technology   \n",
       "2        2k17_292                       marwadi education foundation   \n",
       "3        2k17_324                      parul institute of technology   \n",
       "4        2k17_354                    rajalakshmi engineering college   \n",
       "5        2k17_354                    rajalakshmi engineering college   \n",
       "6        2k17_378     sri vasavi institute of engineering technology   \n",
       "7        2k17_379  sri vasavi institute of engineering and techno...   \n",
       "8        2k17_386               sardar patel institute of technology   \n",
       "9        2k17_386               sardar patel institute of technology   \n",
       "10       2k17_442        university of engineering management jaipur   \n",
       "\n",
       "   coll_name_norm_wo_common_words_2k17 coll_name_norm_wo_common_words_v2  \\\n",
       "0                              darshan                           darshan   \n",
       "1                               indian                            indian   \n",
       "2         marwadi education foundation      marwadi education foundation   \n",
       "3                                parul                             parul   \n",
       "4                          rajalakshmi                       rajalakshmi   \n",
       "5                          rajalakshmi                       rajalakshmi   \n",
       "6                           sri vasavi                        sri vasavi   \n",
       "7                           sri vasavi                        sri vasavi   \n",
       "8                         sardar patel                      sardar patel   \n",
       "9                         sardar patel                      sardar patel   \n",
       "10                              jaipur                            jaipur   \n",
       "\n",
       "                                  college_name_prev tcs_region_prev  \\\n",
       "0   DARSHAN INSTITUTE OF ENGINEERING AND TECHNOLOGY       Ahmedabad   \n",
       "1                    Indian Institute of Technology         Kolkata   \n",
       "2   Marwadi Education Foundation Group Of Institute       Ahmedabad   \n",
       "3                    Parul Institute of Engineering       Ahmedabad   \n",
       "4                         Rajalakshmi Engg. College         Chennai   \n",
       "5                         Rajalakshmi Engg. College         Chennai   \n",
       "6               SRI VASAVI INSTITUTE OF ENGINEERING       Hyderabad   \n",
       "7               SRI VASAVI INSTITUTE OF ENGINEERING       Hyderabad   \n",
       "8    SARDAR PATEL COLLEGE OF INFORMATION TECHNOLOGY          Mumbai   \n",
       "9    SARDAR PATEL COLLEGE OF INFORMATION TECHNOLOGY          Mumbai   \n",
       "10                       Jaipur Engineering College           Delhi   \n",
       "\n",
       "   mod_index_prev                       coll_name_case_independent  \\\n",
       "0        2k16_628  darshan institute of engineering and technology   \n",
       "1        2k16_514                   indian institute of technology   \n",
       "2        2k16_645  marwadi education foundation group of institute   \n",
       "3        2k16_315                   parul institute of engineering   \n",
       "4        2k15_195                        rajalakshmi engg. college   \n",
       "5         2k16_87                        rajalakshmi engg. college   \n",
       "6        2k16_211              sri vasavi institute of engineering   \n",
       "7        2k16_211              sri vasavi institute of engineering   \n",
       "8        2k15_236   sardar patel college of information technology   \n",
       "9        2k16_129   sardar patel college of information technology   \n",
       "10        2k16_76                       jaipur engineering college   \n",
       "\n",
       "                       college_name_normalized_prev  \\\n",
       "0   darshan institute of engineering and technology   \n",
       "1                    indian institute of technology   \n",
       "2   marwadi education foundation group of institute   \n",
       "3                    parul institute of engineering   \n",
       "4                          rajalakshmi engg college   \n",
       "5                          rajalakshmi engg college   \n",
       "6               sri vasavi institute of engineering   \n",
       "7               sri vasavi institute of engineering   \n",
       "8    sardar patel college of information technology   \n",
       "9    sardar patel college of information technology   \n",
       "10                       jaipur engineering college   \n",
       "\n",
       "   coll_name_norm_wo_common_words_prev master_mod_index  \n",
       "0                              darshan         2k16_628  \n",
       "1                               indian         2k16_514  \n",
       "2         marwadi education foundation         2k15_512  \n",
       "3                                parul         2k16_315  \n",
       "4                          rajalakshmi         2k15_195  \n",
       "5                          rajalakshmi         2k15_195  \n",
       "6                           sri vasavi         2k16_211  \n",
       "7                           sri vasavi         2k16_211  \n",
       "8                         sardar patel         2k15_236  \n",
       "9                         sardar patel         2k15_236  \n",
       "10                              jaipur          2k16_76  "
      ]
     },
     "execution_count": 30,
     "metadata": {},
     "output_type": "execute_result"
    }
   ],
   "source": [
    "df_new_matches_2k17=college_2k17_list[college_2k17_list.mod_index.isin(index_new_matches)]\n",
    "df_new_matches_wo_common_words_join=pd.merge(df_new_matches_2k17,college_prev,on='coll_name_norm_wo_common_words_v2',suffixes=('_2k17','_prev'))\n",
    "print(df_new_matches_wo_common_words_join.shape)\n",
    "df_new_matches_wo_common_words_join"
   ]
  },
  {
   "cell_type": "code",
   "execution_count": 31,
   "metadata": {
    "collapsed": true
   },
   "outputs": [],
   "source": [
    "df_new_matches_wo_common_words_join.to_excel('./2k17_new_matches_wo_common_words.xlsx',index=False)"
   ]
  },
  {
   "cell_type": "code",
   "execution_count": 32,
   "metadata": {},
   "outputs": [
    {
     "name": "stdout",
     "output_type": "stream",
     "text": [
      "(9, 14)\n"
     ]
    },
    {
     "data": {
      "text/html": [
       "<div>\n",
       "<style>\n",
       "    .dataframe thead tr:only-child th {\n",
       "        text-align: right;\n",
       "    }\n",
       "\n",
       "    .dataframe thead th {\n",
       "        text-align: left;\n",
       "    }\n",
       "\n",
       "    .dataframe tbody tr th {\n",
       "        vertical-align: top;\n",
       "    }\n",
       "</style>\n",
       "<table border=\"1\" class=\"dataframe\">\n",
       "  <thead>\n",
       "    <tr style=\"text-align: right;\">\n",
       "      <th></th>\n",
       "      <th>college_name_2k17</th>\n",
       "      <th>tcs_region_2k17</th>\n",
       "      <th>mod_index_2k17</th>\n",
       "      <th>college_name_normalized_2k17</th>\n",
       "      <th>coll_name_norm_wo_common_words_2k17</th>\n",
       "      <th>coll_name_norm_wo_common_words_v2</th>\n",
       "      <th>college_name_prev</th>\n",
       "      <th>tcs_region_prev</th>\n",
       "      <th>mod_index_prev</th>\n",
       "      <th>coll_name_case_independent</th>\n",
       "      <th>college_name_normalized_prev</th>\n",
       "      <th>coll_name_norm_wo_common_words_prev</th>\n",
       "      <th>master_mod_index</th>\n",
       "      <th>match</th>\n",
       "    </tr>\n",
       "  </thead>\n",
       "  <tbody>\n",
       "    <tr>\n",
       "      <th>0</th>\n",
       "      <td>Darshan College</td>\n",
       "      <td>zone1</td>\n",
       "      <td>2k17_83</td>\n",
       "      <td>darshan college</td>\n",
       "      <td>darshan</td>\n",
       "      <td>darshan</td>\n",
       "      <td>DARSHAN INSTITUTE OF ENGINEERING AND TECHNOLOGY</td>\n",
       "      <td>Ahmedabad</td>\n",
       "      <td>2k16_628</td>\n",
       "      <td>darshan institute of engineering and technology</td>\n",
       "      <td>darshan institute of engineering and technology</td>\n",
       "      <td>darshan</td>\n",
       "      <td>2k16_628</td>\n",
       "      <td>y</td>\n",
       "    </tr>\n",
       "    <tr>\n",
       "      <th>2</th>\n",
       "      <td>Marwadi Education Foundation</td>\n",
       "      <td>zone1</td>\n",
       "      <td>2k17_292</td>\n",
       "      <td>marwadi education foundation</td>\n",
       "      <td>marwadi education foundation</td>\n",
       "      <td>marwadi education foundation</td>\n",
       "      <td>Marwadi Education Foundation Group Of Institute</td>\n",
       "      <td>Ahmedabad</td>\n",
       "      <td>2k16_645</td>\n",
       "      <td>marwadi education foundation group of institute</td>\n",
       "      <td>marwadi education foundation group of institute</td>\n",
       "      <td>marwadi education foundation</td>\n",
       "      <td>2k15_512</td>\n",
       "      <td>y</td>\n",
       "    </tr>\n",
       "    <tr>\n",
       "      <th>3</th>\n",
       "      <td>PARUL INSTITUTE OF TECHNOLOGY</td>\n",
       "      <td>zone1</td>\n",
       "      <td>2k17_324</td>\n",
       "      <td>parul institute of technology</td>\n",
       "      <td>parul</td>\n",
       "      <td>parul</td>\n",
       "      <td>Parul Institute of Engineering</td>\n",
       "      <td>Ahmedabad</td>\n",
       "      <td>2k16_315</td>\n",
       "      <td>parul institute of engineering</td>\n",
       "      <td>parul institute of engineering</td>\n",
       "      <td>parul</td>\n",
       "      <td>2k16_315</td>\n",
       "      <td>y</td>\n",
       "    </tr>\n",
       "    <tr>\n",
       "      <th>4</th>\n",
       "      <td>Rajalakshmi Engineering College</td>\n",
       "      <td>zone3</td>\n",
       "      <td>2k17_354</td>\n",
       "      <td>rajalakshmi engineering college</td>\n",
       "      <td>rajalakshmi</td>\n",
       "      <td>rajalakshmi</td>\n",
       "      <td>Rajalakshmi Engg. College</td>\n",
       "      <td>Chennai</td>\n",
       "      <td>2k15_195</td>\n",
       "      <td>rajalakshmi engg. college</td>\n",
       "      <td>rajalakshmi engg college</td>\n",
       "      <td>rajalakshmi</td>\n",
       "      <td>2k15_195</td>\n",
       "      <td>y</td>\n",
       "    </tr>\n",
       "    <tr>\n",
       "      <th>5</th>\n",
       "      <td>Rajalakshmi Engineering College</td>\n",
       "      <td>zone3</td>\n",
       "      <td>2k17_354</td>\n",
       "      <td>rajalakshmi engineering college</td>\n",
       "      <td>rajalakshmi</td>\n",
       "      <td>rajalakshmi</td>\n",
       "      <td>Rajalakshmi Engg. College</td>\n",
       "      <td>Chennai</td>\n",
       "      <td>2k16_87</td>\n",
       "      <td>rajalakshmi engg. college</td>\n",
       "      <td>rajalakshmi engg college</td>\n",
       "      <td>rajalakshmi</td>\n",
       "      <td>2k15_195</td>\n",
       "      <td>y</td>\n",
       "    </tr>\n",
       "  </tbody>\n",
       "</table>\n",
       "</div>"
      ],
      "text/plain": [
       "                 college_name_2k17 tcs_region_2k17 mod_index_2k17  \\\n",
       "0                  Darshan College           zone1        2k17_83   \n",
       "2     Marwadi Education Foundation           zone1       2k17_292   \n",
       "3    PARUL INSTITUTE OF TECHNOLOGY           zone1       2k17_324   \n",
       "4  Rajalakshmi Engineering College           zone3       2k17_354   \n",
       "5  Rajalakshmi Engineering College           zone3       2k17_354   \n",
       "\n",
       "      college_name_normalized_2k17 coll_name_norm_wo_common_words_2k17  \\\n",
       "0                  darshan college                             darshan   \n",
       "2     marwadi education foundation        marwadi education foundation   \n",
       "3    parul institute of technology                               parul   \n",
       "4  rajalakshmi engineering college                         rajalakshmi   \n",
       "5  rajalakshmi engineering college                         rajalakshmi   \n",
       "\n",
       "  coll_name_norm_wo_common_words_v2  \\\n",
       "0                           darshan   \n",
       "2      marwadi education foundation   \n",
       "3                             parul   \n",
       "4                       rajalakshmi   \n",
       "5                       rajalakshmi   \n",
       "\n",
       "                                 college_name_prev tcs_region_prev  \\\n",
       "0  DARSHAN INSTITUTE OF ENGINEERING AND TECHNOLOGY       Ahmedabad   \n",
       "2  Marwadi Education Foundation Group Of Institute       Ahmedabad   \n",
       "3                   Parul Institute of Engineering       Ahmedabad   \n",
       "4                        Rajalakshmi Engg. College         Chennai   \n",
       "5                        Rajalakshmi Engg. College         Chennai   \n",
       "\n",
       "  mod_index_prev                       coll_name_case_independent  \\\n",
       "0       2k16_628  darshan institute of engineering and technology   \n",
       "2       2k16_645  marwadi education foundation group of institute   \n",
       "3       2k16_315                   parul institute of engineering   \n",
       "4       2k15_195                        rajalakshmi engg. college   \n",
       "5        2k16_87                        rajalakshmi engg. college   \n",
       "\n",
       "                      college_name_normalized_prev  \\\n",
       "0  darshan institute of engineering and technology   \n",
       "2  marwadi education foundation group of institute   \n",
       "3                   parul institute of engineering   \n",
       "4                         rajalakshmi engg college   \n",
       "5                         rajalakshmi engg college   \n",
       "\n",
       "  coll_name_norm_wo_common_words_prev master_mod_index match  \n",
       "0                             darshan         2k16_628     y  \n",
       "2        marwadi education foundation         2k15_512     y  \n",
       "3                               parul         2k16_315     y  \n",
       "4                         rajalakshmi         2k15_195     y  \n",
       "5                         rajalakshmi         2k15_195     y  "
      ]
     },
     "execution_count": 32,
     "metadata": {},
     "output_type": "execute_result"
    }
   ],
   "source": [
    "df_new_matches_wo_common_words_matches=pd.read_excel('./2k17_new_matches_wo_common_words(copy).xlsx')\n",
    "df_new_matches_wo_common_words_matches=df_new_matches_wo_common_words_matches[df_new_matches_wo_common_words_matches.match=='y']\n",
    "print(df_new_matches_wo_common_words_matches.shape)\n",
    "df_new_matches_wo_common_words_matches.head()"
   ]
  },
  {
   "cell_type": "code",
   "execution_count": 33,
   "metadata": {},
   "outputs": [
    {
     "data": {
      "text/plain": [
       "True"
      ]
     },
     "execution_count": 33,
     "metadata": {},
     "output_type": "execute_result"
    }
   ],
   "source": [
    "for _,row in df_new_matches_wo_common_words_matches.iterrows():\n",
    "    union(match_dict,row['mod_index_prev'],row['mod_index_2k17'])\n",
    "match_dict['2k17_83']=='2k16_628' #Sanity Check"
   ]
  },
  {
   "cell_type": "code",
   "execution_count": 34,
   "metadata": {
    "collapsed": true
   },
   "outputs": [],
   "source": [
    "#Doing the next step just to make the college_2k17_list fully compatible with the college_prev list\n",
    "college_2k17_list['coll_name_case_independent']=college_2k17_list.college_name.apply(lambda x:x.lower())\n",
    "college_2k17_list['master_mod_index']=college_2k17_list.mod_index.apply(lambda x:match_dict[x])"
   ]
  },
  {
   "cell_type": "code",
   "execution_count": 35,
   "metadata": {},
   "outputs": [
    {
     "data": {
      "text/plain": [
       "(1233, 8)"
      ]
     },
     "execution_count": 35,
     "metadata": {},
     "output_type": "execute_result"
    }
   ],
   "source": [
    "college_prev.shape"
   ]
  },
  {
   "cell_type": "code",
   "execution_count": 36,
   "metadata": {},
   "outputs": [],
   "source": [
    "college_prev=college_prev.append(college_2k17_list,ignore_index=True)"
   ]
  },
  {
   "cell_type": "code",
   "execution_count": 37,
   "metadata": {},
   "outputs": [
    {
     "data": {
      "text/plain": [
       "(1732, 8)"
      ]
     },
     "execution_count": 37,
     "metadata": {},
     "output_type": "execute_result"
    }
   ],
   "source": [
    "college_prev.shape"
   ]
  },
  {
   "cell_type": "code",
   "execution_count": 38,
   "metadata": {},
   "outputs": [
    {
     "data": {
      "text/plain": [
       "Index(['coll_name_case_independent', 'coll_name_norm_wo_common_words',\n",
       "       'coll_name_norm_wo_common_words_v2', 'college_name',\n",
       "       'college_name_normalized', 'master_mod_index', 'mod_index',\n",
       "       'tcs_region'],\n",
       "      dtype='object')"
      ]
     },
     "execution_count": 38,
     "metadata": {},
     "output_type": "execute_result"
    }
   ],
   "source": [
    "college_prev.columns"
   ]
  },
  {
   "cell_type": "code",
   "execution_count": 39,
   "metadata": {
    "collapsed": true
   },
   "outputs": [],
   "source": [
    "college_prev.to_excel('./college_combined_2k15_2k16_2k17.xlsx',index=True)"
   ]
  },
  {
   "cell_type": "code",
   "execution_count": null,
   "metadata": {
    "collapsed": true
   },
   "outputs": [],
   "source": []
  }
 ],
 "metadata": {
  "kernelspec": {
   "display_name": "Python 3",
   "language": "python",
   "name": "python3"
  },
  "language_info": {
   "codemirror_mode": {
    "name": "ipython",
    "version": 3
   },
   "file_extension": ".py",
   "mimetype": "text/x-python",
   "name": "python",
   "nbconvert_exporter": "python",
   "pygments_lexer": "ipython3",
   "version": "3.6.0"
  }
 },
 "nbformat": 4,
 "nbformat_minor": 2
}
