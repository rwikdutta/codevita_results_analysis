{
 "cells": [
  {
   "cell_type": "code",
   "execution_count": 1,
   "metadata": {
    "collapsed": true
   },
   "outputs": [],
   "source": [
    "#%qtconsole\n",
    "import pandas as pd\n",
    "import platform"
   ]
  },
  {
   "cell_type": "code",
   "execution_count": 2,
   "metadata": {
    "collapsed": true
   },
   "outputs": [],
   "source": [
    "file_name='codevita 2k15 scrapped.csv'\n",
    "def return_file_path(base_url,file_name,file_seperator,intermediate_folder=''):\n",
    "    if not intermediate_folder=='':\n",
    "        intermediate_folder=intermediate_folder+file_seperator\n",
    "    return '{}{}{}'.format(base_url,intermediate_folder,file_name)\n",
    "\n",
    "if platform.system()=='Linux':\n",
    "    base_url=r'/mnt/ECFC8291FC8255AC/Datasets/Codevita Results/'\n",
    "    file_seperator='/'\n",
    "else:\n",
    "    file_seperator='\\\\'\n",
    "    base_url='F:\\\\Datasets\\\\Codevita Results\\\\'\n",
    "    \n",
    "    \n",
    "\n",
    "if platform.system()=='Linux':\n",
    "    results_2k15_df=pd.read_csv(return_file_path(base_url,file_name,file_seperator))\n",
    "else:\n",
    "    results_2k15_df=pd.read_csv(return_file_path(base_url,file_name,file_seperator))"
   ]
  },
  {
   "cell_type": "code",
   "execution_count": 3,
   "metadata": {},
   "outputs": [
    {
     "data": {
      "text/plain": [
       "(2815, 5)"
      ]
     },
     "execution_count": 3,
     "metadata": {},
     "output_type": "execute_result"
    }
   ],
   "source": [
    "results_2k15_df.shape"
   ]
  },
  {
   "cell_type": "code",
   "execution_count": 4,
   "metadata": {},
   "outputs": [
    {
     "data": {
      "text/html": [
       "<div>\n",
       "<table border=\"1\" class=\"dataframe\">\n",
       "  <thead>\n",
       "    <tr style=\"text-align: right;\">\n",
       "      <th></th>\n",
       "      <th>Rank</th>\n",
       "    </tr>\n",
       "  </thead>\n",
       "  <tbody>\n",
       "    <tr>\n",
       "      <th>count</th>\n",
       "      <td>2815.000000</td>\n",
       "    </tr>\n",
       "    <tr>\n",
       "      <th>mean</th>\n",
       "      <td>1408.000000</td>\n",
       "    </tr>\n",
       "    <tr>\n",
       "      <th>std</th>\n",
       "      <td>812.764829</td>\n",
       "    </tr>\n",
       "    <tr>\n",
       "      <th>min</th>\n",
       "      <td>1.000000</td>\n",
       "    </tr>\n",
       "    <tr>\n",
       "      <th>25%</th>\n",
       "      <td>704.500000</td>\n",
       "    </tr>\n",
       "    <tr>\n",
       "      <th>50%</th>\n",
       "      <td>1408.000000</td>\n",
       "    </tr>\n",
       "    <tr>\n",
       "      <th>75%</th>\n",
       "      <td>2111.500000</td>\n",
       "    </tr>\n",
       "    <tr>\n",
       "      <th>max</th>\n",
       "      <td>2815.000000</td>\n",
       "    </tr>\n",
       "  </tbody>\n",
       "</table>\n",
       "</div>"
      ],
      "text/plain": [
       "              Rank\n",
       "count  2815.000000\n",
       "mean   1408.000000\n",
       "std     812.764829\n",
       "min       1.000000\n",
       "25%     704.500000\n",
       "50%    1408.000000\n",
       "75%    2111.500000\n",
       "max    2815.000000"
      ]
     },
     "execution_count": 4,
     "metadata": {},
     "output_type": "execute_result"
    }
   ],
   "source": [
    "results_2k15_df.describe()"
   ]
  },
  {
   "cell_type": "code",
   "execution_count": 5,
   "metadata": {},
   "outputs": [
    {
     "data": {
      "text/html": [
       "<div>\n",
       "<table border=\"1\" class=\"dataframe\">\n",
       "  <thead>\n",
       "    <tr style=\"text-align: right;\">\n",
       "      <th></th>\n",
       "      <th>Rank</th>\n",
       "      <th>Team Name</th>\n",
       "      <th>Users Name</th>\n",
       "      <th>TCS Region</th>\n",
       "      <th>College Name</th>\n",
       "    </tr>\n",
       "  </thead>\n",
       "  <tbody>\n",
       "    <tr>\n",
       "      <th>0</th>\n",
       "      <td>2294</td>\n",
       "      <td>CRUSADERS</td>\n",
       "      <td>Arjun Panicker &amp; Aditya Bharti</td>\n",
       "      <td>Chennai</td>\n",
       "      <td>Srm Engineering College., Kattankulathur</td>\n",
       "    </tr>\n",
       "    <tr>\n",
       "      <th>1</th>\n",
       "      <td>261</td>\n",
       "      <td>theAces</td>\n",
       "      <td>Sudhanshu Singh &amp; Vikram Jadon</td>\n",
       "      <td>Pune</td>\n",
       "      <td>Army Institute of Technology,Pune University, ...</td>\n",
       "    </tr>\n",
       "    <tr>\n",
       "      <th>2</th>\n",
       "      <td>2148</td>\n",
       "      <td>RMCoderz</td>\n",
       "      <td>Meghana Reddy &amp; Rushil Basappa</td>\n",
       "      <td>Hyderabad</td>\n",
       "      <td>Osmania University, Hyderabad</td>\n",
       "    </tr>\n",
       "    <tr>\n",
       "      <th>3</th>\n",
       "      <td>1473</td>\n",
       "      <td>Blazing Bees</td>\n",
       "      <td>Bharat Ramnani &amp; Bhavishya Garg</td>\n",
       "      <td>Mumbai</td>\n",
       "      <td>Medicaps Inst of Tech &amp; Management, Indore</td>\n",
       "    </tr>\n",
       "    <tr>\n",
       "      <th>4</th>\n",
       "      <td>2764</td>\n",
       "      <td>Rayfield LeGeNdS</td>\n",
       "      <td>Akshay Damodaran &amp; Niranjan Sharma</td>\n",
       "      <td>Mumbai</td>\n",
       "      <td>Ramrao Adik Institute of Technology,Nerul</td>\n",
       "    </tr>\n",
       "  </tbody>\n",
       "</table>\n",
       "</div>"
      ],
      "text/plain": [
       "   Rank         Team Name                          Users Name TCS Region  \\\n",
       "0  2294         CRUSADERS      Arjun Panicker & Aditya Bharti    Chennai   \n",
       "1   261           theAces      Sudhanshu Singh & Vikram Jadon       Pune   \n",
       "2  2148          RMCoderz      Meghana Reddy & Rushil Basappa  Hyderabad   \n",
       "3  1473      Blazing Bees     Bharat Ramnani & Bhavishya Garg     Mumbai   \n",
       "4  2764  Rayfield LeGeNdS  Akshay Damodaran & Niranjan Sharma     Mumbai   \n",
       "\n",
       "                                        College Name  \n",
       "0           Srm Engineering College., Kattankulathur  \n",
       "1  Army Institute of Technology,Pune University, ...  \n",
       "2                      Osmania University, Hyderabad  \n",
       "3         Medicaps Inst of Tech & Management, Indore  \n",
       "4          Ramrao Adik Institute of Technology,Nerul  "
      ]
     },
     "execution_count": 5,
     "metadata": {},
     "output_type": "execute_result"
    }
   ],
   "source": [
    "results_2k15_df.head()"
   ]
  },
  {
   "cell_type": "markdown",
   "metadata": {},
   "source": [
    "Removing all the spaces from the names of the columns in the DF for easier access as a property of the DF object instead of having to index into a specific column"
   ]
  },
  {
   "cell_type": "code",
   "execution_count": 6,
   "metadata": {
    "collapsed": true
   },
   "outputs": [],
   "source": [
    "results_2k15_df['team_name']=results_2k15_df['Team Name']\n",
    "results_2k15_df=results_2k15_df.drop('Team Name',axis=1)"
   ]
  },
  {
   "cell_type": "code",
   "execution_count": 7,
   "metadata": {
    "collapsed": true
   },
   "outputs": [],
   "source": [
    "results_2k15_df['tcs_region']=results_2k15_df['TCS Region']\n",
    "results_2k15_df=results_2k15_df.drop('TCS Region',axis=1)"
   ]
  },
  {
   "cell_type": "code",
   "execution_count": 8,
   "metadata": {
    "collapsed": true
   },
   "outputs": [],
   "source": [
    "results_2k15_df['users_name']=results_2k15_df['Users Name']\n",
    "results_2k15_df=results_2k15_df.drop('Users Name',axis=1)"
   ]
  },
  {
   "cell_type": "code",
   "execution_count": 9,
   "metadata": {
    "collapsed": true
   },
   "outputs": [],
   "source": [
    "results_2k15_df['college_name']=results_2k15_df['College Name']\n",
    "results_2k15_df=results_2k15_df.drop('College Name',axis=1)"
   ]
  },
  {
   "cell_type": "code",
   "execution_count": 10,
   "metadata": {},
   "outputs": [
    {
     "data": {
      "text/html": [
       "<div>\n",
       "<table border=\"1\" class=\"dataframe\">\n",
       "  <thead>\n",
       "    <tr style=\"text-align: right;\">\n",
       "      <th></th>\n",
       "      <th>Rank</th>\n",
       "      <th>team_name</th>\n",
       "      <th>tcs_region</th>\n",
       "      <th>users_name</th>\n",
       "      <th>college_name</th>\n",
       "    </tr>\n",
       "  </thead>\n",
       "  <tbody>\n",
       "    <tr>\n",
       "      <th>0</th>\n",
       "      <td>2294</td>\n",
       "      <td>CRUSADERS</td>\n",
       "      <td>Chennai</td>\n",
       "      <td>Arjun Panicker &amp; Aditya Bharti</td>\n",
       "      <td>Srm Engineering College., Kattankulathur</td>\n",
       "    </tr>\n",
       "    <tr>\n",
       "      <th>1</th>\n",
       "      <td>261</td>\n",
       "      <td>theAces</td>\n",
       "      <td>Pune</td>\n",
       "      <td>Sudhanshu Singh &amp; Vikram Jadon</td>\n",
       "      <td>Army Institute of Technology,Pune University, ...</td>\n",
       "    </tr>\n",
       "    <tr>\n",
       "      <th>2</th>\n",
       "      <td>2148</td>\n",
       "      <td>RMCoderz</td>\n",
       "      <td>Hyderabad</td>\n",
       "      <td>Meghana Reddy &amp; Rushil Basappa</td>\n",
       "      <td>Osmania University, Hyderabad</td>\n",
       "    </tr>\n",
       "    <tr>\n",
       "      <th>3</th>\n",
       "      <td>1473</td>\n",
       "      <td>Blazing Bees</td>\n",
       "      <td>Mumbai</td>\n",
       "      <td>Bharat Ramnani &amp; Bhavishya Garg</td>\n",
       "      <td>Medicaps Inst of Tech &amp; Management, Indore</td>\n",
       "    </tr>\n",
       "    <tr>\n",
       "      <th>4</th>\n",
       "      <td>2764</td>\n",
       "      <td>Rayfield LeGeNdS</td>\n",
       "      <td>Mumbai</td>\n",
       "      <td>Akshay Damodaran &amp; Niranjan Sharma</td>\n",
       "      <td>Ramrao Adik Institute of Technology,Nerul</td>\n",
       "    </tr>\n",
       "  </tbody>\n",
       "</table>\n",
       "</div>"
      ],
      "text/plain": [
       "   Rank         team_name tcs_region                          users_name  \\\n",
       "0  2294         CRUSADERS    Chennai      Arjun Panicker & Aditya Bharti   \n",
       "1   261           theAces       Pune      Sudhanshu Singh & Vikram Jadon   \n",
       "2  2148          RMCoderz  Hyderabad      Meghana Reddy & Rushil Basappa   \n",
       "3  1473      Blazing Bees     Mumbai     Bharat Ramnani & Bhavishya Garg   \n",
       "4  2764  Rayfield LeGeNdS     Mumbai  Akshay Damodaran & Niranjan Sharma   \n",
       "\n",
       "                                        college_name  \n",
       "0           Srm Engineering College., Kattankulathur  \n",
       "1  Army Institute of Technology,Pune University, ...  \n",
       "2                      Osmania University, Hyderabad  \n",
       "3         Medicaps Inst of Tech & Management, Indore  \n",
       "4          Ramrao Adik Institute of Technology,Nerul  "
      ]
     },
     "execution_count": 10,
     "metadata": {},
     "output_type": "execute_result"
    }
   ],
   "source": [
    "results_2k15_df.head()"
   ]
  },
  {
   "cell_type": "markdown",
   "metadata": {},
   "source": [
    "Checking whether each entry of the users_name column has a '&'...if it has two entries, only then will the '&' be present otherwise it will not be present...if not present it will raise an assertion error"
   ]
  },
  {
   "cell_type": "code",
   "execution_count": 11,
   "metadata": {
    "collapsed": true
   },
   "outputs": [],
   "source": [
    "assert(sum(results_2k15_df.users_name.apply(lambda x:not '&' in x))==0)"
   ]
  },
  {
   "cell_type": "code",
   "execution_count": 12,
   "metadata": {
    "collapsed": true
   },
   "outputs": [],
   "source": [
    "results_2k15_df['user_1']=results_2k15_df.users_name.apply(lambda x:x.split(sep='&')[0].strip())\n",
    "results_2k15_df['user_2']=results_2k15_df.users_name.apply(lambda x:x.split(sep='&')[1].strip())"
   ]
  },
  {
   "cell_type": "markdown",
   "metadata": {},
   "source": [
    "Checking for any null entries in user_1 or user_2"
   ]
  },
  {
   "cell_type": "code",
   "execution_count": 13,
   "metadata": {
    "collapsed": true
   },
   "outputs": [],
   "source": [
    "assert(results_2k15_df.user_1[results_2k15_df.user_1==''].shape[0]==0)\n",
    "assert(results_2k15_df.user_2[results_2k15_df.user_2==''].shape[0]==0)"
   ]
  },
  {
   "cell_type": "markdown",
   "metadata": {},
   "source": [
    "Checking whether the column of tcs_regions contains any invalid entries"
   ]
  },
  {
   "cell_type": "code",
   "execution_count": 14,
   "metadata": {},
   "outputs": [
    {
     "data": {
      "text/plain": [
       "array(['Chennai', 'Pune', 'Hyderabad', 'Mumbai', 'Kolkata', 'Delhi',\n",
       "       'Lucknow', 'Bangalore', 'Trivandrum', 'Ahmedabad'], dtype=object)"
      ]
     },
     "execution_count": 14,
     "metadata": {},
     "output_type": "execute_result"
    }
   ],
   "source": [
    "results_2k15_df.tcs_region.unique()"
   ]
  },
  {
   "cell_type": "markdown",
   "metadata": {},
   "source": [
    "Observation: Many colleges have the name of the department attached before them...all of those start with the word 'Dept'"
   ]
  },
  {
   "cell_type": "code",
   "execution_count": 15,
   "metadata": {},
   "outputs": [
    {
     "data": {
      "text/plain": [
       "11      Dept of Cs & Electronics, Guru Nanak Universit...\n",
       "424     Dept of Cs & Electronics, Guru Nanak Universit...\n",
       "616     Dept. of Computer Science & Technology, Goa Un...\n",
       "835     Dept of Cs & Electronics, Guru Nanak Universit...\n",
       "871     Dept of Cs & Electronics, Guru Nanak Universit...\n",
       "967     Dept of Cs & Electronics, Guru Nanak Universit...\n",
       "1083    Dept of Cs & Electronics, Guru Nanak Universit...\n",
       "1552    Dept of Cs & Electronics, Guru Nanak Universit...\n",
       "1743    Dept of Cs & Electronics, Guru Nanak Universit...\n",
       "1764    Dept of Cs & Electronics, Guru Nanak Universit...\n",
       "1978    Dept of Cs & Electronics, Guru Nanak Universit...\n",
       "2096    Dept. of Computer Science & Technology, Goa Un...\n",
       "2135    Dept of Cs & Electronics, Guru Nanak Universit...\n",
       "2192    Dept of Cs & Electronics, Guru Nanak Universit...\n",
       "2392    Dept of Cs & Electronics, Guru Nanak Universit...\n",
       "2426    Dept of Cs & Electronics, Guru Nanak Universit...\n",
       "2650    Dept of Cs & Electronics, Guru Nanak Universit...\n",
       "2755    Dept of Cs & Electronics, Guru Nanak Universit...\n",
       "Name: college_name, dtype: object"
      ]
     },
     "execution_count": 15,
     "metadata": {},
     "output_type": "execute_result"
    }
   ],
   "source": [
    "results_2k15_df.college_name[results_2k15_df.college_name.str.startswith('Dept')]"
   ]
  },
  {
   "cell_type": "code",
   "execution_count": 16,
   "metadata": {},
   "outputs": [
    {
     "data": {
      "text/plain": [
       "array(['Dept of Cs & Electronics, Guru Nanak University, Amritsar',\n",
       "       'Dept. of Computer Science & Technology, Goa University'], dtype=object)"
      ]
     },
     "execution_count": 16,
     "metadata": {},
     "output_type": "execute_result"
    }
   ],
   "source": [
    "results_2k15_df.college_name[results_2k15_df.college_name.str.startswith('Dept')].unique()"
   ]
  },
  {
   "cell_type": "markdown",
   "metadata": {},
   "source": [
    "Extracting the name of the college from the above results...note that we can extract the results by splitting it at the occurence of the first comma"
   ]
  },
  {
   "cell_type": "code",
   "execution_count": 17,
   "metadata": {
    "collapsed": true
   },
   "outputs": [],
   "source": [
    "results_2k15_df.college_name=results_2k15_df.college_name.apply(lambda x:x.split(sep=',')[1] if x.startswith('Dept') else x)"
   ]
  },
  {
   "cell_type": "code",
   "execution_count": 18,
   "metadata": {},
   "outputs": [
    {
     "data": {
      "text/plain": [
       "Series([], Name: college_name, dtype: object)"
      ]
     },
     "execution_count": 18,
     "metadata": {},
     "output_type": "execute_result"
    }
   ],
   "source": [
    "results_2k15_df.college_name[results_2k15_df.college_name.str.startswith('Dept')]"
   ]
  },
  {
   "cell_type": "markdown",
   "metadata": {},
   "source": [
    "Checking for empty values in team_name"
   ]
  },
  {
   "cell_type": "code",
   "execution_count": 19,
   "metadata": {},
   "outputs": [
    {
     "data": {
      "text/plain": [
       "Series([], Name: team_name, dtype: object)"
      ]
     },
     "execution_count": 19,
     "metadata": {},
     "output_type": "execute_result"
    }
   ],
   "source": [
    "results_2k15_df.team_name[results_2k15_df.team_name=='']"
   ]
  },
  {
   "cell_type": "code",
   "execution_count": 20,
   "metadata": {
    "collapsed": true
   },
   "outputs": [],
   "source": [
    "college_df=pd.DataFrame(results_2k15_df,columns=['college_name','tcs_region'])"
   ]
  },
  {
   "cell_type": "code",
   "execution_count": 21,
   "metadata": {},
   "outputs": [
    {
     "data": {
      "text/plain": [
       "(2815, 2)"
      ]
     },
     "execution_count": 21,
     "metadata": {},
     "output_type": "execute_result"
    }
   ],
   "source": [
    "college_df.shape"
   ]
  },
  {
   "cell_type": "code",
   "execution_count": 22,
   "metadata": {},
   "outputs": [
    {
     "data": {
      "text/html": [
       "<div>\n",
       "<table border=\"1\" class=\"dataframe\">\n",
       "  <thead>\n",
       "    <tr style=\"text-align: right;\">\n",
       "      <th></th>\n",
       "      <th>college_name</th>\n",
       "      <th>tcs_region</th>\n",
       "    </tr>\n",
       "  </thead>\n",
       "  <tbody>\n",
       "    <tr>\n",
       "      <th>0</th>\n",
       "      <td>Srm Engineering College., Kattankulathur</td>\n",
       "      <td>Chennai</td>\n",
       "    </tr>\n",
       "    <tr>\n",
       "      <th>1</th>\n",
       "      <td>Army Institute of Technology,Pune University, ...</td>\n",
       "      <td>Pune</td>\n",
       "    </tr>\n",
       "    <tr>\n",
       "      <th>2</th>\n",
       "      <td>Osmania University, Hyderabad</td>\n",
       "      <td>Hyderabad</td>\n",
       "    </tr>\n",
       "    <tr>\n",
       "      <th>3</th>\n",
       "      <td>Medicaps Inst of Tech &amp; Management, Indore</td>\n",
       "      <td>Mumbai</td>\n",
       "    </tr>\n",
       "    <tr>\n",
       "      <th>4</th>\n",
       "      <td>Ramrao Adik Institute of Technology,Nerul</td>\n",
       "      <td>Mumbai</td>\n",
       "    </tr>\n",
       "  </tbody>\n",
       "</table>\n",
       "</div>"
      ],
      "text/plain": [
       "                                        college_name tcs_region\n",
       "0           Srm Engineering College., Kattankulathur    Chennai\n",
       "1  Army Institute of Technology,Pune University, ...       Pune\n",
       "2                      Osmania University, Hyderabad  Hyderabad\n",
       "3         Medicaps Inst of Tech & Management, Indore     Mumbai\n",
       "4          Ramrao Adik Institute of Technology,Nerul     Mumbai"
      ]
     },
     "execution_count": 22,
     "metadata": {},
     "output_type": "execute_result"
    }
   ],
   "source": [
    "college_df.head()"
   ]
  },
  {
   "cell_type": "code",
   "execution_count": 23,
   "metadata": {
    "collapsed": true
   },
   "outputs": [],
   "source": [
    "college_df=college_df.drop_duplicates()\n",
    "college_df.college_name=college_df.college_name.str.strip()"
   ]
  },
  {
   "cell_type": "code",
   "execution_count": 24,
   "metadata": {
    "collapsed": true
   },
   "outputs": [],
   "source": [
    "college_df.to_csv(return_file_path(base_url,'college_list_2k15.csv',file_seperator,intermediate_folder='generated_preprocessing'))"
   ]
  },
  {
   "cell_type": "code",
   "execution_count": 25,
   "metadata": {
    "collapsed": true
   },
   "outputs": [],
   "source": [
    "results_2k15_df.to_csv(return_file_path(base_url,'codevita_2k15_preprocessed.csv',file_seperator,intermediate_folder='generated_preprocessing'))"
   ]
  },
  {
   "cell_type": "code",
   "execution_count": null,
   "metadata": {
    "collapsed": true
   },
   "outputs": [],
   "source": []
  }
 ],
 "metadata": {
  "kernelspec": {
   "display_name": "Python 3",
   "language": "python",
   "name": "python3"
  },
  "language_info": {
   "codemirror_mode": {
    "name": "ipython",
    "version": 3
   },
   "file_extension": ".py",
   "mimetype": "text/x-python",
   "name": "python",
   "nbconvert_exporter": "python",
   "pygments_lexer": "ipython3",
   "version": "3.6.0"
  }
 },
 "nbformat": 4,
 "nbformat_minor": 2
}
