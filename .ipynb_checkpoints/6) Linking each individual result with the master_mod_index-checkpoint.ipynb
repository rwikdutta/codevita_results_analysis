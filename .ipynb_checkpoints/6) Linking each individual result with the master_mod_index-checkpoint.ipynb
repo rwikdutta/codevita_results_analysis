{
 "cells": [
  {
   "cell_type": "code",
   "execution_count": 1,
   "metadata": {
    "collapsed": true
   },
   "outputs": [],
   "source": [
    "import pandas as pd\n",
    "import numpy as np\n",
    "#%qtconsole\n",
    "import platform\n",
    "import matplotlib.pyplot as plt\n",
    "%matplotlib inline"
   ]
  },
  {
   "cell_type": "code",
   "execution_count": 2,
   "metadata": {
    "collapsed": true
   },
   "outputs": [],
   "source": [
    "def return_file_path(base_url,file_name,file_seperator,intermediate_folder=''):\n",
    "    if not intermediate_folder=='':\n",
    "        intermediate_folder=intermediate_folder+file_seperator\n",
    "    return '{}{}{}'.format(base_url,intermediate_folder,file_name)"
   ]
  },
  {
   "cell_type": "code",
   "execution_count": 3,
   "metadata": {
    "collapsed": true
   },
   "outputs": [],
   "source": [
    "if platform.system()=='Linux':\n",
    "    base_url=r'/mnt/ECFC8291FC8255AC/Datasets/Codevita Results/'\n",
    "    file_seperator='/'\n",
    "else:\n",
    "    file_seperator='\\\\'\n",
    "    base_url='F:\\\\Datasets\\\\Codevita Results\\\\'\n",
    "intermediate_folder=''"
   ]
  },
  {
   "cell_type": "code",
   "execution_count": 4,
   "metadata": {},
   "outputs": [
    {
     "data": {
      "text/html": [
       "<div>\n",
       "<table border=\"1\" class=\"dataframe\">\n",
       "  <thead>\n",
       "    <tr style=\"text-align: right;\">\n",
       "      <th></th>\n",
       "      <th>coll_name_case_independent</th>\n",
       "      <th>coll_name_norm_wo_common_words</th>\n",
       "      <th>coll_name_norm_wo_common_words_v2</th>\n",
       "      <th>college_name</th>\n",
       "      <th>college_name_normalized</th>\n",
       "      <th>master_mod_index</th>\n",
       "      <th>mod_index</th>\n",
       "      <th>tcs_region</th>\n",
       "    </tr>\n",
       "  </thead>\n",
       "  <tbody>\n",
       "    <tr>\n",
       "      <th>0</th>\n",
       "      <td>srm engineering college., kattankulathur</td>\n",
       "      <td>srm kattankulathur</td>\n",
       "      <td>srm kattankulathur</td>\n",
       "      <td>Srm Engineering College., Kattankulathur</td>\n",
       "      <td>srm engineering college kattankulathur</td>\n",
       "      <td>2k15_0</td>\n",
       "      <td>2k15_0</td>\n",
       "      <td>Chennai</td>\n",
       "    </tr>\n",
       "    <tr>\n",
       "      <th>1</th>\n",
       "      <td>army institute of technology,pune university, ...</td>\n",
       "      <td>army pune pune</td>\n",
       "      <td>army pune pune</td>\n",
       "      <td>Army Institute of Technology,Pune University, ...</td>\n",
       "      <td>army institute of technology pune university pune</td>\n",
       "      <td>2k15_1</td>\n",
       "      <td>2k15_1</td>\n",
       "      <td>Pune</td>\n",
       "    </tr>\n",
       "    <tr>\n",
       "      <th>2</th>\n",
       "      <td>osmania university, hyderabad</td>\n",
       "      <td>osmania hyderabad</td>\n",
       "      <td>osmania hyderabad</td>\n",
       "      <td>Osmania University, Hyderabad</td>\n",
       "      <td>osmania university hyderabad</td>\n",
       "      <td>2k15_2</td>\n",
       "      <td>2k15_2</td>\n",
       "      <td>Hyderabad</td>\n",
       "    </tr>\n",
       "    <tr>\n",
       "      <th>3</th>\n",
       "      <td>medicaps inst of tech &amp; management, indore</td>\n",
       "      <td>medicaps tech indore</td>\n",
       "      <td>medicaps tech indore</td>\n",
       "      <td>Medicaps Inst of Tech &amp; Management, Indore</td>\n",
       "      <td>medicaps inst of tech management indore</td>\n",
       "      <td>2k15_3</td>\n",
       "      <td>2k15_3</td>\n",
       "      <td>Mumbai</td>\n",
       "    </tr>\n",
       "    <tr>\n",
       "      <th>4</th>\n",
       "      <td>ramrao adik institute of technology,nerul</td>\n",
       "      <td>ramrao adik nerul</td>\n",
       "      <td>ramrao adik nerul</td>\n",
       "      <td>Ramrao Adik Institute of Technology,Nerul</td>\n",
       "      <td>ramrao adik institute of technology nerul</td>\n",
       "      <td>2k15_4</td>\n",
       "      <td>2k15_4</td>\n",
       "      <td>Mumbai</td>\n",
       "    </tr>\n",
       "  </tbody>\n",
       "</table>\n",
       "</div>"
      ],
      "text/plain": [
       "                          coll_name_case_independent  \\\n",
       "0           srm engineering college., kattankulathur   \n",
       "1  army institute of technology,pune university, ...   \n",
       "2                      osmania university, hyderabad   \n",
       "3         medicaps inst of tech & management, indore   \n",
       "4          ramrao adik institute of technology,nerul   \n",
       "\n",
       "  coll_name_norm_wo_common_words coll_name_norm_wo_common_words_v2  \\\n",
       "0             srm kattankulathur                srm kattankulathur   \n",
       "1                 army pune pune                    army pune pune   \n",
       "2              osmania hyderabad                 osmania hyderabad   \n",
       "3           medicaps tech indore              medicaps tech indore   \n",
       "4              ramrao adik nerul                 ramrao adik nerul   \n",
       "\n",
       "                                        college_name  \\\n",
       "0           Srm Engineering College., Kattankulathur   \n",
       "1  Army Institute of Technology,Pune University, ...   \n",
       "2                      Osmania University, Hyderabad   \n",
       "3         Medicaps Inst of Tech & Management, Indore   \n",
       "4          Ramrao Adik Institute of Technology,Nerul   \n",
       "\n",
       "                             college_name_normalized master_mod_index  \\\n",
       "0             srm engineering college kattankulathur           2k15_0   \n",
       "1  army institute of technology pune university pune           2k15_1   \n",
       "2                       osmania university hyderabad           2k15_2   \n",
       "3            medicaps inst of tech management indore           2k15_3   \n",
       "4          ramrao adik institute of technology nerul           2k15_4   \n",
       "\n",
       "  mod_index tcs_region  \n",
       "0    2k15_0    Chennai  \n",
       "1    2k15_1       Pune  \n",
       "2    2k15_2  Hyderabad  \n",
       "3    2k15_3     Mumbai  \n",
       "4    2k15_4     Mumbai  "
      ]
     },
     "execution_count": 4,
     "metadata": {},
     "output_type": "execute_result"
    }
   ],
   "source": [
    "college_list=pd.read_excel('./college_combined_2k15_2k16_2k17.xlsx')\n",
    "college_list.head()"
   ]
  },
  {
   "cell_type": "code",
   "execution_count": 5,
   "metadata": {
    "collapsed": true
   },
   "outputs": [],
   "source": [
    "college_list=college_list.sort_values('master_mod_index')"
   ]
  },
  {
   "cell_type": "code",
   "execution_count": 6,
   "metadata": {},
   "outputs": [
    {
     "data": {
      "text/html": [
       "<div>\n",
       "<table border=\"1\" class=\"dataframe\">\n",
       "  <thead>\n",
       "    <tr style=\"text-align: right;\">\n",
       "      <th></th>\n",
       "      <th>coll_name_case_independent</th>\n",
       "      <th>coll_name_norm_wo_common_words</th>\n",
       "      <th>coll_name_norm_wo_common_words_v2</th>\n",
       "      <th>college_name</th>\n",
       "      <th>college_name_normalized</th>\n",
       "      <th>master_mod_index</th>\n",
       "      <th>mod_index</th>\n",
       "      <th>tcs_region</th>\n",
       "    </tr>\n",
       "  </thead>\n",
       "  <tbody>\n",
       "    <tr>\n",
       "      <th>0</th>\n",
       "      <td>srm engineering college., kattankulathur</td>\n",
       "      <td>srm kattankulathur</td>\n",
       "      <td>srm kattankulathur</td>\n",
       "      <td>Srm Engineering College., Kattankulathur</td>\n",
       "      <td>srm engineering college kattankulathur</td>\n",
       "      <td>2k15_0</td>\n",
       "      <td>2k15_0</td>\n",
       "      <td>Chennai</td>\n",
       "    </tr>\n",
       "    <tr>\n",
       "      <th>1653</th>\n",
       "      <td>srm engineering college., kattankulathur</td>\n",
       "      <td>srm kattankulathur</td>\n",
       "      <td>srm kattankulathur</td>\n",
       "      <td>Srm Engineering College., Kattankulathur</td>\n",
       "      <td>srm engineering college kattankulathur</td>\n",
       "      <td>2k15_0</td>\n",
       "      <td>2k17_420</td>\n",
       "      <td>zone3</td>\n",
       "    </tr>\n",
       "    <tr>\n",
       "      <th>691</th>\n",
       "      <td>srm engineering college., kattankulathur</td>\n",
       "      <td>srm kattankulathur</td>\n",
       "      <td>srm kattankulathur</td>\n",
       "      <td>Srm Engineering College., Kattankulathur</td>\n",
       "      <td>srm engineering college kattankulathur</td>\n",
       "      <td>2k15_0</td>\n",
       "      <td>2k16_143</td>\n",
       "      <td>Chennai</td>\n",
       "    </tr>\n",
       "    <tr>\n",
       "      <th>1257</th>\n",
       "      <td>army institute of technology,pune university, ...</td>\n",
       "      <td>army pune pune</td>\n",
       "      <td>army pune pune</td>\n",
       "      <td>Army Institute of Technology,Pune University, ...</td>\n",
       "      <td>army institute of technology pune university pune</td>\n",
       "      <td>2k15_1</td>\n",
       "      <td>2k17_24</td>\n",
       "      <td>zone2</td>\n",
       "    </tr>\n",
       "    <tr>\n",
       "      <th>599</th>\n",
       "      <td>army institute of technology,pune university, ...</td>\n",
       "      <td>army pune pune</td>\n",
       "      <td>army pune pune</td>\n",
       "      <td>Army Institute of Technology,Pune University, ...</td>\n",
       "      <td>army institute of technology pune university pune</td>\n",
       "      <td>2k15_1</td>\n",
       "      <td>2k16_51</td>\n",
       "      <td>Pune</td>\n",
       "    </tr>\n",
       "  </tbody>\n",
       "</table>\n",
       "</div>"
      ],
      "text/plain": [
       "                             coll_name_case_independent  \\\n",
       "0              srm engineering college., kattankulathur   \n",
       "1653           srm engineering college., kattankulathur   \n",
       "691            srm engineering college., kattankulathur   \n",
       "1257  army institute of technology,pune university, ...   \n",
       "599   army institute of technology,pune university, ...   \n",
       "\n",
       "     coll_name_norm_wo_common_words coll_name_norm_wo_common_words_v2  \\\n",
       "0                srm kattankulathur                srm kattankulathur   \n",
       "1653             srm kattankulathur                srm kattankulathur   \n",
       "691              srm kattankulathur                srm kattankulathur   \n",
       "1257                 army pune pune                    army pune pune   \n",
       "599                  army pune pune                    army pune pune   \n",
       "\n",
       "                                           college_name  \\\n",
       "0              Srm Engineering College., Kattankulathur   \n",
       "1653           Srm Engineering College., Kattankulathur   \n",
       "691            Srm Engineering College., Kattankulathur   \n",
       "1257  Army Institute of Technology,Pune University, ...   \n",
       "599   Army Institute of Technology,Pune University, ...   \n",
       "\n",
       "                                college_name_normalized master_mod_index  \\\n",
       "0                srm engineering college kattankulathur           2k15_0   \n",
       "1653             srm engineering college kattankulathur           2k15_0   \n",
       "691              srm engineering college kattankulathur           2k15_0   \n",
       "1257  army institute of technology pune university pune           2k15_1   \n",
       "599   army institute of technology pune university pune           2k15_1   \n",
       "\n",
       "     mod_index tcs_region  \n",
       "0       2k15_0    Chennai  \n",
       "1653  2k17_420      zone3  \n",
       "691   2k16_143    Chennai  \n",
       "1257   2k17_24      zone2  \n",
       "599    2k16_51       Pune  "
      ]
     },
     "execution_count": 6,
     "metadata": {},
     "output_type": "execute_result"
    }
   ],
   "source": [
    "college_list.head()"
   ]
  },
  {
   "cell_type": "code",
   "execution_count": 7,
   "metadata": {
    "collapsed": true
   },
   "outputs": [],
   "source": [
    "results_2k15_df=pd.read_csv(return_file_path(base_url,'codevita_2k15_preprocessed.csv',file_seperator,'generated_preprocessing'))\n",
    "results_2k16_df=pd.read_csv(return_file_path(base_url,'results_2k16_preprocessed.csv',file_seperator,'generated_preprocessing'))\n",
    "results_2k17_df=pd.read_csv(return_file_path(base_url,'codevita_2k17_scrapped.csv',file_seperator))"
   ]
  },
  {
   "cell_type": "code",
   "execution_count": 8,
   "metadata": {},
   "outputs": [
    {
     "data": {
      "text/plain": [
       "(2815, 4150, 2382)"
      ]
     },
     "execution_count": 8,
     "metadata": {},
     "output_type": "execute_result"
    }
   ],
   "source": [
    "(results_2k15_df.shape[0],results_2k16_df.shape[0],results_2k17_df.shape[0])"
   ]
  },
  {
   "cell_type": "markdown",
   "metadata": {},
   "source": [
    "See screenshots 6 and 7 to understand why it is necessary to remove leading and trailing whitespaces"
   ]
  },
  {
   "cell_type": "code",
   "execution_count": 9,
   "metadata": {},
   "outputs": [
    {
     "data": {
      "text/plain": [
       "Index(['Unnamed: 0', 'Rank', 'team_name', 'tcs_region', 'users_name',\n",
       "       'college_name', 'user_1', 'user_2'],\n",
       "      dtype='object')"
      ]
     },
     "execution_count": 9,
     "metadata": {},
     "output_type": "execute_result"
    }
   ],
   "source": [
    "results_2k15_df.columns"
   ]
  },
  {
   "cell_type": "code",
   "execution_count": 10,
   "metadata": {},
   "outputs": [
    {
     "data": {
      "text/plain": [
       "Index(['college_name', 'ranks', 'tcs_region', 'team_name', 'user_name',\n",
       "       'user_1', 'user_2', 'college_name_modified', 'tcs_region_modified'],\n",
       "      dtype='object')"
      ]
     },
     "execution_count": 10,
     "metadata": {},
     "output_type": "execute_result"
    }
   ],
   "source": [
    "results_2k16_df.columns"
   ]
  },
  {
   "cell_type": "code",
   "execution_count": 11,
   "metadata": {},
   "outputs": [
    {
     "data": {
      "text/plain": [
       "Index(['Unnamed: 0', 'college_name', 'problems_solved', 'round1_rank',\n",
       "       'user_name', 'zonal_name', 'zonal_rank'],\n",
       "      dtype='object')"
      ]
     },
     "execution_count": 11,
     "metadata": {},
     "output_type": "execute_result"
    }
   ],
   "source": [
    "results_2k17_df.columns"
   ]
  },
  {
   "cell_type": "code",
   "execution_count": 12,
   "metadata": {
    "collapsed": true
   },
   "outputs": [],
   "source": [
    "results_2k15_df.college_name=results_2k15_df.college_name.str.strip()\n",
    "results_2k16_df.college_name=results_2k16_df.college_name_modified.str.strip()\n",
    "results_2k17_df.college_name=results_2k17_df.college_name.str.strip()"
   ]
  },
  {
   "cell_type": "code",
   "execution_count": 13,
   "metadata": {},
   "outputs": [
    {
     "data": {
      "text/plain": [
       "Index(['coll_name_case_independent', 'coll_name_norm_wo_common_words',\n",
       "       'coll_name_norm_wo_common_words_v2', 'college_name',\n",
       "       'college_name_normalized', 'master_mod_index', 'mod_index',\n",
       "       'tcs_region'],\n",
       "      dtype='object')"
      ]
     },
     "execution_count": 13,
     "metadata": {},
     "output_type": "execute_result"
    }
   ],
   "source": [
    "college_list.columns"
   ]
  },
  {
   "cell_type": "code",
   "execution_count": 14,
   "metadata": {
    "collapsed": true
   },
   "outputs": [],
   "source": [
    "#Slicing the college list year wise\n",
    "college_list_2k15=college_list[college_list.mod_index.str.startswith('2k15_')]\n",
    "college_list_2k16=college_list[college_list.mod_index.str.startswith('2k16_')]\n",
    "college_list_2k17=college_list[college_list.mod_index.str.startswith('2k17_')]"
   ]
  },
  {
   "cell_type": "code",
   "execution_count": 15,
   "metadata": {},
   "outputs": [
    {
     "name": "stdout",
     "output_type": "stream",
     "text": [
      "(548, 685, 499)\n"
     ]
    }
   ],
   "source": [
    "assert college_list_2k17.shape[0]+college_list_2k16.shape[0]+college_list_2k15.shape[0]==college_list.shape[0]\n",
    "print((college_list_2k15.shape[0],college_list_2k16.shape[0],college_list_2k17.shape[0]))"
   ]
  },
  {
   "cell_type": "code",
   "execution_count": 16,
   "metadata": {
    "collapsed": true
   },
   "outputs": [],
   "source": [
    "results_2k15_df=results_2k15_df.merge(college_list_2k15.loc[:,['mod_index','master_mod_index','college_name']],how='left',left_on='college_name',right_on='college_name')"
   ]
  },
  {
   "cell_type": "code",
   "execution_count": 17,
   "metadata": {},
   "outputs": [
    {
     "data": {
      "text/html": [
       "<div>\n",
       "<table border=\"1\" class=\"dataframe\">\n",
       "  <thead>\n",
       "    <tr style=\"text-align: right;\">\n",
       "      <th></th>\n",
       "      <th>Unnamed: 0</th>\n",
       "      <th>Rank</th>\n",
       "      <th>team_name</th>\n",
       "      <th>tcs_region</th>\n",
       "      <th>users_name</th>\n",
       "      <th>college_name</th>\n",
       "      <th>user_1</th>\n",
       "      <th>user_2</th>\n",
       "      <th>mod_index</th>\n",
       "      <th>master_mod_index</th>\n",
       "    </tr>\n",
       "  </thead>\n",
       "  <tbody>\n",
       "    <tr>\n",
       "      <th>0</th>\n",
       "      <td>0</td>\n",
       "      <td>2294</td>\n",
       "      <td>CRUSADERS</td>\n",
       "      <td>Chennai</td>\n",
       "      <td>Arjun Panicker &amp; Aditya Bharti</td>\n",
       "      <td>Srm Engineering College., Kattankulathur</td>\n",
       "      <td>Arjun Panicker</td>\n",
       "      <td>Aditya Bharti</td>\n",
       "      <td>2k15_0</td>\n",
       "      <td>2k15_0</td>\n",
       "    </tr>\n",
       "    <tr>\n",
       "      <th>1</th>\n",
       "      <td>1</td>\n",
       "      <td>261</td>\n",
       "      <td>theAces</td>\n",
       "      <td>Pune</td>\n",
       "      <td>Sudhanshu Singh &amp; Vikram Jadon</td>\n",
       "      <td>Army Institute of Technology,Pune University, ...</td>\n",
       "      <td>Sudhanshu Singh</td>\n",
       "      <td>Vikram Jadon</td>\n",
       "      <td>2k15_1</td>\n",
       "      <td>2k15_1</td>\n",
       "    </tr>\n",
       "    <tr>\n",
       "      <th>2</th>\n",
       "      <td>2</td>\n",
       "      <td>2148</td>\n",
       "      <td>RMCoderz</td>\n",
       "      <td>Hyderabad</td>\n",
       "      <td>Meghana Reddy &amp; Rushil Basappa</td>\n",
       "      <td>Osmania University, Hyderabad</td>\n",
       "      <td>Meghana Reddy</td>\n",
       "      <td>Rushil Basappa</td>\n",
       "      <td>2k15_2</td>\n",
       "      <td>2k15_2</td>\n",
       "    </tr>\n",
       "    <tr>\n",
       "      <th>3</th>\n",
       "      <td>3</td>\n",
       "      <td>1473</td>\n",
       "      <td>Blazing Bees</td>\n",
       "      <td>Mumbai</td>\n",
       "      <td>Bharat Ramnani &amp; Bhavishya Garg</td>\n",
       "      <td>Medicaps Inst of Tech &amp; Management, Indore</td>\n",
       "      <td>Bharat Ramnani</td>\n",
       "      <td>Bhavishya Garg</td>\n",
       "      <td>2k15_3</td>\n",
       "      <td>2k15_3</td>\n",
       "    </tr>\n",
       "    <tr>\n",
       "      <th>4</th>\n",
       "      <td>4</td>\n",
       "      <td>2764</td>\n",
       "      <td>Rayfield LeGeNdS</td>\n",
       "      <td>Mumbai</td>\n",
       "      <td>Akshay Damodaran &amp; Niranjan Sharma</td>\n",
       "      <td>Ramrao Adik Institute of Technology,Nerul</td>\n",
       "      <td>Akshay Damodaran</td>\n",
       "      <td>Niranjan Sharma</td>\n",
       "      <td>2k15_4</td>\n",
       "      <td>2k15_4</td>\n",
       "    </tr>\n",
       "  </tbody>\n",
       "</table>\n",
       "</div>"
      ],
      "text/plain": [
       "   Unnamed: 0  Rank         team_name tcs_region  \\\n",
       "0           0  2294         CRUSADERS    Chennai   \n",
       "1           1   261           theAces       Pune   \n",
       "2           2  2148          RMCoderz  Hyderabad   \n",
       "3           3  1473      Blazing Bees     Mumbai   \n",
       "4           4  2764  Rayfield LeGeNdS     Mumbai   \n",
       "\n",
       "                           users_name  \\\n",
       "0      Arjun Panicker & Aditya Bharti   \n",
       "1      Sudhanshu Singh & Vikram Jadon   \n",
       "2      Meghana Reddy & Rushil Basappa   \n",
       "3     Bharat Ramnani & Bhavishya Garg   \n",
       "4  Akshay Damodaran & Niranjan Sharma   \n",
       "\n",
       "                                        college_name            user_1  \\\n",
       "0           Srm Engineering College., Kattankulathur    Arjun Panicker   \n",
       "1  Army Institute of Technology,Pune University, ...   Sudhanshu Singh   \n",
       "2                      Osmania University, Hyderabad     Meghana Reddy   \n",
       "3         Medicaps Inst of Tech & Management, Indore    Bharat Ramnani   \n",
       "4          Ramrao Adik Institute of Technology,Nerul  Akshay Damodaran   \n",
       "\n",
       "            user_2 mod_index master_mod_index  \n",
       "0    Aditya Bharti    2k15_0           2k15_0  \n",
       "1     Vikram Jadon    2k15_1           2k15_1  \n",
       "2   Rushil Basappa    2k15_2           2k15_2  \n",
       "3   Bhavishya Garg    2k15_3           2k15_3  \n",
       "4  Niranjan Sharma    2k15_4           2k15_4  "
      ]
     },
     "execution_count": 17,
     "metadata": {},
     "output_type": "execute_result"
    }
   ],
   "source": [
    "results_2k15_df.head()"
   ]
  },
  {
   "cell_type": "code",
   "execution_count": 18,
   "metadata": {
    "collapsed": true
   },
   "outputs": [],
   "source": [
    "not_matched_mod_index_2k15=np.setdiff1d(college_list_2k15.mod_index.values,list(results_2k15_df.mod_index.unique()))\n",
    "assert len(not_matched_mod_index_2k15)==0"
   ]
  },
  {
   "cell_type": "code",
   "execution_count": 19,
   "metadata": {
    "collapsed": true
   },
   "outputs": [],
   "source": [
    "results_2k16_df=results_2k16_df.rename(columns={'college_name':'college_name_prerectified','college_name_modified':'college_name','tcs_region':'tcs_region_prerectified','tcs_region_modified':'tcs_region'})"
   ]
  },
  {
   "cell_type": "code",
   "execution_count": 20,
   "metadata": {
    "collapsed": true
   },
   "outputs": [],
   "source": [
    "results_2k16_df=results_2k16_df.merge(college_list_2k16.loc[:,['mod_index','master_mod_index','college_name']],how='left',left_on='college_name',right_on='college_name')"
   ]
  },
  {
   "cell_type": "code",
   "execution_count": 21,
   "metadata": {},
   "outputs": [
    {
     "data": {
      "text/html": [
       "<div>\n",
       "<table border=\"1\" class=\"dataframe\">\n",
       "  <thead>\n",
       "    <tr style=\"text-align: right;\">\n",
       "      <th></th>\n",
       "      <th>college_name_prerectified</th>\n",
       "      <th>ranks</th>\n",
       "      <th>tcs_region_prerectified</th>\n",
       "      <th>team_name</th>\n",
       "      <th>user_name</th>\n",
       "      <th>user_1</th>\n",
       "      <th>user_2</th>\n",
       "      <th>college_name</th>\n",
       "      <th>tcs_region</th>\n",
       "      <th>mod_index</th>\n",
       "      <th>master_mod_index</th>\n",
       "    </tr>\n",
       "  </thead>\n",
       "  <tbody>\n",
       "    <tr>\n",
       "      <th>0</th>\n",
       "      <td>Kalyani Govt. Engg. College, WB</td>\n",
       "      <td>1</td>\n",
       "      <td>Kolkata</td>\n",
       "      <td>kgeccoders11</td>\n",
       "      <td>Soumik Sarkar &amp; Subham Das</td>\n",
       "      <td>Soumik Sarkar</td>\n",
       "      <td>Subham Das</td>\n",
       "      <td>Kalyani Govt. Engg. College, WB</td>\n",
       "      <td>Kolkata</td>\n",
       "      <td>2k16_0</td>\n",
       "      <td>2k15_24</td>\n",
       "    </tr>\n",
       "    <tr>\n",
       "      <th>1</th>\n",
       "      <td>IIT ­ PATNA</td>\n",
       "      <td>2</td>\n",
       "      <td>Kolkata</td>\n",
       "      <td>CrazyDot</td>\n",
       "      <td>Gagan Kumar &amp; Shifona Garg</td>\n",
       "      <td>Gagan Kumar</td>\n",
       "      <td>Shifona Garg</td>\n",
       "      <td>IIT ­ PATNA</td>\n",
       "      <td>Kolkata</td>\n",
       "      <td>2k16_1</td>\n",
       "      <td>2k15_68</td>\n",
       "    </tr>\n",
       "    <tr>\n",
       "      <th>2</th>\n",
       "      <td>Institute of Engg</td>\n",
       "      <td>3</td>\n",
       "      <td>Kolkata</td>\n",
       "      <td>RRecursion</td>\n",
       "      <td>Priyanjit Dey &amp; Sayantan Basu</td>\n",
       "      <td>Priyanjit Dey</td>\n",
       "      <td>Sayantan Basu</td>\n",
       "      <td>Institute of Engg</td>\n",
       "      <td>Kolkata</td>\n",
       "      <td>2k16_2</td>\n",
       "      <td>2k15_5</td>\n",
       "    </tr>\n",
       "    <tr>\n",
       "      <th>3</th>\n",
       "      <td>nit patna</td>\n",
       "      <td>4</td>\n",
       "      <td>Kolkata</td>\n",
       "      <td>knowsnoalgo</td>\n",
       "      <td>Ranjan Kumar &amp; Abhishek Kumar</td>\n",
       "      <td>Ranjan Kumar</td>\n",
       "      <td>Abhishek Kumar</td>\n",
       "      <td>nit patna</td>\n",
       "      <td>Kolkata</td>\n",
       "      <td>2k16_3</td>\n",
       "      <td>2k16_3</td>\n",
       "    </tr>\n",
       "    <tr>\n",
       "      <th>4</th>\n",
       "      <td>Indian Institute Of Technology, Hyderabad</td>\n",
       "      <td>5</td>\n",
       "      <td>Hyderabad</td>\n",
       "      <td>voidcoders</td>\n",
       "      <td>Shubham Matta &amp; Yash Pitroda</td>\n",
       "      <td>Shubham Matta</td>\n",
       "      <td>Yash Pitroda</td>\n",
       "      <td>Indian Institute Of Technology, Hyderabad</td>\n",
       "      <td>Hyderabad</td>\n",
       "      <td>2k16_4</td>\n",
       "      <td>2k15_380</td>\n",
       "    </tr>\n",
       "  </tbody>\n",
       "</table>\n",
       "</div>"
      ],
      "text/plain": [
       "                   college_name_prerectified  ranks tcs_region_prerectified  \\\n",
       "0            Kalyani Govt. Engg. College, WB      1                 Kolkata   \n",
       "1                                IIT ­ PATNA      2                 Kolkata   \n",
       "2                          Institute of Engg      3                 Kolkata   \n",
       "3                                  nit patna      4                 Kolkata   \n",
       "4  Indian Institute Of Technology, Hyderabad      5               Hyderabad   \n",
       "\n",
       "      team_name                      user_name         user_1          user_2  \\\n",
       "0  kgeccoders11     Soumik Sarkar & Subham Das  Soumik Sarkar      Subham Das   \n",
       "1      CrazyDot     Gagan Kumar & Shifona Garg    Gagan Kumar    Shifona Garg   \n",
       "2    RRecursion  Priyanjit Dey & Sayantan Basu  Priyanjit Dey   Sayantan Basu   \n",
       "3   knowsnoalgo  Ranjan Kumar & Abhishek Kumar   Ranjan Kumar  Abhishek Kumar   \n",
       "4    voidcoders   Shubham Matta & Yash Pitroda  Shubham Matta    Yash Pitroda   \n",
       "\n",
       "                                college_name tcs_region mod_index  \\\n",
       "0            Kalyani Govt. Engg. College, WB    Kolkata    2k16_0   \n",
       "1                                IIT ­ PATNA    Kolkata    2k16_1   \n",
       "2                          Institute of Engg    Kolkata    2k16_2   \n",
       "3                                  nit patna    Kolkata    2k16_3   \n",
       "4  Indian Institute Of Technology, Hyderabad  Hyderabad    2k16_4   \n",
       "\n",
       "  master_mod_index  \n",
       "0          2k15_24  \n",
       "1          2k15_68  \n",
       "2           2k15_5  \n",
       "3           2k16_3  \n",
       "4         2k15_380  "
      ]
     },
     "execution_count": 21,
     "metadata": {},
     "output_type": "execute_result"
    }
   ],
   "source": [
    "results_2k16_df.head()"
   ]
  },
  {
   "cell_type": "code",
   "execution_count": 22,
   "metadata": {},
   "outputs": [
    {
     "data": {
      "text/plain": [
       "array(['2k16_145'], dtype=object)"
      ]
     },
     "execution_count": 22,
     "metadata": {},
     "output_type": "execute_result"
    }
   ],
   "source": [
    "not_matched_mod_index_2k16=np.setdiff1d(college_list_2k16.mod_index.values,list(results_2k16_df.mod_index.unique()))\n",
    "not_matched_mod_index_2k16\n",
    "#assert len(not_matched_mod_index_2k16)==0"
   ]
  },
  {
   "cell_type": "code",
   "execution_count": 23,
   "metadata": {},
   "outputs": [
    {
     "data": {
      "text/html": [
       "<div>\n",
       "<table border=\"1\" class=\"dataframe\">\n",
       "  <thead>\n",
       "    <tr style=\"text-align: right;\">\n",
       "      <th></th>\n",
       "      <th>coll_name_case_independent</th>\n",
       "      <th>coll_name_norm_wo_common_words</th>\n",
       "      <th>coll_name_norm_wo_common_words_v2</th>\n",
       "      <th>college_name</th>\n",
       "      <th>college_name_normalized</th>\n",
       "      <th>master_mod_index</th>\n",
       "      <th>mod_index</th>\n",
       "      <th>tcs_region</th>\n",
       "    </tr>\n",
       "  </thead>\n",
       "  <tbody>\n",
       "    <tr>\n",
       "      <th>693</th>\n",
       "      <td>nil_2k16</td>\n",
       "      <td>nil_2k16</td>\n",
       "      <td>nil_2k16</td>\n",
       "      <td>NIL_2k16</td>\n",
       "      <td>nil_2k16</td>\n",
       "      <td>2k16_145</td>\n",
       "      <td>2k16_145</td>\n",
       "      <td>Delhi</td>\n",
       "    </tr>\n",
       "  </tbody>\n",
       "</table>\n",
       "</div>"
      ],
      "text/plain": [
       "    coll_name_case_independent coll_name_norm_wo_common_words  \\\n",
       "693                   nil_2k16                       nil_2k16   \n",
       "\n",
       "    coll_name_norm_wo_common_words_v2 college_name college_name_normalized  \\\n",
       "693                          nil_2k16     NIL_2k16                nil_2k16   \n",
       "\n",
       "    master_mod_index mod_index tcs_region  \n",
       "693         2k16_145  2k16_145      Delhi  "
      ]
     },
     "execution_count": 23,
     "metadata": {},
     "output_type": "execute_result"
    }
   ],
   "source": [
    "college_list_2k16[college_list_2k16.mod_index.isin(not_matched_mod_index_2k16)]"
   ]
  },
  {
   "cell_type": "markdown",
   "metadata": {},
   "source": [
    "The single rogue entry below can be accepted since it is a nil value or an unknown value"
   ]
  },
  {
   "cell_type": "code",
   "execution_count": 24,
   "metadata": {
    "collapsed": true
   },
   "outputs": [],
   "source": [
    "results_2k17_df=results_2k17_df.merge(college_list_2k17.loc[:,['mod_index','master_mod_index','college_name']],how='left',left_on='college_name',right_on='college_name')"
   ]
  },
  {
   "cell_type": "code",
   "execution_count": 25,
   "metadata": {},
   "outputs": [
    {
     "data": {
      "text/html": [
       "<div>\n",
       "<table border=\"1\" class=\"dataframe\">\n",
       "  <thead>\n",
       "    <tr style=\"text-align: right;\">\n",
       "      <th></th>\n",
       "      <th>Unnamed: 0</th>\n",
       "      <th>college_name</th>\n",
       "      <th>problems_solved</th>\n",
       "      <th>round1_rank</th>\n",
       "      <th>user_name</th>\n",
       "      <th>zonal_name</th>\n",
       "      <th>zonal_rank</th>\n",
       "      <th>mod_index</th>\n",
       "      <th>master_mod_index</th>\n",
       "    </tr>\n",
       "  </thead>\n",
       "  <tbody>\n",
       "    <tr>\n",
       "      <th>0</th>\n",
       "      <td>0</td>\n",
       "      <td>Dhirubhai Ambani Inst of Information &amp; Communi...</td>\n",
       "      <td>6</td>\n",
       "      <td>1</td>\n",
       "      <td>MOHIB MANVA</td>\n",
       "      <td>zone1</td>\n",
       "      <td>1</td>\n",
       "      <td>2k17_96</td>\n",
       "      <td>2k15_234</td>\n",
       "    </tr>\n",
       "    <tr>\n",
       "      <th>1</th>\n",
       "      <td>1</td>\n",
       "      <td>Dhirubhai Ambani Inst of Information &amp; Communi...</td>\n",
       "      <td>6</td>\n",
       "      <td>2</td>\n",
       "      <td>SAGAR SAVALIYA</td>\n",
       "      <td>zone1</td>\n",
       "      <td>2</td>\n",
       "      <td>2k17_96</td>\n",
       "      <td>2k15_234</td>\n",
       "    </tr>\n",
       "    <tr>\n",
       "      <th>2</th>\n",
       "      <td>2</td>\n",
       "      <td>Indian Institute Of Technology, Hyderabad</td>\n",
       "      <td>6</td>\n",
       "      <td>3</td>\n",
       "      <td>VINOD DEVANABOINA</td>\n",
       "      <td>zone2</td>\n",
       "      <td>1</td>\n",
       "      <td>2k17_188</td>\n",
       "      <td>2k15_380</td>\n",
       "    </tr>\n",
       "    <tr>\n",
       "      <th>3</th>\n",
       "      <td>3</td>\n",
       "      <td>School of IT, Guru Gobind Indraprastha Univ, D...</td>\n",
       "      <td>6</td>\n",
       "      <td>4</td>\n",
       "      <td>VIKRAM PANWAR</td>\n",
       "      <td>zone3</td>\n",
       "      <td>1</td>\n",
       "      <td>2k17_395</td>\n",
       "      <td>2k15_232</td>\n",
       "    </tr>\n",
       "    <tr>\n",
       "      <th>4</th>\n",
       "      <td>4</td>\n",
       "      <td>IIT - PATNA</td>\n",
       "      <td>5</td>\n",
       "      <td>5</td>\n",
       "      <td>GAGAN KUMAR</td>\n",
       "      <td>zone3</td>\n",
       "      <td>2</td>\n",
       "      <td>2k17_174</td>\n",
       "      <td>2k15_68</td>\n",
       "    </tr>\n",
       "  </tbody>\n",
       "</table>\n",
       "</div>"
      ],
      "text/plain": [
       "   Unnamed: 0                                       college_name  \\\n",
       "0           0  Dhirubhai Ambani Inst of Information & Communi...   \n",
       "1           1  Dhirubhai Ambani Inst of Information & Communi...   \n",
       "2           2          Indian Institute Of Technology, Hyderabad   \n",
       "3           3  School of IT, Guru Gobind Indraprastha Univ, D...   \n",
       "4           4                                        IIT - PATNA   \n",
       "\n",
       "   problems_solved  round1_rank          user_name zonal_name  zonal_rank  \\\n",
       "0                6            1        MOHIB MANVA      zone1           1   \n",
       "1                6            2     SAGAR SAVALIYA      zone1           2   \n",
       "2                6            3  VINOD DEVANABOINA      zone2           1   \n",
       "3                6            4      VIKRAM PANWAR      zone3           1   \n",
       "4                5            5        GAGAN KUMAR      zone3           2   \n",
       "\n",
       "  mod_index master_mod_index  \n",
       "0   2k17_96         2k15_234  \n",
       "1   2k17_96         2k15_234  \n",
       "2  2k17_188         2k15_380  \n",
       "3  2k17_395         2k15_232  \n",
       "4  2k17_174          2k15_68  "
      ]
     },
     "execution_count": 25,
     "metadata": {},
     "output_type": "execute_result"
    }
   ],
   "source": [
    "results_2k17_df.head()"
   ]
  },
  {
   "cell_type": "code",
   "execution_count": 26,
   "metadata": {
    "collapsed": true
   },
   "outputs": [],
   "source": [
    "not_matched_mod_index_2k17=np.setdiff1d(college_list_2k17.mod_index.values,list(results_2k17_df.mod_index.unique()))\n",
    "not_matched_mod_index_2k17\n",
    "assert len(not_matched_mod_index_2k17)==0"
   ]
  },
  {
   "cell_type": "markdown",
   "metadata": {},
   "source": [
    "Linking master college names and master college regions"
   ]
  },
  {
   "cell_type": "code",
   "execution_count": 27,
   "metadata": {
    "collapsed": true
   },
   "outputs": [],
   "source": [
    "results_2k15_df=results_2k15_df.merge(college_list.loc[:,['college_name','tcs_region','mod_index']],left_on='master_mod_index',right_on='mod_index',suffixes=('','_master'))"
   ]
  },
  {
   "cell_type": "code",
   "execution_count": 28,
   "metadata": {
    "collapsed": true
   },
   "outputs": [],
   "source": [
    "results_2k15_df=results_2k15_df.drop('mod_index_master',axis=1)"
   ]
  },
  {
   "cell_type": "code",
   "execution_count": 29,
   "metadata": {},
   "outputs": [
    {
     "data": {
      "text/html": [
       "<div>\n",
       "<table border=\"1\" class=\"dataframe\">\n",
       "  <thead>\n",
       "    <tr style=\"text-align: right;\">\n",
       "      <th></th>\n",
       "      <th>Unnamed: 0</th>\n",
       "      <th>Rank</th>\n",
       "      <th>team_name</th>\n",
       "      <th>tcs_region</th>\n",
       "      <th>users_name</th>\n",
       "      <th>college_name</th>\n",
       "      <th>user_1</th>\n",
       "      <th>user_2</th>\n",
       "      <th>mod_index</th>\n",
       "      <th>master_mod_index</th>\n",
       "      <th>college_name_master</th>\n",
       "      <th>tcs_region_master</th>\n",
       "    </tr>\n",
       "  </thead>\n",
       "  <tbody>\n",
       "    <tr>\n",
       "      <th>0</th>\n",
       "      <td>0</td>\n",
       "      <td>2294</td>\n",
       "      <td>CRUSADERS</td>\n",
       "      <td>Chennai</td>\n",
       "      <td>Arjun Panicker &amp; Aditya Bharti</td>\n",
       "      <td>Srm Engineering College., Kattankulathur</td>\n",
       "      <td>Arjun Panicker</td>\n",
       "      <td>Aditya Bharti</td>\n",
       "      <td>2k15_0</td>\n",
       "      <td>2k15_0</td>\n",
       "      <td>Srm Engineering College., Kattankulathur</td>\n",
       "      <td>Chennai</td>\n",
       "    </tr>\n",
       "    <tr>\n",
       "      <th>1</th>\n",
       "      <td>246</td>\n",
       "      <td>876</td>\n",
       "      <td>Ridifyne</td>\n",
       "      <td>Chennai</td>\n",
       "      <td>Eesh Chilukalapalli &amp; Shreya Singh</td>\n",
       "      <td>Srm Engineering College., Kattankulathur</td>\n",
       "      <td>Eesh Chilukalapalli</td>\n",
       "      <td>Shreya Singh</td>\n",
       "      <td>2k15_0</td>\n",
       "      <td>2k15_0</td>\n",
       "      <td>Srm Engineering College., Kattankulathur</td>\n",
       "      <td>Chennai</td>\n",
       "    </tr>\n",
       "    <tr>\n",
       "      <th>2</th>\n",
       "      <td>816</td>\n",
       "      <td>2523</td>\n",
       "      <td>PFCoderz</td>\n",
       "      <td>Chennai</td>\n",
       "      <td>Nitin Tonger &amp; Abhijat Shrivastava</td>\n",
       "      <td>Srm Engineering College., Kattankulathur</td>\n",
       "      <td>Nitin Tonger</td>\n",
       "      <td>Abhijat Shrivastava</td>\n",
       "      <td>2k15_0</td>\n",
       "      <td>2k15_0</td>\n",
       "      <td>Srm Engineering College., Kattankulathur</td>\n",
       "      <td>Chennai</td>\n",
       "    </tr>\n",
       "    <tr>\n",
       "      <th>3</th>\n",
       "      <td>1146</td>\n",
       "      <td>953</td>\n",
       "      <td>Pied Piper</td>\n",
       "      <td>Chennai</td>\n",
       "      <td>Riddhi Datta &amp; Promit Roy</td>\n",
       "      <td>Srm Engineering College., Kattankulathur</td>\n",
       "      <td>Riddhi Datta</td>\n",
       "      <td>Promit Roy</td>\n",
       "      <td>2k15_0</td>\n",
       "      <td>2k15_0</td>\n",
       "      <td>Srm Engineering College., Kattankulathur</td>\n",
       "      <td>Chennai</td>\n",
       "    </tr>\n",
       "    <tr>\n",
       "      <th>4</th>\n",
       "      <td>1399</td>\n",
       "      <td>1661</td>\n",
       "      <td>DarkKnight Coders</td>\n",
       "      <td>Chennai</td>\n",
       "      <td>Idhant Haldankar &amp; Vaibhav Shelke</td>\n",
       "      <td>Srm Engineering College., Kattankulathur</td>\n",
       "      <td>Idhant Haldankar</td>\n",
       "      <td>Vaibhav Shelke</td>\n",
       "      <td>2k15_0</td>\n",
       "      <td>2k15_0</td>\n",
       "      <td>Srm Engineering College., Kattankulathur</td>\n",
       "      <td>Chennai</td>\n",
       "    </tr>\n",
       "  </tbody>\n",
       "</table>\n",
       "</div>"
      ],
      "text/plain": [
       "   Unnamed: 0  Rank          team_name tcs_region  \\\n",
       "0           0  2294          CRUSADERS    Chennai   \n",
       "1         246   876           Ridifyne    Chennai   \n",
       "2         816  2523           PFCoderz    Chennai   \n",
       "3        1146   953         Pied Piper    Chennai   \n",
       "4        1399  1661  DarkKnight Coders    Chennai   \n",
       "\n",
       "                           users_name  \\\n",
       "0      Arjun Panicker & Aditya Bharti   \n",
       "1  Eesh Chilukalapalli & Shreya Singh   \n",
       "2  Nitin Tonger & Abhijat Shrivastava   \n",
       "3           Riddhi Datta & Promit Roy   \n",
       "4   Idhant Haldankar & Vaibhav Shelke   \n",
       "\n",
       "                               college_name               user_1  \\\n",
       "0  Srm Engineering College., Kattankulathur       Arjun Panicker   \n",
       "1  Srm Engineering College., Kattankulathur  Eesh Chilukalapalli   \n",
       "2  Srm Engineering College., Kattankulathur         Nitin Tonger   \n",
       "3  Srm Engineering College., Kattankulathur         Riddhi Datta   \n",
       "4  Srm Engineering College., Kattankulathur     Idhant Haldankar   \n",
       "\n",
       "                user_2 mod_index master_mod_index  \\\n",
       "0        Aditya Bharti    2k15_0           2k15_0   \n",
       "1         Shreya Singh    2k15_0           2k15_0   \n",
       "2  Abhijat Shrivastava    2k15_0           2k15_0   \n",
       "3           Promit Roy    2k15_0           2k15_0   \n",
       "4       Vaibhav Shelke    2k15_0           2k15_0   \n",
       "\n",
       "                        college_name_master tcs_region_master  \n",
       "0  Srm Engineering College., Kattankulathur           Chennai  \n",
       "1  Srm Engineering College., Kattankulathur           Chennai  \n",
       "2  Srm Engineering College., Kattankulathur           Chennai  \n",
       "3  Srm Engineering College., Kattankulathur           Chennai  \n",
       "4  Srm Engineering College., Kattankulathur           Chennai  "
      ]
     },
     "execution_count": 29,
     "metadata": {},
     "output_type": "execute_result"
    }
   ],
   "source": [
    "results_2k15_df.head()"
   ]
  },
  {
   "cell_type": "code",
   "execution_count": 30,
   "metadata": {},
   "outputs": [
    {
     "data": {
      "text/html": [
       "<div>\n",
       "<table border=\"1\" class=\"dataframe\">\n",
       "  <thead>\n",
       "    <tr style=\"text-align: right;\">\n",
       "      <th></th>\n",
       "      <th>college_name_prerectified</th>\n",
       "      <th>ranks</th>\n",
       "      <th>tcs_region_prerectified</th>\n",
       "      <th>team_name</th>\n",
       "      <th>user_name</th>\n",
       "      <th>user_1</th>\n",
       "      <th>user_2</th>\n",
       "      <th>college_name</th>\n",
       "      <th>tcs_region</th>\n",
       "      <th>mod_index</th>\n",
       "      <th>master_mod_index</th>\n",
       "      <th>college_name_master</th>\n",
       "      <th>tcs_region_master</th>\n",
       "    </tr>\n",
       "  </thead>\n",
       "  <tbody>\n",
       "    <tr>\n",
       "      <th>0</th>\n",
       "      <td>Kalyani Govt. Engg. College, WB</td>\n",
       "      <td>1</td>\n",
       "      <td>Kolkata</td>\n",
       "      <td>kgeccoders11</td>\n",
       "      <td>Soumik Sarkar &amp; Subham Das</td>\n",
       "      <td>Soumik Sarkar</td>\n",
       "      <td>Subham Das</td>\n",
       "      <td>Kalyani Govt. Engg. College, WB</td>\n",
       "      <td>Kolkata</td>\n",
       "      <td>2k16_0</td>\n",
       "      <td>2k15_24</td>\n",
       "      <td>Kalyani Govt. Engg. College, WB</td>\n",
       "      <td>Kolkata</td>\n",
       "    </tr>\n",
       "    <tr>\n",
       "      <th>1</th>\n",
       "      <td>Kalyani Govt. Engg. College, WB</td>\n",
       "      <td>194</td>\n",
       "      <td>Kolkata</td>\n",
       "      <td>APOCALYPSE666</td>\n",
       "      <td>Sujit Prasad &amp; Souvik Nandi</td>\n",
       "      <td>Sujit Prasad</td>\n",
       "      <td>Souvik Nandi</td>\n",
       "      <td>Kalyani Govt. Engg. College, WB</td>\n",
       "      <td>Kolkata</td>\n",
       "      <td>2k16_0</td>\n",
       "      <td>2k15_24</td>\n",
       "      <td>Kalyani Govt. Engg. College, WB</td>\n",
       "      <td>Kolkata</td>\n",
       "    </tr>\n",
       "    <tr>\n",
       "      <th>2</th>\n",
       "      <td>Kalyani Govt. Engg. College, WB</td>\n",
       "      <td>269</td>\n",
       "      <td>Kolkata</td>\n",
       "      <td>learningcode</td>\n",
       "      <td>Sayak Pramanik &amp; Shivam Tiwari</td>\n",
       "      <td>Sayak Pramanik</td>\n",
       "      <td>Shivam Tiwari</td>\n",
       "      <td>Kalyani Govt. Engg. College, WB</td>\n",
       "      <td>Kolkata</td>\n",
       "      <td>2k16_0</td>\n",
       "      <td>2k15_24</td>\n",
       "      <td>Kalyani Govt. Engg. College, WB</td>\n",
       "      <td>Kolkata</td>\n",
       "    </tr>\n",
       "    <tr>\n",
       "      <th>3</th>\n",
       "      <td>Kalyani Govt. Engg. College, WB</td>\n",
       "      <td>859</td>\n",
       "      <td>Kolkata</td>\n",
       "      <td>kgecCoders123</td>\n",
       "      <td>Arnab Mondal &amp; Aditya Jain</td>\n",
       "      <td>Arnab Mondal</td>\n",
       "      <td>Aditya Jain</td>\n",
       "      <td>Kalyani Govt. Engg. College, WB</td>\n",
       "      <td>Kolkata</td>\n",
       "      <td>2k16_0</td>\n",
       "      <td>2k15_24</td>\n",
       "      <td>Kalyani Govt. Engg. College, WB</td>\n",
       "      <td>Kolkata</td>\n",
       "    </tr>\n",
       "    <tr>\n",
       "      <th>4</th>\n",
       "      <td>Kalyani Govt. Engg. College, WB</td>\n",
       "      <td>1204</td>\n",
       "      <td>Kolkata</td>\n",
       "      <td>smartbugs</td>\n",
       "      <td>Pallab Ganguly &amp; Namrata Guptaroy</td>\n",
       "      <td>Pallab Ganguly</td>\n",
       "      <td>Namrata Guptaroy</td>\n",
       "      <td>Kalyani Govt. Engg. College, WB</td>\n",
       "      <td>Kolkata</td>\n",
       "      <td>2k16_0</td>\n",
       "      <td>2k15_24</td>\n",
       "      <td>Kalyani Govt. Engg. College, WB</td>\n",
       "      <td>Kolkata</td>\n",
       "    </tr>\n",
       "  </tbody>\n",
       "</table>\n",
       "</div>"
      ],
      "text/plain": [
       "         college_name_prerectified  ranks tcs_region_prerectified  \\\n",
       "0  Kalyani Govt. Engg. College, WB      1                 Kolkata   \n",
       "1  Kalyani Govt. Engg. College, WB    194                 Kolkata   \n",
       "2  Kalyani Govt. Engg. College, WB    269                 Kolkata   \n",
       "3  Kalyani Govt. Engg. College, WB    859                 Kolkata   \n",
       "4  Kalyani Govt. Engg. College, WB   1204                 Kolkata   \n",
       "\n",
       "       team_name                          user_name          user_1  \\\n",
       "0   kgeccoders11         Soumik Sarkar & Subham Das   Soumik Sarkar   \n",
       "1  APOCALYPSE666        Sujit Prasad & Souvik Nandi    Sujit Prasad   \n",
       "2   learningcode     Sayak Pramanik & Shivam Tiwari  Sayak Pramanik   \n",
       "3  kgecCoders123         Arnab Mondal & Aditya Jain    Arnab Mondal   \n",
       "4      smartbugs  Pallab Ganguly & Namrata Guptaroy  Pallab Ganguly   \n",
       "\n",
       "             user_2                     college_name tcs_region mod_index  \\\n",
       "0        Subham Das  Kalyani Govt. Engg. College, WB    Kolkata    2k16_0   \n",
       "1      Souvik Nandi  Kalyani Govt. Engg. College, WB    Kolkata    2k16_0   \n",
       "2     Shivam Tiwari  Kalyani Govt. Engg. College, WB    Kolkata    2k16_0   \n",
       "3       Aditya Jain  Kalyani Govt. Engg. College, WB    Kolkata    2k16_0   \n",
       "4  Namrata Guptaroy  Kalyani Govt. Engg. College, WB    Kolkata    2k16_0   \n",
       "\n",
       "  master_mod_index              college_name_master tcs_region_master  \n",
       "0          2k15_24  Kalyani Govt. Engg. College, WB           Kolkata  \n",
       "1          2k15_24  Kalyani Govt. Engg. College, WB           Kolkata  \n",
       "2          2k15_24  Kalyani Govt. Engg. College, WB           Kolkata  \n",
       "3          2k15_24  Kalyani Govt. Engg. College, WB           Kolkata  \n",
       "4          2k15_24  Kalyani Govt. Engg. College, WB           Kolkata  "
      ]
     },
     "execution_count": 30,
     "metadata": {},
     "output_type": "execute_result"
    }
   ],
   "source": [
    "results_2k16_df=results_2k16_df.merge(college_list.loc[:,['college_name','tcs_region','mod_index']],left_on='master_mod_index',right_on='mod_index',suffixes=('','_master'))\n",
    "results_2k16_df=results_2k16_df.drop('mod_index_master',axis=1)\n",
    "results_2k16_df.head()"
   ]
  },
  {
   "cell_type": "code",
   "execution_count": 31,
   "metadata": {},
   "outputs": [
    {
     "data": {
      "text/html": [
       "<div>\n",
       "<table border=\"1\" class=\"dataframe\">\n",
       "  <thead>\n",
       "    <tr style=\"text-align: right;\">\n",
       "      <th></th>\n",
       "      <th>Unnamed: 0</th>\n",
       "      <th>college_name</th>\n",
       "      <th>problems_solved</th>\n",
       "      <th>round1_rank</th>\n",
       "      <th>user_name</th>\n",
       "      <th>zonal_name</th>\n",
       "      <th>zonal_rank</th>\n",
       "      <th>mod_index</th>\n",
       "      <th>master_mod_index</th>\n",
       "      <th>college_name_master</th>\n",
       "      <th>tcs_region</th>\n",
       "    </tr>\n",
       "  </thead>\n",
       "  <tbody>\n",
       "    <tr>\n",
       "      <th>0</th>\n",
       "      <td>0</td>\n",
       "      <td>Dhirubhai Ambani Inst of Information &amp; Communi...</td>\n",
       "      <td>6</td>\n",
       "      <td>1</td>\n",
       "      <td>MOHIB MANVA</td>\n",
       "      <td>zone1</td>\n",
       "      <td>1</td>\n",
       "      <td>2k17_96</td>\n",
       "      <td>2k15_234</td>\n",
       "      <td>Dhirubhai Ambani Inst of Information &amp; Communi...</td>\n",
       "      <td>Ahmedabad</td>\n",
       "    </tr>\n",
       "    <tr>\n",
       "      <th>1</th>\n",
       "      <td>1</td>\n",
       "      <td>Dhirubhai Ambani Inst of Information &amp; Communi...</td>\n",
       "      <td>6</td>\n",
       "      <td>2</td>\n",
       "      <td>SAGAR SAVALIYA</td>\n",
       "      <td>zone1</td>\n",
       "      <td>2</td>\n",
       "      <td>2k17_96</td>\n",
       "      <td>2k15_234</td>\n",
       "      <td>Dhirubhai Ambani Inst of Information &amp; Communi...</td>\n",
       "      <td>Ahmedabad</td>\n",
       "    </tr>\n",
       "    <tr>\n",
       "      <th>2</th>\n",
       "      <td>10</td>\n",
       "      <td>Dhirubhai Ambani Inst of Information &amp; Communi...</td>\n",
       "      <td>5</td>\n",
       "      <td>11</td>\n",
       "      <td>SUPARSHVA MEHTA</td>\n",
       "      <td>zone1</td>\n",
       "      <td>3</td>\n",
       "      <td>2k17_96</td>\n",
       "      <td>2k15_234</td>\n",
       "      <td>Dhirubhai Ambani Inst of Information &amp; Communi...</td>\n",
       "      <td>Ahmedabad</td>\n",
       "    </tr>\n",
       "    <tr>\n",
       "      <th>3</th>\n",
       "      <td>28</td>\n",
       "      <td>Dhirubhai Ambani Inst of Information &amp; Communi...</td>\n",
       "      <td>4</td>\n",
       "      <td>29</td>\n",
       "      <td>UMANG UPADHYAY</td>\n",
       "      <td>zone1</td>\n",
       "      <td>5</td>\n",
       "      <td>2k17_96</td>\n",
       "      <td>2k15_234</td>\n",
       "      <td>Dhirubhai Ambani Inst of Information &amp; Communi...</td>\n",
       "      <td>Ahmedabad</td>\n",
       "    </tr>\n",
       "    <tr>\n",
       "      <th>4</th>\n",
       "      <td>97</td>\n",
       "      <td>Dhirubhai Ambani Inst of Information &amp; Communi...</td>\n",
       "      <td>4</td>\n",
       "      <td>98</td>\n",
       "      <td>KALPESH PRAJAPATI</td>\n",
       "      <td>zone1</td>\n",
       "      <td>21</td>\n",
       "      <td>2k17_96</td>\n",
       "      <td>2k15_234</td>\n",
       "      <td>Dhirubhai Ambani Inst of Information &amp; Communi...</td>\n",
       "      <td>Ahmedabad</td>\n",
       "    </tr>\n",
       "  </tbody>\n",
       "</table>\n",
       "</div>"
      ],
      "text/plain": [
       "   Unnamed: 0                                       college_name  \\\n",
       "0           0  Dhirubhai Ambani Inst of Information & Communi...   \n",
       "1           1  Dhirubhai Ambani Inst of Information & Communi...   \n",
       "2          10  Dhirubhai Ambani Inst of Information & Communi...   \n",
       "3          28  Dhirubhai Ambani Inst of Information & Communi...   \n",
       "4          97  Dhirubhai Ambani Inst of Information & Communi...   \n",
       "\n",
       "   problems_solved  round1_rank          user_name zonal_name  zonal_rank  \\\n",
       "0                6            1        MOHIB MANVA      zone1           1   \n",
       "1                6            2     SAGAR SAVALIYA      zone1           2   \n",
       "2                5           11    SUPARSHVA MEHTA      zone1           3   \n",
       "3                4           29     UMANG UPADHYAY      zone1           5   \n",
       "4                4           98  KALPESH PRAJAPATI      zone1          21   \n",
       "\n",
       "  mod_index master_mod_index  \\\n",
       "0   2k17_96         2k15_234   \n",
       "1   2k17_96         2k15_234   \n",
       "2   2k17_96         2k15_234   \n",
       "3   2k17_96         2k15_234   \n",
       "4   2k17_96         2k15_234   \n",
       "\n",
       "                                 college_name_master tcs_region  \n",
       "0  Dhirubhai Ambani Inst of Information & Communi...  Ahmedabad  \n",
       "1  Dhirubhai Ambani Inst of Information & Communi...  Ahmedabad  \n",
       "2  Dhirubhai Ambani Inst of Information & Communi...  Ahmedabad  \n",
       "3  Dhirubhai Ambani Inst of Information & Communi...  Ahmedabad  \n",
       "4  Dhirubhai Ambani Inst of Information & Communi...  Ahmedabad  "
      ]
     },
     "execution_count": 31,
     "metadata": {},
     "output_type": "execute_result"
    }
   ],
   "source": [
    "results_2k17_df=results_2k17_df.merge(college_list.loc[:,['college_name','tcs_region','mod_index']],left_on='master_mod_index',right_on='mod_index',suffixes=('','_master'))\n",
    "results_2k17_df=results_2k17_df.drop('mod_index_master',axis=1)\n",
    "results_2k17_df.head()"
   ]
  },
  {
   "cell_type": "code",
   "execution_count": 32,
   "metadata": {
    "collapsed": true
   },
   "outputs": [],
   "source": [
    "results_2k17_df=results_2k17_df.rename(columns={'tcs_region':'tcs_region_master'})"
   ]
  },
  {
   "cell_type": "code",
   "execution_count": 33,
   "metadata": {
    "collapsed": true
   },
   "outputs": [],
   "source": [
    "results_2k15_df.to_excel('./results_2k15_backlinked.xlsx',index=False)\n",
    "results_2k16_df.to_excel('./results_2k16_backlinked.xlsx',index=False)\n",
    "results_2k17_df.to_excel('./results_2k17_backlinked.xlsx',index=False)"
   ]
  },
  {
   "cell_type": "code",
   "execution_count": null,
   "metadata": {
    "collapsed": true
   },
   "outputs": [],
   "source": []
  }
 ],
 "metadata": {
  "kernelspec": {
   "display_name": "Python 3",
   "language": "python",
   "name": "python3"
  },
  "language_info": {
   "codemirror_mode": {
    "name": "ipython",
    "version": 3
   },
   "file_extension": ".py",
   "mimetype": "text/x-python",
   "name": "python",
   "nbconvert_exporter": "python",
   "pygments_lexer": "ipython3",
   "version": "3.6.0"
  }
 },
 "nbformat": 4,
 "nbformat_minor": 2
}
