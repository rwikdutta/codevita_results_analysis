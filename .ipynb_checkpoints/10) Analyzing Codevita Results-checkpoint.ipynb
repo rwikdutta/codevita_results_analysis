{
 "cells": [
  {
   "cell_type": "markdown",
   "metadata": {},
   "source": [
    "2015- https://www.tcs.com/codevita-2015-enters-limca-book-of-records\n",
    "2017- 99000 (from a survey sent by tcs)"
   ]
  },
  {
   "cell_type": "code",
   "execution_count": 1,
   "metadata": {
    "collapsed": true
   },
   "outputs": [],
   "source": [
    "import pandas as pd\n",
    "import numpy as np\n",
    "#%qtconsole\n",
    "import platform\n",
    "import matplotlib.pyplot as plt\n",
    "%matplotlib inline\n",
    "import seaborn as sns"
   ]
  },
  {
   "cell_type": "code",
   "execution_count": 2,
   "metadata": {
    "collapsed": true
   },
   "outputs": [],
   "source": [
    "def return_file_path(base_url,file_name,file_seperator,intermediate_folder=''):\n",
    "    if not intermediate_folder=='':\n",
    "        intermediate_folder=intermediate_folder+file_seperator\n",
    "    return '{}{}{}'.format(base_url,intermediate_folder,file_name)"
   ]
  },
  {
   "cell_type": "code",
   "execution_count": 3,
   "metadata": {
    "collapsed": true
   },
   "outputs": [],
   "source": [
    "if platform.system()=='Linux':\n",
    "    base_url=r'/mnt/ECFC8291FC8255AC/Datasets/Codevita Results/'\n",
    "    file_seperator='/'\n",
    "else:\n",
    "    file_seperator='\\\\'\n",
    "    base_url='F:\\\\Datasets\\\\Codevita Results\\\\'\n",
    "intermediate_folder=''"
   ]
  },
  {
   "cell_type": "code",
   "execution_count": 4,
   "metadata": {
    "collapsed": true
   },
   "outputs": [],
   "source": [
    "results_2k15_df=pd.read_excel('./results_2k15_df_backlinking_users.xlsx')\n",
    "results_2k16_df=pd.read_excel('./results_2k16_df_backlinking_users.xlsx')\n",
    "results_2k17_df=pd.read_excel('./results_2k17_df_backlinking_users.xlsx')"
   ]
  },
  {
   "cell_type": "code",
   "execution_count": 5,
   "metadata": {},
   "outputs": [
    {
     "data": {
      "text/plain": [
       "Index(['coll_name_case_independent', 'coll_name_norm_wo_common_words',\n",
       "       'coll_name_norm_wo_common_words_v2', 'college_name',\n",
       "       'college_name_normalized', 'master_mod_index', 'mod_index',\n",
       "       'tcs_region'],\n",
       "      dtype='object')"
      ]
     },
     "execution_count": 5,
     "metadata": {},
     "output_type": "execute_result"
    }
   ],
   "source": [
    "college_list_df=pd.read_excel('./college_combined_2k15_2k16_2k17.xlsx')\n",
    "college_list_df.columns"
   ]
  },
  {
   "cell_type": "code",
   "execution_count": 6,
   "metadata": {},
   "outputs": [
    {
     "data": {
      "text/plain": [
       "Index(['year', 'user', 'college_name_master', 'tcs_region_master',\n",
       "       'master_mod_index', 'id_user'],\n",
       "      dtype='object')"
      ]
     },
     "execution_count": 6,
     "metadata": {},
     "output_type": "execute_result"
    }
   ],
   "source": [
    "users_list_df=pd.read_excel('./2k15_2k16_2k17_unique_users.xlsx')\n",
    "users_list_df.columns"
   ]
  },
  {
   "cell_type": "code",
   "execution_count": 7,
   "metadata": {
    "scrolled": true
   },
   "outputs": [
    {
     "data": {
      "text/html": [
       "<div>\n",
       "<table border=\"1\" class=\"dataframe\">\n",
       "  <thead>\n",
       "    <tr style=\"text-align: right;\">\n",
       "      <th></th>\n",
       "      <th>Rank</th>\n",
       "      <th>team_name</th>\n",
       "      <th>tcs_region</th>\n",
       "      <th>users_name</th>\n",
       "      <th>college_name</th>\n",
       "      <th>user_1</th>\n",
       "      <th>user_2</th>\n",
       "      <th>mod_index</th>\n",
       "      <th>master_mod_index</th>\n",
       "      <th>college_name_master</th>\n",
       "      <th>tcs_region_master</th>\n",
       "      <th>year</th>\n",
       "      <th>id_user1</th>\n",
       "      <th>id_user2</th>\n",
       "    </tr>\n",
       "  </thead>\n",
       "  <tbody>\n",
       "    <tr>\n",
       "      <th>0</th>\n",
       "      <td>2294</td>\n",
       "      <td>CRUSADERS</td>\n",
       "      <td>Chennai</td>\n",
       "      <td>Arjun Panicker &amp; Aditya Bharti</td>\n",
       "      <td>Srm Engineering College., Kattankulathur</td>\n",
       "      <td>arjun panicker</td>\n",
       "      <td>aditya bharti</td>\n",
       "      <td>2k15_0</td>\n",
       "      <td>2k15_0</td>\n",
       "      <td>Srm Engineering College., Kattankulathur</td>\n",
       "      <td>Chennai</td>\n",
       "      <td>2k15</td>\n",
       "      <td>2381</td>\n",
       "      <td>5142</td>\n",
       "    </tr>\n",
       "    <tr>\n",
       "      <th>1</th>\n",
       "      <td>876</td>\n",
       "      <td>Ridifyne</td>\n",
       "      <td>Chennai</td>\n",
       "      <td>Eesh Chilukalapalli &amp; Shreya Singh</td>\n",
       "      <td>Srm Engineering College., Kattankulathur</td>\n",
       "      <td>eesh chilukalapalli</td>\n",
       "      <td>shreya singh</td>\n",
       "      <td>2k15_0</td>\n",
       "      <td>2k15_0</td>\n",
       "      <td>Srm Engineering College., Kattankulathur</td>\n",
       "      <td>Chennai</td>\n",
       "      <td>2k15</td>\n",
       "      <td>2382</td>\n",
       "      <td>5143</td>\n",
       "    </tr>\n",
       "    <tr>\n",
       "      <th>2</th>\n",
       "      <td>2523</td>\n",
       "      <td>PFCoderz</td>\n",
       "      <td>Chennai</td>\n",
       "      <td>Nitin Tonger &amp; Abhijat Shrivastava</td>\n",
       "      <td>Srm Engineering College., Kattankulathur</td>\n",
       "      <td>nitin tonger</td>\n",
       "      <td>abhijat shrivastava</td>\n",
       "      <td>2k15_0</td>\n",
       "      <td>2k15_0</td>\n",
       "      <td>Srm Engineering College., Kattankulathur</td>\n",
       "      <td>Chennai</td>\n",
       "      <td>2k15</td>\n",
       "      <td>2383</td>\n",
       "      <td>5144</td>\n",
       "    </tr>\n",
       "    <tr>\n",
       "      <th>3</th>\n",
       "      <td>953</td>\n",
       "      <td>Pied Piper</td>\n",
       "      <td>Chennai</td>\n",
       "      <td>Riddhi Datta &amp; Promit Roy</td>\n",
       "      <td>Srm Engineering College., Kattankulathur</td>\n",
       "      <td>riddhi datta</td>\n",
       "      <td>promit roy</td>\n",
       "      <td>2k15_0</td>\n",
       "      <td>2k15_0</td>\n",
       "      <td>Srm Engineering College., Kattankulathur</td>\n",
       "      <td>Chennai</td>\n",
       "      <td>2k15</td>\n",
       "      <td>2384</td>\n",
       "      <td>5145</td>\n",
       "    </tr>\n",
       "    <tr>\n",
       "      <th>4</th>\n",
       "      <td>1661</td>\n",
       "      <td>DarkKnight Coders</td>\n",
       "      <td>Chennai</td>\n",
       "      <td>Idhant Haldankar &amp; Vaibhav Shelke</td>\n",
       "      <td>Srm Engineering College., Kattankulathur</td>\n",
       "      <td>idhant haldankar</td>\n",
       "      <td>vaibhav shelke</td>\n",
       "      <td>2k15_0</td>\n",
       "      <td>2k15_0</td>\n",
       "      <td>Srm Engineering College., Kattankulathur</td>\n",
       "      <td>Chennai</td>\n",
       "      <td>2k15</td>\n",
       "      <td>2385</td>\n",
       "      <td>5146</td>\n",
       "    </tr>\n",
       "  </tbody>\n",
       "</table>\n",
       "</div>"
      ],
      "text/plain": [
       "   Rank          team_name tcs_region                          users_name  \\\n",
       "0  2294          CRUSADERS    Chennai      Arjun Panicker & Aditya Bharti   \n",
       "1   876           Ridifyne    Chennai  Eesh Chilukalapalli & Shreya Singh   \n",
       "2  2523           PFCoderz    Chennai  Nitin Tonger & Abhijat Shrivastava   \n",
       "3   953         Pied Piper    Chennai           Riddhi Datta & Promit Roy   \n",
       "4  1661  DarkKnight Coders    Chennai   Idhant Haldankar & Vaibhav Shelke   \n",
       "\n",
       "                               college_name               user_1  \\\n",
       "0  Srm Engineering College., Kattankulathur       arjun panicker   \n",
       "1  Srm Engineering College., Kattankulathur  eesh chilukalapalli   \n",
       "2  Srm Engineering College., Kattankulathur         nitin tonger   \n",
       "3  Srm Engineering College., Kattankulathur         riddhi datta   \n",
       "4  Srm Engineering College., Kattankulathur     idhant haldankar   \n",
       "\n",
       "                user_2 mod_index master_mod_index  \\\n",
       "0        aditya bharti    2k15_0           2k15_0   \n",
       "1         shreya singh    2k15_0           2k15_0   \n",
       "2  abhijat shrivastava    2k15_0           2k15_0   \n",
       "3           promit roy    2k15_0           2k15_0   \n",
       "4       vaibhav shelke    2k15_0           2k15_0   \n",
       "\n",
       "                        college_name_master tcs_region_master  year  id_user1  \\\n",
       "0  Srm Engineering College., Kattankulathur           Chennai  2k15      2381   \n",
       "1  Srm Engineering College., Kattankulathur           Chennai  2k15      2382   \n",
       "2  Srm Engineering College., Kattankulathur           Chennai  2k15      2383   \n",
       "3  Srm Engineering College., Kattankulathur           Chennai  2k15      2384   \n",
       "4  Srm Engineering College., Kattankulathur           Chennai  2k15      2385   \n",
       "\n",
       "   id_user2  \n",
       "0      5142  \n",
       "1      5143  \n",
       "2      5144  \n",
       "3      5145  \n",
       "4      5146  "
      ]
     },
     "execution_count": 7,
     "metadata": {},
     "output_type": "execute_result"
    }
   ],
   "source": [
    "results_2k15_df.head()"
   ]
  },
  {
   "cell_type": "code",
   "execution_count": 8,
   "metadata": {
    "scrolled": false
   },
   "outputs": [
    {
     "data": {
      "text/html": [
       "<div>\n",
       "<table border=\"1\" class=\"dataframe\">\n",
       "  <thead>\n",
       "    <tr style=\"text-align: right;\">\n",
       "      <th></th>\n",
       "      <th>college_name_prerectified</th>\n",
       "      <th>ranks</th>\n",
       "      <th>tcs_region_prerectified</th>\n",
       "      <th>team_name</th>\n",
       "      <th>user_name</th>\n",
       "      <th>user_1</th>\n",
       "      <th>user_2</th>\n",
       "      <th>college_name</th>\n",
       "      <th>tcs_region</th>\n",
       "      <th>mod_index</th>\n",
       "      <th>master_mod_index</th>\n",
       "      <th>college_name_master</th>\n",
       "      <th>tcs_region_master</th>\n",
       "      <th>year</th>\n",
       "      <th>id_user1</th>\n",
       "      <th>id_user2</th>\n",
       "    </tr>\n",
       "  </thead>\n",
       "  <tbody>\n",
       "    <tr>\n",
       "      <th>0</th>\n",
       "      <td>Kalyani Govt. Engg. College, WB</td>\n",
       "      <td>1</td>\n",
       "      <td>Kolkata</td>\n",
       "      <td>kgeccoders11</td>\n",
       "      <td>Soumik Sarkar &amp; Subham Das</td>\n",
       "      <td>soumik sarkar</td>\n",
       "      <td>subham das</td>\n",
       "      <td>Kalyani Govt. Engg. College, WB</td>\n",
       "      <td>Kolkata</td>\n",
       "      <td>2k16_0</td>\n",
       "      <td>2k15_24</td>\n",
       "      <td>Kalyani Govt. Engg. College, WB</td>\n",
       "      <td>Kolkata</td>\n",
       "      <td>2k16</td>\n",
       "      <td>1024</td>\n",
       "      <td>1037</td>\n",
       "    </tr>\n",
       "    <tr>\n",
       "      <th>1</th>\n",
       "      <td>Kalyani Govt. Engg. College, WB</td>\n",
       "      <td>194</td>\n",
       "      <td>Kolkata</td>\n",
       "      <td>APOCALYPSE666</td>\n",
       "      <td>Sujit Prasad &amp; Souvik Nandi</td>\n",
       "      <td>sujit prasad</td>\n",
       "      <td>souvik nandi</td>\n",
       "      <td>Kalyani Govt. Engg. College, WB</td>\n",
       "      <td>Kolkata</td>\n",
       "      <td>2k16_0</td>\n",
       "      <td>2k15_24</td>\n",
       "      <td>Kalyani Govt. Engg. College, WB</td>\n",
       "      <td>Kolkata</td>\n",
       "      <td>2k16</td>\n",
       "      <td>2846</td>\n",
       "      <td>5603</td>\n",
       "    </tr>\n",
       "    <tr>\n",
       "      <th>2</th>\n",
       "      <td>Kalyani Govt. Engg. College, WB</td>\n",
       "      <td>269</td>\n",
       "      <td>Kolkata</td>\n",
       "      <td>learningcode</td>\n",
       "      <td>Sayak Pramanik &amp; Shivam Tiwari</td>\n",
       "      <td>sayak pramanik</td>\n",
       "      <td>shivam tiwari</td>\n",
       "      <td>Kalyani Govt. Engg. College, WB</td>\n",
       "      <td>Kolkata</td>\n",
       "      <td>2k16_0</td>\n",
       "      <td>2k15_24</td>\n",
       "      <td>Kalyani Govt. Engg. College, WB</td>\n",
       "      <td>Kolkata</td>\n",
       "      <td>2k16</td>\n",
       "      <td>5607</td>\n",
       "      <td>1035</td>\n",
       "    </tr>\n",
       "    <tr>\n",
       "      <th>3</th>\n",
       "      <td>Kalyani Govt. Engg. College, WB</td>\n",
       "      <td>859</td>\n",
       "      <td>Kolkata</td>\n",
       "      <td>kgecCoders123</td>\n",
       "      <td>Arnab Mondal &amp; Aditya Jain</td>\n",
       "      <td>arnab mondal</td>\n",
       "      <td>aditya jain</td>\n",
       "      <td>Kalyani Govt. Engg. College, WB</td>\n",
       "      <td>Kolkata</td>\n",
       "      <td>2k16_0</td>\n",
       "      <td>2k15_24</td>\n",
       "      <td>Kalyani Govt. Engg. College, WB</td>\n",
       "      <td>Kolkata</td>\n",
       "      <td>2k16</td>\n",
       "      <td>1036</td>\n",
       "      <td>1023</td>\n",
       "    </tr>\n",
       "    <tr>\n",
       "      <th>4</th>\n",
       "      <td>Kalyani Govt. Engg. College, WB</td>\n",
       "      <td>1204</td>\n",
       "      <td>Kolkata</td>\n",
       "      <td>smartbugs</td>\n",
       "      <td>Pallab Ganguly &amp; Namrata Guptaroy</td>\n",
       "      <td>pallab ganguly</td>\n",
       "      <td>namrata guptaroy</td>\n",
       "      <td>Kalyani Govt. Engg. College, WB</td>\n",
       "      <td>Kolkata</td>\n",
       "      <td>2k16_0</td>\n",
       "      <td>2k15_24</td>\n",
       "      <td>Kalyani Govt. Engg. College, WB</td>\n",
       "      <td>Kolkata</td>\n",
       "      <td>2k16</td>\n",
       "      <td>1028</td>\n",
       "      <td>5611</td>\n",
       "    </tr>\n",
       "  </tbody>\n",
       "</table>\n",
       "</div>"
      ],
      "text/plain": [
       "         college_name_prerectified  ranks tcs_region_prerectified  \\\n",
       "0  Kalyani Govt. Engg. College, WB      1                 Kolkata   \n",
       "1  Kalyani Govt. Engg. College, WB    194                 Kolkata   \n",
       "2  Kalyani Govt. Engg. College, WB    269                 Kolkata   \n",
       "3  Kalyani Govt. Engg. College, WB    859                 Kolkata   \n",
       "4  Kalyani Govt. Engg. College, WB   1204                 Kolkata   \n",
       "\n",
       "       team_name                          user_name          user_1  \\\n",
       "0   kgeccoders11         Soumik Sarkar & Subham Das   soumik sarkar   \n",
       "1  APOCALYPSE666        Sujit Prasad & Souvik Nandi    sujit prasad   \n",
       "2   learningcode     Sayak Pramanik & Shivam Tiwari  sayak pramanik   \n",
       "3  kgecCoders123         Arnab Mondal & Aditya Jain    arnab mondal   \n",
       "4      smartbugs  Pallab Ganguly & Namrata Guptaroy  pallab ganguly   \n",
       "\n",
       "             user_2                     college_name tcs_region mod_index  \\\n",
       "0        subham das  Kalyani Govt. Engg. College, WB    Kolkata    2k16_0   \n",
       "1      souvik nandi  Kalyani Govt. Engg. College, WB    Kolkata    2k16_0   \n",
       "2     shivam tiwari  Kalyani Govt. Engg. College, WB    Kolkata    2k16_0   \n",
       "3       aditya jain  Kalyani Govt. Engg. College, WB    Kolkata    2k16_0   \n",
       "4  namrata guptaroy  Kalyani Govt. Engg. College, WB    Kolkata    2k16_0   \n",
       "\n",
       "  master_mod_index              college_name_master tcs_region_master  year  \\\n",
       "0          2k15_24  Kalyani Govt. Engg. College, WB           Kolkata  2k16   \n",
       "1          2k15_24  Kalyani Govt. Engg. College, WB           Kolkata  2k16   \n",
       "2          2k15_24  Kalyani Govt. Engg. College, WB           Kolkata  2k16   \n",
       "3          2k15_24  Kalyani Govt. Engg. College, WB           Kolkata  2k16   \n",
       "4          2k15_24  Kalyani Govt. Engg. College, WB           Kolkata  2k16   \n",
       "\n",
       "   id_user1  id_user2  \n",
       "0      1024      1037  \n",
       "1      2846      5603  \n",
       "2      5607      1035  \n",
       "3      1036      1023  \n",
       "4      1028      5611  "
      ]
     },
     "execution_count": 8,
     "metadata": {},
     "output_type": "execute_result"
    }
   ],
   "source": [
    "results_2k16_df.head()"
   ]
  },
  {
   "cell_type": "code",
   "execution_count": 9,
   "metadata": {
    "scrolled": true
   },
   "outputs": [
    {
     "data": {
      "text/html": [
       "<div>\n",
       "<table border=\"1\" class=\"dataframe\">\n",
       "  <thead>\n",
       "    <tr style=\"text-align: right;\">\n",
       "      <th></th>\n",
       "      <th>college_name</th>\n",
       "      <th>problems_solved</th>\n",
       "      <th>round1_rank</th>\n",
       "      <th>user1</th>\n",
       "      <th>zonal_name</th>\n",
       "      <th>zonal_rank</th>\n",
       "      <th>mod_index</th>\n",
       "      <th>master_mod_index</th>\n",
       "      <th>college_name_master</th>\n",
       "      <th>tcs_region_master</th>\n",
       "      <th>year</th>\n",
       "      <th>id_user1</th>\n",
       "    </tr>\n",
       "  </thead>\n",
       "  <tbody>\n",
       "    <tr>\n",
       "      <th>0</th>\n",
       "      <td>Dhirubhai Ambani Inst of Information &amp; Communi...</td>\n",
       "      <td>6</td>\n",
       "      <td>1</td>\n",
       "      <td>mohib manva</td>\n",
       "      <td>zone1</td>\n",
       "      <td>1</td>\n",
       "      <td>2k17_96</td>\n",
       "      <td>2k15_234</td>\n",
       "      <td>Dhirubhai Ambani Inst of Information &amp; Communi...</td>\n",
       "      <td>Ahmedabad</td>\n",
       "      <td>2k17</td>\n",
       "      <td>0</td>\n",
       "    </tr>\n",
       "    <tr>\n",
       "      <th>1</th>\n",
       "      <td>Dhirubhai Ambani Inst of Information &amp; Communi...</td>\n",
       "      <td>6</td>\n",
       "      <td>2</td>\n",
       "      <td>sagar savaliya</td>\n",
       "      <td>zone1</td>\n",
       "      <td>2</td>\n",
       "      <td>2k17_96</td>\n",
       "      <td>2k15_234</td>\n",
       "      <td>Dhirubhai Ambani Inst of Information &amp; Communi...</td>\n",
       "      <td>Ahmedabad</td>\n",
       "      <td>2k17</td>\n",
       "      <td>1</td>\n",
       "    </tr>\n",
       "    <tr>\n",
       "      <th>2</th>\n",
       "      <td>Dhirubhai Ambani Inst of Information &amp; Communi...</td>\n",
       "      <td>5</td>\n",
       "      <td>11</td>\n",
       "      <td>suparshva mehta</td>\n",
       "      <td>zone1</td>\n",
       "      <td>3</td>\n",
       "      <td>2k17_96</td>\n",
       "      <td>2k15_234</td>\n",
       "      <td>Dhirubhai Ambani Inst of Information &amp; Communi...</td>\n",
       "      <td>Ahmedabad</td>\n",
       "      <td>2k17</td>\n",
       "      <td>2</td>\n",
       "    </tr>\n",
       "    <tr>\n",
       "      <th>3</th>\n",
       "      <td>Dhirubhai Ambani Inst of Information &amp; Communi...</td>\n",
       "      <td>4</td>\n",
       "      <td>29</td>\n",
       "      <td>umang upadhyay</td>\n",
       "      <td>zone1</td>\n",
       "      <td>5</td>\n",
       "      <td>2k17_96</td>\n",
       "      <td>2k15_234</td>\n",
       "      <td>Dhirubhai Ambani Inst of Information &amp; Communi...</td>\n",
       "      <td>Ahmedabad</td>\n",
       "      <td>2k17</td>\n",
       "      <td>3</td>\n",
       "    </tr>\n",
       "    <tr>\n",
       "      <th>4</th>\n",
       "      <td>Dhirubhai Ambani Inst of Information &amp; Communi...</td>\n",
       "      <td>4</td>\n",
       "      <td>98</td>\n",
       "      <td>kalpesh prajapati</td>\n",
       "      <td>zone1</td>\n",
       "      <td>21</td>\n",
       "      <td>2k17_96</td>\n",
       "      <td>2k15_234</td>\n",
       "      <td>Dhirubhai Ambani Inst of Information &amp; Communi...</td>\n",
       "      <td>Ahmedabad</td>\n",
       "      <td>2k17</td>\n",
       "      <td>4</td>\n",
       "    </tr>\n",
       "  </tbody>\n",
       "</table>\n",
       "</div>"
      ],
      "text/plain": [
       "                                        college_name  problems_solved  \\\n",
       "0  Dhirubhai Ambani Inst of Information & Communi...                6   \n",
       "1  Dhirubhai Ambani Inst of Information & Communi...                6   \n",
       "2  Dhirubhai Ambani Inst of Information & Communi...                5   \n",
       "3  Dhirubhai Ambani Inst of Information & Communi...                4   \n",
       "4  Dhirubhai Ambani Inst of Information & Communi...                4   \n",
       "\n",
       "   round1_rank              user1 zonal_name  zonal_rank mod_index  \\\n",
       "0            1        mohib manva      zone1           1   2k17_96   \n",
       "1            2     sagar savaliya      zone1           2   2k17_96   \n",
       "2           11    suparshva mehta      zone1           3   2k17_96   \n",
       "3           29     umang upadhyay      zone1           5   2k17_96   \n",
       "4           98  kalpesh prajapati      zone1          21   2k17_96   \n",
       "\n",
       "  master_mod_index                                college_name_master  \\\n",
       "0         2k15_234  Dhirubhai Ambani Inst of Information & Communi...   \n",
       "1         2k15_234  Dhirubhai Ambani Inst of Information & Communi...   \n",
       "2         2k15_234  Dhirubhai Ambani Inst of Information & Communi...   \n",
       "3         2k15_234  Dhirubhai Ambani Inst of Information & Communi...   \n",
       "4         2k15_234  Dhirubhai Ambani Inst of Information & Communi...   \n",
       "\n",
       "  tcs_region_master  year  id_user1  \n",
       "0         Ahmedabad  2k17         0  \n",
       "1         Ahmedabad  2k17         1  \n",
       "2         Ahmedabad  2k17         2  \n",
       "3         Ahmedabad  2k17         3  \n",
       "4         Ahmedabad  2k17         4  "
      ]
     },
     "execution_count": 9,
     "metadata": {},
     "output_type": "execute_result"
    }
   ],
   "source": [
    "results_2k17_df.head()"
   ]
  },
  {
   "cell_type": "code",
   "execution_count": 10,
   "metadata": {
    "scrolled": false
   },
   "outputs": [
    {
     "name": "stdout",
     "output_type": "stream",
     "text": [
      "(1732, 8)\n"
     ]
    },
    {
     "data": {
      "text/html": [
       "<div>\n",
       "<table border=\"1\" class=\"dataframe\">\n",
       "  <thead>\n",
       "    <tr style=\"text-align: right;\">\n",
       "      <th></th>\n",
       "      <th>coll_name_case_independent</th>\n",
       "      <th>coll_name_norm_wo_common_words</th>\n",
       "      <th>coll_name_norm_wo_common_words_v2</th>\n",
       "      <th>college_name</th>\n",
       "      <th>college_name_normalized</th>\n",
       "      <th>master_mod_index</th>\n",
       "      <th>mod_index</th>\n",
       "      <th>tcs_region</th>\n",
       "    </tr>\n",
       "  </thead>\n",
       "  <tbody>\n",
       "    <tr>\n",
       "      <th>0</th>\n",
       "      <td>srm engineering college., kattankulathur</td>\n",
       "      <td>srm kattankulathur</td>\n",
       "      <td>srm kattankulathur</td>\n",
       "      <td>Srm Engineering College., Kattankulathur</td>\n",
       "      <td>srm engineering college kattankulathur</td>\n",
       "      <td>2k15_0</td>\n",
       "      <td>2k15_0</td>\n",
       "      <td>Chennai</td>\n",
       "    </tr>\n",
       "    <tr>\n",
       "      <th>1</th>\n",
       "      <td>army institute of technology,pune university, ...</td>\n",
       "      <td>army pune pune</td>\n",
       "      <td>army pune pune</td>\n",
       "      <td>Army Institute of Technology,Pune University, ...</td>\n",
       "      <td>army institute of technology pune university pune</td>\n",
       "      <td>2k15_1</td>\n",
       "      <td>2k15_1</td>\n",
       "      <td>Pune</td>\n",
       "    </tr>\n",
       "    <tr>\n",
       "      <th>2</th>\n",
       "      <td>osmania university, hyderabad</td>\n",
       "      <td>osmania hyderabad</td>\n",
       "      <td>osmania hyderabad</td>\n",
       "      <td>Osmania University, Hyderabad</td>\n",
       "      <td>osmania university hyderabad</td>\n",
       "      <td>2k15_2</td>\n",
       "      <td>2k15_2</td>\n",
       "      <td>Hyderabad</td>\n",
       "    </tr>\n",
       "    <tr>\n",
       "      <th>3</th>\n",
       "      <td>medicaps inst of tech &amp; management, indore</td>\n",
       "      <td>medicaps tech indore</td>\n",
       "      <td>medicaps tech indore</td>\n",
       "      <td>Medicaps Inst of Tech &amp; Management, Indore</td>\n",
       "      <td>medicaps inst of tech management indore</td>\n",
       "      <td>2k15_3</td>\n",
       "      <td>2k15_3</td>\n",
       "      <td>Mumbai</td>\n",
       "    </tr>\n",
       "    <tr>\n",
       "      <th>4</th>\n",
       "      <td>ramrao adik institute of technology,nerul</td>\n",
       "      <td>ramrao adik nerul</td>\n",
       "      <td>ramrao adik nerul</td>\n",
       "      <td>Ramrao Adik Institute of Technology,Nerul</td>\n",
       "      <td>ramrao adik institute of technology nerul</td>\n",
       "      <td>2k15_4</td>\n",
       "      <td>2k15_4</td>\n",
       "      <td>Mumbai</td>\n",
       "    </tr>\n",
       "  </tbody>\n",
       "</table>\n",
       "</div>"
      ],
      "text/plain": [
       "                          coll_name_case_independent  \\\n",
       "0           srm engineering college., kattankulathur   \n",
       "1  army institute of technology,pune university, ...   \n",
       "2                      osmania university, hyderabad   \n",
       "3         medicaps inst of tech & management, indore   \n",
       "4          ramrao adik institute of technology,nerul   \n",
       "\n",
       "  coll_name_norm_wo_common_words coll_name_norm_wo_common_words_v2  \\\n",
       "0             srm kattankulathur                srm kattankulathur   \n",
       "1                 army pune pune                    army pune pune   \n",
       "2              osmania hyderabad                 osmania hyderabad   \n",
       "3           medicaps tech indore              medicaps tech indore   \n",
       "4              ramrao adik nerul                 ramrao adik nerul   \n",
       "\n",
       "                                        college_name  \\\n",
       "0           Srm Engineering College., Kattankulathur   \n",
       "1  Army Institute of Technology,Pune University, ...   \n",
       "2                      Osmania University, Hyderabad   \n",
       "3         Medicaps Inst of Tech & Management, Indore   \n",
       "4          Ramrao Adik Institute of Technology,Nerul   \n",
       "\n",
       "                             college_name_normalized master_mod_index  \\\n",
       "0             srm engineering college kattankulathur           2k15_0   \n",
       "1  army institute of technology pune university pune           2k15_1   \n",
       "2                       osmania university hyderabad           2k15_2   \n",
       "3            medicaps inst of tech management indore           2k15_3   \n",
       "4          ramrao adik institute of technology nerul           2k15_4   \n",
       "\n",
       "  mod_index tcs_region  \n",
       "0    2k15_0    Chennai  \n",
       "1    2k15_1       Pune  \n",
       "2    2k15_2  Hyderabad  \n",
       "3    2k15_3     Mumbai  \n",
       "4    2k15_4     Mumbai  "
      ]
     },
     "execution_count": 10,
     "metadata": {},
     "output_type": "execute_result"
    }
   ],
   "source": [
    "print(college_list_df.shape)\n",
    "college_list_df.head()"
   ]
  },
  {
   "cell_type": "code",
   "execution_count": 11,
   "metadata": {},
   "outputs": [
    {
     "name": "stdout",
     "output_type": "stream",
     "text": [
      "(935, 8)\n"
     ]
    },
    {
     "data": {
      "text/html": [
       "<div>\n",
       "<table border=\"1\" class=\"dataframe\">\n",
       "  <thead>\n",
       "    <tr style=\"text-align: right;\">\n",
       "      <th></th>\n",
       "      <th>coll_name_case_independent</th>\n",
       "      <th>coll_name_norm_wo_common_words</th>\n",
       "      <th>coll_name_norm_wo_common_words_v2</th>\n",
       "      <th>college_name</th>\n",
       "      <th>college_name_normalized</th>\n",
       "      <th>master_mod_index</th>\n",
       "      <th>mod_index</th>\n",
       "      <th>tcs_region</th>\n",
       "    </tr>\n",
       "  </thead>\n",
       "  <tbody>\n",
       "    <tr>\n",
       "      <th>0</th>\n",
       "      <td>srm engineering college., kattankulathur</td>\n",
       "      <td>srm kattankulathur</td>\n",
       "      <td>srm kattankulathur</td>\n",
       "      <td>Srm Engineering College., Kattankulathur</td>\n",
       "      <td>srm engineering college kattankulathur</td>\n",
       "      <td>2k15_0</td>\n",
       "      <td>2k15_0</td>\n",
       "      <td>Chennai</td>\n",
       "    </tr>\n",
       "    <tr>\n",
       "      <th>1</th>\n",
       "      <td>army institute of technology,pune university, ...</td>\n",
       "      <td>army pune pune</td>\n",
       "      <td>army pune pune</td>\n",
       "      <td>Army Institute of Technology,Pune University, ...</td>\n",
       "      <td>army institute of technology pune university pune</td>\n",
       "      <td>2k15_1</td>\n",
       "      <td>2k15_1</td>\n",
       "      <td>Pune</td>\n",
       "    </tr>\n",
       "    <tr>\n",
       "      <th>2</th>\n",
       "      <td>osmania university, hyderabad</td>\n",
       "      <td>osmania hyderabad</td>\n",
       "      <td>osmania hyderabad</td>\n",
       "      <td>Osmania University, Hyderabad</td>\n",
       "      <td>osmania university hyderabad</td>\n",
       "      <td>2k15_2</td>\n",
       "      <td>2k15_2</td>\n",
       "      <td>Hyderabad</td>\n",
       "    </tr>\n",
       "    <tr>\n",
       "      <th>3</th>\n",
       "      <td>medicaps inst of tech &amp; management, indore</td>\n",
       "      <td>medicaps tech indore</td>\n",
       "      <td>medicaps tech indore</td>\n",
       "      <td>Medicaps Inst of Tech &amp; Management, Indore</td>\n",
       "      <td>medicaps inst of tech management indore</td>\n",
       "      <td>2k15_3</td>\n",
       "      <td>2k15_3</td>\n",
       "      <td>Mumbai</td>\n",
       "    </tr>\n",
       "    <tr>\n",
       "      <th>4</th>\n",
       "      <td>ramrao adik institute of technology,nerul</td>\n",
       "      <td>ramrao adik nerul</td>\n",
       "      <td>ramrao adik nerul</td>\n",
       "      <td>Ramrao Adik Institute of Technology,Nerul</td>\n",
       "      <td>ramrao adik institute of technology nerul</td>\n",
       "      <td>2k15_4</td>\n",
       "      <td>2k15_4</td>\n",
       "      <td>Mumbai</td>\n",
       "    </tr>\n",
       "  </tbody>\n",
       "</table>\n",
       "</div>"
      ],
      "text/plain": [
       "                          coll_name_case_independent  \\\n",
       "0           srm engineering college., kattankulathur   \n",
       "1  army institute of technology,pune university, ...   \n",
       "2                      osmania university, hyderabad   \n",
       "3         medicaps inst of tech & management, indore   \n",
       "4          ramrao adik institute of technology,nerul   \n",
       "\n",
       "  coll_name_norm_wo_common_words coll_name_norm_wo_common_words_v2  \\\n",
       "0             srm kattankulathur                srm kattankulathur   \n",
       "1                 army pune pune                    army pune pune   \n",
       "2              osmania hyderabad                 osmania hyderabad   \n",
       "3           medicaps tech indore              medicaps tech indore   \n",
       "4              ramrao adik nerul                 ramrao adik nerul   \n",
       "\n",
       "                                        college_name  \\\n",
       "0           Srm Engineering College., Kattankulathur   \n",
       "1  Army Institute of Technology,Pune University, ...   \n",
       "2                      Osmania University, Hyderabad   \n",
       "3         Medicaps Inst of Tech & Management, Indore   \n",
       "4          Ramrao Adik Institute of Technology,Nerul   \n",
       "\n",
       "                             college_name_normalized master_mod_index  \\\n",
       "0             srm engineering college kattankulathur           2k15_0   \n",
       "1  army institute of technology pune university pune           2k15_1   \n",
       "2                       osmania university hyderabad           2k15_2   \n",
       "3            medicaps inst of tech management indore           2k15_3   \n",
       "4          ramrao adik institute of technology nerul           2k15_4   \n",
       "\n",
       "  mod_index tcs_region  \n",
       "0    2k15_0    Chennai  \n",
       "1    2k15_1       Pune  \n",
       "2    2k15_2  Hyderabad  \n",
       "3    2k15_3     Mumbai  \n",
       "4    2k15_4     Mumbai  "
      ]
     },
     "execution_count": 11,
     "metadata": {},
     "output_type": "execute_result"
    }
   ],
   "source": [
    "college_list_master_df=college_list_df[college_list_df.mod_index==college_list_df.master_mod_index]\n",
    "print(college_list_master_df.shape)\n",
    "college_list_master_df.head()"
   ]
  },
  {
   "cell_type": "code",
   "execution_count": 12,
   "metadata": {
    "scrolled": true
   },
   "outputs": [
    {
     "data": {
      "text/html": [
       "<div>\n",
       "<table border=\"1\" class=\"dataframe\">\n",
       "  <thead>\n",
       "    <tr style=\"text-align: right;\">\n",
       "      <th></th>\n",
       "      <th>year</th>\n",
       "      <th>user</th>\n",
       "      <th>college_name_master</th>\n",
       "      <th>tcs_region_master</th>\n",
       "      <th>master_mod_index</th>\n",
       "      <th>id_user</th>\n",
       "    </tr>\n",
       "  </thead>\n",
       "  <tbody>\n",
       "    <tr>\n",
       "      <th>0</th>\n",
       "      <td>2k17</td>\n",
       "      <td>mohib manva</td>\n",
       "      <td>Dhirubhai Ambani Inst of Information &amp; Communi...</td>\n",
       "      <td>Ahmedabad</td>\n",
       "      <td>2k15_234</td>\n",
       "      <td>0</td>\n",
       "    </tr>\n",
       "    <tr>\n",
       "      <th>1</th>\n",
       "      <td>2k17</td>\n",
       "      <td>sagar savaliya</td>\n",
       "      <td>Dhirubhai Ambani Inst of Information &amp; Communi...</td>\n",
       "      <td>Ahmedabad</td>\n",
       "      <td>2k15_234</td>\n",
       "      <td>1</td>\n",
       "    </tr>\n",
       "    <tr>\n",
       "      <th>2</th>\n",
       "      <td>2k17</td>\n",
       "      <td>suparshva mehta</td>\n",
       "      <td>Dhirubhai Ambani Inst of Information &amp; Communi...</td>\n",
       "      <td>Ahmedabad</td>\n",
       "      <td>2k15_234</td>\n",
       "      <td>2</td>\n",
       "    </tr>\n",
       "    <tr>\n",
       "      <th>3</th>\n",
       "      <td>2k17</td>\n",
       "      <td>umang upadhyay</td>\n",
       "      <td>Dhirubhai Ambani Inst of Information &amp; Communi...</td>\n",
       "      <td>Ahmedabad</td>\n",
       "      <td>2k15_234</td>\n",
       "      <td>3</td>\n",
       "    </tr>\n",
       "    <tr>\n",
       "      <th>4</th>\n",
       "      <td>2k17</td>\n",
       "      <td>kalpesh prajapati</td>\n",
       "      <td>Dhirubhai Ambani Inst of Information &amp; Communi...</td>\n",
       "      <td>Ahmedabad</td>\n",
       "      <td>2k15_234</td>\n",
       "      <td>4</td>\n",
       "    </tr>\n",
       "  </tbody>\n",
       "</table>\n",
       "</div>"
      ],
      "text/plain": [
       "   year               user                                college_name_master  \\\n",
       "0  2k17        mohib manva  Dhirubhai Ambani Inst of Information & Communi...   \n",
       "1  2k17     sagar savaliya  Dhirubhai Ambani Inst of Information & Communi...   \n",
       "2  2k17    suparshva mehta  Dhirubhai Ambani Inst of Information & Communi...   \n",
       "3  2k17     umang upadhyay  Dhirubhai Ambani Inst of Information & Communi...   \n",
       "4  2k17  kalpesh prajapati  Dhirubhai Ambani Inst of Information & Communi...   \n",
       "\n",
       "  tcs_region_master master_mod_index  id_user  \n",
       "0         Ahmedabad         2k15_234        0  \n",
       "1         Ahmedabad         2k15_234        1  \n",
       "2         Ahmedabad         2k15_234        2  \n",
       "3         Ahmedabad         2k15_234        3  \n",
       "4         Ahmedabad         2k15_234        4  "
      ]
     },
     "execution_count": 12,
     "metadata": {},
     "output_type": "execute_result"
    }
   ],
   "source": [
    "users_list_df.head()"
   ]
  },
  {
   "cell_type": "code",
   "execution_count": 13,
   "metadata": {},
   "outputs": [
    {
     "data": {
      "text/plain": [
       "Index(['Rank', 'team_name', 'tcs_region', 'users_name', 'college_name',\n",
       "       'user_1', 'user_2', 'mod_index', 'master_mod_index',\n",
       "       'college_name_master', 'tcs_region_master', 'year', 'id_user1',\n",
       "       'id_user2'],\n",
       "      dtype='object')"
      ]
     },
     "execution_count": 13,
     "metadata": {},
     "output_type": "execute_result"
    }
   ],
   "source": [
    "results_2k15_df.columns"
   ]
  },
  {
   "cell_type": "code",
   "execution_count": 14,
   "metadata": {},
   "outputs": [
    {
     "data": {
      "text/plain": [
       "Index(['college_name_prerectified', 'ranks', 'tcs_region_prerectified',\n",
       "       'team_name', 'user_name', 'user_1', 'user_2', 'college_name',\n",
       "       'tcs_region', 'mod_index', 'master_mod_index', 'college_name_master',\n",
       "       'tcs_region_master', 'year', 'id_user1', 'id_user2'],\n",
       "      dtype='object')"
      ]
     },
     "execution_count": 14,
     "metadata": {},
     "output_type": "execute_result"
    }
   ],
   "source": [
    "results_2k16_df.columns"
   ]
  },
  {
   "cell_type": "code",
   "execution_count": 15,
   "metadata": {},
   "outputs": [
    {
     "data": {
      "text/plain": [
       "Index(['college_name', 'problems_solved', 'round1_rank', 'user1', 'zonal_name',\n",
       "       'zonal_rank', 'mod_index', 'master_mod_index', 'college_name_master',\n",
       "       'tcs_region_master', 'year', 'id_user1'],\n",
       "      dtype='object')"
      ]
     },
     "execution_count": 15,
     "metadata": {},
     "output_type": "execute_result"
    }
   ],
   "source": [
    "results_2k17_df.columns"
   ]
  },
  {
   "cell_type": "code",
   "execution_count": 16,
   "metadata": {
    "collapsed": true
   },
   "outputs": [],
   "source": [
    "results_2k15_df=results_2k15_df.rename(columns={'Rank':'round1_rank'})\n",
    "results_2k16_df=results_2k16_df.rename(columns={'ranks':'round1_rank'})"
   ]
  },
  {
   "cell_type": "code",
   "execution_count": 17,
   "metadata": {},
   "outputs": [
    {
     "data": {
      "text/plain": [
       "Index(['round1_rank', 'team_name', 'tcs_region', 'users_name', 'college_name',\n",
       "       'user_1', 'user_2', 'mod_index', 'master_mod_index',\n",
       "       'college_name_master', 'tcs_region_master', 'year', 'id_user1',\n",
       "       'id_user2'],\n",
       "      dtype='object')"
      ]
     },
     "execution_count": 17,
     "metadata": {},
     "output_type": "execute_result"
    }
   ],
   "source": [
    "results_2k15_df.columns"
   ]
  },
  {
   "cell_type": "code",
   "execution_count": 18,
   "metadata": {},
   "outputs": [
    {
     "data": {
      "text/plain": [
       "Index(['college_name_prerectified', 'round1_rank', 'tcs_region_prerectified',\n",
       "       'team_name', 'user_name', 'user_1', 'user_2', 'college_name',\n",
       "       'tcs_region', 'mod_index', 'master_mod_index', 'college_name_master',\n",
       "       'tcs_region_master', 'year', 'id_user1', 'id_user2'],\n",
       "      dtype='object')"
      ]
     },
     "execution_count": 18,
     "metadata": {},
     "output_type": "execute_result"
    }
   ],
   "source": [
    "results_2k16_df.columns"
   ]
  },
  {
   "cell_type": "code",
   "execution_count": 19,
   "metadata": {
    "scrolled": true
   },
   "outputs": [
    {
     "data": {
      "text/html": [
       "<div>\n",
       "<table border=\"1\" class=\"dataframe\">\n",
       "  <thead>\n",
       "    <tr style=\"text-align: right;\">\n",
       "      <th></th>\n",
       "      <th>round1_rank</th>\n",
       "      <th>team_name</th>\n",
       "      <th>tcs_region</th>\n",
       "      <th>users_name</th>\n",
       "      <th>college_name</th>\n",
       "      <th>user_1</th>\n",
       "      <th>user_2</th>\n",
       "      <th>mod_index</th>\n",
       "      <th>master_mod_index</th>\n",
       "      <th>college_name_master</th>\n",
       "      <th>tcs_region_master</th>\n",
       "      <th>year</th>\n",
       "      <th>id_user1</th>\n",
       "      <th>id_user2</th>\n",
       "    </tr>\n",
       "  </thead>\n",
       "  <tbody>\n",
       "    <tr>\n",
       "      <th>460</th>\n",
       "      <td>2811</td>\n",
       "      <td>WinningIsTheSpirit</td>\n",
       "      <td>Lucknow</td>\n",
       "      <td>Gaurav Singh &amp; Smriti Saxena</td>\n",
       "      <td>Shri Ram Murti Smarak College of Engg and Tech...</td>\n",
       "      <td>gaurav singh</td>\n",
       "      <td>smriti saxena</td>\n",
       "      <td>2k15_23</td>\n",
       "      <td>2k15_23</td>\n",
       "      <td>Shri Ram Murti Smarak College of Engg and Tech...</td>\n",
       "      <td>Lucknow</td>\n",
       "      <td>2k15</td>\n",
       "      <td>2837</td>\n",
       "      <td>5594</td>\n",
       "    </tr>\n",
       "    <tr>\n",
       "      <th>2220</th>\n",
       "      <td>2812</td>\n",
       "      <td>Scintillators</td>\n",
       "      <td>Hyderabad</td>\n",
       "      <td>Navya Ankem &amp; Himabindu Tumuluri</td>\n",
       "      <td>Pragathi College of Engineering, Kakinada</td>\n",
       "      <td>navya ankem</td>\n",
       "      <td>himabindu tumuluri</td>\n",
       "      <td>2k15_253</td>\n",
       "      <td>2k15_253</td>\n",
       "      <td>Pragathi College of Engineering, Kakinada</td>\n",
       "      <td>Hyderabad</td>\n",
       "      <td>2k15</td>\n",
       "      <td>4555</td>\n",
       "      <td>7311</td>\n",
       "    </tr>\n",
       "    <tr>\n",
       "      <th>2271</th>\n",
       "      <td>2813</td>\n",
       "      <td>cgcians</td>\n",
       "      <td>Delhi</td>\n",
       "      <td>Kirti &amp; Princy Sharma</td>\n",
       "      <td>Chandigarh Engineering College, Landran</td>\n",
       "      <td>kirti</td>\n",
       "      <td>princy sharma</td>\n",
       "      <td>2k15_269</td>\n",
       "      <td>2k15_269</td>\n",
       "      <td>Chandigarh Engineering College, Landran</td>\n",
       "      <td>Delhi</td>\n",
       "      <td>2k15</td>\n",
       "      <td>4606</td>\n",
       "      <td>7362</td>\n",
       "    </tr>\n",
       "    <tr>\n",
       "      <th>1993</th>\n",
       "      <td>2814</td>\n",
       "      <td>codersreunited</td>\n",
       "      <td>Delhi</td>\n",
       "      <td>Shivika Agarwal &amp; Snigdha Malhotra</td>\n",
       "      <td>Meerut Institute of Engineering &amp; Technology, ...</td>\n",
       "      <td>shivika agarwal</td>\n",
       "      <td>snigdha malhotra</td>\n",
       "      <td>2k15_210</td>\n",
       "      <td>2k15_330</td>\n",
       "      <td>MEERUT INSTITUTE OF TECHNOLOGY, MEERUT</td>\n",
       "      <td>Delhi</td>\n",
       "      <td>2k15</td>\n",
       "      <td>4330</td>\n",
       "      <td>7092</td>\n",
       "    </tr>\n",
       "    <tr>\n",
       "      <th>1439</th>\n",
       "      <td>2815</td>\n",
       "      <td>CodeWreckers</td>\n",
       "      <td>Kolkata</td>\n",
       "      <td>Himanshu &amp; Saurav Kumar</td>\n",
       "      <td>Haldia Instt of Technology, Haldia - W.B.</td>\n",
       "      <td>himanshu</td>\n",
       "      <td>saurav kumar</td>\n",
       "      <td>2k15_117</td>\n",
       "      <td>2k15_117</td>\n",
       "      <td>Haldia Instt of Technology, Haldia - W.B.</td>\n",
       "      <td>Kolkata</td>\n",
       "      <td>2k15</td>\n",
       "      <td>3788</td>\n",
       "      <td>6552</td>\n",
       "    </tr>\n",
       "  </tbody>\n",
       "</table>\n",
       "</div>"
      ],
      "text/plain": [
       "      round1_rank           team_name tcs_region  \\\n",
       "460          2811  WinningIsTheSpirit    Lucknow   \n",
       "2220         2812       Scintillators  Hyderabad   \n",
       "2271         2813             cgcians      Delhi   \n",
       "1993         2814      codersreunited      Delhi   \n",
       "1439         2815        CodeWreckers    Kolkata   \n",
       "\n",
       "                              users_name  \\\n",
       "460         Gaurav Singh & Smriti Saxena   \n",
       "2220    Navya Ankem & Himabindu Tumuluri   \n",
       "2271               Kirti & Princy Sharma   \n",
       "1993  Shivika Agarwal & Snigdha Malhotra   \n",
       "1439             Himanshu & Saurav Kumar   \n",
       "\n",
       "                                           college_name           user_1  \\\n",
       "460   Shri Ram Murti Smarak College of Engg and Tech...     gaurav singh   \n",
       "2220          Pragathi College of Engineering, Kakinada      navya ankem   \n",
       "2271            Chandigarh Engineering College, Landran            kirti   \n",
       "1993  Meerut Institute of Engineering & Technology, ...  shivika agarwal   \n",
       "1439          Haldia Instt of Technology, Haldia - W.B.         himanshu   \n",
       "\n",
       "                  user_2 mod_index master_mod_index  \\\n",
       "460        smriti saxena   2k15_23          2k15_23   \n",
       "2220  himabindu tumuluri  2k15_253         2k15_253   \n",
       "2271       princy sharma  2k15_269         2k15_269   \n",
       "1993    snigdha malhotra  2k15_210         2k15_330   \n",
       "1439        saurav kumar  2k15_117         2k15_117   \n",
       "\n",
       "                                    college_name_master tcs_region_master  \\\n",
       "460   Shri Ram Murti Smarak College of Engg and Tech...           Lucknow   \n",
       "2220          Pragathi College of Engineering, Kakinada         Hyderabad   \n",
       "2271            Chandigarh Engineering College, Landran             Delhi   \n",
       "1993             MEERUT INSTITUTE OF TECHNOLOGY, MEERUT             Delhi   \n",
       "1439          Haldia Instt of Technology, Haldia - W.B.           Kolkata   \n",
       "\n",
       "      year  id_user1  id_user2  \n",
       "460   2k15      2837      5594  \n",
       "2220  2k15      4555      7311  \n",
       "2271  2k15      4606      7362  \n",
       "1993  2k15      4330      7092  \n",
       "1439  2k15      3788      6552  "
      ]
     },
     "execution_count": 19,
     "metadata": {},
     "output_type": "execute_result"
    }
   ],
   "source": [
    "results_2k15_df=results_2k15_df.sort_values('round1_rank',axis=0)\n",
    "results_2k16_df=results_2k16_df.sort_values('round1_rank',axis=0)\n",
    "results_2k17_df=results_2k17_df.sort_values('round1_rank',axis=0)\n",
    "results_2k15_df.tail()"
   ]
  },
  {
   "cell_type": "markdown",
   "metadata": {},
   "source": [
    "### 1)Year wise participation"
   ]
  },
  {
   "cell_type": "markdown",
   "metadata": {},
   "source": [
    "#### a) Number of ranks given out year wise"
   ]
  },
  {
   "cell_type": "code",
   "execution_count": 20,
   "metadata": {
    "scrolled": true
   },
   "outputs": [
    {
     "name": "stdout",
     "output_type": "stream",
     "text": [
      "(2815, 4135, 2382)\n"
     ]
    },
    {
     "data": {
      "image/png": "[encoded data removed]",
      "text/plain": [
       "<matplotlib.figure.Figure at 0x221c3822128>"
      ]
     },
     "metadata": {},
     "output_type": "display_data"
    }
   ],
   "source": [
    "len_sizes=(results_2k15_df.shape[0],results_2k16_df.shape[0],results_2k17_df.shape[0])\n",
    "print(len_sizes)\n",
    "plt.bar(np.arange(3),len_sizes)\n",
    "plt.xticks(np.arange(3),('2k15','2k16','2k17'))\n",
    "plt.title('Number of ranks given out year wise');"
   ]
  },
  {
   "cell_type": "markdown",
   "metadata": {},
   "source": [
    "Codevita provides ranks at the end of round 1 to only those people who are either not disqualified because of plagiarism or they have solved atleast one problem correctly...2k16 had many more such ranks given while 2k15 and 2k17 had much less number of ranks given"
   ]
  },
  {
   "cell_type": "markdown",
   "metadata": {},
   "source": [
    "#### b) Number of colleges getting ranks year wise"
   ]
  },
  {
   "cell_type": "code",
   "execution_count": 21,
   "metadata": {},
   "outputs": [
    {
     "name": "stdout",
     "output_type": "stream",
     "text": [
      "(532, 647, 474)\n"
     ]
    },
    {
     "data": {
      "image/png": "[encoded data removed]",
      "text/plain": [
       "<matplotlib.figure.Figure at 0x221c38890f0>"
      ]
     },
     "metadata": {},
     "output_type": "display_data"
    }
   ],
   "source": [
    "len_colleges=(results_2k15_df.master_mod_index.unique().shape[0],results_2k16_df.master_mod_index.unique().shape[0],results_2k17_df.master_mod_index.unique().shape[0])\n",
    "print(len_colleges)\n",
    "plt.bar(np.arange(3),len_colleges)\n",
    "plt.xticks(np.arange(3),('2k15','2k16','2k17'));\n",
    "plt.title('Number of colleges getting ranks year wise');"
   ]
  },
  {
   "cell_type": "markdown",
   "metadata": {},
   "source": [
    "As expected, we have many more entries for 2k16 than for 2k15 and 2k17. However what will be more interesting is to compare the ratio between number of ranks given to the number of colleges participating for each year. This is what has been done next"
   ]
  },
  {
   "cell_type": "markdown",
   "metadata": {},
   "source": [
    "#### c) Ranks Count to College count Ratio year wise"
   ]
  },
  {
   "cell_type": "code",
   "execution_count": 22,
   "metadata": {},
   "outputs": [
    {
     "name": "stdout",
     "output_type": "stream",
     "text": [
      "[ 5.29135338  6.39103555  5.02531646]\n"
     ]
    },
    {
     "data": {
      "image/png": "[encoded data removed]",
      "text/plain": [
       "<matplotlib.figure.Figure at 0x221c4ceb630>"
      ]
     },
     "metadata": {},
     "output_type": "display_data"
    }
   ],
   "source": [
    "ranks_count_to_college_count_ratio=np.array(len_sizes)/np.array(len_colleges)\n",
    "print(ranks_count_to_college_count_ratio)\n",
    "plt.bar(np.arange(3),ranks_count_to_college_count_ratio)\n",
    "plt.xticks(np.arange(3),('2k15','2k16','2k17'));\n",
    "plt.title('Rank count to college count ratio year wise');"
   ]
  },
  {
   "cell_type": "markdown",
   "metadata": {},
   "source": [
    "So now we can see that there's not much difference in the number of ranks obtained to number of college participating in 2k15 and 2k17 (for both years, there was around 5 results per college entry on average) but for 2k16, there was a significant increase (a bit more than 6)"
   ]
  },
  {
   "cell_type": "markdown",
   "metadata": {},
   "source": [
    "#### d) Regional participation year wise"
   ]
  },
  {
   "cell_type": "markdown",
   "metadata": {},
   "source": [
    "This provides a bit of a challenge for us since the region system was the same for 2k15 and 2k16 but for 2k17, it was changed to zones so here we will try to map the region to zones by matching the colleges which was already found in 2k15 and 2k16 and comparing them to the zones that they belong to now. Although this wont definitely be fully accurate, but atleast we can get an estimate of the regional participation in 2k17 too (assuming the distribution was the same for 2k17 too). And this is a good decision, since for 2k17 over 75% of the colleges matched with the previously known college list from 2k16 and 2k15"
   ]
  },
  {
   "cell_type": "markdown",
   "metadata": {},
   "source": [
    "The regions in 2k15 and 2k16 were:"
   ]
  },
  {
   "cell_type": "code",
   "execution_count": 23,
   "metadata": {},
   "outputs": [
    {
     "name": "stdout",
     "output_type": "stream",
     "text": [
      "['Chennai' 'Mumbai' 'Lucknow' 'Delhi' 'Kolkata' 'Ahmedabad' 'Bangalore'\n",
      " 'Hyderabad' 'Pune' 'Trivandrum']\n"
     ]
    },
    {
     "data": {
      "text/plain": [
       "'The number of such regions:10'"
      ]
     },
     "execution_count": 23,
     "metadata": {},
     "output_type": "execute_result"
    }
   ],
   "source": [
    "regions=results_2k15_df.tcs_region.unique()\n",
    "print(regions)\n",
    "\"The number of such regions:{}\".format(regions.shape[0])"
   ]
  },
  {
   "cell_type": "markdown",
   "metadata": {},
   "source": [
    "It was converted to zones in 2k17 named:"
   ]
  },
  {
   "cell_type": "code",
   "execution_count": 24,
   "metadata": {},
   "outputs": [
    {
     "name": "stdout",
     "output_type": "stream",
     "text": [
      "['zone1' 'zone2' 'zone3']\n"
     ]
    },
    {
     "data": {
      "text/plain": [
       "'The number of such zones:3'"
      ]
     },
     "execution_count": 24,
     "metadata": {},
     "output_type": "execute_result"
    }
   ],
   "source": [
    "zones=results_2k17_df.zonal_name.unique()\n",
    "print(zones)\n",
    "\"The number of such zones:{}\".format(zones.shape[0])"
   ]
  },
  {
   "cell_type": "markdown",
   "metadata": {},
   "source": [
    "#### i) Task: Trying to match zones to regions "
   ]
  },
  {
   "cell_type": "code",
   "execution_count": 25,
   "metadata": {
    "scrolled": true
   },
   "outputs": [
    {
     "data": {
      "text/plain": [
       "{('zone1', 'Ahmedabad'): 305,\n",
       " ('zone1', 'Delhi'): 1,\n",
       " ('zone1', 'Hyderabad'): 3,\n",
       " ('zone1', 'zone1'): 31,\n",
       " ('zone2', 'Delhi'): 1,\n",
       " ('zone2', 'Hyderabad'): 344,\n",
       " ('zone2', 'Kolkata'): 5,\n",
       " ('zone2', 'Pune'): 98,\n",
       " ('zone2', 'Trivandrum'): 60,\n",
       " ('zone2', 'zone2'): 55,\n",
       " ('zone3', 'Ahmedabad'): 1,\n",
       " ('zone3', 'Bangalore'): 44,\n",
       " ('zone3', 'Chennai'): 144,\n",
       " ('zone3', 'Delhi'): 426,\n",
       " ('zone3', 'Hyderabad'): 4,\n",
       " ('zone3', 'Kolkata'): 377,\n",
       " ('zone3', 'Lucknow'): 136,\n",
       " ('zone3', 'Mumbai'): 217,\n",
       " ('zone3', 'Trivandrum'): 1,\n",
       " ('zone3', 'zone1'): 2,\n",
       " ('zone3', 'zone3'): 127}"
      ]
     },
     "execution_count": 25,
     "metadata": {},
     "output_type": "execute_result"
    }
   ],
   "source": [
    "zonal_mapping_dict={} #This dict will hold the count for each possible mapping of zones to regions\n",
    "def zonal_mapping_dict_func(x):\n",
    "    global zonal_mapping_dict\n",
    "    if (x['zonal_name'],x['tcs_region_master']) in zonal_mapping_dict:\n",
    "        zonal_mapping_dict[(x['zonal_name'],x['tcs_region_master'])]+=1\n",
    "    else:\n",
    "        zonal_mapping_dict[(x['zonal_name'],x['tcs_region_master'])]=1\n",
    "\n",
    "results_2k17_df.apply(zonal_mapping_dict_func,axis=1)\n",
    "zonal_mapping_dict"
   ]
  },
  {
   "cell_type": "code",
   "execution_count": 26,
   "metadata": {
    "scrolled": true
   },
   "outputs": [
    {
     "data": {
      "text/html": [
       "<div>\n",
       "<table border=\"1\" class=\"dataframe\">\n",
       "  <thead>\n",
       "    <tr style=\"text-align: right;\">\n",
       "      <th></th>\n",
       "      <th>college_name</th>\n",
       "      <th>problems_solved</th>\n",
       "      <th>round1_rank</th>\n",
       "      <th>user1</th>\n",
       "      <th>zonal_name</th>\n",
       "      <th>zonal_rank</th>\n",
       "      <th>mod_index</th>\n",
       "      <th>master_mod_index</th>\n",
       "      <th>college_name_master</th>\n",
       "      <th>tcs_region_master</th>\n",
       "      <th>year</th>\n",
       "      <th>id_user1</th>\n",
       "    </tr>\n",
       "  </thead>\n",
       "  <tbody>\n",
       "    <tr>\n",
       "      <th>1340</th>\n",
       "      <td>Dehradun Institute of Technology, Dehradun</td>\n",
       "      <td>2</td>\n",
       "      <td>415</td>\n",
       "      <td>satwik gupta</td>\n",
       "      <td>zone3</td>\n",
       "      <td>250</td>\n",
       "      <td>2k17_87</td>\n",
       "      <td>2k17_87</td>\n",
       "      <td>Dehradun Institute of Technology, Dehradun</td>\n",
       "      <td>zone1</td>\n",
       "      <td>2k17</td>\n",
       "      <td>1339</td>\n",
       "    </tr>\n",
       "    <tr>\n",
       "      <th>1341</th>\n",
       "      <td>Dehradun Institute of Technology, Dehradun</td>\n",
       "      <td>2</td>\n",
       "      <td>750</td>\n",
       "      <td>saket mayank</td>\n",
       "      <td>zone3</td>\n",
       "      <td>454</td>\n",
       "      <td>2k17_87</td>\n",
       "      <td>2k17_87</td>\n",
       "      <td>Dehradun Institute of Technology, Dehradun</td>\n",
       "      <td>zone1</td>\n",
       "      <td>2k17</td>\n",
       "      <td>1340</td>\n",
       "    </tr>\n",
       "  </tbody>\n",
       "</table>\n",
       "</div>"
      ],
      "text/plain": [
       "                                    college_name  problems_solved  \\\n",
       "1340  Dehradun Institute of Technology, Dehradun                2   \n",
       "1341  Dehradun Institute of Technology, Dehradun                2   \n",
       "\n",
       "      round1_rank         user1 zonal_name  zonal_rank mod_index  \\\n",
       "1340          415  satwik gupta      zone3         250   2k17_87   \n",
       "1341          750  saket mayank      zone3         454   2k17_87   \n",
       "\n",
       "     master_mod_index                         college_name_master  \\\n",
       "1340          2k17_87  Dehradun Institute of Technology, Dehradun   \n",
       "1341          2k17_87  Dehradun Institute of Technology, Dehradun   \n",
       "\n",
       "     tcs_region_master  year  id_user1  \n",
       "1340             zone1  2k17      1339  \n",
       "1341             zone1  2k17      1340  "
      ]
     },
     "execution_count": 26,
     "metadata": {},
     "output_type": "execute_result"
    }
   ],
   "source": [
    "results_2k17_df[(results_2k17_df.tcs_region_master=='zone1') & (results_2k17_df.zonal_name=='zone3')]"
   ]
  },
  {
   "cell_type": "code",
   "execution_count": 27,
   "metadata": {},
   "outputs": [
    {
     "data": {
      "text/plain": [
       "zone3    2\n",
       "zone1    1\n",
       "Name: zonal_name, dtype: int64"
      ]
     },
     "execution_count": 27,
     "metadata": {},
     "output_type": "execute_result"
    }
   ],
   "source": [
    "results_2k17_df[results_2k17_df.college_name=='Dehradun Institute of Technology, Dehradun'].zonal_name.value_counts()"
   ]
  },
  {
   "cell_type": "markdown",
   "metadata": {},
   "source": [
    "There's one anomaly that's visible. If we see, there's a matching from zone3 to zone1(tcs_region_master) which shouldnt normally be there. However when we go back to the actual results and check, there's an anomaly in the result file itself. We find that for \"Dehradun Institute of Technology, Dehradun\" itself, there are entries from numerous zones (2 from zone3 and 1 from zone1)."
   ]
  },
  {
   "cell_type": "code",
   "execution_count": 28,
   "metadata": {},
   "outputs": [
    {
     "name": "stdout",
     "output_type": "stream",
     "text": [
      "Non mapped zones:{'zone1': 31, 'zone2': 55, 'zone3': 127}\n"
     ]
    },
    {
     "data": {
      "text/plain": [
       "{('zone1', 'Ahmedabad'): 305,\n",
       " ('zone2', 'Hyderabad'): 344,\n",
       " ('zone2', 'Pune'): 98,\n",
       " ('zone2', 'Trivandrum'): 60,\n",
       " ('zone3', 'Bangalore'): 44,\n",
       " ('zone3', 'Chennai'): 144,\n",
       " ('zone3', 'Delhi'): 426,\n",
       " ('zone3', 'Kolkata'): 377,\n",
       " ('zone3', 'Lucknow'): 136,\n",
       " ('zone3', 'Mumbai'): 217}"
      ]
     },
     "execution_count": 28,
     "metadata": {},
     "output_type": "execute_result"
    }
   ],
   "source": [
    "zones=['zone1','zone2','zone3']\n",
    "zonal_nonmapped_dict={} #Number of entries which couldn't be mapped from previous years which needs to be estimated using approximation\n",
    "for zone in zones:\n",
    "    zonal_nonmapped_dict[zone]=zonal_mapping_dict[(zone,zone)]\n",
    "    del zonal_mapping_dict[(zone,zone)]\n",
    "print(\"Non mapped zones:{}\".format(zonal_nonmapped_dict))\n",
    "del zonal_mapping_dict[('zone3','zone1')] #Deleting the anomaly from the dict mapping too\n",
    "zonal_mapping_keys=list(zonal_mapping_dict.keys()) \n",
    "for key in zonal_mapping_keys:\n",
    "    if zonal_mapping_dict[key]<=5: #Deleting the entries which can be considered as anomalies (See explanation below)\n",
    "        del zonal_mapping_dict[key]\n",
    "zonal_mapping_dict"
   ]
  },
  {
   "cell_type": "markdown",
   "metadata": {},
   "source": [
    "The reason those zone mapping having atmost 5 entries was deleted was because those can be considered as anomalous entries (for this estimation). Do remember that the reason for us mapping the zones in 2k17 to the regions which was present in 2k16 and 2k15 is to eliminate the 'zone' system when we are comparing participation across regions using approximation based on previous matches"
   ]
  },
  {
   "cell_type": "code",
   "execution_count": 29,
   "metadata": {},
   "outputs": [
    {
     "data": {
      "text/plain": [
       "{'zone1': 305, 'zone2': 502, 'zone3': 1344}"
      ]
     },
     "execution_count": 29,
     "metadata": {},
     "output_type": "execute_result"
    }
   ],
   "source": [
    "zonal_totals={'zone1':0,'zone2':0,'zone3':0}\n",
    "for key,value in zonal_mapping_dict.items():\n",
    "    zonal_totals[key[0]]+=value\n",
    "zonal_totals"
   ]
  },
  {
   "cell_type": "code",
   "execution_count": 30,
   "metadata": {},
   "outputs": [
    {
     "data": {
      "text/plain": [
       "{('zone1', 'Ahmedabad'): 1.0,\n",
       " ('zone2', 'Hyderabad'): 0.6852589641434262,\n",
       " ('zone2', 'Pune'): 0.1952191235059761,\n",
       " ('zone2', 'Trivandrum'): 0.11952191235059761,\n",
       " ('zone3', 'Bangalore'): 0.03273809523809524,\n",
       " ('zone3', 'Chennai'): 0.10714285714285714,\n",
       " ('zone3', 'Delhi'): 0.3169642857142857,\n",
       " ('zone3', 'Kolkata'): 0.2805059523809524,\n",
       " ('zone3', 'Lucknow'): 0.10119047619047619,\n",
       " ('zone3', 'Mumbai'): 0.16145833333333334}"
      ]
     },
     "execution_count": 30,
     "metadata": {},
     "output_type": "execute_result"
    }
   ],
   "source": [
    "zonal_mapping_dict_perc=dict(zonal_mapping_dict) #Will hold the percentage for each mapping\n",
    "for key,value in zonal_mapping_dict.items():\n",
    "    zonal_mapping_dict_perc[key]/=zonal_totals[key[0]]\n",
    "zonal_mapping_dict_perc"
   ]
  },
  {
   "cell_type": "code",
   "execution_count": 31,
   "metadata": {},
   "outputs": [
    {
     "data": {
      "text/plain": [
       "{'Ahmedabad': 31,\n",
       " 'Bangalore': 4,\n",
       " 'Chennai': 14,\n",
       " 'Delhi': 40,\n",
       " 'Hyderabad': 38,\n",
       " 'Kolkata': 36,\n",
       " 'Lucknow': 13,\n",
       " 'Mumbai': 21,\n",
       " 'Pune': 11,\n",
       " 'Trivandrum': 7}"
      ]
     },
     "execution_count": 31,
     "metadata": {},
     "output_type": "execute_result"
    }
   ],
   "source": [
    "zonal_mapping_add_dict={} #This will hold the estimate for each region, which needs to be added to the region\n",
    "for key,value in zonal_mapping_dict_perc.items():\n",
    "    if key[1] not in zonal_mapping_add_dict:\n",
    "        zonal_mapping_add_dict[key[1]]=round(value*zonal_nonmapped_dict[key[0]])\n",
    "    else:\n",
    "        zonal_mapping_add_dict[key[1]]+=round(value*zonal_nonmapped_dict[key[0]])\n",
    "zonal_mapping_add_dict"
   ]
  },
  {
   "cell_type": "markdown",
   "metadata": {},
   "source": [
    "#### Task End: i) Trying to match zones to colleges"
   ]
  },
  {
   "cell_type": "markdown",
   "metadata": {},
   "source": [
    "#### ii) Plotting Region Wise Data Year Wise (First Seperately and then Together) "
   ]
  },
  {
   "cell_type": "code",
   "execution_count": 32,
   "metadata": {
    "scrolled": true
   },
   "outputs": [
    {
     "data": {
      "text/plain": [
       "Kolkata       603\n",
       "Delhi         579\n",
       "Mumbai        440\n",
       "Chennai       297\n",
       "Hyderabad     259\n",
       "Ahmedabad     197\n",
       "Lucknow       127\n",
       "Pune          126\n",
       "Trivandrum    116\n",
       "Bangalore      71\n",
       "Name: tcs_region_master, dtype: int64"
      ]
     },
     "execution_count": 32,
     "metadata": {},
     "output_type": "execute_result"
    }
   ],
   "source": [
    "results_2k15_region_wise=results_2k15_df.tcs_region_master.value_counts()\n",
    "results_2k15_region_wise"
   ]
  },
  {
   "cell_type": "code",
   "execution_count": 33,
   "metadata": {},
   "outputs": [
    {
     "data": {
      "text/plain": [
       "Kolkata       0.214210\n",
       "Delhi         0.205684\n",
       "Mumbai        0.156306\n",
       "Chennai       0.105506\n",
       "Hyderabad     0.092007\n",
       "Ahmedabad     0.069982\n",
       "Lucknow       0.045115\n",
       "Pune          0.044760\n",
       "Trivandrum    0.041208\n",
       "Bangalore     0.025222\n",
       "Name: tcs_region_master, dtype: float64"
      ]
     },
     "execution_count": 33,
     "metadata": {},
     "output_type": "execute_result"
    }
   ],
   "source": [
    "#Percentage wise\n",
    "results_2k15_region_wise_perc=results_2k15_region_wise/results_2k15_df.shape[0]\n",
    "results_2k15_region_wise_perc"
   ]
  },
  {
   "cell_type": "code",
   "execution_count": 34,
   "metadata": {},
   "outputs": [
    {
     "data": {
      "image/png": "[encoded data removed]",
      "text/plain": [
       "<matplotlib.figure.Figure at 0x221c3a85ef0>"
      ]
     },
     "metadata": {},
     "output_type": "display_data"
    }
   ],
   "source": [
    "results_2k15_region_wise.plot(kind='bar')\n",
    "plt.title('Region Wise Participation in 2k15');"
   ]
  },
  {
   "cell_type": "code",
   "execution_count": 35,
   "metadata": {},
   "outputs": [
    {
     "data": {
      "text/plain": [
       "Delhi         722\n",
       "Kolkata       706\n",
       "Hyderabad     690\n",
       "Mumbai        620\n",
       "Chennai       386\n",
       "Ahmedabad     339\n",
       "Lucknow       262\n",
       "Pune          183\n",
       "Trivandrum    167\n",
       "Bangalore      60\n",
       "Name: tcs_region_master, dtype: int64"
      ]
     },
     "execution_count": 35,
     "metadata": {},
     "output_type": "execute_result"
    }
   ],
   "source": [
    "results_2k16_region_wise=results_2k16_df.tcs_region_master.value_counts()\n",
    "results_2k16_region_wise"
   ]
  },
  {
   "cell_type": "code",
   "execution_count": 36,
   "metadata": {},
   "outputs": [
    {
     "data": {
      "text/plain": [
       "Delhi         0.174607\n",
       "Kolkata       0.170738\n",
       "Hyderabad     0.166868\n",
       "Mumbai        0.149940\n",
       "Chennai       0.093349\n",
       "Ahmedabad     0.081983\n",
       "Lucknow       0.063362\n",
       "Pune          0.044256\n",
       "Trivandrum    0.040387\n",
       "Bangalore     0.014510\n",
       "Name: tcs_region_master, dtype: float64"
      ]
     },
     "execution_count": 36,
     "metadata": {},
     "output_type": "execute_result"
    }
   ],
   "source": [
    "#Percentage wise\n",
    "results_2k16_region_wise_perc=results_2k16_region_wise/results_2k16_df.shape[0]\n",
    "results_2k16_region_wise_perc"
   ]
  },
  {
   "cell_type": "code",
   "execution_count": 37,
   "metadata": {},
   "outputs": [
    {
     "data": {
      "image/png": "[encoded data removed]",
      "text/plain": [
       "<matplotlib.figure.Figure at 0x221c33ce438>"
      ]
     },
     "metadata": {},
     "output_type": "display_data"
    }
   ],
   "source": [
    "results_2k16_region_wise.plot(kind='bar')\n",
    "plt.title('Region Wise Participation in 2k16');"
   ]
  },
  {
   "cell_type": "code",
   "execution_count": 38,
   "metadata": {},
   "outputs": [
    {
     "data": {
      "text/plain": [
       "Delhi         428\n",
       "Kolkata       382\n",
       "Hyderabad     351\n",
       "Ahmedabad     306\n",
       "Mumbai        217\n",
       "Chennai       144\n",
       "Lucknow       136\n",
       "zone3         127\n",
       "Pune           98\n",
       "Trivandrum     61\n",
       "zone2          55\n",
       "Bangalore      44\n",
       "zone1          33\n",
       "Name: tcs_region_master, dtype: int64"
      ]
     },
     "execution_count": 38,
     "metadata": {},
     "output_type": "execute_result"
    }
   ],
   "source": [
    "results_2k17_region_wise=results_2k17_df.tcs_region_master.value_counts()\n",
    "results_2k17_region_wise"
   ]
  },
  {
   "cell_type": "code",
   "execution_count": 39,
   "metadata": {},
   "outputs": [
    {
     "data": {
      "image/png": "[encoded data removed]",
      "text/plain": [
       "<matplotlib.figure.Figure at 0x221c38707b8>"
      ]
     },
     "metadata": {},
     "output_type": "display_data"
    }
   ],
   "source": [
    "results_2k17_region_wise.plot(kind='bar')\n",
    "plt.title('Region Wise Participation in 2k17 (without using estimates)');"
   ]
  },
  {
   "cell_type": "markdown",
   "metadata": {},
   "source": [
    "In the above graph plot, the results were plotted without using the estimates from earlier. Thus you can see zone3, zone2 and zone1 in the graph. Now using the earlier estimates we will remove these 3 zones from the results"
   ]
  },
  {
   "cell_type": "markdown",
   "metadata": {},
   "source": [
    "Now adding the earlier estimates we made after mapping the different zones to the previous regions"
   ]
  },
  {
   "cell_type": "code",
   "execution_count": 40,
   "metadata": {},
   "outputs": [
    {
     "data": {
      "text/plain": [
       "Delhi         468\n",
       "Kolkata       418\n",
       "Hyderabad     389\n",
       "Ahmedabad     337\n",
       "Mumbai        238\n",
       "Chennai       158\n",
       "Lucknow       149\n",
       "Pune          109\n",
       "Trivandrum     68\n",
       "Bangalore      48\n",
       "Name: tcs_region_master, dtype: int64"
      ]
     },
     "execution_count": 40,
     "metadata": {},
     "output_type": "execute_result"
    }
   ],
   "source": [
    "for key,value in zonal_mapping_add_dict.items():\n",
    "    results_2k17_region_wise[key]+=value\n",
    "results_2k17_region_wise=results_2k17_region_wise.drop(zones,axis=0)\n",
    "results_2k17_region_wise"
   ]
  },
  {
   "cell_type": "code",
   "execution_count": 41,
   "metadata": {},
   "outputs": [
    {
     "data": {
      "text/plain": [
       "Delhi         0.196474\n",
       "Kolkata       0.175483\n",
       "Hyderabad     0.163308\n",
       "Ahmedabad     0.141478\n",
       "Mumbai        0.099916\n",
       "Chennai       0.066331\n",
       "Lucknow       0.062552\n",
       "Pune          0.045760\n",
       "Trivandrum    0.028547\n",
       "Bangalore     0.020151\n",
       "Name: tcs_region_master, dtype: float64"
      ]
     },
     "execution_count": 41,
     "metadata": {},
     "output_type": "execute_result"
    }
   ],
   "source": [
    "#Percentage wise\n",
    "results_2k17_region_wise_perc=results_2k17_region_wise/results_2k17_df.shape[0]\n",
    "results_2k17_region_wise_perc"
   ]
  },
  {
   "cell_type": "code",
   "execution_count": 42,
   "metadata": {},
   "outputs": [
    {
     "data": {
      "image/png": "[encoded data removed]",
      "text/plain": [
       "<matplotlib.figure.Figure at 0x221c38039b0>"
      ]
     },
     "metadata": {},
     "output_type": "display_data"
    }
   ],
   "source": [
    "results_2k17_region_wise.plot(kind='bar')\n",
    "plt.title('Region Wise Participation in 2k17 (after using estimates)');"
   ]
  },
  {
   "cell_type": "markdown",
   "metadata": {},
   "source": [
    "#### Comparing the three years region wise"
   ]
  },
  {
   "cell_type": "markdown",
   "metadata": {},
   "source": [
    "One of the easy ways to do this is to use the plotting functionality built into Pandas"
   ]
  },
  {
   "cell_type": "code",
   "execution_count": 43,
   "metadata": {
    "collapsed": true
   },
   "outputs": [],
   "source": [
    "three_years_region_wise_participation=pd.DataFrame({'2k15':results_2k15_region_wise,'2k16':results_2k16_region_wise,'2k17':results_2k17_region_wise})"
   ]
  },
  {
   "cell_type": "markdown",
   "metadata": {},
   "source": [
    "Sorting the dataframe by descending order using the total number of results over the 3 years region wise as the key"
   ]
  },
  {
   "cell_type": "code",
   "execution_count": 44,
   "metadata": {},
   "outputs": [
    {
     "data": {
      "text/html": [
       "<div>\n",
       "<table border=\"1\" class=\"dataframe\">\n",
       "  <thead>\n",
       "    <tr style=\"text-align: right;\">\n",
       "      <th></th>\n",
       "      <th>2k15</th>\n",
       "      <th>2k16</th>\n",
       "      <th>2k17</th>\n",
       "    </tr>\n",
       "  </thead>\n",
       "  <tbody>\n",
       "    <tr>\n",
       "      <th>Delhi</th>\n",
       "      <td>579</td>\n",
       "      <td>722</td>\n",
       "      <td>468</td>\n",
       "    </tr>\n",
       "    <tr>\n",
       "      <th>Kolkata</th>\n",
       "      <td>603</td>\n",
       "      <td>706</td>\n",
       "      <td>418</td>\n",
       "    </tr>\n",
       "    <tr>\n",
       "      <th>Hyderabad</th>\n",
       "      <td>259</td>\n",
       "      <td>690</td>\n",
       "      <td>389</td>\n",
       "    </tr>\n",
       "    <tr>\n",
       "      <th>Mumbai</th>\n",
       "      <td>440</td>\n",
       "      <td>620</td>\n",
       "      <td>238</td>\n",
       "    </tr>\n",
       "    <tr>\n",
       "      <th>Ahmedabad</th>\n",
       "      <td>197</td>\n",
       "      <td>339</td>\n",
       "      <td>337</td>\n",
       "    </tr>\n",
       "    <tr>\n",
       "      <th>Chennai</th>\n",
       "      <td>297</td>\n",
       "      <td>386</td>\n",
       "      <td>158</td>\n",
       "    </tr>\n",
       "    <tr>\n",
       "      <th>Lucknow</th>\n",
       "      <td>127</td>\n",
       "      <td>262</td>\n",
       "      <td>149</td>\n",
       "    </tr>\n",
       "    <tr>\n",
       "      <th>Pune</th>\n",
       "      <td>126</td>\n",
       "      <td>183</td>\n",
       "      <td>109</td>\n",
       "    </tr>\n",
       "    <tr>\n",
       "      <th>Trivandrum</th>\n",
       "      <td>116</td>\n",
       "      <td>167</td>\n",
       "      <td>68</td>\n",
       "    </tr>\n",
       "    <tr>\n",
       "      <th>Bangalore</th>\n",
       "      <td>71</td>\n",
       "      <td>60</td>\n",
       "      <td>48</td>\n",
       "    </tr>\n",
       "  </tbody>\n",
       "</table>\n",
       "</div>"
      ],
      "text/plain": [
       "            2k15  2k16  2k17\n",
       "Delhi        579   722   468\n",
       "Kolkata      603   706   418\n",
       "Hyderabad    259   690   389\n",
       "Mumbai       440   620   238\n",
       "Ahmedabad    197   339   337\n",
       "Chennai      297   386   158\n",
       "Lucknow      127   262   149\n",
       "Pune         126   183   109\n",
       "Trivandrum   116   167    68\n",
       "Bangalore     71    60    48"
      ]
     },
     "execution_count": 44,
     "metadata": {},
     "output_type": "execute_result"
    }
   ],
   "source": [
    "three_years_region_wise_participation=three_years_region_wise_participation.fillna(0)\n",
    "three_years_region_wise_participation['sum']=three_years_region_wise_participation.apply(lambda x:x['2k15']+x['2k16']+x['2k17'],axis=1)\n",
    "three_years_region_wise_participation=three_years_region_wise_participation.sort_values('sum',ascending=False).drop('sum',axis=1)\n",
    "three_years_region_wise_participation"
   ]
  },
  {
   "cell_type": "markdown",
   "metadata": {},
   "source": [
    "#### Three years region wise participation bar graph"
   ]
  },
  {
   "cell_type": "code",
   "execution_count": 45,
   "metadata": {},
   "outputs": [
    {
     "data": {
      "image/png": "[encoded data removed]",
      "text/plain": [
       "<matplotlib.figure.Figure at 0x221c37e47f0>"
      ]
     },
     "metadata": {},
     "output_type": "display_data"
    }
   ],
   "source": [
    "three_years_region_wise_participation.plot.bar()\n",
    "plt.title('Region wise participation for each year');"
   ]
  },
  {
   "cell_type": "markdown",
   "metadata": {},
   "source": [
    "#### Heatmap for region wise participation coloured by the absolute number"
   ]
  },
  {
   "cell_type": "code",
   "execution_count": 46,
   "metadata": {},
   "outputs": [
    {
     "data": {
      "image/png": "[encoded data removed]",
      "text/plain": [
       "<matplotlib.figure.Figure at 0x221c4d6c9b0>"
      ]
     },
     "metadata": {},
     "output_type": "display_data"
    }
   ],
   "source": [
    "sns.heatmap(three_years_region_wise_participation,annot=True,fmt=\"d\");"
   ]
  },
  {
   "cell_type": "code",
   "execution_count": 47,
   "metadata": {},
   "outputs": [
    {
     "data": {
      "text/html": [
       "<div>\n",
       "<table border=\"1\" class=\"dataframe\">\n",
       "  <thead>\n",
       "    <tr style=\"text-align: right;\">\n",
       "      <th></th>\n",
       "      <th>2k15</th>\n",
       "      <th>2k16</th>\n",
       "      <th>2k17</th>\n",
       "    </tr>\n",
       "  </thead>\n",
       "  <tbody>\n",
       "    <tr>\n",
       "      <th>Delhi</th>\n",
       "      <td>0.205684</td>\n",
       "      <td>0.174607</td>\n",
       "      <td>0.196474</td>\n",
       "    </tr>\n",
       "    <tr>\n",
       "      <th>Kolkata</th>\n",
       "      <td>0.214210</td>\n",
       "      <td>0.170738</td>\n",
       "      <td>0.175483</td>\n",
       "    </tr>\n",
       "    <tr>\n",
       "      <th>Hyderabad</th>\n",
       "      <td>0.092007</td>\n",
       "      <td>0.166868</td>\n",
       "      <td>0.163308</td>\n",
       "    </tr>\n",
       "    <tr>\n",
       "      <th>Mumbai</th>\n",
       "      <td>0.156306</td>\n",
       "      <td>0.149940</td>\n",
       "      <td>0.099916</td>\n",
       "    </tr>\n",
       "    <tr>\n",
       "      <th>Ahmedabad</th>\n",
       "      <td>0.069982</td>\n",
       "      <td>0.081983</td>\n",
       "      <td>0.141478</td>\n",
       "    </tr>\n",
       "    <tr>\n",
       "      <th>Chennai</th>\n",
       "      <td>0.105506</td>\n",
       "      <td>0.093349</td>\n",
       "      <td>0.066331</td>\n",
       "    </tr>\n",
       "    <tr>\n",
       "      <th>Lucknow</th>\n",
       "      <td>0.045115</td>\n",
       "      <td>0.063362</td>\n",
       "      <td>0.062552</td>\n",
       "    </tr>\n",
       "    <tr>\n",
       "      <th>Pune</th>\n",
       "      <td>0.044760</td>\n",
       "      <td>0.044256</td>\n",
       "      <td>0.045760</td>\n",
       "    </tr>\n",
       "    <tr>\n",
       "      <th>Trivandrum</th>\n",
       "      <td>0.041208</td>\n",
       "      <td>0.040387</td>\n",
       "      <td>0.028547</td>\n",
       "    </tr>\n",
       "    <tr>\n",
       "      <th>Bangalore</th>\n",
       "      <td>0.025222</td>\n",
       "      <td>0.014510</td>\n",
       "      <td>0.020151</td>\n",
       "    </tr>\n",
       "  </tbody>\n",
       "</table>\n",
       "</div>"
      ],
      "text/plain": [
       "                2k15      2k16      2k17\n",
       "Delhi       0.205684  0.174607  0.196474\n",
       "Kolkata     0.214210  0.170738  0.175483\n",
       "Hyderabad   0.092007  0.166868  0.163308\n",
       "Mumbai      0.156306  0.149940  0.099916\n",
       "Ahmedabad   0.069982  0.081983  0.141478\n",
       "Chennai     0.105506  0.093349  0.066331\n",
       "Lucknow     0.045115  0.063362  0.062552\n",
       "Pune        0.044760  0.044256  0.045760\n",
       "Trivandrum  0.041208  0.040387  0.028547\n",
       "Bangalore   0.025222  0.014510  0.020151"
      ]
     },
     "execution_count": 47,
     "metadata": {},
     "output_type": "execute_result"
    }
   ],
   "source": [
    "three_years_region_wise_participation_perc_df=pd.DataFrame(three_years_region_wise_participation,copy=True) #Initializing it with this dataframe to preserve its order\n",
    "three_years_region_wise_participation_perc_df['2k15']=results_2k15_region_wise_perc\n",
    "three_years_region_wise_participation_perc_df['2k16']=results_2k16_region_wise_perc\n",
    "three_years_region_wise_participation_perc_df['2k17']=results_2k17_region_wise_perc\n",
    "three_years_region_wise_participation_perc_df"
   ]
  },
  {
   "cell_type": "markdown",
   "metadata": {},
   "source": [
    "#### Heatmap for region wise participation coloured by percentage\n",
    "This gives us more information because the coloring gives us an idea about the percentage share of a region for that particular year while the absolute figure is shown as annotations"
   ]
  },
  {
   "cell_type": "code",
   "execution_count": 48,
   "metadata": {},
   "outputs": [
    {
     "data": {
      "image/png": "[encoded data removed]",
      "text/plain": [
       "<matplotlib.figure.Figure at 0x221c4e60d68>"
      ]
     },
     "metadata": {},
     "output_type": "display_data"
    }
   ],
   "source": [
    "sns.heatmap(three_years_region_wise_participation_perc_df,annot=three_years_region_wise_participation,fmt=\"d\");"
   ]
  },
  {
   "cell_type": "code",
   "execution_count": 49,
   "metadata": {},
   "outputs": [
    {
     "data": {
      "text/html": [
       "<div>\n",
       "<table border=\"1\" class=\"dataframe\">\n",
       "  <thead>\n",
       "    <tr style=\"text-align: right;\">\n",
       "      <th></th>\n",
       "      <th>2k15</th>\n",
       "      <th>2k16</th>\n",
       "      <th>2k17</th>\n",
       "    </tr>\n",
       "  </thead>\n",
       "  <tbody>\n",
       "    <tr>\n",
       "      <th>Delhi</th>\n",
       "      <td>0</td>\n",
       "      <td>-0.031077</td>\n",
       "      <td>0.021867</td>\n",
       "    </tr>\n",
       "    <tr>\n",
       "      <th>Kolkata</th>\n",
       "      <td>0</td>\n",
       "      <td>-0.043472</td>\n",
       "      <td>0.004745</td>\n",
       "    </tr>\n",
       "    <tr>\n",
       "      <th>Hyderabad</th>\n",
       "      <td>0</td>\n",
       "      <td>0.074861</td>\n",
       "      <td>-0.003560</td>\n",
       "    </tr>\n",
       "    <tr>\n",
       "      <th>Mumbai</th>\n",
       "      <td>0</td>\n",
       "      <td>-0.006366</td>\n",
       "      <td>-0.050024</td>\n",
       "    </tr>\n",
       "    <tr>\n",
       "      <th>Ahmedabad</th>\n",
       "      <td>0</td>\n",
       "      <td>0.012001</td>\n",
       "      <td>0.059495</td>\n",
       "    </tr>\n",
       "    <tr>\n",
       "      <th>Chennai</th>\n",
       "      <td>0</td>\n",
       "      <td>-0.012157</td>\n",
       "      <td>-0.027019</td>\n",
       "    </tr>\n",
       "    <tr>\n",
       "      <th>Lucknow</th>\n",
       "      <td>0</td>\n",
       "      <td>0.018246</td>\n",
       "      <td>-0.000809</td>\n",
       "    </tr>\n",
       "    <tr>\n",
       "      <th>Pune</th>\n",
       "      <td>0</td>\n",
       "      <td>-0.000504</td>\n",
       "      <td>0.001504</td>\n",
       "    </tr>\n",
       "    <tr>\n",
       "      <th>Trivandrum</th>\n",
       "      <td>0</td>\n",
       "      <td>-0.000821</td>\n",
       "      <td>-0.011840</td>\n",
       "    </tr>\n",
       "    <tr>\n",
       "      <th>Bangalore</th>\n",
       "      <td>0</td>\n",
       "      <td>-0.010712</td>\n",
       "      <td>0.005641</td>\n",
       "    </tr>\n",
       "  </tbody>\n",
       "</table>\n",
       "</div>"
      ],
      "text/plain": [
       "            2k15      2k16      2k17\n",
       "Delhi          0 -0.031077  0.021867\n",
       "Kolkata        0 -0.043472  0.004745\n",
       "Hyderabad      0  0.074861 -0.003560\n",
       "Mumbai         0 -0.006366 -0.050024\n",
       "Ahmedabad      0  0.012001  0.059495\n",
       "Chennai        0 -0.012157 -0.027019\n",
       "Lucknow        0  0.018246 -0.000809\n",
       "Pune           0 -0.000504  0.001504\n",
       "Trivandrum     0 -0.000821 -0.011840\n",
       "Bangalore      0 -0.010712  0.005641"
      ]
     },
     "execution_count": 49,
     "metadata": {},
     "output_type": "execute_result"
    }
   ],
   "source": [
    "three_years_region_wise_participation_perc_diff_df=pd.DataFrame(three_years_region_wise_participation_perc_df,copy=True)\n",
    "three_years_region_wise_participation_perc_diff_df['2k15']=0\n",
    "three_years_region_wise_participation_perc_diff_df['2k16']=(three_years_region_wise_participation_perc_df['2k16']-three_years_region_wise_participation_perc_df['2k15'])\n",
    "three_years_region_wise_participation_perc_diff_df['2k17']=(three_years_region_wise_participation_perc_df['2k17']-three_years_region_wise_participation_perc_df['2k16'])\n",
    "three_years_region_wise_participation_perc_diff_df"
   ]
  },
  {
   "cell_type": "markdown",
   "metadata": {},
   "source": [
    "#### Three years participation region wise colored by percentage difference for a region year wise"
   ]
  },
  {
   "cell_type": "code",
   "execution_count": 50,
   "metadata": {},
   "outputs": [
    {
     "data": {
      "image/png": "[encoded data removed]",
      "text/plain": [
       "<matplotlib.figure.Figure at 0x221c4e24358>"
      ]
     },
     "metadata": {},
     "output_type": "display_data"
    }
   ],
   "source": [
    "sns.heatmap(three_years_region_wise_participation_perc_diff_df,annot=three_years_region_wise_participation_perc_df,fmt=\"f\",cmap=\"RdBu\");"
   ]
  },
  {
   "cell_type": "markdown",
   "metadata": {},
   "source": [
    "From this, we can compare the changes that happened during the 3 year period for each region\n",
    "From this we can easily notice the following:\n",
    "- Delhi saw a drastic fall in participation in 2k16 but recovered in 2k17\n",
    "- Kolkata also saw a big fall in 2k16 but recovered slightly in 2k17\n",
    "- Hyderabad saw a huge increase in 2k16\n",
    "- Mumbai saw a huge decrease in 2k17\n",
    "- Ahmedabad saw a huge increase in participation in 2k17\n",
    "\n",
    "Do keep in mind however that the 2k17 region distribution has been calculated using some assumptions and may not be 100% correct"
   ]
  },
  {
   "cell_type": "markdown",
   "metadata": {},
   "source": [
    "### 2) College Wise Participation Analysis"
   ]
  },
  {
   "cell_type": "markdown",
   "metadata": {},
   "source": [
    "#### 1) Top Colleges With Most Number Of Entries Year Wise"
   ]
  },
  {
   "cell_type": "code",
   "execution_count": 51,
   "metadata": {
    "scrolled": true
   },
   "outputs": [
    {
     "data": {
      "text/plain": [
       "master_mod_index  college_name_master                                                     \n",
       "2k15_14           Indian School of Mines, Dhanbad                                             73\n",
       "2k15_124          Techno India, Salt Lake                                                     57\n",
       "2k15_18           SASTRA University                                                           52\n",
       "2k15_37           VIT University                                                              44\n",
       "2k15_58           NETAJI SUBHASH ENGINEERING COLLEGE, WEST BENGAL UNIVERSITY OF TECHNOLOGY    43\n",
       "2k15_17           ABES Engineering College, Delhi                                             41\n",
       "2k15_62           D. J. Sanghvi College of Engg - Mumbai                                      38\n",
       "2k15_50           Dharamsinh Desai Instt. of Tech., Nadiad                                    34\n",
       "2k15_80           Vidyalankar Inst. of Technology, Mumbai University                          34\n",
       "2k15_22           Kalinga Institute of Industrial & Technology (KIIT)                         32\n",
       "Name: master_mod_index, dtype: int64"
      ]
     },
     "execution_count": 51,
     "metadata": {},
     "output_type": "execute_result"
    }
   ],
   "source": [
    "#Top 10 colleges having most participation in 2k15\n",
    "results_2k15_college_wise_result_count=results_2k15_df.groupby(['master_mod_index','college_name_master'])['master_mod_index'].count().sort_values(ascending=False)\n",
    "results_2k15_college_wise_result_count.head(10)"
   ]
  },
  {
   "cell_type": "code",
   "execution_count": 52,
   "metadata": {
    "scrolled": true
   },
   "outputs": [
    {
     "data": {
      "text/plain": [
       "master_mod_index  college_name_master                                 \n",
       "2k15_5            Institute of Engg & Management, Kolkata                 94\n",
       "2k15_62           D. J. Sanghvi College of Engg - Mumbai                  85\n",
       "2k15_59           CVR College of Engineering, Vastunagar                  84\n",
       "2k15_443          Krishna Engineering College                             81\n",
       "2k15_124          Techno India, Salt Lake                                 72\n",
       "2k15_160          Manakula Vinayagar Engineering College, Pondicherry     60\n",
       "2k15_25           Heritage Institute of Technology, Anandapur, Kolkata    54\n",
       "2k15_50           Dharamsinh Desai Instt. of Tech., Nadiad                49\n",
       "2k16_110          Meerut Institute of Engineering                         49\n",
       "2k15_14           Indian School of Mines, Dhanbad                         43\n",
       "Name: master_mod_index, dtype: int64"
      ]
     },
     "execution_count": 52,
     "metadata": {},
     "output_type": "execute_result"
    }
   ],
   "source": [
    "#Top 10 colleges having most participation in 2k16\n",
    "results_2k16_college_wise_result_count=results_2k16_df.groupby(['master_mod_index','college_name_master'])['master_mod_index'].count().sort_values(ascending=False)\n",
    "results_2k16_college_wise_result_count.head(10)"
   ]
  },
  {
   "cell_type": "code",
   "execution_count": 53,
   "metadata": {},
   "outputs": [
    {
     "data": {
      "text/plain": [
       "master_mod_index  college_name_master                                                 \n",
       "2k15_124          Techno India, Salt Lake                                                 71\n",
       "2k15_5            Institute of Engg & Management, Kolkata                                 61\n",
       "2k15_59           CVR College of Engineering, Vastunagar                                  46\n",
       "2k15_204          C S Patel Institute of Technology, Charusat, Changa                     45\n",
       "2k15_25           Heritage Institute of Technology, Anandapur, Kolkata                    43\n",
       "2k15_55           Kamla Nehru Institute of Technology                                     35\n",
       "2k15_40           Birla Vishwakarma Mahavidyalaya-Anand                                   34\n",
       "2k15_69           DEENBANDHU CHHOTU RAM UNIVERSITY OF SCIENCE AND TECHNOLOGY - MURTHAL    33\n",
       "2k15_13           Krishna Institute of Engineering & Technology, Ghaziabad                31\n",
       "2k15_199          Nirma University                                                        30\n",
       "Name: master_mod_index, dtype: int64"
      ]
     },
     "execution_count": 53,
     "metadata": {},
     "output_type": "execute_result"
    }
   ],
   "source": [
    "#Top 10 colleges having most participation in 2k17\n",
    "results_2k17_college_wise_result_count=results_2k17_df.groupby(['master_mod_index','college_name_master'])['master_mod_index'].count().sort_values(ascending=False)\n",
    "results_2k17_college_wise_result_count.head(10)"
   ]
  },
  {
   "cell_type": "code",
   "execution_count": 54,
   "metadata": {},
   "outputs": [
    {
     "name": "stdout",
     "output_type": "stream",
     "text": [
      "1653\n"
     ]
    },
    {
     "data": {
      "text/plain": [
       "master_mod_index  college_name_master                                 \n",
       "2k15_124          Techno India, Salt Lake                                 71\n",
       "2k15_5            Institute of Engg & Management, Kolkata                 61\n",
       "2k15_59           CVR College of Engineering, Vastunagar                  46\n",
       "2k15_204          C S Patel Institute of Technology, Charusat, Changa     45\n",
       "2k15_25           Heritage Institute of Technology, Anandapur, Kolkata    43\n",
       "Name: master_mod_index, dtype: int64"
      ]
     },
     "execution_count": 54,
     "metadata": {},
     "output_type": "execute_result"
    }
   ],
   "source": [
    "results_combined_college_wise_result_count=results_2k17_college_wise_result_count.append(results_2k16_college_wise_result_count).append(results_2k15_college_wise_result_count)\n",
    "print(results_combined_college_wise_result_count.shape[0])\n",
    "assert results_combined_college_wise_result_count.shape[0]==results_2k15_college_wise_result_count.shape[0]+results_2k16_college_wise_result_count.shape[0]+results_2k17_college_wise_result_count.shape[0]\n",
    "results_combined_college_wise_result_count.head()"
   ]
  },
  {
   "cell_type": "markdown",
   "metadata": {},
   "source": [
    "#### 2) Top 10 colleges with maximum participation over the whole period of 2k15, 2k16, 2k17"
   ]
  },
  {
   "cell_type": "code",
   "execution_count": 55,
   "metadata": {},
   "outputs": [
    {
     "name": "stdout",
     "output_type": "stream",
     "text": [
      "934\n"
     ]
    },
    {
     "data": {
      "text/plain": [
       "master_mod_index  college_name_master                                                     \n",
       "2k15_124          Techno India, Salt Lake                                                     200\n",
       "2k15_5            Institute of Engg & Management, Kolkata                                     162\n",
       "2k15_59           CVR College of Engineering, Vastunagar                                      154\n",
       "2k15_62           D. J. Sanghvi College of Engg - Mumbai                                      153\n",
       "2k15_14           Indian School of Mines, Dhanbad                                             129\n",
       "2k15_204          C S Patel Institute of Technology, Charusat, Changa                         106\n",
       "2k15_25           Heritage Institute of Technology, Anandapur, Kolkata                        102\n",
       "2k15_58           NETAJI SUBHASH ENGINEERING COLLEGE, WEST BENGAL UNIVERSITY OF TECHNOLOGY    101\n",
       "2k15_50           Dharamsinh Desai Instt. of Tech., Nadiad                                    100\n",
       "2k15_40           Birla Vishwakarma Mahavidyalaya-Anand                                        93\n",
       "Name: master_mod_index, dtype: int64"
      ]
     },
     "execution_count": 55,
     "metadata": {},
     "output_type": "execute_result"
    }
   ],
   "source": [
    "results_combined_college_wise_result_count=results_combined_college_wise_result_count.groupby(axis=0,level=[0,1]).sum()\n",
    "assert results_combined_college_wise_result_count.index.levels[0].shape[0]==results_combined_college_wise_result_count.index.levels[0].unique().shape[0]\n",
    "print(results_combined_college_wise_result_count.shape[0])\n",
    "results_combined_college_wise_result_count=results_combined_college_wise_result_count.sort_values(ascending=False)\n",
    "results_combined_college_wise_result_count.head(10)"
   ]
  },
  {
   "cell_type": "markdown",
   "metadata": {},
   "source": [
    "#### 3) Finding the region of the top 10 colleges having maximum participation over the period of 2k15, 2k16 and 2k17 "
   ]
  },
  {
   "cell_type": "code",
   "execution_count": 56,
   "metadata": {},
   "outputs": [
    {
     "data": {
      "text/html": [
       "<div>\n",
       "<table border=\"1\" class=\"dataframe\">\n",
       "  <thead>\n",
       "    <tr style=\"text-align: right;\">\n",
       "      <th></th>\n",
       "      <th>college_name_master</th>\n",
       "      <th>count</th>\n",
       "      <th>master_mod_index</th>\n",
       "      <th>tcs_region</th>\n",
       "    </tr>\n",
       "  </thead>\n",
       "  <tbody>\n",
       "    <tr>\n",
       "      <th>0</th>\n",
       "      <td>Techno India, Salt Lake</td>\n",
       "      <td>200</td>\n",
       "      <td>2k15_124</td>\n",
       "      <td>Kolkata</td>\n",
       "    </tr>\n",
       "    <tr>\n",
       "      <th>1</th>\n",
       "      <td>Institute of Engg &amp; Management, Kolkata</td>\n",
       "      <td>162</td>\n",
       "      <td>2k15_5</td>\n",
       "      <td>Kolkata</td>\n",
       "    </tr>\n",
       "    <tr>\n",
       "      <th>2</th>\n",
       "      <td>CVR College of Engineering, Vastunagar</td>\n",
       "      <td>154</td>\n",
       "      <td>2k15_59</td>\n",
       "      <td>Hyderabad</td>\n",
       "    </tr>\n",
       "    <tr>\n",
       "      <th>3</th>\n",
       "      <td>D. J. Sanghvi College of Engg - Mumbai</td>\n",
       "      <td>153</td>\n",
       "      <td>2k15_62</td>\n",
       "      <td>Mumbai</td>\n",
       "    </tr>\n",
       "    <tr>\n",
       "      <th>4</th>\n",
       "      <td>Indian School of Mines, Dhanbad</td>\n",
       "      <td>129</td>\n",
       "      <td>2k15_14</td>\n",
       "      <td>Kolkata</td>\n",
       "    </tr>\n",
       "    <tr>\n",
       "      <th>5</th>\n",
       "      <td>C S Patel Institute of Technology, Charusat, C...</td>\n",
       "      <td>106</td>\n",
       "      <td>2k15_204</td>\n",
       "      <td>Ahmedabad</td>\n",
       "    </tr>\n",
       "    <tr>\n",
       "      <th>6</th>\n",
       "      <td>Heritage Institute of Technology, Anandapur, K...</td>\n",
       "      <td>102</td>\n",
       "      <td>2k15_25</td>\n",
       "      <td>Kolkata</td>\n",
       "    </tr>\n",
       "    <tr>\n",
       "      <th>7</th>\n",
       "      <td>NETAJI SUBHASH ENGINEERING COLLEGE, WEST BENGA...</td>\n",
       "      <td>101</td>\n",
       "      <td>2k15_58</td>\n",
       "      <td>Kolkata</td>\n",
       "    </tr>\n",
       "    <tr>\n",
       "      <th>8</th>\n",
       "      <td>Dharamsinh Desai Instt. of Tech., Nadiad</td>\n",
       "      <td>100</td>\n",
       "      <td>2k15_50</td>\n",
       "      <td>Ahmedabad</td>\n",
       "    </tr>\n",
       "    <tr>\n",
       "      <th>9</th>\n",
       "      <td>Birla Vishwakarma Mahavidyalaya-Anand</td>\n",
       "      <td>93</td>\n",
       "      <td>2k15_40</td>\n",
       "      <td>Ahmedabad</td>\n",
       "    </tr>\n",
       "  </tbody>\n",
       "</table>\n",
       "</div>"
      ],
      "text/plain": [
       "                                 college_name_master  count master_mod_index  \\\n",
       "0                            Techno India, Salt Lake    200         2k15_124   \n",
       "1            Institute of Engg & Management, Kolkata    162           2k15_5   \n",
       "2             CVR College of Engineering, Vastunagar    154          2k15_59   \n",
       "3             D. J. Sanghvi College of Engg - Mumbai    153          2k15_62   \n",
       "4                    Indian School of Mines, Dhanbad    129          2k15_14   \n",
       "5  C S Patel Institute of Technology, Charusat, C...    106         2k15_204   \n",
       "6  Heritage Institute of Technology, Anandapur, K...    102          2k15_25   \n",
       "7  NETAJI SUBHASH ENGINEERING COLLEGE, WEST BENGA...    101          2k15_58   \n",
       "8           Dharamsinh Desai Instt. of Tech., Nadiad    100          2k15_50   \n",
       "9              Birla Vishwakarma Mahavidyalaya-Anand     93          2k15_40   \n",
       "\n",
       "  tcs_region  \n",
       "0    Kolkata  \n",
       "1    Kolkata  \n",
       "2  Hyderabad  \n",
       "3     Mumbai  \n",
       "4    Kolkata  \n",
       "5  Ahmedabad  \n",
       "6    Kolkata  \n",
       "7    Kolkata  \n",
       "8  Ahmedabad  \n",
       "9  Ahmedabad  "
      ]
     },
     "execution_count": 56,
     "metadata": {},
     "output_type": "execute_result"
    }
   ],
   "source": [
    "results_combined_college_wise_result_count_df=pd.DataFrame({'count':results_combined_college_wise_result_count,'master_mod_index':results_combined_college_wise_result_count.index.get_level_values(0),'college_name_master':results_combined_college_wise_result_count.index.get_level_values(1)}) #This is necessary since if we merge using index, we have to merge using all the index columns but sadly, in the college_list_df, we dont have the 'college_name_master' column\n",
    "results_combined_college_wise_result_count_df=results_combined_college_wise_result_count_df.merge(college_list_master_df.loc[:,['master_mod_index','tcs_region']],how='left',on='master_mod_index')\n",
    "results_combined_college_wise_result_count_df.head(10)"
   ]
  },
  {
   "cell_type": "code",
   "execution_count": 57,
   "metadata": {},
   "outputs": [
    {
     "name": "stdout",
     "output_type": "stream",
     "text": [
      "Key:\n",
      "                                  college_name_master master_mod_index\n",
      "0                             Techno India, Salt Lake         2k15_124\n",
      "1             Institute of Engg & Management, Kolkata           2k15_5\n",
      "2              CVR College of Engineering, Vastunagar          2k15_59\n",
      "3              D. J. Sanghvi College of Engg - Mumbai          2k15_62\n",
      "4                     Indian School of Mines, Dhanbad          2k15_14\n",
      "5   C S Patel Institute of Technology, Charusat, C...         2k15_204\n",
      "6   Heritage Institute of Technology, Anandapur, K...          2k15_25\n",
      "7   NETAJI SUBHASH ENGINEERING COLLEGE, WEST BENGA...          2k15_58\n",
      "8            Dharamsinh Desai Instt. of Tech., Nadiad          2k15_50\n",
      "9               Birla Vishwakarma Mahavidyalaya-Anand          2k15_40\n",
      "10                Kamla Nehru Institute of Technology          2k15_55\n"
     ]
    },
    {
     "data": {
      "image/png": "[encoded data removed]",
      "text/plain": [
       "<matplotlib.figure.Figure at 0x221c4e24c18>"
      ]
     },
     "metadata": {},
     "output_type": "display_data"
    }
   ],
   "source": [
    "sns.barplot(x='master_mod_index',y='count',data=results_combined_college_wise_result_count_df.loc[:10,:])\n",
    "plt.title('Number of participants from the top 10 colleges');\n",
    "print(\"Key:\")\n",
    "print(results_combined_college_wise_result_count_df.loc[:10,['college_name_master','master_mod_index']])"
   ]
  },
  {
   "cell_type": "code",
   "execution_count": 58,
   "metadata": {
    "scrolled": true
   },
   "outputs": [
    {
     "name": "stdout",
     "output_type": "stream",
     "text": [
      "Kolkata      5\n",
      "Ahmedabad    3\n",
      "Lucknow      1\n",
      "Mumbai       1\n",
      "Hyderabad    1\n",
      "Name: tcs_region, dtype: int64\n"
     ]
    },
    {
     "data": {
      "image/png": "[encoded data removed]",
      "text/plain": [
       "<matplotlib.figure.Figure at 0x221c36f0780>"
      ]
     },
     "metadata": {},
     "output_type": "display_data"
    }
   ],
   "source": [
    "print(results_combined_college_wise_result_count_df.loc[:10,'tcs_region'].value_counts())\n",
    "results_combined_college_wise_result_count_df.loc[:10,'tcs_region'].value_counts().plot(kind='bar');"
   ]
  },
  {
   "cell_type": "markdown",
   "metadata": {},
   "source": [
    "So we can see that out of the colleges having the most number of participants, over half come from the kolkata region"
   ]
  },
  {
   "cell_type": "markdown",
   "metadata": {},
   "source": [
    "#### Next we will see the participation statistics of those proceeding to the next round\n",
    "According to this [link](http://www.programminggeek.in/2016/06/tcs-codevita-season-v.html#.Wktt03WWYl8), top 5% or top 300 teams proceed to the next round, whichever is greater. Now this was written for the 2016 but we are assuming it was the same for 2k15 and 2k17 as well"
   ]
  },
  {
   "cell_type": "code",
   "execution_count": 59,
   "metadata": {},
   "outputs": [
    {
     "name": "stdout",
     "output_type": "stream",
     "text": [
      "(140.75, 206.75, 119.10000000000001)\n"
     ]
    }
   ],
   "source": [
    "print((results_2k15_df.shape[0]*0.05,results_2k16_df.shape[0]*0.05,results_2k17_df.shape[0]*0.05))"
   ]
  },
  {
   "cell_type": "markdown",
   "metadata": {},
   "source": [
    "Since the top 5% is less than 300, we will take the top 300 from each year for this part"
   ]
  },
  {
   "cell_type": "code",
   "execution_count": 60,
   "metadata": {
    "collapsed": true
   },
   "outputs": [],
   "source": [
    "results_2k15_df=results_2k15_df.sort_values('round1_rank',ascending=True)\n",
    "results_2k16_df=results_2k16_df.sort_values('round1_rank',ascending=True)\n",
    "results_2k17_df=results_2k17_df.sort_values('round1_rank',ascending=True)"
   ]
  },
  {
   "cell_type": "code",
   "execution_count": 61,
   "metadata": {
    "collapsed": true
   },
   "outputs": [],
   "source": [
    "results_2k15_top_300_df=results_2k15_df.reset_index(drop=True).loc[:299,:]\n",
    "results_2k16_top_300_df=results_2k16_df.reset_index(drop=True).loc[:299,:]\n",
    "results_2k17_top_300_df=results_2k17_df.reset_index(drop=True).loc[:299,:]"
   ]
  },
  {
   "cell_type": "code",
   "execution_count": 62,
   "metadata": {},
   "outputs": [
    {
     "data": {
      "text/plain": [
       "(300, 300, 300)"
      ]
     },
     "execution_count": 62,
     "metadata": {},
     "output_type": "execute_result"
    }
   ],
   "source": [
    "(results_2k15_top_300_df.shape[0],results_2k16_top_300_df.shape[0],results_2k17_top_300_df.shape[0])"
   ]
  },
  {
   "cell_type": "code",
   "execution_count": 63,
   "metadata": {},
   "outputs": [
    {
     "data": {
      "text/plain": [
       "Kolkata       76\n",
       "Delhi         60\n",
       "Mumbai        37\n",
       "Chennai       32\n",
       "Ahmedabad     25\n",
       "Lucknow       24\n",
       "Hyderabad     17\n",
       "Pune          13\n",
       "Bangalore      8\n",
       "Trivandrum     8\n",
       "Name: tcs_region_master, dtype: int64"
      ]
     },
     "execution_count": 63,
     "metadata": {},
     "output_type": "execute_result"
    }
   ],
   "source": [
    "results_2k15_top_300_region_wise_value_counts=results_2k15_top_300_df.tcs_region_master.value_counts()\n",
    "results_2k15_top_300_region_wise_value_counts"
   ]
  },
  {
   "cell_type": "code",
   "execution_count": 64,
   "metadata": {},
   "outputs": [
    {
     "data": {
      "text/plain": [
       "Delhi         75\n",
       "Kolkata       49\n",
       "Mumbai        41\n",
       "Lucknow       39\n",
       "Hyderabad     31\n",
       "Ahmedabad     27\n",
       "Pune          13\n",
       "Chennai       11\n",
       "Trivandrum     8\n",
       "Bangalore      6\n",
       "Name: tcs_region_master, dtype: int64"
      ]
     },
     "execution_count": 64,
     "metadata": {},
     "output_type": "execute_result"
    }
   ],
   "source": [
    "results_2k16_top_300_region_wise_value_counts=results_2k16_top_300_df.tcs_region_master.value_counts()\n",
    "results_2k16_top_300_region_wise_value_counts"
   ]
  },
  {
   "cell_type": "code",
   "execution_count": 65,
   "metadata": {},
   "outputs": [
    {
     "data": {
      "text/plain": [
       "Ahmedabad     58\n",
       "Delhi         54\n",
       "Kolkata       46\n",
       "Hyderabad     41\n",
       "Lucknow       31\n",
       "Mumbai        25\n",
       "zone3         12\n",
       "Pune          12\n",
       "zone1          6\n",
       "Chennai        4\n",
       "Trivandrum     4\n",
       "zone2          4\n",
       "Bangalore      3\n",
       "Name: tcs_region_master, dtype: int64"
      ]
     },
     "execution_count": 65,
     "metadata": {},
     "output_type": "execute_result"
    }
   ],
   "source": [
    "results_2k17_top_300_region_wise_value_counts=results_2k17_top_300_df.tcs_region_master.value_counts()\n",
    "results_2k17_top_300_region_wise_value_counts"
   ]
  },
  {
   "cell_type": "markdown",
   "metadata": {},
   "source": [
    "Here again the problem of regions vs zones raises its ugly head, but then luckily in the top 300, only (12+6+4)=22 out of top 300 results (i.e. 7.33%) are still in zonal form which is a miniscule percentage so we can kind of safely ignore it."
   ]
  },
  {
   "cell_type": "code",
   "execution_count": 66,
   "metadata": {
    "scrolled": true
   },
   "outputs": [
    {
     "data": {
      "text/html": [
       "<div>\n",
       "<table border=\"1\" class=\"dataframe\">\n",
       "  <thead>\n",
       "    <tr style=\"text-align: right;\">\n",
       "      <th></th>\n",
       "      <th>2k15</th>\n",
       "      <th>2k16</th>\n",
       "      <th>2k17</th>\n",
       "    </tr>\n",
       "  </thead>\n",
       "  <tbody>\n",
       "    <tr>\n",
       "      <th>Delhi</th>\n",
       "      <td>60</td>\n",
       "      <td>75</td>\n",
       "      <td>54</td>\n",
       "    </tr>\n",
       "    <tr>\n",
       "      <th>Kolkata</th>\n",
       "      <td>76</td>\n",
       "      <td>49</td>\n",
       "      <td>46</td>\n",
       "    </tr>\n",
       "    <tr>\n",
       "      <th>Ahmedabad</th>\n",
       "      <td>25</td>\n",
       "      <td>27</td>\n",
       "      <td>58</td>\n",
       "    </tr>\n",
       "    <tr>\n",
       "      <th>Mumbai</th>\n",
       "      <td>37</td>\n",
       "      <td>41</td>\n",
       "      <td>25</td>\n",
       "    </tr>\n",
       "    <tr>\n",
       "      <th>Lucknow</th>\n",
       "      <td>24</td>\n",
       "      <td>39</td>\n",
       "      <td>31</td>\n",
       "    </tr>\n",
       "    <tr>\n",
       "      <th>Hyderabad</th>\n",
       "      <td>17</td>\n",
       "      <td>31</td>\n",
       "      <td>41</td>\n",
       "    </tr>\n",
       "    <tr>\n",
       "      <th>Chennai</th>\n",
       "      <td>32</td>\n",
       "      <td>11</td>\n",
       "      <td>4</td>\n",
       "    </tr>\n",
       "    <tr>\n",
       "      <th>Pune</th>\n",
       "      <td>13</td>\n",
       "      <td>13</td>\n",
       "      <td>12</td>\n",
       "    </tr>\n",
       "    <tr>\n",
       "      <th>Trivandrum</th>\n",
       "      <td>8</td>\n",
       "      <td>8</td>\n",
       "      <td>4</td>\n",
       "    </tr>\n",
       "    <tr>\n",
       "      <th>Bangalore</th>\n",
       "      <td>8</td>\n",
       "      <td>6</td>\n",
       "      <td>3</td>\n",
       "    </tr>\n",
       "    <tr>\n",
       "      <th>zone3</th>\n",
       "      <td>0</td>\n",
       "      <td>0</td>\n",
       "      <td>12</td>\n",
       "    </tr>\n",
       "    <tr>\n",
       "      <th>zone1</th>\n",
       "      <td>0</td>\n",
       "      <td>0</td>\n",
       "      <td>6</td>\n",
       "    </tr>\n",
       "    <tr>\n",
       "      <th>zone2</th>\n",
       "      <td>0</td>\n",
       "      <td>0</td>\n",
       "      <td>4</td>\n",
       "    </tr>\n",
       "  </tbody>\n",
       "</table>\n",
       "</div>"
      ],
      "text/plain": [
       "            2k15  2k16  2k17\n",
       "Delhi         60    75    54\n",
       "Kolkata       76    49    46\n",
       "Ahmedabad     25    27    58\n",
       "Mumbai        37    41    25\n",
       "Lucknow       24    39    31\n",
       "Hyderabad     17    31    41\n",
       "Chennai       32    11     4\n",
       "Pune          13    13    12\n",
       "Trivandrum     8     8     4\n",
       "Bangalore      8     6     3\n",
       "zone3          0     0    12\n",
       "zone1          0     0     6\n",
       "zone2          0     0     4"
      ]
     },
     "execution_count": 66,
     "metadata": {},
     "output_type": "execute_result"
    }
   ],
   "source": [
    "results_integrated_top_300_region_wise_df=pd.DataFrame({'2k15':results_2k15_top_300_region_wise_value_counts,'2k16':results_2k16_top_300_region_wise_value_counts,'2k17':results_2k17_top_300_region_wise_value_counts})\n",
    "#Sorting the dataframe in decreasing order of the sum total over 3 years\n",
    "results_integrated_top_300_region_wise_df['sum']=results_integrated_top_300_region_wise_df.sum(axis=1)\n",
    "results_integrated_top_300_region_wise_df=results_integrated_top_300_region_wise_df.sort_values(by='sum',ascending=False).drop('sum',axis=1)\n",
    "results_integrated_top_300_region_wise_df=results_integrated_top_300_region_wise_df.fillna(0).astype(int)\n",
    "results_integrated_top_300_region_wise_df"
   ]
  },
  {
   "cell_type": "markdown",
   "metadata": {},
   "source": [
    "#### Heatmap of regionwise results for the top 300"
   ]
  },
  {
   "cell_type": "code",
   "execution_count": 67,
   "metadata": {},
   "outputs": [
    {
     "data": {
      "image/png": "[encoded data removed]",
      "text/plain": [
       "<matplotlib.figure.Figure at 0x221c4c96240>"
      ]
     },
     "metadata": {},
     "output_type": "display_data"
    }
   ],
   "source": [
    "sns.heatmap(data=results_integrated_top_300_region_wise_df,annot=results_integrated_top_300_region_wise_df,fmt=\"d\");"
   ]
  },
  {
   "cell_type": "markdown",
   "metadata": {},
   "source": [
    "Do note that for this heatmap, using percentage and using absolute figures wont make any difference unlike the previous heatmap because for all the 3 years only the top 300 rank holders are taken"
   ]
  },
  {
   "cell_type": "code",
   "execution_count": 68,
   "metadata": {
    "scrolled": true
   },
   "outputs": [
    {
     "data": {
      "text/html": [
       "<div>\n",
       "<table border=\"1\" class=\"dataframe\">\n",
       "  <thead>\n",
       "    <tr style=\"text-align: right;\">\n",
       "      <th></th>\n",
       "      <th>2k15</th>\n",
       "      <th>2k16</th>\n",
       "      <th>2k17</th>\n",
       "    </tr>\n",
       "  </thead>\n",
       "  <tbody>\n",
       "    <tr>\n",
       "      <th>Delhi</th>\n",
       "      <td>0</td>\n",
       "      <td>15</td>\n",
       "      <td>-21</td>\n",
       "    </tr>\n",
       "    <tr>\n",
       "      <th>Kolkata</th>\n",
       "      <td>0</td>\n",
       "      <td>-27</td>\n",
       "      <td>-3</td>\n",
       "    </tr>\n",
       "    <tr>\n",
       "      <th>Ahmedabad</th>\n",
       "      <td>0</td>\n",
       "      <td>2</td>\n",
       "      <td>31</td>\n",
       "    </tr>\n",
       "    <tr>\n",
       "      <th>Mumbai</th>\n",
       "      <td>0</td>\n",
       "      <td>4</td>\n",
       "      <td>-16</td>\n",
       "    </tr>\n",
       "    <tr>\n",
       "      <th>Lucknow</th>\n",
       "      <td>0</td>\n",
       "      <td>15</td>\n",
       "      <td>-8</td>\n",
       "    </tr>\n",
       "    <tr>\n",
       "      <th>Hyderabad</th>\n",
       "      <td>0</td>\n",
       "      <td>14</td>\n",
       "      <td>10</td>\n",
       "    </tr>\n",
       "    <tr>\n",
       "      <th>Chennai</th>\n",
       "      <td>0</td>\n",
       "      <td>-21</td>\n",
       "      <td>-7</td>\n",
       "    </tr>\n",
       "    <tr>\n",
       "      <th>Pune</th>\n",
       "      <td>0</td>\n",
       "      <td>0</td>\n",
       "      <td>-1</td>\n",
       "    </tr>\n",
       "    <tr>\n",
       "      <th>Trivandrum</th>\n",
       "      <td>0</td>\n",
       "      <td>0</td>\n",
       "      <td>-4</td>\n",
       "    </tr>\n",
       "    <tr>\n",
       "      <th>Bangalore</th>\n",
       "      <td>0</td>\n",
       "      <td>-2</td>\n",
       "      <td>-3</td>\n",
       "    </tr>\n",
       "    <tr>\n",
       "      <th>zone3</th>\n",
       "      <td>0</td>\n",
       "      <td>0</td>\n",
       "      <td>12</td>\n",
       "    </tr>\n",
       "    <tr>\n",
       "      <th>zone1</th>\n",
       "      <td>0</td>\n",
       "      <td>0</td>\n",
       "      <td>6</td>\n",
       "    </tr>\n",
       "    <tr>\n",
       "      <th>zone2</th>\n",
       "      <td>0</td>\n",
       "      <td>0</td>\n",
       "      <td>4</td>\n",
       "    </tr>\n",
       "  </tbody>\n",
       "</table>\n",
       "</div>"
      ],
      "text/plain": [
       "            2k15  2k16  2k17\n",
       "Delhi          0    15   -21\n",
       "Kolkata        0   -27    -3\n",
       "Ahmedabad      0     2    31\n",
       "Mumbai         0     4   -16\n",
       "Lucknow        0    15    -8\n",
       "Hyderabad      0    14    10\n",
       "Chennai        0   -21    -7\n",
       "Pune           0     0    -1\n",
       "Trivandrum     0     0    -4\n",
       "Bangalore      0    -2    -3\n",
       "zone3          0     0    12\n",
       "zone1          0     0     6\n",
       "zone2          0     0     4"
      ]
     },
     "execution_count": 68,
     "metadata": {},
     "output_type": "execute_result"
    }
   ],
   "source": [
    "results_integrated_top_300_region_wise_diff_df=pd.DataFrame(results_integrated_top_300_region_wise_df,copy=True)\n",
    "results_integrated_top_300_region_wise_diff_df['2k15']=0\n",
    "results_integrated_top_300_region_wise_diff_df['2k16']=(results_integrated_top_300_region_wise_df['2k16']-results_integrated_top_300_region_wise_df['2k15'])\n",
    "results_integrated_top_300_region_wise_diff_df['2k17']=(results_integrated_top_300_region_wise_df['2k17']-results_integrated_top_300_region_wise_df['2k16'])\n",
    "results_integrated_top_300_region_wise_diff_df"
   ]
  },
  {
   "cell_type": "markdown",
   "metadata": {},
   "source": [
    "#### Heatmap showing decrease or increase region wise for each regions"
   ]
  },
  {
   "cell_type": "code",
   "execution_count": 69,
   "metadata": {},
   "outputs": [
    {
     "data": {
      "image/png": "[encoded data removed]",
      "text/plain": [
       "<matplotlib.figure.Figure at 0x221c35ca9b0>"
      ]
     },
     "metadata": {},
     "output_type": "display_data"
    }
   ],
   "source": [
    "sns.heatmap(data=results_integrated_top_300_region_wise_diff_df/300,annot=results_integrated_top_300_region_wise_df/300,fmt=\"f\",cmap=\"RdBu\");"
   ]
  },
  {
   "cell_type": "markdown",
   "metadata": {},
   "source": [
    "For comparision, we are replotting the region wise heatmap for the full set of results below"
   ]
  },
  {
   "cell_type": "code",
   "execution_count": 70,
   "metadata": {},
   "outputs": [
    {
     "data": {
      "image/png": "[encoded data removed]",
      "text/plain": [
       "<matplotlib.figure.Figure at 0x221c4f2ea58>"
      ]
     },
     "metadata": {},
     "output_type": "display_data"
    }
   ],
   "source": [
    "sns.heatmap(three_years_region_wise_participation_perc_diff_df.reindex(results_integrated_top_300_region_wise_diff_df.index),annot=three_years_region_wise_participation_perc_df.reindex(results_integrated_top_300_region_wise_diff_df.index),fmt=\"f\",cmap=\"RdBu\");"
   ]
  },
  {
   "cell_type": "markdown",
   "metadata": {},
   "source": [
    "By observing the above two heatmaps, we can see that:\n",
    "- For Delhi, number of top 300 rankers increased although participation decreased in 2k16. However in 2k17, although there was an increase in participation, number of top 300 rankers decreased significantly\n",
    "- For Kolkata, there has been a constant decrease in the number of people in top 300 rankers\n",
    "- Hyderabad has seen a constant increase over the years\n",
    "- Lucknow also saw a huge increase in the number of top 300 results in 2k16\n",
    "- Chennai saw a huge decrease in the number of top 300 results in 2k16"
   ]
  },
  {
   "cell_type": "markdown",
   "metadata": {},
   "source": [
    "#### Colleges having the most number of results in the top 300"
   ]
  },
  {
   "cell_type": "code",
   "execution_count": 71,
   "metadata": {},
   "outputs": [
    {
     "data": {
      "text/plain": [
       "master_mod_index  college_name_master                                                     \n",
       "2k15_14           Indian School of Mines, Dhanbad                                             20\n",
       "2k15_17           ABES Engineering College, Delhi                                             10\n",
       "2k15_68           IIT - PATNA                                                                  7\n",
       "2k15_55           Kamla Nehru Institute of Technology                                          7\n",
       "2k15_50           Dharamsinh Desai Instt. of Tech., Nadiad                                     6\n",
       "2k15_252          SRM University                                                               6\n",
       "2k15_62           D. J. Sanghvi College of Engg - Mumbai                                       6\n",
       "2k15_37           VIT University                                                               5\n",
       "2k15_58           NETAJI SUBHASH ENGINEERING COLLEGE, WEST BENGAL UNIVERSITY OF TECHNOLOGY     4\n",
       "2k15_1            Army Institute of Technology,Pune University, Pune                           4\n",
       "Name: master_mod_index, dtype: int64"
      ]
     },
     "execution_count": 71,
     "metadata": {},
     "output_type": "execute_result"
    }
   ],
   "source": [
    "#Top 10 colleges by count in the top 300\n",
    "results_2k15_top_300_college_wise_result_count=results_2k15_top_300_df.groupby(['master_mod_index','college_name_master'])['master_mod_index'].count().sort_values(ascending=False)\n",
    "results_2k15_top_300_college_wise_result_count.head(10)"
   ]
  },
  {
   "cell_type": "code",
   "execution_count": 72,
   "metadata": {},
   "outputs": [
    {
     "data": {
      "text/plain": [
       "master_mod_index  college_name_master                                 \n",
       "2k15_55           Kamla Nehru Institute of Technology                     9\n",
       "2k15_5            Institute of Engg & Management, Kolkata                 8\n",
       "2k15_124          Techno India, Salt Lake                                 8\n",
       "2k15_21           Walchand College of Eng., Sangli                        7\n",
       "2k15_85           Institute of Engg. Technology, Lucknow                  7\n",
       "2k15_380          Indian Institute Of Technology, Hyderabad               7\n",
       "2k15_443          Krishna Engineering College                             6\n",
       "2k15_25           Heritage Institute of Technology, Anandapur, Kolkata    6\n",
       "2k15_26           Madan Mohan Maliviya Enng. College                      6\n",
       "2k15_62           D. J. Sanghvi College of Engg - Mumbai                  6\n",
       "Name: master_mod_index, dtype: int64"
      ]
     },
     "execution_count": 72,
     "metadata": {},
     "output_type": "execute_result"
    }
   ],
   "source": [
    "#Top 10 colleges by count in the top 300\n",
    "results_2k16_top_300_college_wise_result_count=results_2k16_top_300_df.groupby(['master_mod_index','college_name_master'])['master_mod_index'].count().sort_values(ascending=False)\n",
    "results_2k16_top_300_college_wise_result_count.head(10)"
   ]
  },
  {
   "cell_type": "code",
   "execution_count": 73,
   "metadata": {},
   "outputs": [
    {
     "data": {
      "text/plain": [
       "master_mod_index  college_name_master                                                                          \n",
       "2k15_199          Nirma University                                                                                 10\n",
       "2k15_234          Dhirubhai Ambani Inst of Information & Communication Tech, Gujarat.                              10\n",
       "2k15_55           Kamla Nehru Institute of Technology                                                              10\n",
       "2k15_124          Techno India, Salt Lake                                                                           9\n",
       "2k15_156          Gayatri Vidya Parishad College of Engg., Visakhapatnam,(Affiliated To J.N.T. Univ, Hyderabad)     8\n",
       "2k15_380          Indian Institute Of Technology, Hyderabad                                                         8\n",
       "2k15_85           Institute of Engg. Technology, Lucknow                                                            8\n",
       "2k15_25           Heritage Institute of Technology, Anandapur, Kolkata                                              8\n",
       "2k15_69           DEENBANDHU CHHOTU RAM UNIVERSITY OF SCIENCE AND TECHNOLOGY - MURTHAL                              8\n",
       "2k15_141          G. H. Patel College of Engg. & Tech., Vidyanagar                                                  7\n",
       "Name: master_mod_index, dtype: int64"
      ]
     },
     "execution_count": 73,
     "metadata": {},
     "output_type": "execute_result"
    }
   ],
   "source": [
    "#Top 10 colleges by count in the top 300\n",
    "results_2k17_top_300_college_wise_result_count=results_2k17_top_300_df.groupby(['master_mod_index','college_name_master'])['master_mod_index'].count().sort_values(ascending=False)\n",
    "results_2k17_top_300_college_wise_result_count.head(10)"
   ]
  },
  {
   "cell_type": "code",
   "execution_count": 74,
   "metadata": {},
   "outputs": [
    {
     "name": "stdout",
     "output_type": "stream",
     "text": [
      "439\n"
     ]
    },
    {
     "data": {
      "text/plain": [
       "master_mod_index  college_name_master                                                                          \n",
       "2k15_199          Nirma University                                                                                 10\n",
       "2k15_234          Dhirubhai Ambani Inst of Information & Communication Tech, Gujarat.                              10\n",
       "2k15_55           Kamla Nehru Institute of Technology                                                              10\n",
       "2k15_124          Techno India, Salt Lake                                                                           9\n",
       "2k15_156          Gayatri Vidya Parishad College of Engg., Visakhapatnam,(Affiliated To J.N.T. Univ, Hyderabad)     8\n",
       "Name: master_mod_index, dtype: int64"
      ]
     },
     "execution_count": 74,
     "metadata": {},
     "output_type": "execute_result"
    }
   ],
   "source": [
    "results_combined_top_300_college_wise_result_count=results_2k17_top_300_college_wise_result_count.append(results_2k16_top_300_college_wise_result_count).append(results_2k15_top_300_college_wise_result_count)\n",
    "print(results_combined_top_300_college_wise_result_count.shape[0])\n",
    "assert results_combined_top_300_college_wise_result_count.shape[0]==results_2k15_top_300_college_wise_result_count.shape[0]+results_2k16_top_300_college_wise_result_count.shape[0]+results_2k17_top_300_college_wise_result_count.shape[0]\n",
    "results_combined_top_300_college_wise_result_count.head()"
   ]
  },
  {
   "cell_type": "code",
   "execution_count": 75,
   "metadata": {},
   "outputs": [
    {
     "name": "stdout",
     "output_type": "stream",
     "text": [
      "281\n"
     ]
    },
    {
     "data": {
      "text/plain": [
       "master_mod_index  college_name_master                                                 \n",
       "2k15_14           Indian School of Mines, Dhanbad                                         30\n",
       "2k15_55           Kamla Nehru Institute of Technology                                     26\n",
       "2k15_124          Techno India, Salt Lake                                                 21\n",
       "2k15_234          Dhirubhai Ambani Inst of Information & Communication Tech, Gujarat.     19\n",
       "2k15_17           ABES Engineering College, Delhi                                         19\n",
       "2k15_380          Indian Institute Of Technology, Hyderabad                               19\n",
       "2k15_62           D. J. Sanghvi College of Engg - Mumbai                                  17\n",
       "2k15_69           DEENBANDHU CHHOTU RAM UNIVERSITY OF SCIENCE AND TECHNOLOGY - MURTHAL    16\n",
       "2k15_50           Dharamsinh Desai Instt. of Tech., Nadiad                                15\n",
       "2k15_85           Institute of Engg. Technology, Lucknow                                  15\n",
       "Name: master_mod_index, dtype: int64"
      ]
     },
     "execution_count": 75,
     "metadata": {},
     "output_type": "execute_result"
    }
   ],
   "source": [
    "results_combined_top_300_college_wise_result_count=results_combined_top_300_college_wise_result_count.groupby(axis=0,level=[0,1]).sum()\n",
    "assert results_combined_top_300_college_wise_result_count.index.levels[0].shape[0]==results_combined_top_300_college_wise_result_count.index.levels[0].unique().shape[0]\n",
    "print(results_combined_top_300_college_wise_result_count.shape[0])\n",
    "results_combined_top_300_college_wise_result_count=results_combined_top_300_college_wise_result_count.sort_values(ascending=False)\n",
    "results_combined_top_300_college_wise_result_count.head(10)"
   ]
  },
  {
   "cell_type": "code",
   "execution_count": 76,
   "metadata": {},
   "outputs": [
    {
     "data": {
      "text/html": [
       "<div>\n",
       "<table border=\"1\" class=\"dataframe\">\n",
       "  <thead>\n",
       "    <tr style=\"text-align: right;\">\n",
       "      <th></th>\n",
       "      <th>college_name_master</th>\n",
       "      <th>count</th>\n",
       "      <th>master_mod_index</th>\n",
       "      <th>tcs_region</th>\n",
       "    </tr>\n",
       "  </thead>\n",
       "  <tbody>\n",
       "    <tr>\n",
       "      <th>0</th>\n",
       "      <td>Indian School of Mines, Dhanbad</td>\n",
       "      <td>30</td>\n",
       "      <td>2k15_14</td>\n",
       "      <td>Kolkata</td>\n",
       "    </tr>\n",
       "    <tr>\n",
       "      <th>1</th>\n",
       "      <td>Kamla Nehru Institute of Technology</td>\n",
       "      <td>26</td>\n",
       "      <td>2k15_55</td>\n",
       "      <td>Lucknow</td>\n",
       "    </tr>\n",
       "    <tr>\n",
       "      <th>2</th>\n",
       "      <td>Techno India, Salt Lake</td>\n",
       "      <td>21</td>\n",
       "      <td>2k15_124</td>\n",
       "      <td>Kolkata</td>\n",
       "    </tr>\n",
       "    <tr>\n",
       "      <th>3</th>\n",
       "      <td>Dhirubhai Ambani Inst of Information &amp; Communi...</td>\n",
       "      <td>19</td>\n",
       "      <td>2k15_234</td>\n",
       "      <td>Ahmedabad</td>\n",
       "    </tr>\n",
       "    <tr>\n",
       "      <th>4</th>\n",
       "      <td>ABES Engineering College, Delhi</td>\n",
       "      <td>19</td>\n",
       "      <td>2k15_17</td>\n",
       "      <td>Delhi</td>\n",
       "    </tr>\n",
       "    <tr>\n",
       "      <th>5</th>\n",
       "      <td>Indian Institute Of Technology, Hyderabad</td>\n",
       "      <td>19</td>\n",
       "      <td>2k15_380</td>\n",
       "      <td>Hyderabad</td>\n",
       "    </tr>\n",
       "    <tr>\n",
       "      <th>6</th>\n",
       "      <td>D. J. Sanghvi College of Engg - Mumbai</td>\n",
       "      <td>17</td>\n",
       "      <td>2k15_62</td>\n",
       "      <td>Mumbai</td>\n",
       "    </tr>\n",
       "    <tr>\n",
       "      <th>7</th>\n",
       "      <td>DEENBANDHU CHHOTU RAM UNIVERSITY OF SCIENCE AN...</td>\n",
       "      <td>16</td>\n",
       "      <td>2k15_69</td>\n",
       "      <td>Delhi</td>\n",
       "    </tr>\n",
       "    <tr>\n",
       "      <th>8</th>\n",
       "      <td>Dharamsinh Desai Instt. of Tech., Nadiad</td>\n",
       "      <td>15</td>\n",
       "      <td>2k15_50</td>\n",
       "      <td>Ahmedabad</td>\n",
       "    </tr>\n",
       "    <tr>\n",
       "      <th>9</th>\n",
       "      <td>Institute of Engg. Technology, Lucknow</td>\n",
       "      <td>15</td>\n",
       "      <td>2k15_85</td>\n",
       "      <td>Lucknow</td>\n",
       "    </tr>\n",
       "  </tbody>\n",
       "</table>\n",
       "</div>"
      ],
      "text/plain": [
       "                                 college_name_master  count master_mod_index  \\\n",
       "0                    Indian School of Mines, Dhanbad     30          2k15_14   \n",
       "1                Kamla Nehru Institute of Technology     26          2k15_55   \n",
       "2                            Techno India, Salt Lake     21         2k15_124   \n",
       "3  Dhirubhai Ambani Inst of Information & Communi...     19         2k15_234   \n",
       "4                    ABES Engineering College, Delhi     19          2k15_17   \n",
       "5          Indian Institute Of Technology, Hyderabad     19         2k15_380   \n",
       "6             D. J. Sanghvi College of Engg - Mumbai     17          2k15_62   \n",
       "7  DEENBANDHU CHHOTU RAM UNIVERSITY OF SCIENCE AN...     16          2k15_69   \n",
       "8           Dharamsinh Desai Instt. of Tech., Nadiad     15          2k15_50   \n",
       "9             Institute of Engg. Technology, Lucknow     15          2k15_85   \n",
       "\n",
       "  tcs_region  \n",
       "0    Kolkata  \n",
       "1    Lucknow  \n",
       "2    Kolkata  \n",
       "3  Ahmedabad  \n",
       "4      Delhi  \n",
       "5  Hyderabad  \n",
       "6     Mumbai  \n",
       "7      Delhi  \n",
       "8  Ahmedabad  \n",
       "9    Lucknow  "
      ]
     },
     "execution_count": 76,
     "metadata": {},
     "output_type": "execute_result"
    }
   ],
   "source": [
    "#Top 10 colleges by count in the top 300 across the 3 years\n",
    "results_combined_top_300_college_wise_result_count_df=pd.DataFrame({'count':results_combined_top_300_college_wise_result_count,'master_mod_index':results_combined_top_300_college_wise_result_count.index.get_level_values(0),'college_name_master':results_combined_top_300_college_wise_result_count.index.get_level_values(1)}) \n",
    "results_combined_top_300_college_wise_result_count_df=results_combined_top_300_college_wise_result_count_df.merge(college_list_master_df.loc[:,['master_mod_index','tcs_region']],how='left',on='master_mod_index')\n",
    "results_combined_top_300_college_wise_result_count_df.head(10)"
   ]
  },
  {
   "cell_type": "code",
   "execution_count": 77,
   "metadata": {},
   "outputs": [
    {
     "data": {
      "text/plain": [
       "(6, 5, 5)"
      ]
     },
     "execution_count": 77,
     "metadata": {},
     "output_type": "execute_result"
    }
   ],
   "source": [
    "(sum(results_2k15_top_300_college_wise_result_count.index.get_level_values(0)[:10].isin(results_2k15_college_wise_result_count.index.get_level_values(0)[:10])),sum(results_2k16_top_300_college_wise_result_count.index.get_level_values(0)[:10].isin(results_2k16_college_wise_result_count.index.get_level_values(0)[:10])),sum(results_2k17_top_300_college_wise_result_count.index.get_level_values(0)[:10].isin(results_2k17_college_wise_result_count.index.get_level_values(0)[:10])))"
   ]
  },
  {
   "cell_type": "markdown",
   "metadata": {},
   "source": [
    "The above code checks how many of the top 10 colleges by overall participation are also present in the top 10 colleges by participation in the top 300 results list.\n",
    "So we can see, that atleast half of the college which have most participation overall also appears in the list of most participating colleges in the top 300 list"
   ]
  },
  {
   "cell_type": "markdown",
   "metadata": {},
   "source": [
    "#### Top rank holders year wise"
   ]
  },
  {
   "cell_type": "code",
   "execution_count": 78,
   "metadata": {
    "scrolled": false
   },
   "outputs": [
    {
     "data": {
      "text/html": [
       "<div>\n",
       "<table border=\"1\" class=\"dataframe\">\n",
       "  <thead>\n",
       "    <tr style=\"text-align: right;\">\n",
       "      <th></th>\n",
       "      <th>round1_rank</th>\n",
       "      <th>team_name</th>\n",
       "      <th>tcs_region</th>\n",
       "      <th>users_name</th>\n",
       "      <th>college_name</th>\n",
       "      <th>user_1</th>\n",
       "      <th>user_2</th>\n",
       "      <th>mod_index</th>\n",
       "      <th>master_mod_index</th>\n",
       "      <th>college_name_master</th>\n",
       "      <th>tcs_region_master</th>\n",
       "      <th>year</th>\n",
       "      <th>id_user1</th>\n",
       "      <th>id_user2</th>\n",
       "    </tr>\n",
       "  </thead>\n",
       "  <tbody>\n",
       "    <tr>\n",
       "      <th>1719</th>\n",
       "      <td>1</td>\n",
       "      <td>xorfire</td>\n",
       "      <td>Chennai</td>\n",
       "      <td>Goutham Subramanian &amp; Bharath Srinivasan</td>\n",
       "      <td>RAJALAKSHMI INSTITUTE OF TECHNOLOGY, CHENNAI</td>\n",
       "      <td>goutham subramanian</td>\n",
       "      <td>bharath srinivasan</td>\n",
       "      <td>2k15_148</td>\n",
       "      <td>2k15_148</td>\n",
       "      <td>RAJALAKSHMI INSTITUTE OF TECHNOLOGY, CHENNAI</td>\n",
       "      <td>Chennai</td>\n",
       "      <td>2k15</td>\n",
       "      <td>4060</td>\n",
       "      <td>6823</td>\n",
       "    </tr>\n",
       "    <tr>\n",
       "      <th>2559</th>\n",
       "      <td>2</td>\n",
       "      <td>GetWorkDone</td>\n",
       "      <td>Mumbai</td>\n",
       "      <td>Sainag Shetty &amp; Harshil Shah</td>\n",
       "      <td>Rajiv Gandhi Institute of Technology, Andheri,...</td>\n",
       "      <td>sainag shetty</td>\n",
       "      <td>harshil shah</td>\n",
       "      <td>2k15_381</td>\n",
       "      <td>2k15_381</td>\n",
       "      <td>Rajiv Gandhi Institute of Technology, Andheri,...</td>\n",
       "      <td>Mumbai</td>\n",
       "      <td>2k15</td>\n",
       "      <td>4889</td>\n",
       "      <td>7647</td>\n",
       "    </tr>\n",
       "    <tr>\n",
       "      <th>2223</th>\n",
       "      <td>3</td>\n",
       "      <td>vaccum</td>\n",
       "      <td>Mumbai</td>\n",
       "      <td>Pratyush Pranjal &amp; Ashutosh Tripathi</td>\n",
       "      <td>Rungta College of Engineering and Technology, ...</td>\n",
       "      <td>pratyush pranjal</td>\n",
       "      <td>ashutosh tripathi</td>\n",
       "      <td>2k15_255</td>\n",
       "      <td>2k15_255</td>\n",
       "      <td>Rungta College of Engineering and Technology, ...</td>\n",
       "      <td>Mumbai</td>\n",
       "      <td>2k15</td>\n",
       "      <td>4558</td>\n",
       "      <td>7314</td>\n",
       "    </tr>\n",
       "    <tr>\n",
       "      <th>811</th>\n",
       "      <td>4</td>\n",
       "      <td>rupviv</td>\n",
       "      <td>Lucknow</td>\n",
       "      <td>Vivek Yadav &amp; Rupendra Singh</td>\n",
       "      <td>Kamla Nehru Institute of Technology</td>\n",
       "      <td>vivek yadav</td>\n",
       "      <td>rupendra singh</td>\n",
       "      <td>2k15_55</td>\n",
       "      <td>2k15_55</td>\n",
       "      <td>Kamla Nehru Institute of Technology</td>\n",
       "      <td>Lucknow</td>\n",
       "      <td>2k15</td>\n",
       "      <td>3180</td>\n",
       "      <td>5941</td>\n",
       "    </tr>\n",
       "    <tr>\n",
       "      <th>2349</th>\n",
       "      <td>5</td>\n",
       "      <td>Manyfacedgods</td>\n",
       "      <td>Chennai</td>\n",
       "      <td>Maheswaran &amp; Naga Ravichandran</td>\n",
       "      <td>KLN College of Engineering, Madurai</td>\n",
       "      <td>maheswaran</td>\n",
       "      <td>naga ravichandran</td>\n",
       "      <td>2k15_295</td>\n",
       "      <td>2k15_295</td>\n",
       "      <td>KLN College of Engineering, Madurai</td>\n",
       "      <td>Chennai</td>\n",
       "      <td>2k15</td>\n",
       "      <td>4683</td>\n",
       "      <td>7440</td>\n",
       "    </tr>\n",
       "    <tr>\n",
       "      <th>341</th>\n",
       "      <td>6</td>\n",
       "      <td>The Alexander</td>\n",
       "      <td>Delhi</td>\n",
       "      <td>Shashank Mittal &amp; Sajan Agarwal</td>\n",
       "      <td>ABES Engineering College, Delhi</td>\n",
       "      <td>shashank mittal</td>\n",
       "      <td>sajan agarwal</td>\n",
       "      <td>2k15_17</td>\n",
       "      <td>2k15_17</td>\n",
       "      <td>ABES Engineering College, Delhi</td>\n",
       "      <td>Delhi</td>\n",
       "      <td>2k15</td>\n",
       "      <td>2711</td>\n",
       "      <td>5476</td>\n",
       "    </tr>\n",
       "    <tr>\n",
       "      <th>523</th>\n",
       "      <td>7</td>\n",
       "      <td>Galaxy Fire</td>\n",
       "      <td>Delhi</td>\n",
       "      <td>Deeksha Singh &amp; Ayush Tiwari</td>\n",
       "      <td>Zakir Husain College of Engineering &amp; Technolo...</td>\n",
       "      <td>deeksha singh</td>\n",
       "      <td>ayush tiwari</td>\n",
       "      <td>2k15_28</td>\n",
       "      <td>2k15_28</td>\n",
       "      <td>Zakir Husain College of Engineering &amp; Technolo...</td>\n",
       "      <td>Delhi</td>\n",
       "      <td>2k15</td>\n",
       "      <td>2898</td>\n",
       "      <td>5657</td>\n",
       "    </tr>\n",
       "    <tr>\n",
       "      <th>459</th>\n",
       "      <td>8</td>\n",
       "      <td>ankitaShivangi</td>\n",
       "      <td>Lucknow</td>\n",
       "      <td>Ankita Kukreja &amp; Taman Kaur</td>\n",
       "      <td>Shri Ram Murti Smarak College of Engg and Tech...</td>\n",
       "      <td>ankita kukreja</td>\n",
       "      <td>taman kaur</td>\n",
       "      <td>2k15_23</td>\n",
       "      <td>2k15_23</td>\n",
       "      <td>Shri Ram Murti Smarak College of Engg and Tech...</td>\n",
       "      <td>Lucknow</td>\n",
       "      <td>2k15</td>\n",
       "      <td>2836</td>\n",
       "      <td>5593</td>\n",
       "    </tr>\n",
       "    <tr>\n",
       "      <th>755</th>\n",
       "      <td>9</td>\n",
       "      <td>Encipher</td>\n",
       "      <td>Kolkata</td>\n",
       "      <td>Saurav Keshri &amp; Surajit Chakrabarty</td>\n",
       "      <td>Jalpaiguri Govt Engg College- Jalpaiguri</td>\n",
       "      <td>saurav keshri</td>\n",
       "      <td>surajit chakrabarty</td>\n",
       "      <td>2k15_51</td>\n",
       "      <td>2k15_51</td>\n",
       "      <td>Jalpaiguri Govt Engg College- Jalpaiguri</td>\n",
       "      <td>Kolkata</td>\n",
       "      <td>2k15</td>\n",
       "      <td>3124</td>\n",
       "      <td>5885</td>\n",
       "    </tr>\n",
       "    <tr>\n",
       "      <th>817</th>\n",
       "      <td>10</td>\n",
       "      <td>WreckItMate</td>\n",
       "      <td>Ahmedabad</td>\n",
       "      <td>Abhishek Jadav &amp; Poonam Kanani</td>\n",
       "      <td>L. D. College of Engineering, Ahmedabad</td>\n",
       "      <td>abhishek jadav</td>\n",
       "      <td>poonam kanani</td>\n",
       "      <td>2k15_56</td>\n",
       "      <td>2k15_56</td>\n",
       "      <td>L. D. College of Engineering, Ahmedabad</td>\n",
       "      <td>Ahmedabad</td>\n",
       "      <td>2k15</td>\n",
       "      <td>3185</td>\n",
       "      <td>5947</td>\n",
       "    </tr>\n",
       "  </tbody>\n",
       "</table>\n",
       "</div>"
      ],
      "text/plain": [
       "      round1_rank       team_name tcs_region  \\\n",
       "1719            1         xorfire    Chennai   \n",
       "2559            2     GetWorkDone     Mumbai   \n",
       "2223            3          vaccum     Mumbai   \n",
       "811             4          rupviv    Lucknow   \n",
       "2349            5   Manyfacedgods    Chennai   \n",
       "341             6   The Alexander      Delhi   \n",
       "523             7     Galaxy Fire      Delhi   \n",
       "459             8  ankitaShivangi    Lucknow   \n",
       "755             9        Encipher    Kolkata   \n",
       "817            10     WreckItMate  Ahmedabad   \n",
       "\n",
       "                                    users_name  \\\n",
       "1719  Goutham Subramanian & Bharath Srinivasan   \n",
       "2559              Sainag Shetty & Harshil Shah   \n",
       "2223      Pratyush Pranjal & Ashutosh Tripathi   \n",
       "811               Vivek Yadav & Rupendra Singh   \n",
       "2349            Maheswaran & Naga Ravichandran   \n",
       "341            Shashank Mittal & Sajan Agarwal   \n",
       "523               Deeksha Singh & Ayush Tiwari   \n",
       "459                Ankita Kukreja & Taman Kaur   \n",
       "755        Saurav Keshri & Surajit Chakrabarty   \n",
       "817             Abhishek Jadav & Poonam Kanani   \n",
       "\n",
       "                                           college_name               user_1  \\\n",
       "1719       RAJALAKSHMI INSTITUTE OF TECHNOLOGY, CHENNAI  goutham subramanian   \n",
       "2559  Rajiv Gandhi Institute of Technology, Andheri,...        sainag shetty   \n",
       "2223  Rungta College of Engineering and Technology, ...     pratyush pranjal   \n",
       "811                 Kamla Nehru Institute of Technology          vivek yadav   \n",
       "2349                KLN College of Engineering, Madurai           maheswaran   \n",
       "341                     ABES Engineering College, Delhi      shashank mittal   \n",
       "523   Zakir Husain College of Engineering & Technolo...        deeksha singh   \n",
       "459   Shri Ram Murti Smarak College of Engg and Tech...       ankita kukreja   \n",
       "755            Jalpaiguri Govt Engg College- Jalpaiguri        saurav keshri   \n",
       "817             L. D. College of Engineering, Ahmedabad       abhishek jadav   \n",
       "\n",
       "                   user_2 mod_index master_mod_index  \\\n",
       "1719   bharath srinivasan  2k15_148         2k15_148   \n",
       "2559         harshil shah  2k15_381         2k15_381   \n",
       "2223    ashutosh tripathi  2k15_255         2k15_255   \n",
       "811        rupendra singh   2k15_55          2k15_55   \n",
       "2349    naga ravichandran  2k15_295         2k15_295   \n",
       "341         sajan agarwal   2k15_17          2k15_17   \n",
       "523          ayush tiwari   2k15_28          2k15_28   \n",
       "459            taman kaur   2k15_23          2k15_23   \n",
       "755   surajit chakrabarty   2k15_51          2k15_51   \n",
       "817         poonam kanani   2k15_56          2k15_56   \n",
       "\n",
       "                                    college_name_master tcs_region_master  \\\n",
       "1719       RAJALAKSHMI INSTITUTE OF TECHNOLOGY, CHENNAI           Chennai   \n",
       "2559  Rajiv Gandhi Institute of Technology, Andheri,...            Mumbai   \n",
       "2223  Rungta College of Engineering and Technology, ...            Mumbai   \n",
       "811                 Kamla Nehru Institute of Technology           Lucknow   \n",
       "2349                KLN College of Engineering, Madurai           Chennai   \n",
       "341                     ABES Engineering College, Delhi             Delhi   \n",
       "523   Zakir Husain College of Engineering & Technolo...             Delhi   \n",
       "459   Shri Ram Murti Smarak College of Engg and Tech...           Lucknow   \n",
       "755            Jalpaiguri Govt Engg College- Jalpaiguri           Kolkata   \n",
       "817             L. D. College of Engineering, Ahmedabad         Ahmedabad   \n",
       "\n",
       "      year  id_user1  id_user2  \n",
       "1719  2k15      4060      6823  \n",
       "2559  2k15      4889      7647  \n",
       "2223  2k15      4558      7314  \n",
       "811   2k15      3180      5941  \n",
       "2349  2k15      4683      7440  \n",
       "341   2k15      2711      5476  \n",
       "523   2k15      2898      5657  \n",
       "459   2k15      2836      5593  \n",
       "755   2k15      3124      5885  \n",
       "817   2k15      3185      5947  "
      ]
     },
     "execution_count": 78,
     "metadata": {},
     "output_type": "execute_result"
    }
   ],
   "source": [
    "results_2k15_df.head(10)"
   ]
  },
  {
   "cell_type": "code",
   "execution_count": 79,
   "metadata": {
    "scrolled": false
   },
   "outputs": [
    {
     "data": {
      "text/html": [
       "<div>\n",
       "<table border=\"1\" class=\"dataframe\">\n",
       "  <thead>\n",
       "    <tr style=\"text-align: right;\">\n",
       "      <th></th>\n",
       "      <th>college_name_prerectified</th>\n",
       "      <th>round1_rank</th>\n",
       "      <th>tcs_region_prerectified</th>\n",
       "      <th>team_name</th>\n",
       "      <th>user_name</th>\n",
       "      <th>user_1</th>\n",
       "      <th>user_2</th>\n",
       "      <th>college_name</th>\n",
       "      <th>tcs_region</th>\n",
       "      <th>mod_index</th>\n",
       "      <th>master_mod_index</th>\n",
       "      <th>college_name_master</th>\n",
       "      <th>tcs_region_master</th>\n",
       "      <th>year</th>\n",
       "      <th>id_user1</th>\n",
       "      <th>id_user2</th>\n",
       "    </tr>\n",
       "  </thead>\n",
       "  <tbody>\n",
       "    <tr>\n",
       "      <th>0</th>\n",
       "      <td>Kalyani Govt. Engg. College, WB</td>\n",
       "      <td>1</td>\n",
       "      <td>Kolkata</td>\n",
       "      <td>kgeccoders11</td>\n",
       "      <td>Soumik Sarkar &amp; Subham Das</td>\n",
       "      <td>soumik sarkar</td>\n",
       "      <td>subham das</td>\n",
       "      <td>Kalyani Govt. Engg. College, WB</td>\n",
       "      <td>Kolkata</td>\n",
       "      <td>2k16_0</td>\n",
       "      <td>2k15_24</td>\n",
       "      <td>Kalyani Govt. Engg. College, WB</td>\n",
       "      <td>Kolkata</td>\n",
       "      <td>2k16</td>\n",
       "      <td>1024</td>\n",
       "      <td>1037</td>\n",
       "    </tr>\n",
       "    <tr>\n",
       "      <th>12</th>\n",
       "      <td>IIT ­ PATNA</td>\n",
       "      <td>2</td>\n",
       "      <td>Kolkata</td>\n",
       "      <td>CrazyDot</td>\n",
       "      <td>Gagan Kumar &amp; Shifona Garg</td>\n",
       "      <td>gagan kumar</td>\n",
       "      <td>shifona garg</td>\n",
       "      <td>IIT ­ PATNA</td>\n",
       "      <td>Kolkata</td>\n",
       "      <td>2k16_1</td>\n",
       "      <td>2k15_68</td>\n",
       "      <td>IIT - PATNA</td>\n",
       "      <td>Kolkata</td>\n",
       "      <td>2k16</td>\n",
       "      <td>39</td>\n",
       "      <td>41</td>\n",
       "    </tr>\n",
       "    <tr>\n",
       "      <th>16</th>\n",
       "      <td>Institute of Engg</td>\n",
       "      <td>3</td>\n",
       "      <td>Kolkata</td>\n",
       "      <td>RRecursion</td>\n",
       "      <td>Priyanjit Dey &amp; Sayantan Basu</td>\n",
       "      <td>priyanjit dey</td>\n",
       "      <td>sayantan basu</td>\n",
       "      <td>Institute of Engg</td>\n",
       "      <td>Kolkata</td>\n",
       "      <td>2k16_2</td>\n",
       "      <td>2k15_5</td>\n",
       "      <td>Institute of Engg &amp; Management, Kolkata</td>\n",
       "      <td>Kolkata</td>\n",
       "      <td>2k16</td>\n",
       "      <td>7905</td>\n",
       "      <td>11358</td>\n",
       "    </tr>\n",
       "    <tr>\n",
       "      <th>110</th>\n",
       "      <td>nit patna</td>\n",
       "      <td>4</td>\n",
       "      <td>Kolkata</td>\n",
       "      <td>knowsnoalgo</td>\n",
       "      <td>Ranjan Kumar &amp; Abhishek Kumar</td>\n",
       "      <td>ranjan kumar</td>\n",
       "      <td>abhishek kumar</td>\n",
       "      <td>nit patna</td>\n",
       "      <td>Kolkata</td>\n",
       "      <td>2k16_3</td>\n",
       "      <td>2k16_3</td>\n",
       "      <td>nit patna</td>\n",
       "      <td>Kolkata</td>\n",
       "      <td>2k16</td>\n",
       "      <td>7987</td>\n",
       "      <td>11439</td>\n",
       "    </tr>\n",
       "    <tr>\n",
       "      <th>111</th>\n",
       "      <td>Indian Institute Of Technology, Hyderabad</td>\n",
       "      <td>5</td>\n",
       "      <td>Hyderabad</td>\n",
       "      <td>voidcoders</td>\n",
       "      <td>Shubham Matta &amp; Yash Pitroda</td>\n",
       "      <td>shubham matta</td>\n",
       "      <td>yash pitroda</td>\n",
       "      <td>Indian Institute Of Technology, Hyderabad</td>\n",
       "      <td>Hyderabad</td>\n",
       "      <td>2k16_4</td>\n",
       "      <td>2k15_380</td>\n",
       "      <td>Indian Institute Of Technology, Hyderabad</td>\n",
       "      <td>Hyderabad</td>\n",
       "      <td>2k16</td>\n",
       "      <td>7988</td>\n",
       "      <td>28</td>\n",
       "    </tr>\n",
       "    <tr>\n",
       "      <th>112</th>\n",
       "      <td>Indian Institute Of Technology, Hyderabad</td>\n",
       "      <td>6</td>\n",
       "      <td>Hyderabad</td>\n",
       "      <td>es732</td>\n",
       "      <td>Trishal Gayam &amp; Karthik Mudda</td>\n",
       "      <td>trishal gayam</td>\n",
       "      <td>karthik mudda</td>\n",
       "      <td>Indian Institute Of Technology, Hyderabad</td>\n",
       "      <td>Hyderabad</td>\n",
       "      <td>2k16_4</td>\n",
       "      <td>2k15_380</td>\n",
       "      <td>Indian Institute Of Technology, Hyderabad</td>\n",
       "      <td>Hyderabad</td>\n",
       "      <td>2k16</td>\n",
       "      <td>24</td>\n",
       "      <td>30</td>\n",
       "    </tr>\n",
       "    <tr>\n",
       "      <th>130</th>\n",
       "      <td>Walchand College of Eng., Sangli</td>\n",
       "      <td>7</td>\n",
       "      <td>Pune</td>\n",
       "      <td>Daisy Duck</td>\n",
       "      <td>Aniket Ghanawat &amp; Priti Danawale</td>\n",
       "      <td>aniket ghanawat</td>\n",
       "      <td>priti danawale</td>\n",
       "      <td>Walchand College of Eng., Sangli</td>\n",
       "      <td>Pune</td>\n",
       "      <td>2k16_5</td>\n",
       "      <td>2k15_21</td>\n",
       "      <td>Walchand College of Eng., Sangli</td>\n",
       "      <td>Pune</td>\n",
       "      <td>2k16</td>\n",
       "      <td>7999</td>\n",
       "      <td>11453</td>\n",
       "    </tr>\n",
       "    <tr>\n",
       "      <th>164</th>\n",
       "      <td>KITS COLLEGE OF ENGG., KOLHAPUR</td>\n",
       "      <td>8</td>\n",
       "      <td>Pune</td>\n",
       "      <td>hachi</td>\n",
       "      <td>Digvijay Chougale &amp; Nitin Patil</td>\n",
       "      <td>digvijay chougale</td>\n",
       "      <td>nitin patil</td>\n",
       "      <td>KITS COLLEGE OF ENGG., KOLHAPUR</td>\n",
       "      <td>Pune</td>\n",
       "      <td>2k16_6</td>\n",
       "      <td>2k15_341</td>\n",
       "      <td>KITS COLLEGE OF ENGG., KOLHAPUR</td>\n",
       "      <td>Pune</td>\n",
       "      <td>2k16</td>\n",
       "      <td>7546</td>\n",
       "      <td>11484</td>\n",
       "    </tr>\n",
       "    <tr>\n",
       "      <th>166</th>\n",
       "      <td>Dharamsinh Desai Instt. of Tech., Nadiad</td>\n",
       "      <td>9</td>\n",
       "      <td>Ahmedabad</td>\n",
       "      <td>CodeCrunchers</td>\n",
       "      <td>Abhishek Patel &amp; Jasmin Valgotar</td>\n",
       "      <td>abhishek patel</td>\n",
       "      <td>jasmin valgotar</td>\n",
       "      <td>Dharamsinh Desai Instt. of Tech., Nadiad</td>\n",
       "      <td>Ahmedabad</td>\n",
       "      <td>2k16_7</td>\n",
       "      <td>2k15_50</td>\n",
       "      <td>Dharamsinh Desai Instt. of Tech., Nadiad</td>\n",
       "      <td>Ahmedabad</td>\n",
       "      <td>2k16</td>\n",
       "      <td>3103</td>\n",
       "      <td>5864</td>\n",
       "    </tr>\n",
       "    <tr>\n",
       "      <th>215</th>\n",
       "      <td>Cochin Univ. of Science</td>\n",
       "      <td>10</td>\n",
       "      <td>Trivandrum</td>\n",
       "      <td>LastTheorem</td>\n",
       "      <td>Shubham Kashyap &amp; Arvind Nair</td>\n",
       "      <td>shubham kashyap</td>\n",
       "      <td>arvind nair</td>\n",
       "      <td>Cochin Univ. of Science</td>\n",
       "      <td>Trivandrum</td>\n",
       "      <td>2k16_8</td>\n",
       "      <td>2k15_235</td>\n",
       "      <td>Cochin Univ. of Science &amp; Tech., Cochin</td>\n",
       "      <td>Trivandrum</td>\n",
       "      <td>2k16</td>\n",
       "      <td>7205</td>\n",
       "      <td>11516</td>\n",
       "    </tr>\n",
       "  </tbody>\n",
       "</table>\n",
       "</div>"
      ],
      "text/plain": [
       "                     college_name_prerectified  round1_rank  \\\n",
       "0              Kalyani Govt. Engg. College, WB            1   \n",
       "12                                 IIT ­ PATNA            2   \n",
       "16                           Institute of Engg            3   \n",
       "110                                  nit patna            4   \n",
       "111  Indian Institute Of Technology, Hyderabad            5   \n",
       "112  Indian Institute Of Technology, Hyderabad            6   \n",
       "130           Walchand College of Eng., Sangli            7   \n",
       "164            KITS COLLEGE OF ENGG., KOLHAPUR            8   \n",
       "166   Dharamsinh Desai Instt. of Tech., Nadiad            9   \n",
       "215                    Cochin Univ. of Science           10   \n",
       "\n",
       "    tcs_region_prerectified      team_name                         user_name  \\\n",
       "0                   Kolkata   kgeccoders11        Soumik Sarkar & Subham Das   \n",
       "12                  Kolkata       CrazyDot        Gagan Kumar & Shifona Garg   \n",
       "16                  Kolkata     RRecursion     Priyanjit Dey & Sayantan Basu   \n",
       "110                 Kolkata    knowsnoalgo     Ranjan Kumar & Abhishek Kumar   \n",
       "111               Hyderabad     voidcoders      Shubham Matta & Yash Pitroda   \n",
       "112               Hyderabad          es732     Trishal Gayam & Karthik Mudda   \n",
       "130                    Pune     Daisy Duck  Aniket Ghanawat & Priti Danawale   \n",
       "164                    Pune          hachi   Digvijay Chougale & Nitin Patil   \n",
       "166               Ahmedabad  CodeCrunchers  Abhishek Patel & Jasmin Valgotar   \n",
       "215              Trivandrum    LastTheorem     Shubham Kashyap & Arvind Nair   \n",
       "\n",
       "                user_1           user_2  \\\n",
       "0        soumik sarkar       subham das   \n",
       "12         gagan kumar     shifona garg   \n",
       "16       priyanjit dey    sayantan basu   \n",
       "110       ranjan kumar   abhishek kumar   \n",
       "111      shubham matta     yash pitroda   \n",
       "112      trishal gayam    karthik mudda   \n",
       "130    aniket ghanawat   priti danawale   \n",
       "164  digvijay chougale      nitin patil   \n",
       "166     abhishek patel  jasmin valgotar   \n",
       "215    shubham kashyap      arvind nair   \n",
       "\n",
       "                                  college_name  tcs_region mod_index  \\\n",
       "0              Kalyani Govt. Engg. College, WB     Kolkata    2k16_0   \n",
       "12                                 IIT ­ PATNA     Kolkata    2k16_1   \n",
       "16                           Institute of Engg     Kolkata    2k16_2   \n",
       "110                                  nit patna     Kolkata    2k16_3   \n",
       "111  Indian Institute Of Technology, Hyderabad   Hyderabad    2k16_4   \n",
       "112  Indian Institute Of Technology, Hyderabad   Hyderabad    2k16_4   \n",
       "130           Walchand College of Eng., Sangli        Pune    2k16_5   \n",
       "164            KITS COLLEGE OF ENGG., KOLHAPUR        Pune    2k16_6   \n",
       "166   Dharamsinh Desai Instt. of Tech., Nadiad   Ahmedabad    2k16_7   \n",
       "215                    Cochin Univ. of Science  Trivandrum    2k16_8   \n",
       "\n",
       "    master_mod_index                        college_name_master  \\\n",
       "0            2k15_24            Kalyani Govt. Engg. College, WB   \n",
       "12           2k15_68                                IIT - PATNA   \n",
       "16            2k15_5    Institute of Engg & Management, Kolkata   \n",
       "110           2k16_3                                  nit patna   \n",
       "111         2k15_380  Indian Institute Of Technology, Hyderabad   \n",
       "112         2k15_380  Indian Institute Of Technology, Hyderabad   \n",
       "130          2k15_21           Walchand College of Eng., Sangli   \n",
       "164         2k15_341            KITS COLLEGE OF ENGG., KOLHAPUR   \n",
       "166          2k15_50   Dharamsinh Desai Instt. of Tech., Nadiad   \n",
       "215         2k15_235    Cochin Univ. of Science & Tech., Cochin   \n",
       "\n",
       "    tcs_region_master  year  id_user1  id_user2  \n",
       "0             Kolkata  2k16      1024      1037  \n",
       "12            Kolkata  2k16        39        41  \n",
       "16            Kolkata  2k16      7905     11358  \n",
       "110           Kolkata  2k16      7987     11439  \n",
       "111         Hyderabad  2k16      7988        28  \n",
       "112         Hyderabad  2k16        24        30  \n",
       "130              Pune  2k16      7999     11453  \n",
       "164              Pune  2k16      7546     11484  \n",
       "166         Ahmedabad  2k16      3103      5864  \n",
       "215        Trivandrum  2k16      7205     11516  "
      ]
     },
     "execution_count": 79,
     "metadata": {},
     "output_type": "execute_result"
    }
   ],
   "source": [
    "results_2k16_df.head(10)"
   ]
  },
  {
   "cell_type": "markdown",
   "metadata": {},
   "source": [
    "Among the results, we can see that IIT Hyderabad has 2 entries in the top 10"
   ]
  },
  {
   "cell_type": "code",
   "execution_count": 80,
   "metadata": {
    "scrolled": false
   },
   "outputs": [
    {
     "data": {
      "text/html": [
       "<div>\n",
       "<table border=\"1\" class=\"dataframe\">\n",
       "  <thead>\n",
       "    <tr style=\"text-align: right;\">\n",
       "      <th></th>\n",
       "      <th>college_name</th>\n",
       "      <th>problems_solved</th>\n",
       "      <th>round1_rank</th>\n",
       "      <th>user1</th>\n",
       "      <th>zonal_name</th>\n",
       "      <th>zonal_rank</th>\n",
       "      <th>mod_index</th>\n",
       "      <th>master_mod_index</th>\n",
       "      <th>college_name_master</th>\n",
       "      <th>tcs_region_master</th>\n",
       "      <th>year</th>\n",
       "      <th>id_user1</th>\n",
       "    </tr>\n",
       "  </thead>\n",
       "  <tbody>\n",
       "    <tr>\n",
       "      <th>0</th>\n",
       "      <td>Dhirubhai Ambani Inst of Information &amp; Communi...</td>\n",
       "      <td>6</td>\n",
       "      <td>1</td>\n",
       "      <td>mohib manva</td>\n",
       "      <td>zone1</td>\n",
       "      <td>1</td>\n",
       "      <td>2k17_96</td>\n",
       "      <td>2k15_234</td>\n",
       "      <td>Dhirubhai Ambani Inst of Information &amp; Communi...</td>\n",
       "      <td>Ahmedabad</td>\n",
       "      <td>2k17</td>\n",
       "      <td>0</td>\n",
       "    </tr>\n",
       "    <tr>\n",
       "      <th>1</th>\n",
       "      <td>Dhirubhai Ambani Inst of Information &amp; Communi...</td>\n",
       "      <td>6</td>\n",
       "      <td>2</td>\n",
       "      <td>sagar savaliya</td>\n",
       "      <td>zone1</td>\n",
       "      <td>2</td>\n",
       "      <td>2k17_96</td>\n",
       "      <td>2k15_234</td>\n",
       "      <td>Dhirubhai Ambani Inst of Information &amp; Communi...</td>\n",
       "      <td>Ahmedabad</td>\n",
       "      <td>2k17</td>\n",
       "      <td>1</td>\n",
       "    </tr>\n",
       "    <tr>\n",
       "      <th>19</th>\n",
       "      <td>Indian Institute Of Technology, Hyderabad</td>\n",
       "      <td>6</td>\n",
       "      <td>3</td>\n",
       "      <td>vinod devanaboina</td>\n",
       "      <td>zone2</td>\n",
       "      <td>1</td>\n",
       "      <td>2k17_188</td>\n",
       "      <td>2k15_380</td>\n",
       "      <td>Indian Institute Of Technology, Hyderabad</td>\n",
       "      <td>Hyderabad</td>\n",
       "      <td>2k17</td>\n",
       "      <td>19</td>\n",
       "    </tr>\n",
       "    <tr>\n",
       "      <th>32</th>\n",
       "      <td>School of IT, Guru Gobind Indraprastha Univ, D...</td>\n",
       "      <td>6</td>\n",
       "      <td>4</td>\n",
       "      <td>vikram panwar</td>\n",
       "      <td>zone3</td>\n",
       "      <td>1</td>\n",
       "      <td>2k17_395</td>\n",
       "      <td>2k15_232</td>\n",
       "      <td>School of IT, Guru Gobind Indraprastha Univ, D...</td>\n",
       "      <td>Delhi</td>\n",
       "      <td>2k17</td>\n",
       "      <td>32</td>\n",
       "    </tr>\n",
       "    <tr>\n",
       "      <th>39</th>\n",
       "      <td>IIT - PATNA</td>\n",
       "      <td>5</td>\n",
       "      <td>5</td>\n",
       "      <td>gagan kumar</td>\n",
       "      <td>zone3</td>\n",
       "      <td>2</td>\n",
       "      <td>2k17_174</td>\n",
       "      <td>2k15_68</td>\n",
       "      <td>IIT - PATNA</td>\n",
       "      <td>Kolkata</td>\n",
       "      <td>2k17</td>\n",
       "      <td>39</td>\n",
       "    </tr>\n",
       "    <tr>\n",
       "      <th>42</th>\n",
       "      <td>Harcourt Butler Technological Institute, Kanpur</td>\n",
       "      <td>5</td>\n",
       "      <td>6</td>\n",
       "      <td>yash chhabra</td>\n",
       "      <td>zone3</td>\n",
       "      <td>3</td>\n",
       "      <td>2k17_162</td>\n",
       "      <td>2k15_519</td>\n",
       "      <td>Harcourt Butler Technological Institute, Kanpur</td>\n",
       "      <td>Lucknow</td>\n",
       "      <td>2k17</td>\n",
       "      <td>42</td>\n",
       "    </tr>\n",
       "    <tr>\n",
       "      <th>49</th>\n",
       "      <td>Indian Institute of Engineering Science and Te...</td>\n",
       "      <td>5</td>\n",
       "      <td>7</td>\n",
       "      <td>arnab deb</td>\n",
       "      <td>zone3</td>\n",
       "      <td>4</td>\n",
       "      <td>2k17_189</td>\n",
       "      <td>2k16_130</td>\n",
       "      <td>Indian Institute of Engineering Science and Te...</td>\n",
       "      <td>Kolkata</td>\n",
       "      <td>2k17</td>\n",
       "      <td>49</td>\n",
       "    </tr>\n",
       "    <tr>\n",
       "      <th>20</th>\n",
       "      <td>Indian Institute Of Technology, Hyderabad</td>\n",
       "      <td>5</td>\n",
       "      <td>8</td>\n",
       "      <td>nithin auyileni</td>\n",
       "      <td>zone2</td>\n",
       "      <td>2</td>\n",
       "      <td>2k17_188</td>\n",
       "      <td>2k15_380</td>\n",
       "      <td>Indian Institute Of Technology, Hyderabad</td>\n",
       "      <td>Hyderabad</td>\n",
       "      <td>2k17</td>\n",
       "      <td>20</td>\n",
       "    </tr>\n",
       "    <tr>\n",
       "      <th>52</th>\n",
       "      <td>IIIT, Hyderabad</td>\n",
       "      <td>5</td>\n",
       "      <td>9</td>\n",
       "      <td>chaitanya alaparthi</td>\n",
       "      <td>zone2</td>\n",
       "      <td>3</td>\n",
       "      <td>2k17_168</td>\n",
       "      <td>2k16_23</td>\n",
       "      <td>IIIT, Hyderabad</td>\n",
       "      <td>Hyderabad</td>\n",
       "      <td>2k17</td>\n",
       "      <td>52</td>\n",
       "    </tr>\n",
       "    <tr>\n",
       "      <th>60</th>\n",
       "      <td>Indian School of Mines, Dhanbad</td>\n",
       "      <td>5</td>\n",
       "      <td>10</td>\n",
       "      <td>vishal kumar</td>\n",
       "      <td>zone3</td>\n",
       "      <td>5</td>\n",
       "      <td>2k17_194</td>\n",
       "      <td>2k15_14</td>\n",
       "      <td>Indian School of Mines, Dhanbad</td>\n",
       "      <td>Kolkata</td>\n",
       "      <td>2k17</td>\n",
       "      <td>60</td>\n",
       "    </tr>\n",
       "  </tbody>\n",
       "</table>\n",
       "</div>"
      ],
      "text/plain": [
       "                                         college_name  problems_solved  \\\n",
       "0   Dhirubhai Ambani Inst of Information & Communi...                6   \n",
       "1   Dhirubhai Ambani Inst of Information & Communi...                6   \n",
       "19          Indian Institute Of Technology, Hyderabad                6   \n",
       "32  School of IT, Guru Gobind Indraprastha Univ, D...                6   \n",
       "39                                        IIT - PATNA                5   \n",
       "42    Harcourt Butler Technological Institute, Kanpur                5   \n",
       "49  Indian Institute of Engineering Science and Te...                5   \n",
       "20          Indian Institute Of Technology, Hyderabad                5   \n",
       "52                                    IIIT, Hyderabad                5   \n",
       "60                    Indian School of Mines, Dhanbad                5   \n",
       "\n",
       "    round1_rank                user1 zonal_name  zonal_rank mod_index  \\\n",
       "0             1          mohib manva      zone1           1   2k17_96   \n",
       "1             2       sagar savaliya      zone1           2   2k17_96   \n",
       "19            3    vinod devanaboina      zone2           1  2k17_188   \n",
       "32            4        vikram panwar      zone3           1  2k17_395   \n",
       "39            5          gagan kumar      zone3           2  2k17_174   \n",
       "42            6         yash chhabra      zone3           3  2k17_162   \n",
       "49            7            arnab deb      zone3           4  2k17_189   \n",
       "20            8      nithin auyileni      zone2           2  2k17_188   \n",
       "52            9  chaitanya alaparthi      zone2           3  2k17_168   \n",
       "60           10         vishal kumar      zone3           5  2k17_194   \n",
       "\n",
       "   master_mod_index                                college_name_master  \\\n",
       "0          2k15_234  Dhirubhai Ambani Inst of Information & Communi...   \n",
       "1          2k15_234  Dhirubhai Ambani Inst of Information & Communi...   \n",
       "19         2k15_380          Indian Institute Of Technology, Hyderabad   \n",
       "32         2k15_232  School of IT, Guru Gobind Indraprastha Univ, D...   \n",
       "39          2k15_68                                        IIT - PATNA   \n",
       "42         2k15_519    Harcourt Butler Technological Institute, Kanpur   \n",
       "49         2k16_130  Indian Institute of Engineering Science and Te...   \n",
       "20         2k15_380          Indian Institute Of Technology, Hyderabad   \n",
       "52          2k16_23                                    IIIT, Hyderabad   \n",
       "60          2k15_14                    Indian School of Mines, Dhanbad   \n",
       "\n",
       "   tcs_region_master  year  id_user1  \n",
       "0          Ahmedabad  2k17         0  \n",
       "1          Ahmedabad  2k17         1  \n",
       "19         Hyderabad  2k17        19  \n",
       "32             Delhi  2k17        32  \n",
       "39           Kolkata  2k17        39  \n",
       "42           Lucknow  2k17        42  \n",
       "49           Kolkata  2k17        49  \n",
       "20         Hyderabad  2k17        20  \n",
       "52         Hyderabad  2k17        52  \n",
       "60           Kolkata  2k17        60  "
      ]
     },
     "execution_count": 80,
     "metadata": {},
     "output_type": "execute_result"
    }
   ],
   "source": [
    "results_2k17_df.head(10)"
   ]
  },
  {
   "cell_type": "markdown",
   "metadata": {},
   "source": [
    "Among the top 10 for 2k17, we can see that both \"Dhirubhai Ambani Inst. of Information and Comm. Technology\" and \"Indian Institute of Technology\" has 2 entries"
   ]
  },
  {
   "cell_type": "markdown",
   "metadata": {},
   "source": [
    "#### Histogram of count of college wise participation"
   ]
  },
  {
   "cell_type": "code",
   "execution_count": 81,
   "metadata": {},
   "outputs": [
    {
     "name": "stdout",
     "output_type": "stream",
     "text": [
      "2k15    402\n",
      "2k16    287\n",
      "2k17    460\n",
      "dtype: int64\n"
     ]
    },
    {
     "data": {
      "text/html": [
       "<div>\n",
       "<table border=\"1\" class=\"dataframe\">\n",
       "  <thead>\n",
       "    <tr style=\"text-align: right;\">\n",
       "      <th></th>\n",
       "      <th></th>\n",
       "      <th>2k15</th>\n",
       "      <th>2k16</th>\n",
       "      <th>2k17</th>\n",
       "    </tr>\n",
       "    <tr>\n",
       "      <th>master_mod_index</th>\n",
       "      <th>college_name_master</th>\n",
       "      <th></th>\n",
       "      <th></th>\n",
       "      <th></th>\n",
       "    </tr>\n",
       "  </thead>\n",
       "  <tbody>\n",
       "    <tr>\n",
       "      <th>2k15_0</th>\n",
       "      <th>Srm Engineering College., Kattankulathur</th>\n",
       "      <td>7.0</td>\n",
       "      <td>22.0</td>\n",
       "      <td>3.0</td>\n",
       "    </tr>\n",
       "    <tr>\n",
       "      <th>2k15_1</th>\n",
       "      <th>Army Institute of Technology,Pune University, Pune</th>\n",
       "      <td>28.0</td>\n",
       "      <td>24.0</td>\n",
       "      <td>16.0</td>\n",
       "    </tr>\n",
       "    <tr>\n",
       "      <th>2k15_10</th>\n",
       "      <th>Shri Ram Swaroop Memorial College of Engineering &amp; Management, Lucknow</th>\n",
       "      <td>13.0</td>\n",
       "      <td>24.0</td>\n",
       "      <td>7.0</td>\n",
       "    </tr>\n",
       "    <tr>\n",
       "      <th>2k15_100</th>\n",
       "      <th>RVR &amp; JC Collee of Engineering,Guntur, AP</th>\n",
       "      <td>6.0</td>\n",
       "      <td>1.0</td>\n",
       "      <td>NaN</td>\n",
       "    </tr>\n",
       "    <tr>\n",
       "      <th>2k15_101</th>\n",
       "      <th>IIT - Kanpur</th>\n",
       "      <td>3.0</td>\n",
       "      <td>NaN</td>\n",
       "      <td>NaN</td>\n",
       "    </tr>\n",
       "  </tbody>\n",
       "</table>\n",
       "</div>"
      ],
      "text/plain": [
       "                                                                     2k15  \\\n",
       "master_mod_index college_name_master                                        \n",
       "2k15_0           Srm Engineering College., Kattankulathur             7.0   \n",
       "2k15_1           Army Institute of Technology,Pune University, Pune  28.0   \n",
       "2k15_10          Shri Ram Swaroop Memorial College of Engineerin...  13.0   \n",
       "2k15_100         RVR & JC Collee of Engineering,Guntur, AP            6.0   \n",
       "2k15_101         IIT - Kanpur                                         3.0   \n",
       "\n",
       "                                                                     2k16  \\\n",
       "master_mod_index college_name_master                                        \n",
       "2k15_0           Srm Engineering College., Kattankulathur            22.0   \n",
       "2k15_1           Army Institute of Technology,Pune University, Pune  24.0   \n",
       "2k15_10          Shri Ram Swaroop Memorial College of Engineerin...  24.0   \n",
       "2k15_100         RVR & JC Collee of Engineering,Guntur, AP            1.0   \n",
       "2k15_101         IIT - Kanpur                                         NaN   \n",
       "\n",
       "                                                                     2k17  \n",
       "master_mod_index college_name_master                                       \n",
       "2k15_0           Srm Engineering College., Kattankulathur             3.0  \n",
       "2k15_1           Army Institute of Technology,Pune University, Pune  16.0  \n",
       "2k15_10          Shri Ram Swaroop Memorial College of Engineerin...   7.0  \n",
       "2k15_100         RVR & JC Collee of Engineering,Guntur, AP            NaN  \n",
       "2k15_101         IIT - Kanpur                                         NaN  "
      ]
     },
     "execution_count": 81,
     "metadata": {},
     "output_type": "execute_result"
    }
   ],
   "source": [
    "results_year_wise_college_wise_result_count_df=pd.DataFrame({'2k17':results_2k17_college_wise_result_count,'2k16':results_2k16_college_wise_result_count,'2k15':results_2k15_college_wise_result_count})\n",
    "print(results_year_wise_college_wise_result_count_df.isnull().sum())\n",
    "assert results_year_wise_college_wise_result_count_df.index.levels[0].shape[0]==results_year_wise_college_wise_result_count_df.index.levels[0].unique().shape[0] #Asserting that no duplicate master_mod_index exists in the df\n",
    "results_year_wise_college_wise_result_count_df.head()"
   ]
  },
  {
   "cell_type": "code",
   "execution_count": 82,
   "metadata": {},
   "outputs": [
    {
     "data": {
      "text/plain": [
       "2k15    0\n",
       "2k16    0\n",
       "2k17    0\n",
       "dtype: int64"
      ]
     },
     "execution_count": 82,
     "metadata": {},
     "output_type": "execute_result"
    }
   ],
   "source": [
    "results_year_wise_college_wise_result_count_df=results_year_wise_college_wise_result_count_df.fillna(0)\n",
    "results_year_wise_college_wise_result_count_df.isnull().sum()"
   ]
  },
  {
   "cell_type": "code",
   "execution_count": 83,
   "metadata": {},
   "outputs": [
    {
     "data": {
      "text/html": [
       "<div>\n",
       "<table border=\"1\" class=\"dataframe\">\n",
       "  <thead>\n",
       "    <tr style=\"text-align: right;\">\n",
       "      <th></th>\n",
       "      <th>2k15</th>\n",
       "      <th>2k16</th>\n",
       "      <th>2k17</th>\n",
       "    </tr>\n",
       "  </thead>\n",
       "  <tbody>\n",
       "    <tr>\n",
       "      <th>count</th>\n",
       "      <td>934.000000</td>\n",
       "      <td>934.000000</td>\n",
       "      <td>934.000000</td>\n",
       "    </tr>\n",
       "    <tr>\n",
       "      <th>mean</th>\n",
       "      <td>3.013919</td>\n",
       "      <td>4.427195</td>\n",
       "      <td>2.550321</td>\n",
       "    </tr>\n",
       "    <tr>\n",
       "      <th>std</th>\n",
       "      <td>6.545645</td>\n",
       "      <td>9.479744</td>\n",
       "      <td>6.152156</td>\n",
       "    </tr>\n",
       "    <tr>\n",
       "      <th>min</th>\n",
       "      <td>0.000000</td>\n",
       "      <td>0.000000</td>\n",
       "      <td>0.000000</td>\n",
       "    </tr>\n",
       "    <tr>\n",
       "      <th>25%</th>\n",
       "      <td>0.000000</td>\n",
       "      <td>0.000000</td>\n",
       "      <td>0.000000</td>\n",
       "    </tr>\n",
       "    <tr>\n",
       "      <th>50%</th>\n",
       "      <td>1.000000</td>\n",
       "      <td>1.000000</td>\n",
       "      <td>1.000000</td>\n",
       "    </tr>\n",
       "    <tr>\n",
       "      <th>75%</th>\n",
       "      <td>3.000000</td>\n",
       "      <td>4.000000</td>\n",
       "      <td>2.000000</td>\n",
       "    </tr>\n",
       "    <tr>\n",
       "      <th>max</th>\n",
       "      <td>73.000000</td>\n",
       "      <td>94.000000</td>\n",
       "      <td>71.000000</td>\n",
       "    </tr>\n",
       "  </tbody>\n",
       "</table>\n",
       "</div>"
      ],
      "text/plain": [
       "             2k15        2k16        2k17\n",
       "count  934.000000  934.000000  934.000000\n",
       "mean     3.013919    4.427195    2.550321\n",
       "std      6.545645    9.479744    6.152156\n",
       "min      0.000000    0.000000    0.000000\n",
       "25%      0.000000    0.000000    0.000000\n",
       "50%      1.000000    1.000000    1.000000\n",
       "75%      3.000000    4.000000    2.000000\n",
       "max     73.000000   94.000000   71.000000"
      ]
     },
     "execution_count": 83,
     "metadata": {},
     "output_type": "execute_result"
    }
   ],
   "source": [
    "results_year_wise_college_wise_result_count_df.describe()"
   ]
  },
  {
   "cell_type": "code",
   "execution_count": 84,
   "metadata": {},
   "outputs": [
    {
     "data": {
      "image/png": "[encoded data removed]",
      "text/plain": [
       "<matplotlib.figure.Figure at 0x221c4f76c18>"
      ]
     },
     "metadata": {},
     "output_type": "display_data"
    }
   ],
   "source": [
    "results_year_wise_college_wise_result_count_df.plot.hist(bins=100)\n",
    "plt.axis([1,90,0,275]) #NaN datapoints have been excluded(filled with 0) and thus the x axis is starting from 1\n",
    "plt.title('College Wise Participation Histogram'); #Data shown below"
   ]
  },
  {
   "cell_type": "code",
   "execution_count": 85,
   "metadata": {
    "scrolled": true
   },
   "outputs": [
    {
     "name": "stdout",
     "output_type": "stream",
     "text": [
      "2k15:\n",
      "0.0     402\n",
      "1.0     208\n",
      "2.0      67\n",
      "3.0      51\n",
      "4.0      34\n",
      "5.0      32\n",
      "6.0      23\n",
      "7.0      19\n",
      "8.0      16\n",
      "12.0     10\n",
      "11.0      8\n",
      "13.0      8\n",
      "9.0       7\n",
      "19.0      5\n",
      "16.0      4\n",
      "28.0      4\n",
      "24.0      4\n",
      "21.0      3\n",
      "25.0      3\n",
      "22.0      3\n",
      "Name: 2k15, dtype: int64\n",
      "2k16:\n",
      "0.0     287\n",
      "1.0     261\n",
      "2.0      90\n",
      "3.0      55\n",
      "4.0      33\n",
      "5.0      26\n",
      "6.0      18\n",
      "7.0      17\n",
      "9.0      15\n",
      "8.0      14\n",
      "11.0     10\n",
      "19.0      9\n",
      "17.0      7\n",
      "18.0      7\n",
      "12.0      6\n",
      "10.0      6\n",
      "14.0      6\n",
      "13.0      6\n",
      "15.0      6\n",
      "16.0      5\n",
      "Name: 2k16, dtype: int64\n",
      "2k17:\n"
     ]
    },
    {
     "data": {
      "text/plain": [
       "0.0     460\n",
       "1.0     207\n",
       "2.0      63\n",
       "3.0      45\n",
       "4.0      20\n",
       "6.0      20\n",
       "5.0      19\n",
       "7.0      18\n",
       "14.0     10\n",
       "8.0       8\n",
       "11.0      7\n",
       "13.0      6\n",
       "10.0      5\n",
       "9.0       4\n",
       "16.0      4\n",
       "30.0      4\n",
       "18.0      4\n",
       "12.0      4\n",
       "15.0      4\n",
       "19.0      3\n",
       "Name: 2k17, dtype: int64"
      ]
     },
     "execution_count": 85,
     "metadata": {},
     "output_type": "execute_result"
    }
   ],
   "source": [
    "#Data for the above figure (only top 20 datapoints for each year are shown since beyond that, its negligible)\n",
    "print(\"2k15:\")\n",
    "print(results_year_wise_college_wise_result_count_df['2k15'].value_counts().head(20))\n",
    "print(\"2k16:\")\n",
    "print(results_year_wise_college_wise_result_count_df['2k16'].value_counts().head(20))\n",
    "print(\"2k17:\")\n",
    "results_year_wise_college_wise_result_count_df['2k17'].value_counts().head(20)"
   ]
  },
  {
   "cell_type": "code",
   "execution_count": 86,
   "metadata": {},
   "outputs": [
    {
     "data": {
      "text/plain": [
       "(0.39097744360902253, 0.40340030911901081, 0.43670886075949367)"
      ]
     },
     "execution_count": 86,
     "metadata": {},
     "output_type": "execute_result"
    }
   ],
   "source": [
    "#Percentage of colleges which have just 1 participant\n",
    "(results_year_wise_college_wise_result_count_df['2k15'].value_counts()[1]/results_2k15_college_wise_result_count.shape[0], results_year_wise_college_wise_result_count_df['2k16'].value_counts()[1]/results_2k16_college_wise_result_count.shape[0], results_year_wise_college_wise_result_count_df['2k17'].value_counts()[1]/results_2k17_college_wise_result_count.shape[0])"
   ]
  },
  {
   "cell_type": "markdown",
   "metadata": {},
   "source": [
    "So from the above histogram and the calculations, we can see that most of the colleges have less than 20 participants. Infact most of the colleges have just 1 participant (near 40% for all three years)."
   ]
  },
  {
   "cell_type": "markdown",
   "metadata": {},
   "source": [
    "#### Calculating cumulative frequency of college wise participation\n",
    "We will also try to check whether [Pareto Principle](https://en.wikipedia.org/wiki/Pareto_principle) is valid here."
   ]
  },
  {
   "cell_type": "code",
   "execution_count": 87,
   "metadata": {},
   "outputs": [
    {
     "name": "stdout",
     "output_type": "stream",
     "text": [
      "0.199248    0.642629\n",
      "0.201128    0.645115\n",
      "Name: master_mod_index, dtype: float64\n"
     ]
    },
    {
     "data": {
      "image/png": "[encoded data removed]",
      "text/plain": [
       "<matplotlib.figure.Figure at 0x221c4e1edd8>"
      ]
     },
     "metadata": {},
     "output_type": "display_data"
    }
   ],
   "source": [
    "#For 2k15\n",
    "results_2k15_college_wise_result_count_cumsum=results_2k15_college_wise_result_count.cumsum().reset_index(drop=True)\n",
    "results_2k15_college_wise_result_count_cumsum.index=(results_2k15_college_wise_result_count_cumsum.index+1)/results_2k15_college_wise_result_count_cumsum.shape[0]\n",
    "cum_total=results_2k15_college_wise_result_count_cumsum.iloc[-1]\n",
    "results_2k15_college_wise_result_count_cumsum=results_2k15_college_wise_result_count_cumsum/cum_total\n",
    "print(results_2k15_college_wise_result_count_cumsum[(results_2k15_college_wise_result_count_cumsum.index>0.198) & (results_2k15_college_wise_result_count_cumsum.index<0.202)])\n",
    "results_2k15_college_wise_result_count_cumsum.plot()\n",
    "plt.title('Cumulative frequency of colleges vs number of participants for 2k15');"
   ]
  },
  {
   "cell_type": "code",
   "execution_count": 88,
   "metadata": {},
   "outputs": [
    {
     "name": "stdout",
     "output_type": "stream",
     "text": [
      "0.199382    0.699395\n",
      "0.200927    0.701572\n",
      "Name: master_mod_index, dtype: float64\n"
     ]
    },
    {
     "data": {
      "image/png": "[encoded data removed]",
      "text/plain": [
       "<matplotlib.figure.Figure at 0x221c33ce908>"
      ]
     },
     "metadata": {},
     "output_type": "display_data"
    }
   ],
   "source": [
    "#For 2k16\n",
    "results_2k16_college_wise_result_count_cumsum=results_2k16_college_wise_result_count.cumsum().reset_index(drop=True)\n",
    "results_2k16_college_wise_result_count_cumsum.index=(results_2k16_college_wise_result_count_cumsum.index+1)/results_2k16_college_wise_result_count_cumsum.shape[0]\n",
    "cum_total=results_2k16_college_wise_result_count_cumsum.iloc[-1]\n",
    "results_2k16_college_wise_result_count_cumsum=results_2k16_college_wise_result_count_cumsum/cum_total\n",
    "print(results_2k16_college_wise_result_count_cumsum[(results_2k16_college_wise_result_count_cumsum.index>0.198) & (results_2k16_college_wise_result_count_cumsum.index<0.202)])\n",
    "results_2k16_college_wise_result_count_cumsum.plot()\n",
    "plt.title('Cumulative frequency of colleges vs number of participants for 2k16');"
   ]
  },
  {
   "cell_type": "code",
   "execution_count": 89,
   "metadata": {},
   "outputs": [
    {
     "name": "stdout",
     "output_type": "stream",
     "text": [
      "0.198312    0.662049\n",
      "0.200422    0.664987\n",
      "Name: master_mod_index, dtype: float64\n"
     ]
    },
    {
     "data": {
      "image/png": "[encoded data removed]",
      "text/plain": [
       "<matplotlib.figure.Figure at 0x221c4e24eb8>"
      ]
     },
     "metadata": {},
     "output_type": "display_data"
    }
   ],
   "source": [
    "#For 2k17\n",
    "results_2k17_college_wise_result_count_cumsum=results_2k17_college_wise_result_count.cumsum().reset_index(drop=True)\n",
    "results_2k17_college_wise_result_count_cumsum.index=(results_2k17_college_wise_result_count_cumsum.index+1)/results_2k17_college_wise_result_count_cumsum.shape[0]\n",
    "cum_total=results_2k17_college_wise_result_count_cumsum.iloc[-1]\n",
    "results_2k17_college_wise_result_count_cumsum=results_2k17_college_wise_result_count_cumsum/cum_total\n",
    "print(results_2k17_college_wise_result_count_cumsum[(results_2k17_college_wise_result_count_cumsum.index>0.198) & (results_2k17_college_wise_result_count_cumsum.index<0.202)])\n",
    "results_2k17_college_wise_result_count_cumsum.plot()\n",
    "plt.title('Cumulative frequency of colleges vs number of participants for 2k17');"
   ]
  },
  {
   "cell_type": "markdown",
   "metadata": {},
   "source": [
    "Pareto principle follows the 80% from 20% rule. However, for this we can see that for 2k15:  64.5%, for 2k16: 70.15% for 2k16, 66.2% for 2k17. Thus it again shows how most of the participation actually comes from quite a small percentage of the colleges."
   ]
  },
  {
   "cell_type": "markdown",
   "metadata": {},
   "source": [
    "#### Region wise top rank holder"
   ]
  },
  {
   "cell_type": "code",
   "execution_count": 90,
   "metadata": {},
   "outputs": [
    {
     "data": {
      "text/html": [
       "<div>\n",
       "<table border=\"1\" class=\"dataframe\">\n",
       "  <thead>\n",
       "    <tr style=\"text-align: right;\">\n",
       "      <th></th>\n",
       "      <th>master_mod_index</th>\n",
       "      <th>college_name_master</th>\n",
       "      <th>round1_rank</th>\n",
       "    </tr>\n",
       "    <tr>\n",
       "      <th>tcs_region_master</th>\n",
       "      <th></th>\n",
       "      <th></th>\n",
       "      <th></th>\n",
       "    </tr>\n",
       "  </thead>\n",
       "  <tbody>\n",
       "    <tr>\n",
       "      <th>Ahmedabad</th>\n",
       "      <td>2k15_56</td>\n",
       "      <td>L. D. College of Engineering, Ahmedabad</td>\n",
       "      <td>10</td>\n",
       "    </tr>\n",
       "    <tr>\n",
       "      <th>Bangalore</th>\n",
       "      <td>2k15_103</td>\n",
       "      <td>CMR Institute of Technology, Bangalore</td>\n",
       "      <td>11</td>\n",
       "    </tr>\n",
       "    <tr>\n",
       "      <th>Chennai</th>\n",
       "      <td>2k15_148</td>\n",
       "      <td>RAJALAKSHMI INSTITUTE OF TECHNOLOGY, CHENNAI</td>\n",
       "      <td>1</td>\n",
       "    </tr>\n",
       "    <tr>\n",
       "      <th>Delhi</th>\n",
       "      <td>2k15_17</td>\n",
       "      <td>ABES Engineering College, Delhi</td>\n",
       "      <td>6</td>\n",
       "    </tr>\n",
       "    <tr>\n",
       "      <th>Hyderabad</th>\n",
       "      <td>2k15_47</td>\n",
       "      <td>P V P Siddhartha Institute of Technology</td>\n",
       "      <td>12</td>\n",
       "    </tr>\n",
       "    <tr>\n",
       "      <th>Kolkata</th>\n",
       "      <td>2k15_51</td>\n",
       "      <td>Jalpaiguri Govt Engg College- Jalpaiguri</td>\n",
       "      <td>9</td>\n",
       "    </tr>\n",
       "    <tr>\n",
       "      <th>Lucknow</th>\n",
       "      <td>2k15_55</td>\n",
       "      <td>Kamla Nehru Institute of Technology</td>\n",
       "      <td>4</td>\n",
       "    </tr>\n",
       "    <tr>\n",
       "      <th>Mumbai</th>\n",
       "      <td>2k15_381</td>\n",
       "      <td>Rajiv Gandhi Institute of Technology, Andheri,...</td>\n",
       "      <td>2</td>\n",
       "    </tr>\n",
       "    <tr>\n",
       "      <th>Pune</th>\n",
       "      <td>2k15_516</td>\n",
       "      <td>All India Shri Shivaji Memorial Society' S COE...</td>\n",
       "      <td>34</td>\n",
       "    </tr>\n",
       "    <tr>\n",
       "      <th>Trivandrum</th>\n",
       "      <td>2k15_235</td>\n",
       "      <td>Cochin Univ. of Science &amp; Tech., Cochin</td>\n",
       "      <td>36</td>\n",
       "    </tr>\n",
       "  </tbody>\n",
       "</table>\n",
       "</div>"
      ],
      "text/plain": [
       "                  master_mod_index  \\\n",
       "tcs_region_master                    \n",
       "Ahmedabad                  2k15_56   \n",
       "Bangalore                 2k15_103   \n",
       "Chennai                   2k15_148   \n",
       "Delhi                      2k15_17   \n",
       "Hyderabad                  2k15_47   \n",
       "Kolkata                    2k15_51   \n",
       "Lucknow                    2k15_55   \n",
       "Mumbai                    2k15_381   \n",
       "Pune                      2k15_516   \n",
       "Trivandrum                2k15_235   \n",
       "\n",
       "                                                 college_name_master  \\\n",
       "tcs_region_master                                                      \n",
       "Ahmedabad                    L. D. College of Engineering, Ahmedabad   \n",
       "Bangalore                     CMR Institute of Technology, Bangalore   \n",
       "Chennai                 RAJALAKSHMI INSTITUTE OF TECHNOLOGY, CHENNAI   \n",
       "Delhi                                ABES Engineering College, Delhi   \n",
       "Hyderabad                   P V P Siddhartha Institute of Technology   \n",
       "Kolkata                     Jalpaiguri Govt Engg College- Jalpaiguri   \n",
       "Lucknow                          Kamla Nehru Institute of Technology   \n",
       "Mumbai             Rajiv Gandhi Institute of Technology, Andheri,...   \n",
       "Pune               All India Shri Shivaji Memorial Society' S COE...   \n",
       "Trivandrum                   Cochin Univ. of Science & Tech., Cochin   \n",
       "\n",
       "                   round1_rank  \n",
       "tcs_region_master               \n",
       "Ahmedabad                   10  \n",
       "Bangalore                   11  \n",
       "Chennai                      1  \n",
       "Delhi                        6  \n",
       "Hyderabad                   12  \n",
       "Kolkata                      9  \n",
       "Lucknow                      4  \n",
       "Mumbai                       2  \n",
       "Pune                        34  \n",
       "Trivandrum                  36  "
      ]
     },
     "execution_count": 90,
     "metadata": {},
     "output_type": "execute_result"
    }
   ],
   "source": [
    "#For 2k15\n",
    "results_2k15_region_wise_topper_df=results_2k15_df.groupby('tcs_region_master').first().loc[:,['master_mod_index','college_name_master','round1_rank']]\n",
    "results_2k15_region_wise_topper_df"
   ]
  },
  {
   "cell_type": "code",
   "execution_count": 91,
   "metadata": {},
   "outputs": [
    {
     "data": {
      "text/html": [
       "<div>\n",
       "<table border=\"1\" class=\"dataframe\">\n",
       "  <thead>\n",
       "    <tr style=\"text-align: right;\">\n",
       "      <th></th>\n",
       "      <th>master_mod_index</th>\n",
       "      <th>college_name_master</th>\n",
       "      <th>round1_rank</th>\n",
       "    </tr>\n",
       "    <tr>\n",
       "      <th>tcs_region_master</th>\n",
       "      <th></th>\n",
       "      <th></th>\n",
       "      <th></th>\n",
       "    </tr>\n",
       "  </thead>\n",
       "  <tbody>\n",
       "    <tr>\n",
       "      <th>Ahmedabad</th>\n",
       "      <td>2k15_50</td>\n",
       "      <td>Dharamsinh Desai Instt. of Tech., Nadiad</td>\n",
       "      <td>9</td>\n",
       "    </tr>\n",
       "    <tr>\n",
       "      <th>Bangalore</th>\n",
       "      <td>2k15_162</td>\n",
       "      <td>PES INSTITUTE OF TECHNOLOGY (PESIT), BANGALORE</td>\n",
       "      <td>40</td>\n",
       "    </tr>\n",
       "    <tr>\n",
       "      <th>Chennai</th>\n",
       "      <td>2k15_288</td>\n",
       "      <td>IIT - Madras</td>\n",
       "      <td>31</td>\n",
       "    </tr>\n",
       "    <tr>\n",
       "      <th>Delhi</th>\n",
       "      <td>2k15_17</td>\n",
       "      <td>ABES Engineering College, Delhi</td>\n",
       "      <td>19</td>\n",
       "    </tr>\n",
       "    <tr>\n",
       "      <th>Hyderabad</th>\n",
       "      <td>2k15_380</td>\n",
       "      <td>Indian Institute Of Technology, Hyderabad</td>\n",
       "      <td>5</td>\n",
       "    </tr>\n",
       "    <tr>\n",
       "      <th>Kolkata</th>\n",
       "      <td>2k15_24</td>\n",
       "      <td>Kalyani Govt. Engg. College, WB</td>\n",
       "      <td>1</td>\n",
       "    </tr>\n",
       "    <tr>\n",
       "      <th>Lucknow</th>\n",
       "      <td>2k15_85</td>\n",
       "      <td>Institute of Engg. Technology, Lucknow</td>\n",
       "      <td>11</td>\n",
       "    </tr>\n",
       "    <tr>\n",
       "      <th>Mumbai</th>\n",
       "      <td>2k16_13</td>\n",
       "      <td>Vidya Vardhini COE</td>\n",
       "      <td>17</td>\n",
       "    </tr>\n",
       "    <tr>\n",
       "      <th>Pune</th>\n",
       "      <td>2k15_21</td>\n",
       "      <td>Walchand College of Eng., Sangli</td>\n",
       "      <td>7</td>\n",
       "    </tr>\n",
       "    <tr>\n",
       "      <th>Trivandrum</th>\n",
       "      <td>2k15_235</td>\n",
       "      <td>Cochin Univ. of Science &amp; Tech., Cochin</td>\n",
       "      <td>10</td>\n",
       "    </tr>\n",
       "  </tbody>\n",
       "</table>\n",
       "</div>"
      ],
      "text/plain": [
       "                  master_mod_index  \\\n",
       "tcs_region_master                    \n",
       "Ahmedabad                  2k15_50   \n",
       "Bangalore                 2k15_162   \n",
       "Chennai                   2k15_288   \n",
       "Delhi                      2k15_17   \n",
       "Hyderabad                 2k15_380   \n",
       "Kolkata                    2k15_24   \n",
       "Lucknow                    2k15_85   \n",
       "Mumbai                     2k16_13   \n",
       "Pune                       2k15_21   \n",
       "Trivandrum                2k15_235   \n",
       "\n",
       "                                              college_name_master  round1_rank  \n",
       "tcs_region_master                                                               \n",
       "Ahmedabad                Dharamsinh Desai Instt. of Tech., Nadiad            9  \n",
       "Bangalore          PES INSTITUTE OF TECHNOLOGY (PESIT), BANGALORE           40  \n",
       "Chennai                                              IIT - Madras           31  \n",
       "Delhi                             ABES Engineering College, Delhi           19  \n",
       "Hyderabad               Indian Institute Of Technology, Hyderabad            5  \n",
       "Kolkata                           Kalyani Govt. Engg. College, WB            1  \n",
       "Lucknow                    Institute of Engg. Technology, Lucknow           11  \n",
       "Mumbai                                         Vidya Vardhini COE           17  \n",
       "Pune                             Walchand College of Eng., Sangli            7  \n",
       "Trivandrum                Cochin Univ. of Science & Tech., Cochin           10  "
      ]
     },
     "execution_count": 91,
     "metadata": {},
     "output_type": "execute_result"
    }
   ],
   "source": [
    "#For 2k16\n",
    "results_2k16_region_wise_topper_df=results_2k16_df.groupby('tcs_region_master').first().loc[:,['master_mod_index','college_name_master','round1_rank']]\n",
    "results_2k16_region_wise_topper_df"
   ]
  },
  {
   "cell_type": "code",
   "execution_count": 92,
   "metadata": {},
   "outputs": [
    {
     "data": {
      "text/html": [
       "<div>\n",
       "<table border=\"1\" class=\"dataframe\">\n",
       "  <thead>\n",
       "    <tr style=\"text-align: right;\">\n",
       "      <th></th>\n",
       "      <th>master_mod_index</th>\n",
       "      <th>college_name_master</th>\n",
       "      <th>round1_rank</th>\n",
       "    </tr>\n",
       "    <tr>\n",
       "      <th>tcs_region_master</th>\n",
       "      <th></th>\n",
       "      <th></th>\n",
       "      <th></th>\n",
       "    </tr>\n",
       "  </thead>\n",
       "  <tbody>\n",
       "    <tr>\n",
       "      <th>Ahmedabad</th>\n",
       "      <td>2k15_234</td>\n",
       "      <td>Dhirubhai Ambani Inst of Information &amp; Communi...</td>\n",
       "      <td>1</td>\n",
       "    </tr>\n",
       "    <tr>\n",
       "      <th>Bangalore</th>\n",
       "      <td>2k15_198</td>\n",
       "      <td>Reva Institute of Technology and Management, B...</td>\n",
       "      <td>107</td>\n",
       "    </tr>\n",
       "    <tr>\n",
       "      <th>Chennai</th>\n",
       "      <td>2k15_126</td>\n",
       "      <td>Thiagarajar College of Engineering, Madurai</td>\n",
       "      <td>131</td>\n",
       "    </tr>\n",
       "    <tr>\n",
       "      <th>Delhi</th>\n",
       "      <td>2k15_232</td>\n",
       "      <td>School of IT, Guru Gobind Indraprastha Univ, D...</td>\n",
       "      <td>4</td>\n",
       "    </tr>\n",
       "    <tr>\n",
       "      <th>Hyderabad</th>\n",
       "      <td>2k15_380</td>\n",
       "      <td>Indian Institute Of Technology, Hyderabad</td>\n",
       "      <td>3</td>\n",
       "    </tr>\n",
       "    <tr>\n",
       "      <th>Kolkata</th>\n",
       "      <td>2k15_68</td>\n",
       "      <td>IIT - PATNA</td>\n",
       "      <td>5</td>\n",
       "    </tr>\n",
       "    <tr>\n",
       "      <th>Lucknow</th>\n",
       "      <td>2k15_519</td>\n",
       "      <td>Harcourt Butler Technological Institute, Kanpur</td>\n",
       "      <td>6</td>\n",
       "    </tr>\n",
       "    <tr>\n",
       "      <th>Mumbai</th>\n",
       "      <td>2k15_62</td>\n",
       "      <td>D. J. Sanghvi College of Engg - Mumbai</td>\n",
       "      <td>21</td>\n",
       "    </tr>\n",
       "    <tr>\n",
       "      <th>Pune</th>\n",
       "      <td>2k15_1</td>\n",
       "      <td>Army Institute of Technology,Pune University, ...</td>\n",
       "      <td>35</td>\n",
       "    </tr>\n",
       "    <tr>\n",
       "      <th>Trivandrum</th>\n",
       "      <td>2k15_145</td>\n",
       "      <td>Govt. College of Engg, Kannur</td>\n",
       "      <td>23</td>\n",
       "    </tr>\n",
       "    <tr>\n",
       "      <th>zone1</th>\n",
       "      <td>2k17_392</td>\n",
       "      <td>School of Engineering and Applied Science, Ahm...</td>\n",
       "      <td>40</td>\n",
       "    </tr>\n",
       "    <tr>\n",
       "      <th>zone2</th>\n",
       "      <td>2k17_471</td>\n",
       "      <td>Vignan's Foundation for Science, Technology an...</td>\n",
       "      <td>28</td>\n",
       "    </tr>\n",
       "    <tr>\n",
       "      <th>zone3</th>\n",
       "      <td>2k17_179</td>\n",
       "      <td>IIT-ROPAR</td>\n",
       "      <td>17</td>\n",
       "    </tr>\n",
       "  </tbody>\n",
       "</table>\n",
       "</div>"
      ],
      "text/plain": [
       "                  master_mod_index  \\\n",
       "tcs_region_master                    \n",
       "Ahmedabad                 2k15_234   \n",
       "Bangalore                 2k15_198   \n",
       "Chennai                   2k15_126   \n",
       "Delhi                     2k15_232   \n",
       "Hyderabad                 2k15_380   \n",
       "Kolkata                    2k15_68   \n",
       "Lucknow                   2k15_519   \n",
       "Mumbai                     2k15_62   \n",
       "Pune                        2k15_1   \n",
       "Trivandrum                2k15_145   \n",
       "zone1                     2k17_392   \n",
       "zone2                     2k17_471   \n",
       "zone3                     2k17_179   \n",
       "\n",
       "                                                 college_name_master  \\\n",
       "tcs_region_master                                                      \n",
       "Ahmedabad          Dhirubhai Ambani Inst of Information & Communi...   \n",
       "Bangalore          Reva Institute of Technology and Management, B...   \n",
       "Chennai                  Thiagarajar College of Engineering, Madurai   \n",
       "Delhi              School of IT, Guru Gobind Indraprastha Univ, D...   \n",
       "Hyderabad                  Indian Institute Of Technology, Hyderabad   \n",
       "Kolkata                                                  IIT - PATNA   \n",
       "Lucknow              Harcourt Butler Technological Institute, Kanpur   \n",
       "Mumbai                        D. J. Sanghvi College of Engg - Mumbai   \n",
       "Pune               Army Institute of Technology,Pune University, ...   \n",
       "Trivandrum                             Govt. College of Engg, Kannur   \n",
       "zone1              School of Engineering and Applied Science, Ahm...   \n",
       "zone2              Vignan's Foundation for Science, Technology an...   \n",
       "zone3                                                      IIT-ROPAR   \n",
       "\n",
       "                   round1_rank  \n",
       "tcs_region_master               \n",
       "Ahmedabad                    1  \n",
       "Bangalore                  107  \n",
       "Chennai                    131  \n",
       "Delhi                        4  \n",
       "Hyderabad                    3  \n",
       "Kolkata                      5  \n",
       "Lucknow                      6  \n",
       "Mumbai                      21  \n",
       "Pune                        35  \n",
       "Trivandrum                  23  \n",
       "zone1                       40  \n",
       "zone2                       28  \n",
       "zone3                       17  "
      ]
     },
     "execution_count": 92,
     "metadata": {},
     "output_type": "execute_result"
    }
   ],
   "source": [
    "#For 2k17\n",
    "results_2k17_region_wise_topper_df=results_2k17_df.groupby('tcs_region_master').first().loc[:,['master_mod_index','college_name_master','round1_rank']]\n",
    "results_2k17_region_wise_topper_df"
   ]
  },
  {
   "cell_type": "code",
   "execution_count": 93,
   "metadata": {},
   "outputs": [
    {
     "data": {
      "text/html": [
       "<div>\n",
       "<table border=\"1\" class=\"dataframe\">\n",
       "  <thead>\n",
       "    <tr style=\"text-align: right;\">\n",
       "      <th></th>\n",
       "      <th>2k15</th>\n",
       "      <th>2k16</th>\n",
       "      <th>2k17</th>\n",
       "    </tr>\n",
       "  </thead>\n",
       "  <tbody>\n",
       "    <tr>\n",
       "      <th>Ahmedabad</th>\n",
       "      <td>10.0</td>\n",
       "      <td>9.0</td>\n",
       "      <td>1</td>\n",
       "    </tr>\n",
       "    <tr>\n",
       "      <th>Bangalore</th>\n",
       "      <td>11.0</td>\n",
       "      <td>40.0</td>\n",
       "      <td>107</td>\n",
       "    </tr>\n",
       "    <tr>\n",
       "      <th>Chennai</th>\n",
       "      <td>1.0</td>\n",
       "      <td>31.0</td>\n",
       "      <td>131</td>\n",
       "    </tr>\n",
       "    <tr>\n",
       "      <th>Delhi</th>\n",
       "      <td>6.0</td>\n",
       "      <td>19.0</td>\n",
       "      <td>4</td>\n",
       "    </tr>\n",
       "    <tr>\n",
       "      <th>Hyderabad</th>\n",
       "      <td>12.0</td>\n",
       "      <td>5.0</td>\n",
       "      <td>3</td>\n",
       "    </tr>\n",
       "    <tr>\n",
       "      <th>Kolkata</th>\n",
       "      <td>9.0</td>\n",
       "      <td>1.0</td>\n",
       "      <td>5</td>\n",
       "    </tr>\n",
       "    <tr>\n",
       "      <th>Lucknow</th>\n",
       "      <td>4.0</td>\n",
       "      <td>11.0</td>\n",
       "      <td>6</td>\n",
       "    </tr>\n",
       "    <tr>\n",
       "      <th>Mumbai</th>\n",
       "      <td>2.0</td>\n",
       "      <td>17.0</td>\n",
       "      <td>21</td>\n",
       "    </tr>\n",
       "    <tr>\n",
       "      <th>Pune</th>\n",
       "      <td>34.0</td>\n",
       "      <td>7.0</td>\n",
       "      <td>35</td>\n",
       "    </tr>\n",
       "    <tr>\n",
       "      <th>Trivandrum</th>\n",
       "      <td>36.0</td>\n",
       "      <td>10.0</td>\n",
       "      <td>23</td>\n",
       "    </tr>\n",
       "    <tr>\n",
       "      <th>zone1</th>\n",
       "      <td>NaN</td>\n",
       "      <td>NaN</td>\n",
       "      <td>40</td>\n",
       "    </tr>\n",
       "    <tr>\n",
       "      <th>zone2</th>\n",
       "      <td>NaN</td>\n",
       "      <td>NaN</td>\n",
       "      <td>28</td>\n",
       "    </tr>\n",
       "    <tr>\n",
       "      <th>zone3</th>\n",
       "      <td>NaN</td>\n",
       "      <td>NaN</td>\n",
       "      <td>17</td>\n",
       "    </tr>\n",
       "  </tbody>\n",
       "</table>\n",
       "</div>"
      ],
      "text/plain": [
       "            2k15  2k16  2k17\n",
       "Ahmedabad   10.0   9.0     1\n",
       "Bangalore   11.0  40.0   107\n",
       "Chennai      1.0  31.0   131\n",
       "Delhi        6.0  19.0     4\n",
       "Hyderabad   12.0   5.0     3\n",
       "Kolkata      9.0   1.0     5\n",
       "Lucknow      4.0  11.0     6\n",
       "Mumbai       2.0  17.0    21\n",
       "Pune        34.0   7.0    35\n",
       "Trivandrum  36.0  10.0    23\n",
       "zone1        NaN   NaN    40\n",
       "zone2        NaN   NaN    28\n",
       "zone3        NaN   NaN    17"
      ]
     },
     "execution_count": 93,
     "metadata": {},
     "output_type": "execute_result"
    }
   ],
   "source": [
    "results_year_wise_region_wise_top_rank_df=pd.DataFrame({'2k15':results_2k15_region_wise_topper_df.round1_rank,'2k16':results_2k16_region_wise_topper_df.round1_rank,'2k17':results_2k17_region_wise_topper_df.round1_rank})\n",
    "results_year_wise_region_wise_top_rank_df"
   ]
  },
  {
   "cell_type": "code",
   "execution_count": 94,
   "metadata": {},
   "outputs": [
    {
     "data": {
      "image/png": "[encoded data removed]",
      "text/plain": [
       "<matplotlib.figure.Figure at 0x221c4c96f60>"
      ]
     },
     "metadata": {},
     "output_type": "display_data"
    }
   ],
   "source": [
    "sns.heatmap(data=np.log(results_year_wise_region_wise_top_rank_df),annot=results_year_wise_region_wise_top_rank_df,fmt=\"f\",cmap=\"RdBu_r\");"
   ]
  },
  {
   "cell_type": "markdown",
   "metadata": {},
   "source": [
    "Note: The coloring has been done using a logarithmic scale so that the nearby ranks are better differentiated color-wise. Also we can see that the best ranks for Bangalore, Chennai and others have decreased way too much. That might be because of the zones anomaly.So, it is safest if we ignore the 2k17 top ranking"
   ]
  },
  {
   "cell_type": "markdown",
   "metadata": {},
   "source": [
    "### Zonal analysis ( 2k17 only )\n",
    "Do note that as per the mapping done earlier,\n",
    "- zone1 -> Ahmedabad\n",
    "- zone2 -> (Hyderabad, Pune, Trivandrum)\n",
    "- zone3 -> (Bangalore, Chennai, Delhi, Kolkata, Lucknow, Mumbai)"
   ]
  },
  {
   "cell_type": "markdown",
   "metadata": {},
   "source": [
    "#### 1) Top rankers zone wise"
   ]
  },
  {
   "cell_type": "code",
   "execution_count": 95,
   "metadata": {},
   "outputs": [
    {
     "data": {
      "text/html": [
       "<div>\n",
       "<table border=\"1\" class=\"dataframe\">\n",
       "  <thead>\n",
       "    <tr style=\"text-align: right;\">\n",
       "      <th></th>\n",
       "      <th>master_mod_index</th>\n",
       "      <th>college_name_master</th>\n",
       "      <th>round1_rank</th>\n",
       "      <th>tcs_region_master</th>\n",
       "    </tr>\n",
       "    <tr>\n",
       "      <th>zonal_name</th>\n",
       "      <th></th>\n",
       "      <th></th>\n",
       "      <th></th>\n",
       "      <th></th>\n",
       "    </tr>\n",
       "  </thead>\n",
       "  <tbody>\n",
       "    <tr>\n",
       "      <th>zone1</th>\n",
       "      <td>2k15_234</td>\n",
       "      <td>Dhirubhai Ambani Inst of Information &amp; Communi...</td>\n",
       "      <td>1</td>\n",
       "      <td>Ahmedabad</td>\n",
       "    </tr>\n",
       "    <tr>\n",
       "      <th>zone2</th>\n",
       "      <td>2k15_380</td>\n",
       "      <td>Indian Institute Of Technology, Hyderabad</td>\n",
       "      <td>3</td>\n",
       "      <td>Hyderabad</td>\n",
       "    </tr>\n",
       "    <tr>\n",
       "      <th>zone3</th>\n",
       "      <td>2k15_232</td>\n",
       "      <td>School of IT, Guru Gobind Indraprastha Univ, D...</td>\n",
       "      <td>4</td>\n",
       "      <td>Delhi</td>\n",
       "    </tr>\n",
       "  </tbody>\n",
       "</table>\n",
       "</div>"
      ],
      "text/plain": [
       "           master_mod_index  \\\n",
       "zonal_name                    \n",
       "zone1              2k15_234   \n",
       "zone2              2k15_380   \n",
       "zone3              2k15_232   \n",
       "\n",
       "                                          college_name_master  round1_rank  \\\n",
       "zonal_name                                                                   \n",
       "zone1       Dhirubhai Ambani Inst of Information & Communi...            1   \n",
       "zone2               Indian Institute Of Technology, Hyderabad            3   \n",
       "zone3       School of IT, Guru Gobind Indraprastha Univ, D...            4   \n",
       "\n",
       "           tcs_region_master  \n",
       "zonal_name                    \n",
       "zone1              Ahmedabad  \n",
       "zone2              Hyderabad  \n",
       "zone3                  Delhi  "
      ]
     },
     "execution_count": 95,
     "metadata": {},
     "output_type": "execute_result"
    }
   ],
   "source": [
    "#For 2k17, top ranks considering only the zonal divisions\n",
    "results_2k17_df.groupby('zonal_name').first().loc[:,['master_mod_index','college_name_master','round1_rank','tcs_region_master']]"
   ]
  },
  {
   "cell_type": "markdown",
   "metadata": {},
   "source": [
    "#### 2) Participation zone wise"
   ]
  },
  {
   "cell_type": "code",
   "execution_count": 96,
   "metadata": {},
   "outputs": [
    {
     "data": {
      "text/plain": [
       "zonal_name\n",
       "zone1     340\n",
       "zone2     563\n",
       "zone3    1479\n",
       "Name: zonal_name, dtype: int64"
      ]
     },
     "execution_count": 96,
     "metadata": {},
     "output_type": "execute_result"
    }
   ],
   "source": [
    "#Number of ranks given zone wise\n",
    "rank_count_2k17_zone_wise=results_2k17_df.groupby('zonal_name')['zonal_name'].count()\n",
    "rank_count_2k17_zone_wise"
   ]
  },
  {
   "cell_type": "code",
   "execution_count": 97,
   "metadata": {},
   "outputs": [
    {
     "data": {
      "text/plain": [
       "zonal_name\n",
       "zone1    0.142737\n",
       "zone2    0.236356\n",
       "zone3    0.620907\n",
       "Name: zonal_name, dtype: float64"
      ]
     },
     "execution_count": 97,
     "metadata": {},
     "output_type": "execute_result"
    }
   ],
   "source": [
    "#Percentage of ranks given zone wise\n",
    "rank_count_2k17_zone_wise/sum(rank_count_2k17_zone_wise)"
   ]
  },
  {
   "cell_type": "markdown",
   "metadata": {},
   "source": [
    "So zone3 had the maximum participation at around 62%"
   ]
  },
  {
   "cell_type": "code",
   "execution_count": 98,
   "metadata": {},
   "outputs": [
    {
     "data": {
      "text/plain": [
       "tcs_region\n",
       "zone1     52\n",
       "zone2    131\n",
       "zone3    291\n",
       "Name: master_mod_index, dtype: int64"
      ]
     },
     "execution_count": 98,
     "metadata": {},
     "output_type": "execute_result"
    }
   ],
   "source": [
    "#Number of unique colleges zone wise\n",
    "college_list_2k17_df=college_list_df[college_list_df.mod_index.str.startswith('2k17_')]\n",
    "college_count_2k17_zone_wise=college_list_2k17_df.groupby('tcs_region')['master_mod_index'].unique().apply(lambda x:len(x))\n",
    "assert college_list_2k17_df.master_mod_index.unique().shape[0]==sum(college_count_2k17_zone_wise)\n",
    "college_count_2k17_zone_wise"
   ]
  },
  {
   "cell_type": "code",
   "execution_count": 99,
   "metadata": {},
   "outputs": [
    {
     "data": {
      "text/plain": [
       "tcs_region\n",
       "zone1    0.109705\n",
       "zone2    0.276371\n",
       "zone3    0.613924\n",
       "Name: master_mod_index, dtype: float64"
      ]
     },
     "execution_count": 99,
     "metadata": {},
     "output_type": "execute_result"
    }
   ],
   "source": [
    "#Percentage of unique colleges zone wise\n",
    "college_count_2k17_zone_wise/sum(college_count_2k17_zone_wise)"
   ]
  },
  {
   "cell_type": "markdown",
   "metadata": {},
   "source": [
    "If we notice the percentage of unique colleges and percentage of ranks given, they pretty much match"
   ]
  },
  {
   "cell_type": "code",
   "execution_count": null,
   "metadata": {
    "collapsed": true
   },
   "outputs": [],
   "source": []
  }
 ],
 "metadata": {
  "kernelspec": {
   "display_name": "Python 3",
   "language": "python",
   "name": "python3"
  },
  "language_info": {
   "codemirror_mode": {
    "name": "ipython",
    "version": 3
   },
   "file_extension": ".py",
   "mimetype": "text/x-python",
   "name": "python",
   "nbconvert_exporter": "python",
   "pygments_lexer": "ipython3",
   "version": "3.6.0"
  }
 },
 "nbformat": 4,
 "nbformat_minor": 2
}
