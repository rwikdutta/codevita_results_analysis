{
 "cells": [
  {
   "cell_type": "code",
   "execution_count": 2,
   "metadata": {
    "collapsed": true
   },
   "outputs": [],
   "source": [
    "import pandas as pd\n",
    "import numpy as np\n",
    "#%qtconsole\n",
    "import platform\n",
    "import matplotlib.pyplot as plt\n",
    "%matplotlib inline"
   ]
  },
  {
   "cell_type": "code",
   "execution_count": 3,
   "metadata": {
    "collapsed": true
   },
   "outputs": [],
   "source": [
    "def return_file_path(base_url,file_name,file_seperator,intermediate_folder=''):\n",
    "    if not intermediate_folder=='':\n",
    "        intermediate_folder=intermediate_folder+file_seperator\n",
    "    return '{}{}{}'.format(base_url,intermediate_folder,file_name)"
   ]
  },
  {
   "cell_type": "code",
   "execution_count": 4,
   "metadata": {
    "collapsed": true
   },
   "outputs": [],
   "source": [
    "if platform.system()=='Linux':\n",
    "    base_url=r'/mnt/ECFC8291FC8255AC/Datasets/Codevita Results/'\n",
    "    file_seperator='/'\n",
    "else:\n",
    "    file_seperator='\\\\'\n",
    "    base_url='F:\\\\Datasets\\\\Codevita Results\\\\'\n",
    "intermediate_folder=''"
   ]
  },
  {
   "cell_type": "code",
   "execution_count": 5,
   "metadata": {
    "collapsed": true
   },
   "outputs": [],
   "source": [
    "results_2k15_df=pd.read_excel('./results_2k15_backlinked.xlsx')\n",
    "results_2k16_df=pd.read_excel('./results_2k16_backlinked.xlsx')\n",
    "results_2k17_df=pd.read_excel('./results_2k17_backlinked.xlsx')"
   ]
  },
  {
   "cell_type": "code",
   "execution_count": 6,
   "metadata": {
    "collapsed": true
   },
   "outputs": [],
   "source": [
    "results_2k15_df['year']='2k15'\n",
    "results_2k16_df['year']='2k16'\n",
    "results_2k17_df['year']='2k17'"
   ]
  },
  {
   "cell_type": "code",
   "execution_count": 7,
   "metadata": {},
   "outputs": [
    {
     "data": {
      "text/plain": [
       "Index(['Unnamed: 0', 'Rank', 'team_name', 'tcs_region', 'users_name',\n",
       "       'college_name', 'user_1', 'user_2', 'mod_index', 'master_mod_index',\n",
       "       'college_name_master', 'tcs_region_master', 'year'],\n",
       "      dtype='object')"
      ]
     },
     "execution_count": 7,
     "metadata": {},
     "output_type": "execute_result"
    }
   ],
   "source": [
    "results_2k15_df.columns"
   ]
  },
  {
   "cell_type": "code",
   "execution_count": 8,
   "metadata": {},
   "outputs": [
    {
     "data": {
      "text/plain": [
       "Index(['college_name_prerectified', 'ranks', 'tcs_region_prerectified',\n",
       "       'team_name', 'user_name', 'user_1', 'user_2', 'college_name',\n",
       "       'tcs_region', 'mod_index', 'master_mod_index', 'college_name_master',\n",
       "       'tcs_region_master', 'year'],\n",
       "      dtype='object')"
      ]
     },
     "execution_count": 8,
     "metadata": {},
     "output_type": "execute_result"
    }
   ],
   "source": [
    "results_2k16_df.columns"
   ]
  },
  {
   "cell_type": "code",
   "execution_count": 9,
   "metadata": {},
   "outputs": [
    {
     "data": {
      "text/plain": [
       "Index(['Unnamed: 0', 'college_name', 'problems_solved', 'round1_rank',\n",
       "       'user_name', 'zonal_name', 'zonal_rank', 'mod_index',\n",
       "       'master_mod_index', 'college_name_master', 'tcs_region_master', 'year'],\n",
       "      dtype='object')"
      ]
     },
     "execution_count": 9,
     "metadata": {},
     "output_type": "execute_result"
    }
   ],
   "source": [
    "results_2k17_df.columns"
   ]
  },
  {
   "cell_type": "code",
   "execution_count": 9,
   "metadata": {
    "collapsed": true
   },
   "outputs": [],
   "source": [
    "results_2k15_df.user_1=results_2k15_df.user_1.str.strip().str.lower()\n",
    "results_2k15_df.user_2=results_2k15_df.user_2.str.strip().str.lower()"
   ]
  },
  {
   "cell_type": "code",
   "execution_count": 10,
   "metadata": {
    "collapsed": true
   },
   "outputs": [],
   "source": [
    "results_2k16_df.user_1=results_2k16_df.user_1.str.strip().str.lower()\n",
    "results_2k16_df.user_2=results_2k16_df.user_2.str.strip().str.lower()"
   ]
  },
  {
   "cell_type": "code",
   "execution_count": 11,
   "metadata": {
    "collapsed": true
   },
   "outputs": [],
   "source": [
    "results_2k17_df.user_name=results_2k17_df.user_name.str.strip().str.lower()"
   ]
  },
  {
   "cell_type": "code",
   "execution_count": 1,
   "metadata": {
    "collapsed": true
   },
   "outputs": [],
   "source": [
    "from nltk.tokenize import RegexpTokenizer\n",
    "tokenizer = RegexpTokenizer(r'\\w+')"
   ]
  },
  {
   "cell_type": "code",
   "execution_count": 12,
   "metadata": {
    "collapsed": true
   },
   "outputs": [],
   "source": [
    "results_2k15_users=results_2k15_df.loc[:,['user_1','user_2','college_name_master', 'tcs_region_master',\n",
    "       'mod_index','year','master_mod_index']]\n",
    "results_2k16_users=results_2k16_df.loc[:,['user_1','user_2','college_name_master', 'tcs_region_master',\n",
    "       'mod_index','year','master_mod_index']]\n",
    "results_2k17_users=results_2k17_df.loc[:,['user_name','college_name_master', 'tcs_region_master',\n",
    "       'mod_index','year','master_mod_index']].rename(columns={'user_name':'user'})"
   ]
  },
  {
   "cell_type": "code",
   "execution_count": 13,
   "metadata": {
    "collapsed": true
   },
   "outputs": [],
   "source": [
    "results_combined=pd.DataFrame(results_2k17_users,columns=['year','user','college_name_master','tcs_region_master','mod_index','master_mod_index'])"
   ]
  },
  {
   "cell_type": "code",
   "execution_count": 14,
   "metadata": {
    "collapsed": true
   },
   "outputs": [],
   "source": [
    "results_2k15_users_part1=results_2k15_df.loc[:,['year','user_1','college_name_master', 'tcs_region_master','mod_index',\n",
    "       'master_mod_index']].rename(columns={'user_1':'user'})\n",
    "results_2k15_users_part2=results_2k15_df.loc[:,['year','user_2','college_name_master', 'tcs_region_master','mod_index',\n",
    "       'master_mod_index']].rename(columns={'user_2':'user'})\n",
    "results_2k16_users_part1=results_2k16_df.loc[:,['year','user_1','college_name_master', 'tcs_region_master','mod_index',\n",
    "       'master_mod_index']].rename(columns={'user_1':'user'})\n",
    "results_2k16_users_part2=results_2k16_df.loc[:,['year','user_2','college_name_master', 'tcs_region_master','mod_index',\n",
    "       'master_mod_index']].rename(columns={'user_2':'user'})"
   ]
  },
  {
   "cell_type": "code",
   "execution_count": 15,
   "metadata": {},
   "outputs": [
    {
     "name": "stdout",
     "output_type": "stream",
     "text": [
      "(0, 0, 0, 0, 0)\n"
     ]
    }
   ],
   "source": [
    "print((sum(results_2k15_users_part1.user.isnull()),sum(results_2k15_users_part2.user.isnull()),sum(results_2k16_users_part1.user.isnull()),sum(results_2k16_users_part2.user.isnull()),sum(results_2k17_users.user.isnull())))"
   ]
  },
  {
   "cell_type": "code",
   "execution_count": 16,
   "metadata": {
    "collapsed": true
   },
   "outputs": [],
   "source": [
    "results_combined=results_combined.append(results_2k15_users_part1,ignore_index=True)\n",
    "results_combined=results_combined.append(results_2k15_users_part2,ignore_index=True)\n",
    "results_combined=results_combined.append(results_2k16_users_part1,ignore_index=True)\n",
    "results_combined=results_combined.append(results_2k16_users_part2,ignore_index=True)"
   ]
  },
  {
   "cell_type": "code",
   "execution_count": 17,
   "metadata": {},
   "outputs": [
    {
     "data": {
      "text/plain": [
       "(16282, 6)"
      ]
     },
     "execution_count": 17,
     "metadata": {},
     "output_type": "execute_result"
    }
   ],
   "source": [
    "results_combined.shape"
   ]
  },
  {
   "cell_type": "code",
   "execution_count": 18,
   "metadata": {},
   "outputs": [
    {
     "data": {
      "text/plain": [
       "0"
      ]
     },
     "execution_count": 18,
     "metadata": {},
     "output_type": "execute_result"
    }
   ],
   "source": [
    "sum(results_combined.user.isnull())"
   ]
  },
  {
   "cell_type": "code",
   "execution_count": 19,
   "metadata": {},
   "outputs": [
    {
     "data": {
      "text/plain": [
       "0"
      ]
     },
     "execution_count": 19,
     "metadata": {},
     "output_type": "execute_result"
    }
   ],
   "source": [
    "sum(results_combined.master_mod_index.isnull())"
   ]
  },
  {
   "cell_type": "code",
   "execution_count": 20,
   "metadata": {},
   "outputs": [
    {
     "data": {
      "text/plain": [
       "Index(['year', 'user', 'college_name_master', 'tcs_region_master', 'mod_index',\n",
       "       'master_mod_index'],\n",
       "      dtype='object')"
      ]
     },
     "execution_count": 20,
     "metadata": {},
     "output_type": "execute_result"
    }
   ],
   "source": [
    "results_combined.columns"
   ]
  },
  {
   "cell_type": "code",
   "execution_count": 21,
   "metadata": {
    "collapsed": true
   },
   "outputs": [],
   "source": [
    "unique_users=results_combined.drop_duplicates(['user','master_mod_index'])"
   ]
  },
  {
   "cell_type": "code",
   "execution_count": 22,
   "metadata": {},
   "outputs": [
    {
     "data": {
      "text/plain": [
       "0"
      ]
     },
     "execution_count": 22,
     "metadata": {},
     "output_type": "execute_result"
    }
   ],
   "source": [
    "sum(unique_users.user.isnull())"
   ]
  },
  {
   "cell_type": "code",
   "execution_count": 23,
   "metadata": {},
   "outputs": [
    {
     "data": {
      "text/plain": [
       "0"
      ]
     },
     "execution_count": 23,
     "metadata": {},
     "output_type": "execute_result"
    }
   ],
   "source": [
    "sum(unique_users.master_mod_index.isnull())"
   ]
  },
  {
   "cell_type": "code",
   "execution_count": 24,
   "metadata": {},
   "outputs": [
    {
     "data": {
      "text/plain": [
       "(14932, 6)"
      ]
     },
     "execution_count": 24,
     "metadata": {},
     "output_type": "execute_result"
    }
   ],
   "source": [
    "unique_users.shape"
   ]
  },
  {
   "cell_type": "code",
   "execution_count": 25,
   "metadata": {},
   "outputs": [
    {
     "data": {
      "text/plain": [
       "2k16    7033\n",
       "2k15    5518\n",
       "2k17    2381\n",
       "Name: year, dtype: int64"
      ]
     },
     "execution_count": 25,
     "metadata": {},
     "output_type": "execute_result"
    }
   ],
   "source": [
    "unique_users.year.value_counts()"
   ]
  },
  {
   "cell_type": "code",
   "execution_count": 26,
   "metadata": {},
   "outputs": [
    {
     "data": {
      "text/plain": [
       "1350"
      ]
     },
     "execution_count": 26,
     "metadata": {},
     "output_type": "execute_result"
    }
   ],
   "source": [
    "results_combined.shape[0]-unique_users.shape[0]"
   ]
  },
  {
   "cell_type": "code",
   "execution_count": 27,
   "metadata": {
    "collapsed": true
   },
   "outputs": [],
   "source": [
    "unique_users=unique_users.reindex(list(range(unique_users.shape[0])))"
   ]
  },
  {
   "cell_type": "code",
   "execution_count": 28,
   "metadata": {},
   "outputs": [
    {
     "data": {
      "text/html": [
       "<div>\n",
       "<table border=\"1\" class=\"dataframe\">\n",
       "  <thead>\n",
       "    <tr style=\"text-align: right;\">\n",
       "      <th></th>\n",
       "      <th>year</th>\n",
       "      <th>user</th>\n",
       "      <th>college_name_master</th>\n",
       "      <th>tcs_region_master</th>\n",
       "      <th>mod_index</th>\n",
       "      <th>master_mod_index</th>\n",
       "    </tr>\n",
       "  </thead>\n",
       "  <tbody>\n",
       "    <tr>\n",
       "      <th>14927</th>\n",
       "      <td>2k16</td>\n",
       "      <td>kumar</td>\n",
       "      <td>National Institute of Technology</td>\n",
       "      <td>Kolkata</td>\n",
       "      <td>2k16_207</td>\n",
       "      <td>2k15_478</td>\n",
       "    </tr>\n",
       "    <tr>\n",
       "      <th>14928</th>\n",
       "      <td>2k16</td>\n",
       "      <td>praveen kumar</td>\n",
       "      <td>National Institute of Technology</td>\n",
       "      <td>Kolkata</td>\n",
       "      <td>2k16_302</td>\n",
       "      <td>2k15_478</td>\n",
       "    </tr>\n",
       "    <tr>\n",
       "      <th>14929</th>\n",
       "      <td>2k16</td>\n",
       "      <td>saif ansari</td>\n",
       "      <td>National Institute of Technology</td>\n",
       "      <td>Kolkata</td>\n",
       "      <td>2k16_302</td>\n",
       "      <td>2k15_478</td>\n",
       "    </tr>\n",
       "    <tr>\n",
       "      <th>14930</th>\n",
       "      <td>2k16</td>\n",
       "      <td>amit kumar</td>\n",
       "      <td>National Institute of Technology</td>\n",
       "      <td>Kolkata</td>\n",
       "      <td>2k16_302</td>\n",
       "      <td>2k15_478</td>\n",
       "    </tr>\n",
       "    <tr>\n",
       "      <th>14931</th>\n",
       "      <td>2k16</td>\n",
       "      <td>sumit saha</td>\n",
       "      <td>National Institute of Technology</td>\n",
       "      <td>Kolkata</td>\n",
       "      <td>2k16_302</td>\n",
       "      <td>2k15_478</td>\n",
       "    </tr>\n",
       "  </tbody>\n",
       "</table>\n",
       "</div>"
      ],
      "text/plain": [
       "       year           user               college_name_master  \\\n",
       "14927  2k16          kumar  National Institute of Technology   \n",
       "14928  2k16  praveen kumar  National Institute of Technology   \n",
       "14929  2k16    saif ansari  National Institute of Technology   \n",
       "14930  2k16     amit kumar  National Institute of Technology   \n",
       "14931  2k16     sumit saha  National Institute of Technology   \n",
       "\n",
       "      tcs_region_master mod_index master_mod_index  \n",
       "14927           Kolkata  2k16_207         2k15_478  \n",
       "14928           Kolkata  2k16_302         2k15_478  \n",
       "14929           Kolkata  2k16_302         2k15_478  \n",
       "14930           Kolkata  2k16_302         2k15_478  \n",
       "14931           Kolkata  2k16_302         2k15_478  "
      ]
     },
     "execution_count": 28,
     "metadata": {},
     "output_type": "execute_result"
    }
   ],
   "source": [
    "unique_users.tail()"
   ]
  },
  {
   "cell_type": "code",
   "execution_count": 27,
   "metadata": {
    "collapsed": true
   },
   "outputs": [],
   "source": [
    "unique_users=unique_users.loc[:,['year','user','college_name_master','tcs_region_master','master_mod_index']]"
   ]
  },
  {
   "cell_type": "code",
   "execution_count": 28,
   "metadata": {},
   "outputs": [
    {
     "data": {
      "text/plain": [
       "(14932, 5)"
      ]
     },
     "execution_count": 28,
     "metadata": {},
     "output_type": "execute_result"
    }
   ],
   "source": [
    "unique_users.shape"
   ]
  },
  {
   "cell_type": "code",
   "execution_count": 29,
   "metadata": {
    "collapsed": true
   },
   "outputs": [],
   "source": [
    "unique_users.to_excel('./2k15_2k16_2k17_unique_users.xlsx',index=False)"
   ]
  },
  {
   "cell_type": "code",
   "execution_count": null,
   "metadata": {
    "collapsed": true
   },
   "outputs": [],
   "source": []
  },
  {
   "cell_type": "code",
   "execution_count": null,
   "metadata": {
    "collapsed": true
   },
   "outputs": [],
   "source": []
  }
 ],
 "metadata": {
  "kernelspec": {
   "display_name": "Python 3",
   "language": "python",
   "name": "python3"
  },
  "language_info": {
   "codemirror_mode": {
    "name": "ipython",
    "version": 3
   },
   "file_extension": ".py",
   "mimetype": "text/x-python",
   "name": "python",
   "nbconvert_exporter": "python",
   "pygments_lexer": "ipython3",
   "version": "3.6.0"
  }
 },
 "nbformat": 4,
 "nbformat_minor": 2
}
