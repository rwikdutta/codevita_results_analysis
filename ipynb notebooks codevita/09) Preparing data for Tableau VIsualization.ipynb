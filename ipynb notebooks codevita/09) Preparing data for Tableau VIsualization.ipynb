{
 "cells": [
  {
   "cell_type": "code",
   "execution_count": 1,
   "metadata": {
    "collapsed": true
   },
   "outputs": [],
   "source": [
    "import pandas as pd\n",
    "import numpy as np\n",
    "#%qtconsole\n",
    "import platform\n",
    "import matplotlib.pyplot as plt\n",
    "%matplotlib inline\n",
    "import seaborn as sns"
   ]
  },
  {
   "cell_type": "code",
   "execution_count": 2,
   "metadata": {
    "collapsed": true
   },
   "outputs": [],
   "source": [
    "def return_file_path(base_url,file_name,file_seperator,intermediate_folder=''):\n",
    "    if not intermediate_folder=='':\n",
    "        intermediate_folder=intermediate_folder+file_seperator\n",
    "    return '{}{}{}'.format(base_url,intermediate_folder,file_name)"
   ]
  },
  {
   "cell_type": "code",
   "execution_count": 3,
   "metadata": {
    "collapsed": true
   },
   "outputs": [],
   "source": [
    "if platform.system()=='Linux':\n",
    "    base_url=r'/mnt/ECFC8291FC8255AC/Datasets/Codevita Results/'\n",
    "    file_seperator='/'\n",
    "else:\n",
    "    file_seperator='\\\\'\n",
    "    base_url='F:\\\\Datasets\\\\Codevita Results\\\\'\n",
    "intermediate_folder=''"
   ]
  },
  {
   "cell_type": "code",
   "execution_count": 4,
   "metadata": {
    "collapsed": true
   },
   "outputs": [],
   "source": [
    "results_2k15_df=pd.read_excel('./results_2k15_df_backlinking_users.xlsx')\n",
    "results_2k16_df=pd.read_excel('./results_2k16_df_backlinking_users.xlsx')\n",
    "results_2k17_df=pd.read_excel('./results_2k17_df_backlinking_users.xlsx')"
   ]
  },
  {
   "cell_type": "code",
   "execution_count": 5,
   "metadata": {},
   "outputs": [
    {
     "data": {
      "text/plain": [
       "Index(['Rank', 'team_name', 'tcs_region', 'users_name', 'college_name',\n",
       "       'user_1', 'user_2', 'mod_index', 'master_mod_index',\n",
       "       'college_name_master', 'tcs_region_master', 'year', 'id_user1',\n",
       "       'id_user2'],\n",
       "      dtype='object')"
      ]
     },
     "execution_count": 5,
     "metadata": {},
     "output_type": "execute_result"
    }
   ],
   "source": [
    "results_2k15_df.columns"
   ]
  },
  {
   "cell_type": "code",
   "execution_count": 6,
   "metadata": {},
   "outputs": [
    {
     "data": {
      "text/plain": [
       "Index(['college_name_prerectified', 'ranks', 'tcs_region_prerectified',\n",
       "       'team_name', 'user_name', 'user_1', 'user_2', 'college_name',\n",
       "       'tcs_region', 'mod_index', 'master_mod_index', 'college_name_master',\n",
       "       'tcs_region_master', 'year', 'id_user1', 'id_user2'],\n",
       "      dtype='object')"
      ]
     },
     "execution_count": 6,
     "metadata": {},
     "output_type": "execute_result"
    }
   ],
   "source": [
    "results_2k16_df.columns"
   ]
  },
  {
   "cell_type": "code",
   "execution_count": 7,
   "metadata": {},
   "outputs": [
    {
     "data": {
      "text/plain": [
       "Index(['college_name', 'problems_solved', 'round1_rank', 'user1', 'zonal_name',\n",
       "       'zonal_rank', 'mod_index', 'master_mod_index', 'college_name_master',\n",
       "       'tcs_region_master', 'year', 'id_user1'],\n",
       "      dtype='object')"
      ]
     },
     "execution_count": 7,
     "metadata": {},
     "output_type": "execute_result"
    }
   ],
   "source": [
    "results_2k17_df.columns"
   ]
  },
  {
   "cell_type": "code",
   "execution_count": 8,
   "metadata": {},
   "outputs": [
    {
     "data": {
      "text/plain": [
       "(True, True)"
      ]
     },
     "execution_count": 8,
     "metadata": {},
     "output_type": "execute_result"
    }
   ],
   "source": [
    "(results_2k15_df.Rank.is_unique,results_2k16_df.ranks.is_unique)"
   ]
  },
  {
   "cell_type": "markdown",
   "metadata": {},
   "source": [
    "#### Adding regional ranks for 2k15 and 2k16"
   ]
  },
  {
   "cell_type": "code",
   "execution_count": 9,
   "metadata": {
    "collapsed": true
   },
   "outputs": [],
   "source": [
    "regions=results_2k15_df.tcs_region.unique()\n",
    "results_2k15_df=results_2k15_df.sort_values('Rank',ascending=True)\n",
    "results_2k16_df=results_2k16_df.sort_values('ranks',ascending=True)\n",
    "for region in regions:\n",
    "    subset_mask_2k15=results_2k15_df.tcs_region==region\n",
    "    results_2k15_df.loc[subset_mask_2k15,'region_rank']=range(1,sum(subset_mask_2k15)+1)\n",
    "    subset_mask_2k16=results_2k16_df.tcs_region==region  #Works because both 2k15 and 2k16 have the same regions\n",
    "    results_2k16_df.loc[subset_mask_2k16,'region_rank']=range(1,sum(subset_mask_2k16)+1)"
   ]
  },
  {
   "cell_type": "code",
   "execution_count": 10,
   "metadata": {},
   "outputs": [
    {
     "name": "stdout",
     "output_type": "stream",
     "text": [
      "708\n"
     ]
    },
    {
     "data": {
      "text/html": [
       "<div>\n",
       "<table border=\"1\" class=\"dataframe\">\n",
       "  <thead>\n",
       "    <tr style=\"text-align: right;\">\n",
       "      <th></th>\n",
       "      <th>college_name_prerectified</th>\n",
       "      <th>ranks</th>\n",
       "      <th>tcs_region_prerectified</th>\n",
       "      <th>team_name</th>\n",
       "      <th>user_name</th>\n",
       "      <th>user_1</th>\n",
       "      <th>user_2</th>\n",
       "      <th>college_name</th>\n",
       "      <th>tcs_region</th>\n",
       "      <th>mod_index</th>\n",
       "      <th>master_mod_index</th>\n",
       "      <th>college_name_master</th>\n",
       "      <th>tcs_region_master</th>\n",
       "      <th>year</th>\n",
       "      <th>id_user1</th>\n",
       "      <th>id_user2</th>\n",
       "      <th>region_rank</th>\n",
       "    </tr>\n",
       "  </thead>\n",
       "  <tbody>\n",
       "    <tr>\n",
       "      <th>2597</th>\n",
       "      <td>Kalinga Institute of Industrial</td>\n",
       "      <td>4121</td>\n",
       "      <td>Kolkata</td>\n",
       "      <td>Buzzkills</td>\n",
       "      <td>Prachi Priyam &amp; Mohit Snehal</td>\n",
       "      <td>prachi priyam</td>\n",
       "      <td>mohit snehal</td>\n",
       "      <td>Kalinga Institute of Industrial</td>\n",
       "      <td>Kolkata</td>\n",
       "      <td>2k16_180</td>\n",
       "      <td>2k15_22</td>\n",
       "      <td>Kalinga Institute of Industrial &amp; Technology (...</td>\n",
       "      <td>Kolkata</td>\n",
       "      <td>2k16</td>\n",
       "      <td>10006</td>\n",
       "      <td>13539</td>\n",
       "      <td>704.0</td>\n",
       "    </tr>\n",
       "    <tr>\n",
       "      <th>345</th>\n",
       "      <td>Techno India, Salt Lake</td>\n",
       "      <td>4132</td>\n",
       "      <td>Kolkata</td>\n",
       "      <td>The Technocians</td>\n",
       "      <td>Souvik Roy &amp; Souvik Laha</td>\n",
       "      <td>souvik roy</td>\n",
       "      <td>souvik laha</td>\n",
       "      <td>Techno India, Salt Lake</td>\n",
       "      <td>Kolkata</td>\n",
       "      <td>2k16_10</td>\n",
       "      <td>2k15_124</td>\n",
       "      <td>Techno India, Salt Lake</td>\n",
       "      <td>Kolkata</td>\n",
       "      <td>2k16</td>\n",
       "      <td>8145</td>\n",
       "      <td>11611</td>\n",
       "      <td>705.0</td>\n",
       "    </tr>\n",
       "    <tr>\n",
       "      <th>2087</th>\n",
       "      <td>Indian Institute of Engineering Science and Te...</td>\n",
       "      <td>4136</td>\n",
       "      <td>Kolkata</td>\n",
       "      <td>iiest­idiots</td>\n",
       "      <td>Munshi Akhtar &amp; Sayantan Adak</td>\n",
       "      <td>munshi akhtar</td>\n",
       "      <td>sayantan adak</td>\n",
       "      <td>Indian Institute of Engineering Science and Te...</td>\n",
       "      <td>Kolkata</td>\n",
       "      <td>2k16_130</td>\n",
       "      <td>2k16_130</td>\n",
       "      <td>Indian Institute of Engineering Science and Te...</td>\n",
       "      <td>Kolkata</td>\n",
       "      <td>2k16</td>\n",
       "      <td>9589</td>\n",
       "      <td>13104</td>\n",
       "      <td>706.0</td>\n",
       "    </tr>\n",
       "    <tr>\n",
       "      <th>2927</th>\n",
       "      <td>Academy of Technology, Kolkata</td>\n",
       "      <td>4143</td>\n",
       "      <td>Kolkata</td>\n",
       "      <td>Team 10</td>\n",
       "      <td>Vishnu Choudhary &amp; Shuvam Chaturvedi</td>\n",
       "      <td>vishnu choudhary</td>\n",
       "      <td>shuvam chaturvedi</td>\n",
       "      <td>Academy of Technology, Kolkata</td>\n",
       "      <td>Kolkata</td>\n",
       "      <td>2k16_232</td>\n",
       "      <td>2k15_239</td>\n",
       "      <td>Academy of Technology, Kolkata</td>\n",
       "      <td>Kolkata</td>\n",
       "      <td>2k16</td>\n",
       "      <td>10273</td>\n",
       "      <td>13821</td>\n",
       "      <td>707.0</td>\n",
       "    </tr>\n",
       "    <tr>\n",
       "      <th>3233</th>\n",
       "      <td>BP Poddar Inst for Engg</td>\n",
       "      <td>4150</td>\n",
       "      <td>Kolkata</td>\n",
       "      <td>codehack55</td>\n",
       "      <td>Kewal Agarwal &amp; Harsh Agarwal</td>\n",
       "      <td>kewal agarwal</td>\n",
       "      <td>harsh agarwal</td>\n",
       "      <td>BP Poddar Inst for Engg</td>\n",
       "      <td>Kolkata</td>\n",
       "      <td>2k16_282</td>\n",
       "      <td>2k15_435</td>\n",
       "      <td>b p poddar institute of management and technology</td>\n",
       "      <td>Kolkata</td>\n",
       "      <td>2k16</td>\n",
       "      <td>10534</td>\n",
       "      <td>14101</td>\n",
       "      <td>708.0</td>\n",
       "    </tr>\n",
       "  </tbody>\n",
       "</table>\n",
       "</div>"
      ],
      "text/plain": [
       "                              college_name_prerectified  ranks  \\\n",
       "2597                    Kalinga Institute of Industrial   4121   \n",
       "345                             Techno India, Salt Lake   4132   \n",
       "2087  Indian Institute of Engineering Science and Te...   4136   \n",
       "2927                     Academy of Technology, Kolkata   4143   \n",
       "3233                            BP Poddar Inst for Engg   4150   \n",
       "\n",
       "     tcs_region_prerectified        team_name  \\\n",
       "2597                 Kolkata        Buzzkills   \n",
       "345                  Kolkata  The Technocians   \n",
       "2087                 Kolkata     iiest­idiots   \n",
       "2927                 Kolkata          Team 10   \n",
       "3233                 Kolkata       codehack55   \n",
       "\n",
       "                                 user_name            user_1  \\\n",
       "2597          Prachi Priyam & Mohit Snehal     prachi priyam   \n",
       "345               Souvik Roy & Souvik Laha        souvik roy   \n",
       "2087         Munshi Akhtar & Sayantan Adak     munshi akhtar   \n",
       "2927  Vishnu Choudhary & Shuvam Chaturvedi  vishnu choudhary   \n",
       "3233         Kewal Agarwal & Harsh Agarwal     kewal agarwal   \n",
       "\n",
       "                 user_2                                       college_name  \\\n",
       "2597       mohit snehal                    Kalinga Institute of Industrial   \n",
       "345         souvik laha                            Techno India, Salt Lake   \n",
       "2087      sayantan adak  Indian Institute of Engineering Science and Te...   \n",
       "2927  shuvam chaturvedi                     Academy of Technology, Kolkata   \n",
       "3233      harsh agarwal                            BP Poddar Inst for Engg   \n",
       "\n",
       "     tcs_region mod_index master_mod_index  \\\n",
       "2597    Kolkata  2k16_180          2k15_22   \n",
       "345     Kolkata   2k16_10         2k15_124   \n",
       "2087    Kolkata  2k16_130         2k16_130   \n",
       "2927    Kolkata  2k16_232         2k15_239   \n",
       "3233    Kolkata  2k16_282         2k15_435   \n",
       "\n",
       "                                    college_name_master tcs_region_master  \\\n",
       "2597  Kalinga Institute of Industrial & Technology (...           Kolkata   \n",
       "345                             Techno India, Salt Lake           Kolkata   \n",
       "2087  Indian Institute of Engineering Science and Te...           Kolkata   \n",
       "2927                     Academy of Technology, Kolkata           Kolkata   \n",
       "3233  b p poddar institute of management and technology           Kolkata   \n",
       "\n",
       "      year  id_user1  id_user2  region_rank  \n",
       "2597  2k16     10006     13539        704.0  \n",
       "345   2k16      8145     11611        705.0  \n",
       "2087  2k16      9589     13104        706.0  \n",
       "2927  2k16     10273     13821        707.0  \n",
       "3233  2k16     10534     14101        708.0  "
      ]
     },
     "execution_count": 10,
     "metadata": {},
     "output_type": "execute_result"
    }
   ],
   "source": [
    "print(sum(results_2k16_df.tcs_region=='Kolkata'))\n",
    "results_2k16_df[results_2k16_df.tcs_region=='Kolkata'].tail()"
   ]
  },
  {
   "cell_type": "markdown",
   "metadata": {},
   "source": [
    "#### Overall Percentile"
   ]
  },
  {
   "cell_type": "code",
   "execution_count": 11,
   "metadata": {
    "scrolled": true
   },
   "outputs": [
    {
     "name": "stdout",
     "output_type": "stream",
     "text": [
      "1719    1.000000\n",
      "2559    0.999290\n",
      "2223    0.998934\n",
      "811     0.998579\n",
      "2349    0.998224\n",
      "Name: overall_percentile, dtype: float64\n",
      "460     0.001421\n",
      "2220    0.001066\n",
      "2271    0.000710\n",
      "1993    0.000355\n",
      "1439    0.000000\n",
      "Name: overall_percentile, dtype: float64\n",
      "0      1.000000\n",
      "12     0.999516\n",
      "16     0.999274\n",
      "110    0.999033\n",
      "111    0.998791\n",
      "Name: overall_percentile, dtype: float64\n",
      "1051    0.000967\n",
      "2760    0.000726\n",
      "3302    0.000484\n",
      "1677    0.000242\n",
      "3233    0.000000\n",
      "Name: overall_percentile, dtype: float64\n"
     ]
    }
   ],
   "source": [
    "results_2k15_df['overall_percentile']=1-results_2k15_df.Rank.rank(pct=True)\n",
    "results_2k16_df['overall_percentile']=1-results_2k16_df.ranks.rank(pct=True)\n",
    "results_2k15_df.loc[results_2k15_df.index[0],'overall_percentile']=1 #Manually setting percentile of topper to 100% (which might not be the case due to calculation errors)\n",
    "results_2k16_df.loc[results_2k16_df.index[0],'overall_percentile']=1 #Manually setting percentile of topper to 100%\n",
    "print(results_2k15_df.overall_percentile.head())\n",
    "print(results_2k15_df.overall_percentile.tail())\n",
    "print(results_2k16_df.overall_percentile.head())\n",
    "print(results_2k16_df.overall_percentile.tail())"
   ]
  },
  {
   "cell_type": "markdown",
   "metadata": {},
   "source": [
    "#### Zonal/Regional Percentile"
   ]
  },
  {
   "cell_type": "code",
   "execution_count": 12,
   "metadata": {
    "collapsed": true
   },
   "outputs": [],
   "source": [
    "for region in regions:\n",
    "    subset_mask_2k15=results_2k15_df.tcs_region==region\n",
    "    results_2k15_df.loc[subset_mask_2k15,'region_percentile']=1-results_2k15_df.loc[subset_mask_2k15,'region_rank'].rank(pct=True)\n",
    "    subset_mask_2k16=results_2k16_df.tcs_region==region  #Works because both 2k15 and 2k16 have the same regions\n",
    "    results_2k16_df.loc[subset_mask_2k16,'region_percentile']=1-results_2k16_df.loc[subset_mask_2k16,'region_rank'].rank(pct=True)"
   ]
  },
  {
   "cell_type": "code",
   "execution_count": 13,
   "metadata": {
    "collapsed": true
   },
   "outputs": [],
   "source": [
    "#Setting the regional toppers percentile to 100%\n",
    "results_2k15_df.loc[results_2k15_df.region_rank==1,'region_percentile']=1\n",
    "results_2k16_df.loc[results_2k16_df.region_rank==1,'region_percentile']=1"
   ]
  },
  {
   "cell_type": "code",
   "execution_count": 14,
   "metadata": {},
   "outputs": [
    {
     "name": "stdout",
     "output_type": "stream",
     "text": [
      "344\n"
     ]
    },
    {
     "data": {
      "text/html": [
       "<div>\n",
       "<table border=\"1\" class=\"dataframe\">\n",
       "  <thead>\n",
       "    <tr style=\"text-align: right;\">\n",
       "      <th></th>\n",
       "      <th>college_name_prerectified</th>\n",
       "      <th>ranks</th>\n",
       "      <th>tcs_region_prerectified</th>\n",
       "      <th>team_name</th>\n",
       "      <th>user_name</th>\n",
       "      <th>user_1</th>\n",
       "      <th>user_2</th>\n",
       "      <th>college_name</th>\n",
       "      <th>tcs_region</th>\n",
       "      <th>mod_index</th>\n",
       "      <th>master_mod_index</th>\n",
       "      <th>college_name_master</th>\n",
       "      <th>tcs_region_master</th>\n",
       "      <th>year</th>\n",
       "      <th>id_user1</th>\n",
       "      <th>id_user2</th>\n",
       "      <th>region_rank</th>\n",
       "      <th>overall_percentile</th>\n",
       "      <th>region_percentile</th>\n",
       "    </tr>\n",
       "  </thead>\n",
       "  <tbody>\n",
       "    <tr>\n",
       "      <th>1847</th>\n",
       "      <td>Vishwakarma Government Engineering College, Ga...</td>\n",
       "      <td>4049</td>\n",
       "      <td>Ahmedabad</td>\n",
       "      <td>OutOfBoundException</td>\n",
       "      <td>Dimple Shah &amp; Swati Solanki</td>\n",
       "      <td>dimple shah</td>\n",
       "      <td>swati solanki</td>\n",
       "      <td>Vishwakarma Government Engineering College, Ga...</td>\n",
       "      <td>Ahmedabad</td>\n",
       "      <td>2k16_105</td>\n",
       "      <td>2k15_39</td>\n",
       "      <td>Vishwakarma Government Engineering College, Ga...</td>\n",
       "      <td>Ahmedabad</td>\n",
       "      <td>2k16</td>\n",
       "      <td>5753</td>\n",
       "      <td>12878</td>\n",
       "      <td>340.0</td>\n",
       "      <td>0.024426</td>\n",
       "      <td>0.011628</td>\n",
       "    </tr>\n",
       "    <tr>\n",
       "      <th>1848</th>\n",
       "      <td>Vishwakarma Government Engineering College, Ga...</td>\n",
       "      <td>4055</td>\n",
       "      <td>Ahmedabad</td>\n",
       "      <td>kp1417</td>\n",
       "      <td>Pinal Pithadiya &amp; Krupa Suthar</td>\n",
       "      <td>pinal pithadiya</td>\n",
       "      <td>krupa suthar</td>\n",
       "      <td>Vishwakarma Government Engineering College, Ga...</td>\n",
       "      <td>Ahmedabad</td>\n",
       "      <td>2k16_105</td>\n",
       "      <td>2k15_39</td>\n",
       "      <td>Vishwakarma Government Engineering College, Ga...</td>\n",
       "      <td>Ahmedabad</td>\n",
       "      <td>2k16</td>\n",
       "      <td>9376</td>\n",
       "      <td>12879</td>\n",
       "      <td>341.0</td>\n",
       "      <td>0.022975</td>\n",
       "      <td>0.008721</td>\n",
       "    </tr>\n",
       "    <tr>\n",
       "      <th>1849</th>\n",
       "      <td>Vishwakarma Government Engineering College, Ga...</td>\n",
       "      <td>4066</td>\n",
       "      <td>Ahmedabad</td>\n",
       "      <td>DB coders</td>\n",
       "      <td>Bin Patel &amp; Dhruv Mistry</td>\n",
       "      <td>bin patel</td>\n",
       "      <td>dhruv mistry</td>\n",
       "      <td>Vishwakarma Government Engineering College, Ga...</td>\n",
       "      <td>Ahmedabad</td>\n",
       "      <td>2k16_105</td>\n",
       "      <td>2k15_39</td>\n",
       "      <td>Vishwakarma Government Engineering College, Ga...</td>\n",
       "      <td>Ahmedabad</td>\n",
       "      <td>2k16</td>\n",
       "      <td>9377</td>\n",
       "      <td>12880</td>\n",
       "      <td>342.0</td>\n",
       "      <td>0.020314</td>\n",
       "      <td>0.005814</td>\n",
       "    </tr>\n",
       "    <tr>\n",
       "      <th>694</th>\n",
       "      <td>Sardar Vallabh Regional Engineering College, S...</td>\n",
       "      <td>4142</td>\n",
       "      <td>Ahmedabad</td>\n",
       "      <td>AMCODERS</td>\n",
       "      <td>Moulya Kotha &amp; Anuja Kurakula</td>\n",
       "      <td>moulya kotha</td>\n",
       "      <td>anuja kurakula</td>\n",
       "      <td>Sardar Vallabh Regional Engineering College, S...</td>\n",
       "      <td>Ahmedabad</td>\n",
       "      <td>2k16_34</td>\n",
       "      <td>2k15_48</td>\n",
       "      <td>Sardar Vallabh Regional Engineering College, S...</td>\n",
       "      <td>Ahmedabad</td>\n",
       "      <td>2k16</td>\n",
       "      <td>8425</td>\n",
       "      <td>11897</td>\n",
       "      <td>343.0</td>\n",
       "      <td>0.001935</td>\n",
       "      <td>0.002907</td>\n",
       "    </tr>\n",
       "    <tr>\n",
       "      <th>2760</th>\n",
       "      <td>Birla Vishwakarma Mahavidyalaya­Anand</td>\n",
       "      <td>4147</td>\n",
       "      <td>Ahmedabad</td>\n",
       "      <td>codingarmy</td>\n",
       "      <td>Dhruvkumar Patel &amp; Ketan Bhalerao</td>\n",
       "      <td>dhruvkumar patel</td>\n",
       "      <td>ketan bhalerao</td>\n",
       "      <td>Birla Vishwakarma Mahavidyalaya­Anand</td>\n",
       "      <td>Ahmedabad</td>\n",
       "      <td>2k16_205</td>\n",
       "      <td>2k15_40</td>\n",
       "      <td>Birla Vishwakarma Mahavidyalaya-Anand</td>\n",
       "      <td>Ahmedabad</td>\n",
       "      <td>2k16</td>\n",
       "      <td>10128</td>\n",
       "      <td>13678</td>\n",
       "      <td>344.0</td>\n",
       "      <td>0.000726</td>\n",
       "      <td>0.000000</td>\n",
       "    </tr>\n",
       "  </tbody>\n",
       "</table>\n",
       "</div>"
      ],
      "text/plain": [
       "                              college_name_prerectified  ranks  \\\n",
       "1847  Vishwakarma Government Engineering College, Ga...   4049   \n",
       "1848  Vishwakarma Government Engineering College, Ga...   4055   \n",
       "1849  Vishwakarma Government Engineering College, Ga...   4066   \n",
       "694   Sardar Vallabh Regional Engineering College, S...   4142   \n",
       "2760              Birla Vishwakarma Mahavidyalaya­Anand   4147   \n",
       "\n",
       "     tcs_region_prerectified            team_name  \\\n",
       "1847               Ahmedabad  OutOfBoundException   \n",
       "1848               Ahmedabad               kp1417   \n",
       "1849               Ahmedabad            DB coders   \n",
       "694                Ahmedabad             AMCODERS   \n",
       "2760               Ahmedabad           codingarmy   \n",
       "\n",
       "                              user_name            user_1          user_2  \\\n",
       "1847        Dimple Shah & Swati Solanki       dimple shah   swati solanki   \n",
       "1848     Pinal Pithadiya & Krupa Suthar   pinal pithadiya    krupa suthar   \n",
       "1849           Bin Patel & Dhruv Mistry         bin patel    dhruv mistry   \n",
       "694       Moulya Kotha & Anuja Kurakula      moulya kotha  anuja kurakula   \n",
       "2760  Dhruvkumar Patel & Ketan Bhalerao  dhruvkumar patel  ketan bhalerao   \n",
       "\n",
       "                                           college_name tcs_region mod_index  \\\n",
       "1847  Vishwakarma Government Engineering College, Ga...  Ahmedabad  2k16_105   \n",
       "1848  Vishwakarma Government Engineering College, Ga...  Ahmedabad  2k16_105   \n",
       "1849  Vishwakarma Government Engineering College, Ga...  Ahmedabad  2k16_105   \n",
       "694   Sardar Vallabh Regional Engineering College, S...  Ahmedabad   2k16_34   \n",
       "2760              Birla Vishwakarma Mahavidyalaya­Anand  Ahmedabad  2k16_205   \n",
       "\n",
       "     master_mod_index                                college_name_master  \\\n",
       "1847          2k15_39  Vishwakarma Government Engineering College, Ga...   \n",
       "1848          2k15_39  Vishwakarma Government Engineering College, Ga...   \n",
       "1849          2k15_39  Vishwakarma Government Engineering College, Ga...   \n",
       "694           2k15_48  Sardar Vallabh Regional Engineering College, S...   \n",
       "2760          2k15_40              Birla Vishwakarma Mahavidyalaya-Anand   \n",
       "\n",
       "     tcs_region_master  year  id_user1  id_user2  region_rank  \\\n",
       "1847         Ahmedabad  2k16      5753     12878        340.0   \n",
       "1848         Ahmedabad  2k16      9376     12879        341.0   \n",
       "1849         Ahmedabad  2k16      9377     12880        342.0   \n",
       "694          Ahmedabad  2k16      8425     11897        343.0   \n",
       "2760         Ahmedabad  2k16     10128     13678        344.0   \n",
       "\n",
       "      overall_percentile  region_percentile  \n",
       "1847            0.024426           0.011628  \n",
       "1848            0.022975           0.008721  \n",
       "1849            0.020314           0.005814  \n",
       "694             0.001935           0.002907  \n",
       "2760            0.000726           0.000000  "
      ]
     },
     "execution_count": 14,
     "metadata": {},
     "output_type": "execute_result"
    }
   ],
   "source": [
    "print(sum(results_2k16_df.tcs_region=='Ahmedabad'))\n",
    "results_2k16_df[results_2k16_df.tcs_region=='Ahmedabad'].tail()"
   ]
  },
  {
   "cell_type": "code",
   "execution_count": 15,
   "metadata": {},
   "outputs": [
    {
     "data": {
      "text/html": [
       "<div>\n",
       "<table border=\"1\" class=\"dataframe\">\n",
       "  <thead>\n",
       "    <tr style=\"text-align: right;\">\n",
       "      <th></th>\n",
       "      <th>college_name_prerectified</th>\n",
       "      <th>ranks</th>\n",
       "      <th>tcs_region_prerectified</th>\n",
       "      <th>team_name</th>\n",
       "      <th>user_name</th>\n",
       "      <th>user_1</th>\n",
       "      <th>user_2</th>\n",
       "      <th>college_name</th>\n",
       "      <th>tcs_region</th>\n",
       "      <th>mod_index</th>\n",
       "      <th>master_mod_index</th>\n",
       "      <th>college_name_master</th>\n",
       "      <th>tcs_region_master</th>\n",
       "      <th>year</th>\n",
       "      <th>id_user1</th>\n",
       "      <th>id_user2</th>\n",
       "      <th>region_rank</th>\n",
       "      <th>overall_percentile</th>\n",
       "      <th>region_percentile</th>\n",
       "    </tr>\n",
       "  </thead>\n",
       "  <tbody>\n",
       "    <tr>\n",
       "      <th>166</th>\n",
       "      <td>Dharamsinh Desai Instt. of Tech., Nadiad</td>\n",
       "      <td>9</td>\n",
       "      <td>Ahmedabad</td>\n",
       "      <td>CodeCrunchers</td>\n",
       "      <td>Abhishek Patel &amp; Jasmin Valgotar</td>\n",
       "      <td>abhishek patel</td>\n",
       "      <td>jasmin valgotar</td>\n",
       "      <td>Dharamsinh Desai Instt. of Tech., Nadiad</td>\n",
       "      <td>Ahmedabad</td>\n",
       "      <td>2k16_7</td>\n",
       "      <td>2k15_50</td>\n",
       "      <td>Dharamsinh Desai Instt. of Tech., Nadiad</td>\n",
       "      <td>Ahmedabad</td>\n",
       "      <td>2k16</td>\n",
       "      <td>3103</td>\n",
       "      <td>5864</td>\n",
       "      <td>1.0</td>\n",
       "      <td>0.997823</td>\n",
       "      <td>1.000000</td>\n",
       "    </tr>\n",
       "    <tr>\n",
       "      <th>167</th>\n",
       "      <td>Dharamsinh Desai Instt. of Tech., Nadiad</td>\n",
       "      <td>13</td>\n",
       "      <td>Ahmedabad</td>\n",
       "      <td>illogical</td>\n",
       "      <td>Deep Shah &amp; Dhaval Mehta</td>\n",
       "      <td>deep shah</td>\n",
       "      <td>dhaval mehta</td>\n",
       "      <td>Dharamsinh Desai Instt. of Tech., Nadiad</td>\n",
       "      <td>Ahmedabad</td>\n",
       "      <td>2k16_7</td>\n",
       "      <td>2k15_50</td>\n",
       "      <td>Dharamsinh Desai Instt. of Tech., Nadiad</td>\n",
       "      <td>Ahmedabad</td>\n",
       "      <td>2k16</td>\n",
       "      <td>5856</td>\n",
       "      <td>705</td>\n",
       "      <td>2.0</td>\n",
       "      <td>0.996856</td>\n",
       "      <td>0.994186</td>\n",
       "    </tr>\n",
       "    <tr>\n",
       "      <th>400</th>\n",
       "      <td>Dhirubhai Ambani Inst of Information</td>\n",
       "      <td>15</td>\n",
       "      <td>Ahmedabad</td>\n",
       "      <td>algomakers</td>\n",
       "      <td>Aayush Kapadia &amp; Suparshva Mehta</td>\n",
       "      <td>aayush kapadia</td>\n",
       "      <td>suparshva mehta</td>\n",
       "      <td>Dhirubhai Ambani Inst of Information</td>\n",
       "      <td>Ahmedabad</td>\n",
       "      <td>2k16_12</td>\n",
       "      <td>2k15_234</td>\n",
       "      <td>Dhirubhai Ambani Inst of Information &amp; Communi...</td>\n",
       "      <td>Ahmedabad</td>\n",
       "      <td>2k16</td>\n",
       "      <td>4429</td>\n",
       "      <td>2</td>\n",
       "      <td>3.0</td>\n",
       "      <td>0.996372</td>\n",
       "      <td>0.991279</td>\n",
       "    </tr>\n",
       "    <tr>\n",
       "      <th>401</th>\n",
       "      <td>Dhirubhai Ambani Inst of Information</td>\n",
       "      <td>24</td>\n",
       "      <td>Ahmedabad</td>\n",
       "      <td>FruitSaladJunior</td>\n",
       "      <td>Yash Kumar &amp; Karan Thakkar</td>\n",
       "      <td>yash kumar</td>\n",
       "      <td>karan thakkar</td>\n",
       "      <td>Dhirubhai Ambani Inst of Information</td>\n",
       "      <td>Ahmedabad</td>\n",
       "      <td>2k16_12</td>\n",
       "      <td>2k15_234</td>\n",
       "      <td>Dhirubhai Ambani Inst of Information &amp; Communi...</td>\n",
       "      <td>Ahmedabad</td>\n",
       "      <td>2k16</td>\n",
       "      <td>7</td>\n",
       "      <td>11657</td>\n",
       "      <td>4.0</td>\n",
       "      <td>0.994196</td>\n",
       "      <td>0.988372</td>\n",
       "    </tr>\n",
       "    <tr>\n",
       "      <th>688</th>\n",
       "      <td>Sardar Vallabh Regional Engineering College, S...</td>\n",
       "      <td>45</td>\n",
       "      <td>Ahmedabad</td>\n",
       "      <td>Intoxicated Ciphers</td>\n",
       "      <td>Abishek A &amp; Adesh Kala</td>\n",
       "      <td>abishek a</td>\n",
       "      <td>adesh kala</td>\n",
       "      <td>Sardar Vallabh Regional Engineering College, S...</td>\n",
       "      <td>Ahmedabad</td>\n",
       "      <td>2k16_34</td>\n",
       "      <td>2k15_48</td>\n",
       "      <td>Sardar Vallabh Regional Engineering College, S...</td>\n",
       "      <td>Ahmedabad</td>\n",
       "      <td>2k16</td>\n",
       "      <td>8419</td>\n",
       "      <td>11892</td>\n",
       "      <td>5.0</td>\n",
       "      <td>0.989117</td>\n",
       "      <td>0.985465</td>\n",
       "    </tr>\n",
       "  </tbody>\n",
       "</table>\n",
       "</div>"
      ],
      "text/plain": [
       "                             college_name_prerectified  ranks  \\\n",
       "166           Dharamsinh Desai Instt. of Tech., Nadiad      9   \n",
       "167           Dharamsinh Desai Instt. of Tech., Nadiad     13   \n",
       "400               Dhirubhai Ambani Inst of Information     15   \n",
       "401               Dhirubhai Ambani Inst of Information     24   \n",
       "688  Sardar Vallabh Regional Engineering College, S...     45   \n",
       "\n",
       "    tcs_region_prerectified            team_name  \\\n",
       "166               Ahmedabad        CodeCrunchers   \n",
       "167               Ahmedabad            illogical   \n",
       "400               Ahmedabad           algomakers   \n",
       "401               Ahmedabad     FruitSaladJunior   \n",
       "688               Ahmedabad  Intoxicated Ciphers   \n",
       "\n",
       "                            user_name          user_1           user_2  \\\n",
       "166  Abhishek Patel & Jasmin Valgotar  abhishek patel  jasmin valgotar   \n",
       "167          Deep Shah & Dhaval Mehta       deep shah     dhaval mehta   \n",
       "400  Aayush Kapadia & Suparshva Mehta  aayush kapadia  suparshva mehta   \n",
       "401        Yash Kumar & Karan Thakkar      yash kumar    karan thakkar   \n",
       "688            Abishek A & Adesh Kala       abishek a       adesh kala   \n",
       "\n",
       "                                          college_name tcs_region mod_index  \\\n",
       "166           Dharamsinh Desai Instt. of Tech., Nadiad  Ahmedabad    2k16_7   \n",
       "167           Dharamsinh Desai Instt. of Tech., Nadiad  Ahmedabad    2k16_7   \n",
       "400               Dhirubhai Ambani Inst of Information  Ahmedabad   2k16_12   \n",
       "401               Dhirubhai Ambani Inst of Information  Ahmedabad   2k16_12   \n",
       "688  Sardar Vallabh Regional Engineering College, S...  Ahmedabad   2k16_34   \n",
       "\n",
       "    master_mod_index                                college_name_master  \\\n",
       "166          2k15_50           Dharamsinh Desai Instt. of Tech., Nadiad   \n",
       "167          2k15_50           Dharamsinh Desai Instt. of Tech., Nadiad   \n",
       "400         2k15_234  Dhirubhai Ambani Inst of Information & Communi...   \n",
       "401         2k15_234  Dhirubhai Ambani Inst of Information & Communi...   \n",
       "688          2k15_48  Sardar Vallabh Regional Engineering College, S...   \n",
       "\n",
       "    tcs_region_master  year  id_user1  id_user2  region_rank  \\\n",
       "166         Ahmedabad  2k16      3103      5864          1.0   \n",
       "167         Ahmedabad  2k16      5856       705          2.0   \n",
       "400         Ahmedabad  2k16      4429         2          3.0   \n",
       "401         Ahmedabad  2k16         7     11657          4.0   \n",
       "688         Ahmedabad  2k16      8419     11892          5.0   \n",
       "\n",
       "     overall_percentile  region_percentile  \n",
       "166            0.997823           1.000000  \n",
       "167            0.996856           0.994186  \n",
       "400            0.996372           0.991279  \n",
       "401            0.994196           0.988372  \n",
       "688            0.989117           0.985465  "
      ]
     },
     "execution_count": 15,
     "metadata": {},
     "output_type": "execute_result"
    }
   ],
   "source": [
    "results_2k16_df[results_2k16_df.tcs_region=='Ahmedabad'].head()"
   ]
  },
  {
   "cell_type": "code",
   "execution_count": 16,
   "metadata": {},
   "outputs": [],
   "source": [
    "results_2k15_df=results_2k15_df.rename(columns={'Rank':'overall_rank','users_name':'user_name'})"
   ]
  },
  {
   "cell_type": "code",
   "execution_count": 17,
   "metadata": {
    "collapsed": true
   },
   "outputs": [],
   "source": [
    "results_2k16_df=results_2k16_df.drop(['college_name_prerectified','tcs_region_prerectified'],axis=1).rename(columns={'ranks':'overall_rank'})"
   ]
  },
  {
   "cell_type": "code",
   "execution_count": 18,
   "metadata": {
    "collapsed": true
   },
   "outputs": [],
   "source": [
    "results_2k17_df=results_2k17_df.rename(columns={'round1_rank':'overall_rank','user1':'user_1','zonal_name':'tcs_region','zonal_rank':'region_rank'})"
   ]
  },
  {
   "cell_type": "code",
   "execution_count": 19,
   "metadata": {},
   "outputs": [
    {
     "data": {
      "text/plain": [
       "Index(['overall_rank', 'team_name', 'tcs_region', 'user_name', 'college_name',\n",
       "       'user_1', 'user_2', 'mod_index', 'master_mod_index',\n",
       "       'college_name_master', 'tcs_region_master', 'year', 'id_user1',\n",
       "       'id_user2', 'region_rank', 'overall_percentile', 'region_percentile'],\n",
       "      dtype='object')"
      ]
     },
     "execution_count": 19,
     "metadata": {},
     "output_type": "execute_result"
    }
   ],
   "source": [
    "results_2k15_df.columns"
   ]
  },
  {
   "cell_type": "code",
   "execution_count": 20,
   "metadata": {},
   "outputs": [
    {
     "data": {
      "text/plain": [
       "Index(['overall_rank', 'team_name', 'user_name', 'user_1', 'user_2',\n",
       "       'college_name', 'tcs_region', 'mod_index', 'master_mod_index',\n",
       "       'college_name_master', 'tcs_region_master', 'year', 'id_user1',\n",
       "       'id_user2', 'region_rank', 'overall_percentile', 'region_percentile'],\n",
       "      dtype='object')"
      ]
     },
     "execution_count": 20,
     "metadata": {},
     "output_type": "execute_result"
    }
   ],
   "source": [
    "results_2k16_df.columns"
   ]
  },
  {
   "cell_type": "code",
   "execution_count": 21,
   "metadata": {},
   "outputs": [
    {
     "data": {
      "text/plain": [
       "Index(['college_name', 'problems_solved', 'overall_rank', 'user_1',\n",
       "       'tcs_region', 'region_rank', 'mod_index', 'master_mod_index',\n",
       "       'college_name_master', 'tcs_region_master', 'year', 'id_user1'],\n",
       "      dtype='object')"
      ]
     },
     "execution_count": 21,
     "metadata": {},
     "output_type": "execute_result"
    }
   ],
   "source": [
    "results_2k17_df.columns"
   ]
  },
  {
   "cell_type": "code",
   "execution_count": 22,
   "metadata": {
    "collapsed": true
   },
   "outputs": [],
   "source": [
    "results_df_combined_tableau=pd.DataFrame(results_2k15_df)\n",
    "results_df_combined_tableau=results_df_combined_tableau.append(results_2k16_df)\n",
    "results_df_combined_tableau=results_df_combined_tableau.append(results_2k17_df)"
   ]
  },
  {
   "cell_type": "code",
   "execution_count": 23,
   "metadata": {},
   "outputs": [
    {
     "data": {
      "text/plain": [
       "dtype('int64')"
      ]
     },
     "execution_count": 23,
     "metadata": {},
     "output_type": "execute_result"
    }
   ],
   "source": [
    "year_replace_dict={'2k15':2015,'2k16':2016,'2k17':2017}\n",
    "results_df_combined_tableau.year=results_df_combined_tableau.year.apply(lambda x:year_replace_dict[x])\n",
    "results_df_combined_tableau.year.dtype"
   ]
  },
  {
   "cell_type": "code",
   "execution_count": 24,
   "metadata": {
    "collapsed": true
   },
   "outputs": [],
   "source": [
    "results_df_combined_tableau.to_excel('./results_combined_for_tableau.xlsx',index=False)"
   ]
  },
  {
   "cell_type": "code",
   "execution_count": null,
   "metadata": {
    "collapsed": true
   },
   "outputs": [],
   "source": []
  }
 ],
 "metadata": {
  "kernelspec": {
   "display_name": "Python 3",
   "language": "python",
   "name": "python3"
  },
  "language_info": {
   "codemirror_mode": {
    "name": "ipython",
    "version": 3
   },
   "file_extension": ".py",
   "mimetype": "text/x-python",
   "name": "python",
   "nbconvert_exporter": "python",
   "pygments_lexer": "ipython3",
   "version": "3.6.0"
  }
 },
 "nbformat": 4,
 "nbformat_minor": 2
}
