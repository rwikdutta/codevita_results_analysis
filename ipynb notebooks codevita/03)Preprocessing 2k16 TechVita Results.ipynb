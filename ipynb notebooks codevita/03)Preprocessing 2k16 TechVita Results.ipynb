{
 "cells": [
  {
   "cell_type": "code",
   "execution_count": 1,
   "metadata": {
    "collapsed": true
   },
   "outputs": [],
   "source": [
    "#%qtconsole #To open a seperate window running the Jupyter Qt Console which is running the same kernel\n",
    "import pandas as pd\n",
    "import platform\n",
    "import numpy as np"
   ]
  },
  {
   "cell_type": "code",
   "execution_count": 2,
   "metadata": {
    "collapsed": true
   },
   "outputs": [],
   "source": [
    "file_name='Codevita_2k16_round1_scrapped.csv'\n",
    "def return_file_path(base_url,file_name,file_seperator,intermediate_folder=''):\n",
    "    if not intermediate_folder=='':\n",
    "        intermediate_folder=intermediate_folder+file_seperator\n",
    "    return '{}{}{}'.format(base_url,intermediate_folder,file_name)\n",
    "\n",
    "if platform.system()=='Linux':\n",
    "    base_url=r'/mnt/ECFC8291FC8255AC/Datasets/Codevita Results/'\n",
    "    file_seperator='/'\n",
    "else:\n",
    "    file_seperator='\\\\'\n",
    "    base_url='F:\\\\Datasets\\\\Codevita Results\\\\'\n",
    "    \n",
    "    \n",
    "\n",
    "if platform.system()=='Linux':\n",
    "    results_2k16_df=pd.read_csv(return_file_path(base_url,file_name,file_seperator))\n",
    "else:\n",
    "    results_2k16_df=pd.read_csv(return_file_path(base_url,file_name,file_seperator))"
   ]
  },
  {
   "cell_type": "code",
   "execution_count": 3,
   "metadata": {},
   "outputs": [
    {
     "data": {
      "text/html": [
       "<div>\n",
       "<table border=\"1\" class=\"dataframe\">\n",
       "  <thead>\n",
       "    <tr style=\"text-align: right;\">\n",
       "      <th></th>\n",
       "      <th>Unnamed: 0</th>\n",
       "      <th>college_name</th>\n",
       "      <th>ranks</th>\n",
       "      <th>tcs_region</th>\n",
       "      <th>team_name</th>\n",
       "      <th>user_name</th>\n",
       "    </tr>\n",
       "  </thead>\n",
       "  <tbody>\n",
       "    <tr>\n",
       "      <th>0</th>\n",
       "      <td>0</td>\n",
       "      <td>Kalyani Govt. Engg. College, WB</td>\n",
       "      <td>1</td>\n",
       "      <td>Kolkata</td>\n",
       "      <td>kgeccoders11</td>\n",
       "      <td>Soumik Sarkar &amp; Subham Das</td>\n",
       "    </tr>\n",
       "    <tr>\n",
       "      <th>1</th>\n",
       "      <td>1</td>\n",
       "      <td>IIT ­ PATNA</td>\n",
       "      <td>2</td>\n",
       "      <td>Kolkata</td>\n",
       "      <td>CrazyDot</td>\n",
       "      <td>Gagan Kumar &amp; Shifona Garg</td>\n",
       "    </tr>\n",
       "    <tr>\n",
       "      <th>2</th>\n",
       "      <td>2</td>\n",
       "      <td>Institute of Engg</td>\n",
       "      <td>3</td>\n",
       "      <td>Kolkata</td>\n",
       "      <td>RRecursion</td>\n",
       "      <td>Priyanjit Dey &amp; Sayantan Basu</td>\n",
       "    </tr>\n",
       "    <tr>\n",
       "      <th>3</th>\n",
       "      <td>3</td>\n",
       "      <td>nit patna</td>\n",
       "      <td>4</td>\n",
       "      <td>Kolkata</td>\n",
       "      <td>knowsnoalgo</td>\n",
       "      <td>Ranjan Kumar &amp; Abhishek Kumar</td>\n",
       "    </tr>\n",
       "    <tr>\n",
       "      <th>4</th>\n",
       "      <td>4</td>\n",
       "      <td>Indian Institute Of Technology, Hyderabad</td>\n",
       "      <td>5</td>\n",
       "      <td>Hyderabad</td>\n",
       "      <td>voidcoders</td>\n",
       "      <td>Shubham Matta &amp; Yash Pitroda</td>\n",
       "    </tr>\n",
       "  </tbody>\n",
       "</table>\n",
       "</div>"
      ],
      "text/plain": [
       "   Unnamed: 0                               college_name  ranks tcs_region  \\\n",
       "0           0            Kalyani Govt. Engg. College, WB      1    Kolkata   \n",
       "1           1                                IIT ­ PATNA      2    Kolkata   \n",
       "2           2                          Institute of Engg      3    Kolkata   \n",
       "3           3                                  nit patna      4    Kolkata   \n",
       "4           4  Indian Institute Of Technology, Hyderabad      5  Hyderabad   \n",
       "\n",
       "      team_name                      user_name  \n",
       "0  kgeccoders11     Soumik Sarkar & Subham Das  \n",
       "1      CrazyDot     Gagan Kumar & Shifona Garg  \n",
       "2    RRecursion  Priyanjit Dey & Sayantan Basu  \n",
       "3   knowsnoalgo  Ranjan Kumar & Abhishek Kumar  \n",
       "4    voidcoders   Shubham Matta & Yash Pitroda  "
      ]
     },
     "execution_count": 3,
     "metadata": {},
     "output_type": "execute_result"
    }
   ],
   "source": [
    "results_2k16_df.head()"
   ]
  },
  {
   "cell_type": "code",
   "execution_count": 4,
   "metadata": {
    "collapsed": true
   },
   "outputs": [],
   "source": [
    "results_2k16_df=results_2k16_df.drop('Unnamed: 0',axis=1)"
   ]
  },
  {
   "cell_type": "code",
   "execution_count": 5,
   "metadata": {},
   "outputs": [
    {
     "data": {
      "text/plain": [
       "(4150, 5)"
      ]
     },
     "execution_count": 5,
     "metadata": {},
     "output_type": "execute_result"
    }
   ],
   "source": [
    "results_2k16_df.shape"
   ]
  },
  {
   "cell_type": "code",
   "execution_count": 6,
   "metadata": {},
   "outputs": [
    {
     "data": {
      "text/html": [
       "<div>\n",
       "<table border=\"1\" class=\"dataframe\">\n",
       "  <thead>\n",
       "    <tr style=\"text-align: right;\">\n",
       "      <th></th>\n",
       "      <th>ranks</th>\n",
       "    </tr>\n",
       "  </thead>\n",
       "  <tbody>\n",
       "    <tr>\n",
       "      <th>count</th>\n",
       "      <td>4150.000000</td>\n",
       "    </tr>\n",
       "    <tr>\n",
       "      <th>mean</th>\n",
       "      <td>2075.500000</td>\n",
       "    </tr>\n",
       "    <tr>\n",
       "      <th>std</th>\n",
       "      <td>1198.146137</td>\n",
       "    </tr>\n",
       "    <tr>\n",
       "      <th>min</th>\n",
       "      <td>1.000000</td>\n",
       "    </tr>\n",
       "    <tr>\n",
       "      <th>25%</th>\n",
       "      <td>1038.250000</td>\n",
       "    </tr>\n",
       "    <tr>\n",
       "      <th>50%</th>\n",
       "      <td>2075.500000</td>\n",
       "    </tr>\n",
       "    <tr>\n",
       "      <th>75%</th>\n",
       "      <td>3112.750000</td>\n",
       "    </tr>\n",
       "    <tr>\n",
       "      <th>max</th>\n",
       "      <td>4150.000000</td>\n",
       "    </tr>\n",
       "  </tbody>\n",
       "</table>\n",
       "</div>"
      ],
      "text/plain": [
       "             ranks\n",
       "count  4150.000000\n",
       "mean   2075.500000\n",
       "std    1198.146137\n",
       "min       1.000000\n",
       "25%    1038.250000\n",
       "50%    2075.500000\n",
       "75%    3112.750000\n",
       "max    4150.000000"
      ]
     },
     "execution_count": 6,
     "metadata": {},
     "output_type": "execute_result"
    }
   ],
   "source": [
    "results_2k16_df.describe()"
   ]
  },
  {
   "cell_type": "code",
   "execution_count": 7,
   "metadata": {},
   "outputs": [
    {
     "data": {
      "text/html": [
       "<div>\n",
       "<table border=\"1\" class=\"dataframe\">\n",
       "  <thead>\n",
       "    <tr style=\"text-align: right;\">\n",
       "      <th></th>\n",
       "      <th>college_name</th>\n",
       "      <th>ranks</th>\n",
       "      <th>tcs_region</th>\n",
       "      <th>team_name</th>\n",
       "      <th>user_name</th>\n",
       "    </tr>\n",
       "  </thead>\n",
       "  <tbody>\n",
       "    <tr>\n",
       "      <th>0</th>\n",
       "      <td>Kalyani Govt. Engg. College, WB</td>\n",
       "      <td>1</td>\n",
       "      <td>Kolkata</td>\n",
       "      <td>kgeccoders11</td>\n",
       "      <td>Soumik Sarkar &amp; Subham Das</td>\n",
       "    </tr>\n",
       "    <tr>\n",
       "      <th>1</th>\n",
       "      <td>IIT ­ PATNA</td>\n",
       "      <td>2</td>\n",
       "      <td>Kolkata</td>\n",
       "      <td>CrazyDot</td>\n",
       "      <td>Gagan Kumar &amp; Shifona Garg</td>\n",
       "    </tr>\n",
       "    <tr>\n",
       "      <th>2</th>\n",
       "      <td>Institute of Engg</td>\n",
       "      <td>3</td>\n",
       "      <td>Kolkata</td>\n",
       "      <td>RRecursion</td>\n",
       "      <td>Priyanjit Dey &amp; Sayantan Basu</td>\n",
       "    </tr>\n",
       "    <tr>\n",
       "      <th>3</th>\n",
       "      <td>nit patna</td>\n",
       "      <td>4</td>\n",
       "      <td>Kolkata</td>\n",
       "      <td>knowsnoalgo</td>\n",
       "      <td>Ranjan Kumar &amp; Abhishek Kumar</td>\n",
       "    </tr>\n",
       "    <tr>\n",
       "      <th>4</th>\n",
       "      <td>Indian Institute Of Technology, Hyderabad</td>\n",
       "      <td>5</td>\n",
       "      <td>Hyderabad</td>\n",
       "      <td>voidcoders</td>\n",
       "      <td>Shubham Matta &amp; Yash Pitroda</td>\n",
       "    </tr>\n",
       "  </tbody>\n",
       "</table>\n",
       "</div>"
      ],
      "text/plain": [
       "                                college_name  ranks tcs_region     team_name  \\\n",
       "0            Kalyani Govt. Engg. College, WB      1    Kolkata  kgeccoders11   \n",
       "1                                IIT ­ PATNA      2    Kolkata      CrazyDot   \n",
       "2                          Institute of Engg      3    Kolkata    RRecursion   \n",
       "3                                  nit patna      4    Kolkata   knowsnoalgo   \n",
       "4  Indian Institute Of Technology, Hyderabad      5  Hyderabad    voidcoders   \n",
       "\n",
       "                       user_name  \n",
       "0     Soumik Sarkar & Subham Das  \n",
       "1     Gagan Kumar & Shifona Garg  \n",
       "2  Priyanjit Dey & Sayantan Basu  \n",
       "3  Ranjan Kumar & Abhishek Kumar  \n",
       "4   Shubham Matta & Yash Pitroda  "
      ]
     },
     "execution_count": 7,
     "metadata": {},
     "output_type": "execute_result"
    }
   ],
   "source": [
    "results_2k16_df.head()"
   ]
  },
  {
   "cell_type": "markdown",
   "metadata": {},
   "source": [
    "Trimming each string value to ensure there are no unnecessary whitespaces"
   ]
  },
  {
   "cell_type": "code",
   "execution_count": 8,
   "metadata": {
    "collapsed": true
   },
   "outputs": [],
   "source": [
    "results_2k16_df.college_name=results_2k16_df.college_name.str.strip()\n",
    "results_2k16_df.tcs_region=results_2k16_df.tcs_region.str.strip()\n",
    "results_2k16_df.team_name=results_2k16_df.team_name.str.strip()\n",
    "results_2k16_df.user_name=results_2k16_df.user_name.str.strip()"
   ]
  },
  {
   "cell_type": "markdown",
   "metadata": {},
   "source": [
    "Checking whether each entry of the users_name column has a '&'...if it has two entries, only then will the '&' be present otherwise it will not be present...if not present it will raise an assertion error"
   ]
  },
  {
   "cell_type": "code",
   "execution_count": 9,
   "metadata": {
    "collapsed": true
   },
   "outputs": [],
   "source": [
    "assert(sum(results_2k16_df.user_name.apply(lambda x:not '&' in x))==0)"
   ]
  },
  {
   "cell_type": "code",
   "execution_count": 10,
   "metadata": {
    "collapsed": true
   },
   "outputs": [],
   "source": [
    "results_2k16_df['user_1']=results_2k16_df.user_name.apply(lambda x:x.split(sep='&')[0].strip())\n",
    "results_2k16_df['user_2']=results_2k16_df.user_name.apply(lambda x:x.split(sep='&')[1].strip())"
   ]
  },
  {
   "cell_type": "markdown",
   "metadata": {},
   "source": [
    "Checking for any null entries in user_1 or user_2"
   ]
  },
  {
   "cell_type": "code",
   "execution_count": 11,
   "metadata": {
    "collapsed": true
   },
   "outputs": [],
   "source": [
    "assert(results_2k16_df.user_1[results_2k16_df.user_1==''].shape[0]==0)\n",
    "assert(results_2k16_df.user_2[results_2k16_df.user_2==''].shape[0]==0)"
   ]
  },
  {
   "cell_type": "markdown",
   "metadata": {},
   "source": [
    "Checking whether the column of tcs_regions contains any invalid entries"
   ]
  },
  {
   "cell_type": "code",
   "execution_count": 12,
   "metadata": {
    "scrolled": true
   },
   "outputs": [
    {
     "data": {
      "text/plain": [
       "array(['Kolkata', 'Hyderabad', 'Pune', 'Ahmedabad', 'Trivandrum',\n",
       "       'Lucknow', 'Mumbai', 'Delhi', 'National', 'DEENBANDHU', 'Chennai',\n",
       "       'Bangalore', 'K.S.Institute', 'Madan', 'Birla', 'Walchand', 'Prof.',\n",
       "       'JSS', 'Central', 'Zakir', 'PSG', 'Fr.', 'D.', 'Anil', 'Haldia',\n",
       "       'Manakula', 'Bhilai', 'Bundelkhand', 'Indian', 'Techno', 'Meerut',\n",
       "       'Shri', 'Institute', 'Thiagarajar', 'IIIT,', 'SRI', 'Punjab', 'Don',\n",
       "       'RMK', 'Koneru', 'Gandhi', 'Army', 'B.M.S.', 'YMCA', 'Thadomal',\n",
       "       'Bapuji', 'Gokaraju', 'Dr.', 'RGUKT', 'VIT', 'K.', 'Chitkara',\n",
       "       'Arya', 'FACULTY', 'Other', 'Manav', 'NETAJI', 'Krishna', 'MAR',\n",
       "       'Maharishi', 'Birsa', 'Coimbatore', 'SRM', 'CVR', 'J.', 'Cochin',\n",
       "       'Kamaraj', 'Vardhaman', 'BITS', 'Meenakshi', 'JMIT',\n",
       "       'K.RAMAKRISHNAN', 'Vel', 'Mahatma', 'Lovely', 'ABES', 'V.S.B.',\n",
       "       'Sahyadri', 'RVR', 'Punjabi', 'Ganesh', 'Arunai', 'Rajalakshmi',\n",
       "       'Malnad', 'KCG', 'MANAKULA', 'KLN', 'G', 'GNDU,', 'Biju',\n",
       "       'Poornima', 'K.S.R', 'Rajiv', 'School', 'Amrita', 'Velammal',\n",
       "       'GITAM', 'Kakatiya', 'Federal', 'Jaipur', 'Datta', 'NRI', 'VISHNU',\n",
       "       'Gudlavalleru', 'Bharath', 'Ramrao', 'Dharamsinh', 'Jawaharlal',\n",
       "       'Ajay', 'Valliammai', 'Dept', 'Vivekananda', 'V', 'SIDDHARTH',\n",
       "       'vasireddy', 'TECHNOLOGY', 'Sri', 'VNR', 'institution', 'Chaitanya',\n",
       "       'NBKR', 'Oriental', 'College', 'Ambedkar', 'Siddaganga', 'COE',\n",
       "       'Gayatri', 'Karpagam', 'Sree', 'VELAMMAL', 'Pondicherry'], dtype=object)"
      ]
     },
     "execution_count": 12,
     "metadata": {},
     "output_type": "execute_result"
    }
   ],
   "source": [
    "results_2k16_df.tcs_region.unique()"
   ]
  },
  {
   "cell_type": "markdown",
   "metadata": {},
   "source": [
    "We can see above that most probably due to errors induced during scraping the results of the website,a lot of erronous values got into the tcs_region column"
   ]
  },
  {
   "cell_type": "markdown",
   "metadata": {},
   "source": [
    "On manual inspection, it was observed that for those *tcs_region* cells which contains erronous values, if we append the corresponding value of the *college_name* to that of the tcs_region, we get the actual name of the colleges \n",
    "\n",
    "Also, it was observed that many of the colleges are represented by more than 1 names in the *college_name* column...for eg. *'Srm Engineering College., Kattankulathur'* and *'SRM University'* are both same yet they are referred to by different times\n",
    "\n",
    "To deal with this problem, let us first make a list of those college names which we know for a fact is a true region and not an erronous value...the easiest way for us to do this is by getting a frequency count of each of the entries in the tcs_region columns...the one which is a true region should have much more frequency count "
   ]
  },
  {
   "cell_type": "code",
   "execution_count": 13,
   "metadata": {
    "scrolled": true
   },
   "outputs": [
    {
     "data": {
      "text/plain": [
       "Kolkata           686\n",
       "Delhi             677\n",
       "Hyderabad         634\n",
       "Mumbai            605\n",
       "Ahmedabad         349\n",
       "Chennai           326\n",
       "Lucknow           259\n",
       "Pune              175\n",
       "Trivandrum        160\n",
       "Bangalore          54\n",
       "Manakula           15\n",
       "Indian              8\n",
       "DEENBANDHU          7\n",
       "V.S.B.              7\n",
       "RMK                 5\n",
       "Institute           5\n",
       "RGUKT               5\n",
       "National            4\n",
       "Haldia              4\n",
       "Meerut              4\n",
       "K.RAMAKRISHNAN      4\n",
       "Fr.                 4\n",
       "Cochin              4\n",
       "YMCA                4\n",
       "SRI                 3\n",
       "Krishna             3\n",
       "Meenakshi           3\n",
       "Dept                3\n",
       "Army                3\n",
       "Gandhi              3\n",
       "                 ... \n",
       "Ramrao              1\n",
       "Gayatri             1\n",
       "Birsa               1\n",
       "Siddaganga          1\n",
       "VISHNU              1\n",
       "Vel                 1\n",
       "Other               1\n",
       "Karpagam            1\n",
       "Arunai              1\n",
       "Bundelkhand         1\n",
       "VIT                 1\n",
       "Lovely              1\n",
       "Sahyadri            1\n",
       "Dharamsinh          1\n",
       "Ambedkar            1\n",
       "College             1\n",
       "JSS                 1\n",
       "Gudlavalleru        1\n",
       "Amrita              1\n",
       "Sree                1\n",
       "Punjabi             1\n",
       "KCG                 1\n",
       "SRM                 1\n",
       "Dr.                 1\n",
       "Bharath             1\n",
       "K.S.Institute       1\n",
       "Chitkara            1\n",
       "Coimbatore          1\n",
       "vasireddy           1\n",
       "K.S.R               1\n",
       "Name: tcs_region, dtype: int64"
      ]
     },
     "execution_count": 13,
     "metadata": {},
     "output_type": "execute_result"
    }
   ],
   "source": [
    "results_2k16_df.tcs_region.value_counts()"
   ]
  },
  {
   "cell_type": "markdown",
   "metadata": {},
   "source": [
    "From above, it is clear that only the top 10 most frequently present values in the *tcs_region* column are actual regions while the others are erronous entries"
   ]
  },
  {
   "cell_type": "code",
   "execution_count": 14,
   "metadata": {
    "collapsed": true
   },
   "outputs": [],
   "source": [
    "true_tcs_regions_2k16=results_2k16_df.tcs_region.value_counts().iloc[0:10]\n",
    "erronous_tcs_regions_2k16=results_2k16_df.tcs_region.value_counts().iloc[10:]"
   ]
  },
  {
   "cell_type": "markdown",
   "metadata": {},
   "source": [
    "Now for the erronous entries, let's append the name of the colleges to the erronous entries in the *tcs_region* to create the modified college name"
   ]
  },
  {
   "cell_type": "code",
   "execution_count": 15,
   "metadata": {
    "collapsed": true
   },
   "outputs": [],
   "source": [
    "true_tcs_regions_index=true_tcs_regions_2k16.index\n",
    "results_2k16_df['college_name_modified']=results_2k16_df.apply(lambda x:'{} {}'.format(x['tcs_region'],x['college_name']) if x['tcs_region'] not in true_tcs_regions_index else x['college_name'],axis=1)"
   ]
  },
  {
   "cell_type": "code",
   "execution_count": 16,
   "metadata": {
    "scrolled": true
   },
   "outputs": [
    {
     "data": {
      "text/html": [
       "<div>\n",
       "<table border=\"1\" class=\"dataframe\">\n",
       "  <thead>\n",
       "    <tr style=\"text-align: right;\">\n",
       "      <th></th>\n",
       "      <th>college_name</th>\n",
       "      <th>ranks</th>\n",
       "      <th>tcs_region</th>\n",
       "      <th>team_name</th>\n",
       "      <th>user_name</th>\n",
       "      <th>user_1</th>\n",
       "      <th>user_2</th>\n",
       "      <th>college_name_modified</th>\n",
       "    </tr>\n",
       "  </thead>\n",
       "  <tbody>\n",
       "    <tr>\n",
       "      <th>0</th>\n",
       "      <td>Kalyani Govt. Engg. College, WB</td>\n",
       "      <td>1</td>\n",
       "      <td>Kolkata</td>\n",
       "      <td>kgeccoders11</td>\n",
       "      <td>Soumik Sarkar &amp; Subham Das</td>\n",
       "      <td>Soumik Sarkar</td>\n",
       "      <td>Subham Das</td>\n",
       "      <td>Kalyani Govt. Engg. College, WB</td>\n",
       "    </tr>\n",
       "    <tr>\n",
       "      <th>1</th>\n",
       "      <td>IIT ­ PATNA</td>\n",
       "      <td>2</td>\n",
       "      <td>Kolkata</td>\n",
       "      <td>CrazyDot</td>\n",
       "      <td>Gagan Kumar &amp; Shifona Garg</td>\n",
       "      <td>Gagan Kumar</td>\n",
       "      <td>Shifona Garg</td>\n",
       "      <td>IIT ­ PATNA</td>\n",
       "    </tr>\n",
       "    <tr>\n",
       "      <th>2</th>\n",
       "      <td>Institute of Engg</td>\n",
       "      <td>3</td>\n",
       "      <td>Kolkata</td>\n",
       "      <td>RRecursion</td>\n",
       "      <td>Priyanjit Dey &amp; Sayantan Basu</td>\n",
       "      <td>Priyanjit Dey</td>\n",
       "      <td>Sayantan Basu</td>\n",
       "      <td>Institute of Engg</td>\n",
       "    </tr>\n",
       "    <tr>\n",
       "      <th>3</th>\n",
       "      <td>nit patna</td>\n",
       "      <td>4</td>\n",
       "      <td>Kolkata</td>\n",
       "      <td>knowsnoalgo</td>\n",
       "      <td>Ranjan Kumar &amp; Abhishek Kumar</td>\n",
       "      <td>Ranjan Kumar</td>\n",
       "      <td>Abhishek Kumar</td>\n",
       "      <td>nit patna</td>\n",
       "    </tr>\n",
       "    <tr>\n",
       "      <th>4</th>\n",
       "      <td>Indian Institute Of Technology, Hyderabad</td>\n",
       "      <td>5</td>\n",
       "      <td>Hyderabad</td>\n",
       "      <td>voidcoders</td>\n",
       "      <td>Shubham Matta &amp; Yash Pitroda</td>\n",
       "      <td>Shubham Matta</td>\n",
       "      <td>Yash Pitroda</td>\n",
       "      <td>Indian Institute Of Technology, Hyderabad</td>\n",
       "    </tr>\n",
       "  </tbody>\n",
       "</table>\n",
       "</div>"
      ],
      "text/plain": [
       "                                college_name  ranks tcs_region     team_name  \\\n",
       "0            Kalyani Govt. Engg. College, WB      1    Kolkata  kgeccoders11   \n",
       "1                                IIT ­ PATNA      2    Kolkata      CrazyDot   \n",
       "2                          Institute of Engg      3    Kolkata    RRecursion   \n",
       "3                                  nit patna      4    Kolkata   knowsnoalgo   \n",
       "4  Indian Institute Of Technology, Hyderabad      5  Hyderabad    voidcoders   \n",
       "\n",
       "                       user_name         user_1          user_2  \\\n",
       "0     Soumik Sarkar & Subham Das  Soumik Sarkar      Subham Das   \n",
       "1     Gagan Kumar & Shifona Garg    Gagan Kumar    Shifona Garg   \n",
       "2  Priyanjit Dey & Sayantan Basu  Priyanjit Dey   Sayantan Basu   \n",
       "3  Ranjan Kumar & Abhishek Kumar   Ranjan Kumar  Abhishek Kumar   \n",
       "4   Shubham Matta & Yash Pitroda  Shubham Matta    Yash Pitroda   \n",
       "\n",
       "                       college_name_modified  \n",
       "0            Kalyani Govt. Engg. College, WB  \n",
       "1                                IIT ­ PATNA  \n",
       "2                          Institute of Engg  \n",
       "3                                  nit patna  \n",
       "4  Indian Institute Of Technology, Hyderabad  "
      ]
     },
     "execution_count": 16,
     "metadata": {},
     "output_type": "execute_result"
    }
   ],
   "source": [
    "results_2k16_df.head()"
   ]
  },
  {
   "cell_type": "markdown",
   "metadata": {},
   "source": [
    "Doing a quick check by checking the values of some of the erring examples"
   ]
  },
  {
   "cell_type": "code",
   "execution_count": 17,
   "metadata": {
    "scrolled": true
   },
   "outputs": [
    {
     "data": {
      "text/html": [
       "<div>\n",
       "<table border=\"1\" class=\"dataframe\">\n",
       "  <thead>\n",
       "    <tr style=\"text-align: right;\">\n",
       "      <th></th>\n",
       "      <th>college_name</th>\n",
       "      <th>ranks</th>\n",
       "      <th>tcs_region</th>\n",
       "      <th>team_name</th>\n",
       "      <th>user_name</th>\n",
       "      <th>user_1</th>\n",
       "      <th>user_2</th>\n",
       "      <th>college_name_modified</th>\n",
       "    </tr>\n",
       "  </thead>\n",
       "  <tbody>\n",
       "    <tr>\n",
       "      <th>26</th>\n",
       "      <td>CHHOTU RAM UNIVERSITY OF SCIENCE AND TECHNOLOG...</td>\n",
       "      <td>27</td>\n",
       "      <td>DEENBANDHU</td>\n",
       "      <td>mysteriousgyz</td>\n",
       "      <td>Amit &amp; Sushil Delhi</td>\n",
       "      <td>Amit</td>\n",
       "      <td>Sushil Delhi</td>\n",
       "      <td>DEENBANDHU CHHOTU RAM UNIVERSITY OF SCIENCE AN...</td>\n",
       "    </tr>\n",
       "    <tr>\n",
       "      <th>223</th>\n",
       "      <td>CHHOTU RAM UNIVERSITY OF SCIENCE AND TECHNOLOG...</td>\n",
       "      <td>224</td>\n",
       "      <td>DEENBANDHU</td>\n",
       "      <td>Bishops</td>\n",
       "      <td>Kanwardeep &amp; Ravi Delhi</td>\n",
       "      <td>Kanwardeep</td>\n",
       "      <td>Ravi Delhi</td>\n",
       "      <td>DEENBANDHU CHHOTU RAM UNIVERSITY OF SCIENCE AN...</td>\n",
       "    </tr>\n",
       "    <tr>\n",
       "      <th>573</th>\n",
       "      <td>CHHOTU RAM UNIVERSITY OF SCIENCE AND TECHNOLOG...</td>\n",
       "      <td>574</td>\n",
       "      <td>DEENBANDHU</td>\n",
       "      <td>KS2041</td>\n",
       "      <td>Kapil Sharma &amp; Shalu Delhi</td>\n",
       "      <td>Kapil Sharma</td>\n",
       "      <td>Shalu Delhi</td>\n",
       "      <td>DEENBANDHU CHHOTU RAM UNIVERSITY OF SCIENCE AN...</td>\n",
       "    </tr>\n",
       "    <tr>\n",
       "      <th>1850</th>\n",
       "      <td>CHHOTU RAM UNIVERSITY OF SCIENCE AND TECHNOLOG...</td>\n",
       "      <td>1851</td>\n",
       "      <td>DEENBANDHU</td>\n",
       "      <td>mirror</td>\n",
       "      <td>Tamanna &amp; Pankaj Delhi</td>\n",
       "      <td>Tamanna</td>\n",
       "      <td>Pankaj Delhi</td>\n",
       "      <td>DEENBANDHU CHHOTU RAM UNIVERSITY OF SCIENCE AN...</td>\n",
       "    </tr>\n",
       "    <tr>\n",
       "      <th>1865</th>\n",
       "      <td>Engineering College, Karur</td>\n",
       "      <td>1866</td>\n",
       "      <td>V.S.B.</td>\n",
       "      <td>Janamani</td>\n",
       "      <td>Jana S &amp; Manikandan Chennai</td>\n",
       "      <td>Jana S</td>\n",
       "      <td>Manikandan Chennai</td>\n",
       "      <td>V.S.B. Engineering College, Karur</td>\n",
       "    </tr>\n",
       "    <tr>\n",
       "      <th>1889</th>\n",
       "      <td>Engineering College, Karur</td>\n",
       "      <td>1890</td>\n",
       "      <td>V.S.B.</td>\n",
       "      <td>Prabudinesh</td>\n",
       "      <td>Dinesh &amp; Elamurugan Chennai</td>\n",
       "      <td>Dinesh</td>\n",
       "      <td>Elamurugan Chennai</td>\n",
       "      <td>V.S.B. Engineering College, Karur</td>\n",
       "    </tr>\n",
       "    <tr>\n",
       "      <th>2271</th>\n",
       "      <td>Engineering College, Karur</td>\n",
       "      <td>2272</td>\n",
       "      <td>V.S.B.</td>\n",
       "      <td>PK Codebuiders</td>\n",
       "      <td>Karthick Periyasamy &amp; Prem Chennai</td>\n",
       "      <td>Karthick Periyasamy</td>\n",
       "      <td>Prem Chennai</td>\n",
       "      <td>V.S.B. Engineering College, Karur</td>\n",
       "    </tr>\n",
       "    <tr>\n",
       "      <th>2288</th>\n",
       "      <td>CHHOTU RAM UNIVERSITY OF SCIENCE AND TECHNOLOG...</td>\n",
       "      <td>2289</td>\n",
       "      <td>DEENBANDHU</td>\n",
       "      <td>ECE Coders</td>\n",
       "      <td>Vipul Goyal &amp; Lovelesh Delhi</td>\n",
       "      <td>Vipul Goyal</td>\n",
       "      <td>Lovelesh Delhi</td>\n",
       "      <td>DEENBANDHU CHHOTU RAM UNIVERSITY OF SCIENCE AN...</td>\n",
       "    </tr>\n",
       "    <tr>\n",
       "      <th>2295</th>\n",
       "      <td>CHHOTU RAM UNIVERSITY OF SCIENCE AND TECHNOLOG...</td>\n",
       "      <td>2296</td>\n",
       "      <td>DEENBANDHU</td>\n",
       "      <td>Rogerdrunk</td>\n",
       "      <td>Sumit &amp; Gaurav Delhi</td>\n",
       "      <td>Sumit</td>\n",
       "      <td>Gaurav Delhi</td>\n",
       "      <td>DEENBANDHU CHHOTU RAM UNIVERSITY OF SCIENCE AN...</td>\n",
       "    </tr>\n",
       "    <tr>\n",
       "      <th>3407</th>\n",
       "      <td>Engineering College, Karur</td>\n",
       "      <td>3408</td>\n",
       "      <td>V.S.B.</td>\n",
       "      <td>Deciphers</td>\n",
       "      <td>Monisa &amp; Karthika Chennai</td>\n",
       "      <td>Monisa</td>\n",
       "      <td>Karthika Chennai</td>\n",
       "      <td>V.S.B. Engineering College, Karur</td>\n",
       "    </tr>\n",
       "    <tr>\n",
       "      <th>3770</th>\n",
       "      <td>CHHOTU RAM UNIVERSITY OF SCIENCE AND TECHNOLOG...</td>\n",
       "      <td>3771</td>\n",
       "      <td>DEENBANDHU</td>\n",
       "      <td>rebellions</td>\n",
       "      <td>Ritvik Pandita &amp; Tamanna Delhi</td>\n",
       "      <td>Ritvik Pandita</td>\n",
       "      <td>Tamanna Delhi</td>\n",
       "      <td>DEENBANDHU CHHOTU RAM UNIVERSITY OF SCIENCE AN...</td>\n",
       "    </tr>\n",
       "    <tr>\n",
       "      <th>3974</th>\n",
       "      <td>Engineering College, Karur</td>\n",
       "      <td>3975</td>\n",
       "      <td>V.S.B.</td>\n",
       "      <td>Twinkle</td>\n",
       "      <td>Raarthi Sramachandran &amp; Aarthi Chennai</td>\n",
       "      <td>Raarthi Sramachandran</td>\n",
       "      <td>Aarthi Chennai</td>\n",
       "      <td>V.S.B. Engineering College, Karur</td>\n",
       "    </tr>\n",
       "    <tr>\n",
       "      <th>4037</th>\n",
       "      <td>Engineering College, Karur</td>\n",
       "      <td>4038</td>\n",
       "      <td>V.S.B.</td>\n",
       "      <td>jaithi</td>\n",
       "      <td>Dhivya Rajendran &amp; Jeyadurga Chennai</td>\n",
       "      <td>Dhivya Rajendran</td>\n",
       "      <td>Jeyadurga Chennai</td>\n",
       "      <td>V.S.B. Engineering College, Karur</td>\n",
       "    </tr>\n",
       "    <tr>\n",
       "      <th>4049</th>\n",
       "      <td>Engineering College, Karur</td>\n",
       "      <td>4050</td>\n",
       "      <td>V.S.B.</td>\n",
       "      <td>Shock Circuiterz</td>\n",
       "      <td>Karthi Senthilvelan &amp; Prasanth Chennai</td>\n",
       "      <td>Karthi Senthilvelan</td>\n",
       "      <td>Prasanth Chennai</td>\n",
       "      <td>V.S.B. Engineering College, Karur</td>\n",
       "    </tr>\n",
       "  </tbody>\n",
       "</table>\n",
       "</div>"
      ],
      "text/plain": [
       "                                           college_name  ranks  tcs_region  \\\n",
       "26    CHHOTU RAM UNIVERSITY OF SCIENCE AND TECHNOLOG...     27  DEENBANDHU   \n",
       "223   CHHOTU RAM UNIVERSITY OF SCIENCE AND TECHNOLOG...    224  DEENBANDHU   \n",
       "573   CHHOTU RAM UNIVERSITY OF SCIENCE AND TECHNOLOG...    574  DEENBANDHU   \n",
       "1850  CHHOTU RAM UNIVERSITY OF SCIENCE AND TECHNOLOG...   1851  DEENBANDHU   \n",
       "1865                         Engineering College, Karur   1866      V.S.B.   \n",
       "1889                         Engineering College, Karur   1890      V.S.B.   \n",
       "2271                         Engineering College, Karur   2272      V.S.B.   \n",
       "2288  CHHOTU RAM UNIVERSITY OF SCIENCE AND TECHNOLOG...   2289  DEENBANDHU   \n",
       "2295  CHHOTU RAM UNIVERSITY OF SCIENCE AND TECHNOLOG...   2296  DEENBANDHU   \n",
       "3407                         Engineering College, Karur   3408      V.S.B.   \n",
       "3770  CHHOTU RAM UNIVERSITY OF SCIENCE AND TECHNOLOG...   3771  DEENBANDHU   \n",
       "3974                         Engineering College, Karur   3975      V.S.B.   \n",
       "4037                         Engineering College, Karur   4038      V.S.B.   \n",
       "4049                         Engineering College, Karur   4050      V.S.B.   \n",
       "\n",
       "             team_name                               user_name  \\\n",
       "26       mysteriousgyz                     Amit & Sushil Delhi   \n",
       "223            Bishops                 Kanwardeep & Ravi Delhi   \n",
       "573             KS2041              Kapil Sharma & Shalu Delhi   \n",
       "1850            mirror                  Tamanna & Pankaj Delhi   \n",
       "1865          Janamani             Jana S & Manikandan Chennai   \n",
       "1889       Prabudinesh             Dinesh & Elamurugan Chennai   \n",
       "2271    PK Codebuiders      Karthick Periyasamy & Prem Chennai   \n",
       "2288        ECE Coders            Vipul Goyal & Lovelesh Delhi   \n",
       "2295        Rogerdrunk                    Sumit & Gaurav Delhi   \n",
       "3407         Deciphers               Monisa & Karthika Chennai   \n",
       "3770        rebellions          Ritvik Pandita & Tamanna Delhi   \n",
       "3974           Twinkle  Raarthi Sramachandran & Aarthi Chennai   \n",
       "4037            jaithi    Dhivya Rajendran & Jeyadurga Chennai   \n",
       "4049  Shock Circuiterz  Karthi Senthilvelan & Prasanth Chennai   \n",
       "\n",
       "                     user_1              user_2  \\\n",
       "26                     Amit        Sushil Delhi   \n",
       "223              Kanwardeep          Ravi Delhi   \n",
       "573            Kapil Sharma         Shalu Delhi   \n",
       "1850                Tamanna        Pankaj Delhi   \n",
       "1865                 Jana S  Manikandan Chennai   \n",
       "1889                 Dinesh  Elamurugan Chennai   \n",
       "2271    Karthick Periyasamy        Prem Chennai   \n",
       "2288            Vipul Goyal      Lovelesh Delhi   \n",
       "2295                  Sumit        Gaurav Delhi   \n",
       "3407                 Monisa    Karthika Chennai   \n",
       "3770         Ritvik Pandita       Tamanna Delhi   \n",
       "3974  Raarthi Sramachandran      Aarthi Chennai   \n",
       "4037       Dhivya Rajendran   Jeyadurga Chennai   \n",
       "4049    Karthi Senthilvelan    Prasanth Chennai   \n",
       "\n",
       "                                  college_name_modified  \n",
       "26    DEENBANDHU CHHOTU RAM UNIVERSITY OF SCIENCE AN...  \n",
       "223   DEENBANDHU CHHOTU RAM UNIVERSITY OF SCIENCE AN...  \n",
       "573   DEENBANDHU CHHOTU RAM UNIVERSITY OF SCIENCE AN...  \n",
       "1850  DEENBANDHU CHHOTU RAM UNIVERSITY OF SCIENCE AN...  \n",
       "1865                  V.S.B. Engineering College, Karur  \n",
       "1889                  V.S.B. Engineering College, Karur  \n",
       "2271                  V.S.B. Engineering College, Karur  \n",
       "2288  DEENBANDHU CHHOTU RAM UNIVERSITY OF SCIENCE AN...  \n",
       "2295  DEENBANDHU CHHOTU RAM UNIVERSITY OF SCIENCE AN...  \n",
       "3407                  V.S.B. Engineering College, Karur  \n",
       "3770  DEENBANDHU CHHOTU RAM UNIVERSITY OF SCIENCE AN...  \n",
       "3974                  V.S.B. Engineering College, Karur  \n",
       "4037                  V.S.B. Engineering College, Karur  \n",
       "4049                  V.S.B. Engineering College, Karur  "
      ]
     },
     "execution_count": 17,
     "metadata": {},
     "output_type": "execute_result"
    }
   ],
   "source": [
    "results_2k16_df[(results_2k16_df.tcs_region=='V.S.B.') | (results_2k16_df.tcs_region=='DEENBANDHU')]"
   ]
  },
  {
   "cell_type": "markdown",
   "metadata": {},
   "source": [
    "Now, we observe that for those entries which have erronous values in the *tcs_region* section, we have the actual region as the last word in the user_name column and therefore the last name in the user_2 column"
   ]
  },
  {
   "cell_type": "code",
   "execution_count": 18,
   "metadata": {
    "collapsed": true
   },
   "outputs": [],
   "source": [
    "def correct_tcs_region_column(x):\n",
    "    if not x['tcs_region'] in true_tcs_regions_2k16:\n",
    "        true_region=x['user_2'].split()[-1:][0]\n",
    "        assert(true_region in true_tcs_regions_2k16) #Assuring whether the extracted region is present in the list of true regions\n",
    "        return true_region\n",
    "    else:\n",
    "        return x['tcs_region']\n",
    "\n",
    "results_2k16_df['tcs_region_modified']=results_2k16_df.apply(correct_tcs_region_column,axis=1)"
   ]
  },
  {
   "cell_type": "code",
   "execution_count": 19,
   "metadata": {
    "collapsed": true
   },
   "outputs": [],
   "source": [
    "def correct_user2_column(x):\n",
    "    if not x['tcs_region'] in true_tcs_regions_2k16:\n",
    "        modified_username=' '.join(x['user_2'].split()[:-1])\n",
    "        return modified_username\n",
    "    else:\n",
    "        return x['user_2']\n",
    "\n",
    "results_2k16_df['user_2']=results_2k16_df.apply(correct_user2_column,axis=1)"
   ]
  },
  {
   "cell_type": "code",
   "execution_count": 20,
   "metadata": {},
   "outputs": [
    {
     "data": {
      "text/html": [
       "<div>\n",
       "<table border=\"1\" class=\"dataframe\">\n",
       "  <thead>\n",
       "    <tr style=\"text-align: right;\">\n",
       "      <th></th>\n",
       "      <th>college_name</th>\n",
       "      <th>ranks</th>\n",
       "      <th>tcs_region</th>\n",
       "      <th>team_name</th>\n",
       "      <th>user_name</th>\n",
       "      <th>user_1</th>\n",
       "      <th>user_2</th>\n",
       "      <th>college_name_modified</th>\n",
       "      <th>tcs_region_modified</th>\n",
       "    </tr>\n",
       "  </thead>\n",
       "  <tbody>\n",
       "    <tr>\n",
       "      <th>0</th>\n",
       "      <td>Kalyani Govt. Engg. College, WB</td>\n",
       "      <td>1</td>\n",
       "      <td>Kolkata</td>\n",
       "      <td>kgeccoders11</td>\n",
       "      <td>Soumik Sarkar &amp; Subham Das</td>\n",
       "      <td>Soumik Sarkar</td>\n",
       "      <td>Subham Das</td>\n",
       "      <td>Kalyani Govt. Engg. College, WB</td>\n",
       "      <td>Kolkata</td>\n",
       "    </tr>\n",
       "    <tr>\n",
       "      <th>1</th>\n",
       "      <td>IIT ­ PATNA</td>\n",
       "      <td>2</td>\n",
       "      <td>Kolkata</td>\n",
       "      <td>CrazyDot</td>\n",
       "      <td>Gagan Kumar &amp; Shifona Garg</td>\n",
       "      <td>Gagan Kumar</td>\n",
       "      <td>Shifona Garg</td>\n",
       "      <td>IIT ­ PATNA</td>\n",
       "      <td>Kolkata</td>\n",
       "    </tr>\n",
       "    <tr>\n",
       "      <th>2</th>\n",
       "      <td>Institute of Engg</td>\n",
       "      <td>3</td>\n",
       "      <td>Kolkata</td>\n",
       "      <td>RRecursion</td>\n",
       "      <td>Priyanjit Dey &amp; Sayantan Basu</td>\n",
       "      <td>Priyanjit Dey</td>\n",
       "      <td>Sayantan Basu</td>\n",
       "      <td>Institute of Engg</td>\n",
       "      <td>Kolkata</td>\n",
       "    </tr>\n",
       "    <tr>\n",
       "      <th>3</th>\n",
       "      <td>nit patna</td>\n",
       "      <td>4</td>\n",
       "      <td>Kolkata</td>\n",
       "      <td>knowsnoalgo</td>\n",
       "      <td>Ranjan Kumar &amp; Abhishek Kumar</td>\n",
       "      <td>Ranjan Kumar</td>\n",
       "      <td>Abhishek Kumar</td>\n",
       "      <td>nit patna</td>\n",
       "      <td>Kolkata</td>\n",
       "    </tr>\n",
       "    <tr>\n",
       "      <th>4</th>\n",
       "      <td>Indian Institute Of Technology, Hyderabad</td>\n",
       "      <td>5</td>\n",
       "      <td>Hyderabad</td>\n",
       "      <td>voidcoders</td>\n",
       "      <td>Shubham Matta &amp; Yash Pitroda</td>\n",
       "      <td>Shubham Matta</td>\n",
       "      <td>Yash Pitroda</td>\n",
       "      <td>Indian Institute Of Technology, Hyderabad</td>\n",
       "      <td>Hyderabad</td>\n",
       "    </tr>\n",
       "  </tbody>\n",
       "</table>\n",
       "</div>"
      ],
      "text/plain": [
       "                                college_name  ranks tcs_region     team_name  \\\n",
       "0            Kalyani Govt. Engg. College, WB      1    Kolkata  kgeccoders11   \n",
       "1                                IIT ­ PATNA      2    Kolkata      CrazyDot   \n",
       "2                          Institute of Engg      3    Kolkata    RRecursion   \n",
       "3                                  nit patna      4    Kolkata   knowsnoalgo   \n",
       "4  Indian Institute Of Technology, Hyderabad      5  Hyderabad    voidcoders   \n",
       "\n",
       "                       user_name         user_1          user_2  \\\n",
       "0     Soumik Sarkar & Subham Das  Soumik Sarkar      Subham Das   \n",
       "1     Gagan Kumar & Shifona Garg    Gagan Kumar    Shifona Garg   \n",
       "2  Priyanjit Dey & Sayantan Basu  Priyanjit Dey   Sayantan Basu   \n",
       "3  Ranjan Kumar & Abhishek Kumar   Ranjan Kumar  Abhishek Kumar   \n",
       "4   Shubham Matta & Yash Pitroda  Shubham Matta    Yash Pitroda   \n",
       "\n",
       "                       college_name_modified tcs_region_modified  \n",
       "0            Kalyani Govt. Engg. College, WB             Kolkata  \n",
       "1                                IIT ­ PATNA             Kolkata  \n",
       "2                          Institute of Engg             Kolkata  \n",
       "3                                  nit patna             Kolkata  \n",
       "4  Indian Institute Of Technology, Hyderabad           Hyderabad  "
      ]
     },
     "execution_count": 20,
     "metadata": {},
     "output_type": "execute_result"
    }
   ],
   "source": [
    "results_2k16_df.head()"
   ]
  },
  {
   "cell_type": "code",
   "execution_count": 21,
   "metadata": {},
   "outputs": [
    {
     "data": {
      "text/html": [
       "<div>\n",
       "<table border=\"1\" class=\"dataframe\">\n",
       "  <thead>\n",
       "    <tr style=\"text-align: right;\">\n",
       "      <th></th>\n",
       "      <th>college_name</th>\n",
       "      <th>ranks</th>\n",
       "      <th>tcs_region</th>\n",
       "      <th>team_name</th>\n",
       "      <th>user_name</th>\n",
       "      <th>user_1</th>\n",
       "      <th>user_2</th>\n",
       "      <th>college_name_modified</th>\n",
       "      <th>tcs_region_modified</th>\n",
       "    </tr>\n",
       "  </thead>\n",
       "  <tbody>\n",
       "    <tr>\n",
       "      <th>26</th>\n",
       "      <td>CHHOTU RAM UNIVERSITY OF SCIENCE AND TECHNOLOG...</td>\n",
       "      <td>27</td>\n",
       "      <td>DEENBANDHU</td>\n",
       "      <td>mysteriousgyz</td>\n",
       "      <td>Amit &amp; Sushil Delhi</td>\n",
       "      <td>Amit</td>\n",
       "      <td>Sushil</td>\n",
       "      <td>DEENBANDHU CHHOTU RAM UNIVERSITY OF SCIENCE AN...</td>\n",
       "      <td>Delhi</td>\n",
       "    </tr>\n",
       "    <tr>\n",
       "      <th>223</th>\n",
       "      <td>CHHOTU RAM UNIVERSITY OF SCIENCE AND TECHNOLOG...</td>\n",
       "      <td>224</td>\n",
       "      <td>DEENBANDHU</td>\n",
       "      <td>Bishops</td>\n",
       "      <td>Kanwardeep &amp; Ravi Delhi</td>\n",
       "      <td>Kanwardeep</td>\n",
       "      <td>Ravi</td>\n",
       "      <td>DEENBANDHU CHHOTU RAM UNIVERSITY OF SCIENCE AN...</td>\n",
       "      <td>Delhi</td>\n",
       "    </tr>\n",
       "    <tr>\n",
       "      <th>573</th>\n",
       "      <td>CHHOTU RAM UNIVERSITY OF SCIENCE AND TECHNOLOG...</td>\n",
       "      <td>574</td>\n",
       "      <td>DEENBANDHU</td>\n",
       "      <td>KS2041</td>\n",
       "      <td>Kapil Sharma &amp; Shalu Delhi</td>\n",
       "      <td>Kapil Sharma</td>\n",
       "      <td>Shalu</td>\n",
       "      <td>DEENBANDHU CHHOTU RAM UNIVERSITY OF SCIENCE AN...</td>\n",
       "      <td>Delhi</td>\n",
       "    </tr>\n",
       "    <tr>\n",
       "      <th>1850</th>\n",
       "      <td>CHHOTU RAM UNIVERSITY OF SCIENCE AND TECHNOLOG...</td>\n",
       "      <td>1851</td>\n",
       "      <td>DEENBANDHU</td>\n",
       "      <td>mirror</td>\n",
       "      <td>Tamanna &amp; Pankaj Delhi</td>\n",
       "      <td>Tamanna</td>\n",
       "      <td>Pankaj</td>\n",
       "      <td>DEENBANDHU CHHOTU RAM UNIVERSITY OF SCIENCE AN...</td>\n",
       "      <td>Delhi</td>\n",
       "    </tr>\n",
       "    <tr>\n",
       "      <th>1865</th>\n",
       "      <td>Engineering College, Karur</td>\n",
       "      <td>1866</td>\n",
       "      <td>V.S.B.</td>\n",
       "      <td>Janamani</td>\n",
       "      <td>Jana S &amp; Manikandan Chennai</td>\n",
       "      <td>Jana S</td>\n",
       "      <td>Manikandan</td>\n",
       "      <td>V.S.B. Engineering College, Karur</td>\n",
       "      <td>Chennai</td>\n",
       "    </tr>\n",
       "  </tbody>\n",
       "</table>\n",
       "</div>"
      ],
      "text/plain": [
       "                                           college_name  ranks  tcs_region  \\\n",
       "26    CHHOTU RAM UNIVERSITY OF SCIENCE AND TECHNOLOG...     27  DEENBANDHU   \n",
       "223   CHHOTU RAM UNIVERSITY OF SCIENCE AND TECHNOLOG...    224  DEENBANDHU   \n",
       "573   CHHOTU RAM UNIVERSITY OF SCIENCE AND TECHNOLOG...    574  DEENBANDHU   \n",
       "1850  CHHOTU RAM UNIVERSITY OF SCIENCE AND TECHNOLOG...   1851  DEENBANDHU   \n",
       "1865                         Engineering College, Karur   1866      V.S.B.   \n",
       "\n",
       "          team_name                    user_name        user_1      user_2  \\\n",
       "26    mysteriousgyz          Amit & Sushil Delhi          Amit      Sushil   \n",
       "223         Bishops      Kanwardeep & Ravi Delhi    Kanwardeep        Ravi   \n",
       "573          KS2041   Kapil Sharma & Shalu Delhi  Kapil Sharma       Shalu   \n",
       "1850         mirror       Tamanna & Pankaj Delhi       Tamanna      Pankaj   \n",
       "1865       Janamani  Jana S & Manikandan Chennai        Jana S  Manikandan   \n",
       "\n",
       "                                  college_name_modified tcs_region_modified  \n",
       "26    DEENBANDHU CHHOTU RAM UNIVERSITY OF SCIENCE AN...               Delhi  \n",
       "223   DEENBANDHU CHHOTU RAM UNIVERSITY OF SCIENCE AN...               Delhi  \n",
       "573   DEENBANDHU CHHOTU RAM UNIVERSITY OF SCIENCE AN...               Delhi  \n",
       "1850  DEENBANDHU CHHOTU RAM UNIVERSITY OF SCIENCE AN...               Delhi  \n",
       "1865                  V.S.B. Engineering College, Karur             Chennai  "
      ]
     },
     "execution_count": 21,
     "metadata": {},
     "output_type": "execute_result"
    }
   ],
   "source": [
    "results_2k16_df[(results_2k16_df.tcs_region=='V.S.B.') | (results_2k16_df.tcs_region=='DEENBANDHU')].head()"
   ]
  },
  {
   "cell_type": "code",
   "execution_count": 22,
   "metadata": {},
   "outputs": [
    {
     "data": {
      "text/plain": [
       "Delhi         728\n",
       "Kolkata       710\n",
       "Hyderabad     678\n",
       "Mumbai        620\n",
       "Chennai       387\n",
       "Ahmedabad     350\n",
       "Lucknow       265\n",
       "Pune          180\n",
       "Trivandrum    171\n",
       "Bangalore      61\n",
       "Name: tcs_region_modified, dtype: int64"
      ]
     },
     "execution_count": 22,
     "metadata": {},
     "output_type": "execute_result"
    }
   ],
   "source": [
    "results_2k16_df.tcs_region_modified.value_counts()"
   ]
  },
  {
   "cell_type": "markdown",
   "metadata": {},
   "source": [
    "We had seen while preprocessing the 2k15 results that many colleges have the name of the department attached before them...all of those start with the word 'Dept'"
   ]
  },
  {
   "cell_type": "code",
   "execution_count": 23,
   "metadata": {},
   "outputs": [
    {
     "name": "stdout",
     "output_type": "stream",
     "text": [
      "4135\n"
     ]
    },
    {
     "data": {
      "text/plain": [
       "4135"
      ]
     },
     "execution_count": 23,
     "metadata": {},
     "output_type": "execute_result"
    }
   ],
   "source": [
    "print(results_2k16_df.college_name_modified.count())\n",
    "results_2k16_df.college_name_modified.dropna().count()\n"
   ]
  },
  {
   "cell_type": "code",
   "execution_count": 24,
   "metadata": {},
   "outputs": [
    {
     "data": {
      "text/plain": [
       "Series([], Name: team_name, dtype: object)"
      ]
     },
     "execution_count": 24,
     "metadata": {},
     "output_type": "execute_result"
    }
   ],
   "source": [
    "results_2k16_df.team_name[results_2k16_df.team_name=='']"
   ]
  },
  {
   "cell_type": "code",
   "execution_count": 25,
   "metadata": {
    "collapsed": true
   },
   "outputs": [],
   "source": [
    "college_db=pd.read_csv(return_file_path(base_url,'college_list.csv',file_seperator,'generated_preprocessing'))"
   ]
  },
  {
   "cell_type": "code",
   "execution_count": 26,
   "metadata": {},
   "outputs": [
    {
     "data": {
      "text/html": [
       "<div>\n",
       "<table border=\"1\" class=\"dataframe\">\n",
       "  <thead>\n",
       "    <tr style=\"text-align: right;\">\n",
       "      <th></th>\n",
       "      <th>Unnamed: 0</th>\n",
       "      <th>college_name</th>\n",
       "      <th>tcs_region</th>\n",
       "    </tr>\n",
       "  </thead>\n",
       "  <tbody>\n",
       "    <tr>\n",
       "      <th>0</th>\n",
       "      <td>0</td>\n",
       "      <td>Srm Engineering College., Kattankulathur</td>\n",
       "      <td>Chennai</td>\n",
       "    </tr>\n",
       "    <tr>\n",
       "      <th>1</th>\n",
       "      <td>1</td>\n",
       "      <td>Army Institute of Technology,Pune University, ...</td>\n",
       "      <td>Pune</td>\n",
       "    </tr>\n",
       "    <tr>\n",
       "      <th>2</th>\n",
       "      <td>2</td>\n",
       "      <td>Osmania University, Hyderabad</td>\n",
       "      <td>Hyderabad</td>\n",
       "    </tr>\n",
       "    <tr>\n",
       "      <th>3</th>\n",
       "      <td>3</td>\n",
       "      <td>Medicaps Inst of Tech &amp; Management, Indore</td>\n",
       "      <td>Mumbai</td>\n",
       "    </tr>\n",
       "    <tr>\n",
       "      <th>4</th>\n",
       "      <td>4</td>\n",
       "      <td>Ramrao Adik Institute of Technology,Nerul</td>\n",
       "      <td>Mumbai</td>\n",
       "    </tr>\n",
       "  </tbody>\n",
       "</table>\n",
       "</div>"
      ],
      "text/plain": [
       "   Unnamed: 0                                       college_name tcs_region\n",
       "0           0           Srm Engineering College., Kattankulathur    Chennai\n",
       "1           1  Army Institute of Technology,Pune University, ...       Pune\n",
       "2           2                      Osmania University, Hyderabad  Hyderabad\n",
       "3           3         Medicaps Inst of Tech & Management, Indore     Mumbai\n",
       "4           4          Ramrao Adik Institute of Technology,Nerul     Mumbai"
      ]
     },
     "execution_count": 26,
     "metadata": {},
     "output_type": "execute_result"
    }
   ],
   "source": [
    "college_db.head()"
   ]
  },
  {
   "cell_type": "code",
   "execution_count": 27,
   "metadata": {
    "collapsed": true
   },
   "outputs": [],
   "source": [
    "college_db=college_db.drop('Unnamed: 0',axis=1)"
   ]
  },
  {
   "cell_type": "code",
   "execution_count": 28,
   "metadata": {},
   "outputs": [
    {
     "data": {
      "text/html": [
       "<div>\n",
       "<table border=\"1\" class=\"dataframe\">\n",
       "  <thead>\n",
       "    <tr style=\"text-align: right;\">\n",
       "      <th></th>\n",
       "      <th>college_name</th>\n",
       "      <th>tcs_region</th>\n",
       "    </tr>\n",
       "  </thead>\n",
       "  <tbody>\n",
       "    <tr>\n",
       "      <th>0</th>\n",
       "      <td>Srm Engineering College., Kattankulathur</td>\n",
       "      <td>Chennai</td>\n",
       "    </tr>\n",
       "    <tr>\n",
       "      <th>1</th>\n",
       "      <td>Army Institute of Technology,Pune University, ...</td>\n",
       "      <td>Pune</td>\n",
       "    </tr>\n",
       "    <tr>\n",
       "      <th>2</th>\n",
       "      <td>Osmania University, Hyderabad</td>\n",
       "      <td>Hyderabad</td>\n",
       "    </tr>\n",
       "    <tr>\n",
       "      <th>3</th>\n",
       "      <td>Medicaps Inst of Tech &amp; Management, Indore</td>\n",
       "      <td>Mumbai</td>\n",
       "    </tr>\n",
       "    <tr>\n",
       "      <th>4</th>\n",
       "      <td>Ramrao Adik Institute of Technology,Nerul</td>\n",
       "      <td>Mumbai</td>\n",
       "    </tr>\n",
       "  </tbody>\n",
       "</table>\n",
       "</div>"
      ],
      "text/plain": [
       "                                        college_name tcs_region\n",
       "0           Srm Engineering College., Kattankulathur    Chennai\n",
       "1  Army Institute of Technology,Pune University, ...       Pune\n",
       "2                      Osmania University, Hyderabad  Hyderabad\n",
       "3         Medicaps Inst of Tech & Management, Indore     Mumbai\n",
       "4          Ramrao Adik Institute of Technology,Nerul     Mumbai"
      ]
     },
     "execution_count": 28,
     "metadata": {},
     "output_type": "execute_result"
    }
   ],
   "source": [
    "college_db.head()"
   ]
  },
  {
   "cell_type": "code",
   "execution_count": 29,
   "metadata": {},
   "outputs": [
    {
     "data": {
      "text/plain": [
       "(548, 2)"
      ]
     },
     "execution_count": 29,
     "metadata": {},
     "output_type": "execute_result"
    }
   ],
   "source": [
    "college_db.shape"
   ]
  },
  {
   "cell_type": "code",
   "execution_count": 30,
   "metadata": {},
   "outputs": [
    {
     "data": {
      "text/plain": [
       "685"
      ]
     },
     "execution_count": 30,
     "metadata": {},
     "output_type": "execute_result"
    }
   ],
   "source": [
    "len(results_2k16_df.college_name_modified.unique())"
   ]
  },
  {
   "cell_type": "markdown",
   "metadata": {},
   "source": [
    "Checking whether the regions of 2k15 and 2k16 are the same or not"
   ]
  },
  {
   "cell_type": "code",
   "execution_count": 31,
   "metadata": {},
   "outputs": [
    {
     "data": {
      "text/plain": [
       "0    True\n",
       "1    True\n",
       "2    True\n",
       "3    True\n",
       "4    True\n",
       "5    True\n",
       "6    True\n",
       "7    True\n",
       "8    True\n",
       "9    True\n",
       "dtype: bool"
      ]
     },
     "execution_count": 31,
     "metadata": {},
     "output_type": "execute_result"
    }
   ],
   "source": [
    "pd.Series(results_2k16_df.tcs_region_modified.unique()).isin(college_db.tcs_region.unique())"
   ]
  },
  {
   "cell_type": "code",
   "execution_count": 32,
   "metadata": {},
   "outputs": [
    {
     "data": {
      "text/html": [
       "<div>\n",
       "<table border=\"1\" class=\"dataframe\">\n",
       "  <thead>\n",
       "    <tr style=\"text-align: right;\">\n",
       "      <th></th>\n",
       "      <th>college_name</th>\n",
       "      <th>ranks</th>\n",
       "      <th>tcs_region</th>\n",
       "      <th>team_name</th>\n",
       "      <th>user_name</th>\n",
       "      <th>user_1</th>\n",
       "      <th>user_2</th>\n",
       "      <th>college_name_modified</th>\n",
       "      <th>tcs_region_modified</th>\n",
       "    </tr>\n",
       "  </thead>\n",
       "  <tbody>\n",
       "    <tr>\n",
       "      <th>0</th>\n",
       "      <td>Kalyani Govt. Engg. College, WB</td>\n",
       "      <td>1</td>\n",
       "      <td>Kolkata</td>\n",
       "      <td>kgeccoders11</td>\n",
       "      <td>Soumik Sarkar &amp; Subham Das</td>\n",
       "      <td>Soumik Sarkar</td>\n",
       "      <td>Subham Das</td>\n",
       "      <td>Kalyani Govt. Engg. College, WB</td>\n",
       "      <td>Kolkata</td>\n",
       "    </tr>\n",
       "    <tr>\n",
       "      <th>1</th>\n",
       "      <td>IIT ­ PATNA</td>\n",
       "      <td>2</td>\n",
       "      <td>Kolkata</td>\n",
       "      <td>CrazyDot</td>\n",
       "      <td>Gagan Kumar &amp; Shifona Garg</td>\n",
       "      <td>Gagan Kumar</td>\n",
       "      <td>Shifona Garg</td>\n",
       "      <td>IIT ­ PATNA</td>\n",
       "      <td>Kolkata</td>\n",
       "    </tr>\n",
       "    <tr>\n",
       "      <th>2</th>\n",
       "      <td>Institute of Engg</td>\n",
       "      <td>3</td>\n",
       "      <td>Kolkata</td>\n",
       "      <td>RRecursion</td>\n",
       "      <td>Priyanjit Dey &amp; Sayantan Basu</td>\n",
       "      <td>Priyanjit Dey</td>\n",
       "      <td>Sayantan Basu</td>\n",
       "      <td>Institute of Engg</td>\n",
       "      <td>Kolkata</td>\n",
       "    </tr>\n",
       "    <tr>\n",
       "      <th>3</th>\n",
       "      <td>nit patna</td>\n",
       "      <td>4</td>\n",
       "      <td>Kolkata</td>\n",
       "      <td>knowsnoalgo</td>\n",
       "      <td>Ranjan Kumar &amp; Abhishek Kumar</td>\n",
       "      <td>Ranjan Kumar</td>\n",
       "      <td>Abhishek Kumar</td>\n",
       "      <td>nit patna</td>\n",
       "      <td>Kolkata</td>\n",
       "    </tr>\n",
       "    <tr>\n",
       "      <th>4</th>\n",
       "      <td>Indian Institute Of Technology, Hyderabad</td>\n",
       "      <td>5</td>\n",
       "      <td>Hyderabad</td>\n",
       "      <td>voidcoders</td>\n",
       "      <td>Shubham Matta &amp; Yash Pitroda</td>\n",
       "      <td>Shubham Matta</td>\n",
       "      <td>Yash Pitroda</td>\n",
       "      <td>Indian Institute Of Technology, Hyderabad</td>\n",
       "      <td>Hyderabad</td>\n",
       "    </tr>\n",
       "  </tbody>\n",
       "</table>\n",
       "</div>"
      ],
      "text/plain": [
       "                                college_name  ranks tcs_region     team_name  \\\n",
       "0            Kalyani Govt. Engg. College, WB      1    Kolkata  kgeccoders11   \n",
       "1                                IIT ­ PATNA      2    Kolkata      CrazyDot   \n",
       "2                          Institute of Engg      3    Kolkata    RRecursion   \n",
       "3                                  nit patna      4    Kolkata   knowsnoalgo   \n",
       "4  Indian Institute Of Technology, Hyderabad      5  Hyderabad    voidcoders   \n",
       "\n",
       "                       user_name         user_1          user_2  \\\n",
       "0     Soumik Sarkar & Subham Das  Soumik Sarkar      Subham Das   \n",
       "1     Gagan Kumar & Shifona Garg    Gagan Kumar    Shifona Garg   \n",
       "2  Priyanjit Dey & Sayantan Basu  Priyanjit Dey   Sayantan Basu   \n",
       "3  Ranjan Kumar & Abhishek Kumar   Ranjan Kumar  Abhishek Kumar   \n",
       "4   Shubham Matta & Yash Pitroda  Shubham Matta    Yash Pitroda   \n",
       "\n",
       "                       college_name_modified tcs_region_modified  \n",
       "0            Kalyani Govt. Engg. College, WB             Kolkata  \n",
       "1                                IIT ­ PATNA             Kolkata  \n",
       "2                          Institute of Engg             Kolkata  \n",
       "3                                  nit patna             Kolkata  \n",
       "4  Indian Institute Of Technology, Hyderabad           Hyderabad  "
      ]
     },
     "execution_count": 32,
     "metadata": {},
     "output_type": "execute_result"
    }
   ],
   "source": [
    "results_2k16_df.head()"
   ]
  },
  {
   "cell_type": "code",
   "execution_count": 33,
   "metadata": {
    "collapsed": true
   },
   "outputs": [],
   "source": [
    "college_db_2k16=pd.DataFrame(results_2k16_df,columns=['college_name','college_name_modified','tcs_region','tcs_region_modified'])"
   ]
  },
  {
   "cell_type": "markdown",
   "metadata": {},
   "source": [
    "Since we are creating a db of the colleges present in the 2k16 results, we need to remove all the duplicate entries present in the *college_name_modified* column"
   ]
  },
  {
   "cell_type": "code",
   "execution_count": 34,
   "metadata": {
    "collapsed": true
   },
   "outputs": [],
   "source": [
    "college_db_2k16=college_db_2k16.ix[college_db_2k16.college_name_modified.drop_duplicates().index]"
   ]
  },
  {
   "cell_type": "code",
   "execution_count": 35,
   "metadata": {
    "collapsed": true
   },
   "outputs": [],
   "source": [
    "college_db_2k16.to_csv(return_file_path(base_url,'college_list_2k16.csv',file_seperator,'generated_preprocessing'))"
   ]
  },
  {
   "cell_type": "code",
   "execution_count": null,
   "metadata": {
    "collapsed": true
   },
   "outputs": [],
   "source": []
  },
  {
   "cell_type": "code",
   "execution_count": 36,
   "metadata": {
    "collapsed": true
   },
   "outputs": [],
   "source": [
    "results_2k16_df.to_csv(return_file_path(base_url,'results_2k16_preprocessed.csv',file_seperator,'generated_preprocessing'),index=False)"
   ]
  },
  {
   "cell_type": "code",
   "execution_count": null,
   "metadata": {
    "collapsed": true
   },
   "outputs": [],
   "source": []
  }
 ],
 "metadata": {
  "kernelspec": {
   "display_name": "Python 3",
   "language": "python",
   "name": "python3"
  },
  "language_info": {
   "codemirror_mode": {
    "name": "ipython",
    "version": 3
   },
   "file_extension": ".py",
   "mimetype": "text/x-python",
   "name": "python",
   "nbconvert_exporter": "python",
   "pygments_lexer": "ipython3",
   "version": "3.6.0"
  }
 },
 "nbformat": 4,
 "nbformat_minor": 2
}
